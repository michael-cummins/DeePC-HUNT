{
 "cells": [
  {
   "cell_type": "code",
   "execution_count": null,
   "metadata": {},
   "outputs": [],
   "source": [
    "%reload_ext autoreload\n",
    "%autoreload 2\n",
    "\n",
    "import numpy as np\n",
    "import torch\n",
    "from numpy import genfromtxt\n",
    "import torch\n",
    "from deepc_hunt.dynamics import CartpoleDx\n",
    "from deepc_hunt import DeePC, Trainer"
   ]
  },
  {
   "cell_type": "code",
   "execution_count": null,
   "metadata": {},
   "outputs": [],
   "source": [
    "##################################\n",
    "# Do Not Change #\n",
    "Tini = 4\n",
    "m = 1\n",
    "p = 4\n",
    "Tf = 25\n",
    "T = (m+1)*(Tini + Tf + p) + 20\n",
    "##################################"
   ]
  }
 ],
 "metadata": {
  "language_info": {
   "name": "python"
  },
  "orig_nbformat": 4
 },
 "nbformat": 4,
 "nbformat_minor": 2
}
