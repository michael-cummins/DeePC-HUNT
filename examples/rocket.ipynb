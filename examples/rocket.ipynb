{
 "cells": [
  {
   "cell_type": "code",
   "execution_count": 8,
   "metadata": {},
   "outputs": [],
   "source": [
    "%reload_ext autoreload\n",
    "%autoreload 2\n",
    "\n",
    "import numpy as np\n",
    "import torch\n",
    "from deepc_hunt.dynamics import RocketDx\n",
    "from deepc_hunt import DeePC, Trainer\n",
    "from deepc_hunt.controllers import npDeePC, npMPC\n",
    "from deepc_hunt.utils import tensor2np\n",
    "import matplotlib.pyplot as plt\n",
    "\n",
    "import gymnasium as gym\n",
    "import coco_rocket_lander  # need to import to call gym.make()\n",
    "\n",
    "%matplotlib inline"
   ]
  },
  {
   "cell_type": "markdown",
   "metadata": {},
   "source": [
    "### Data collection"
   ]
  },
  {
   "cell_type": "code",
   "execution_count": 9,
   "metadata": {},
   "outputs": [],
   "source": [
    "# initialize data collection\n",
    "# PRBS INPUT\n",
    "PRBS_inputs = [(0.33, -1, -0.5), (0.33, 0, -1), (0.75, -1, 1), (0.33, 0, 0.5), \n",
    " (0, -1, 0), (0.33, -1, 1), (0.75, 0, -0.5), (0.75, 0, -1), (0.75, -1, 0.5), (0, 0, 0), \n",
    "  (0.75, 1, 0.5), (0, 0, -0.5), (0.33, 1, 0), (0.75, 0, 0), (0.33, 0, 1), (0, -1, 1), (0.75, -1, -1), \n",
    "   (0, -1, 0.5), (0.75, 1, 1), (0.33, 1, -0.5), (0, 1, -0.5), (0.33, 0, 0), (0, 1, 1), (0.75, 1, -1), \n",
    "    (0.33, 1, 1), (0.75, -1, -0.5), (0.75, 1, -0.5), (0, 0, 1), (0.75, 0, 1), (0.33, -1, 0.5), (0, -1, -1), \n",
    "     (0, 1, 0), (0.33, 0, -0.5), (0.75, 0, 0.5), (0, 0, 0.5), (0.33, -1, 0), (0.75, 1, 0), (0.75, -1, 0), \n",
    "      (0, 0, -1), (0, 1, -1), (0.33, 1, -1), (0, -1, -0.5), (0.33, -1, -1), (0.33, 1, 0.5), (0, 1, 0.5)]\n",
    "      \n",
    "PRBS_interval = 5 # Number of frames per input\n",
    "\n",
    "############### RANDOM INPUT GENERATOR ###############\n",
    "\n",
    "# set1 = (0, 0.33, 0.75)\n",
    "# set2 = (-1, 0, 1)\n",
    "# set3 = (-1, -0.5, 0,  0.5, 1)\n",
    "\n",
    "# PRBS_inputs = list(itertools.product(set1, set2, set3))\n",
    "# random.shuffle(PRBS_inputs)\n",
    "# print(\"Number of PRBS inputs is:\", len(PRBS_inputs))\n",
    "# print(\"PRBS input combinations are:\", PRBS_inputs)\n",
    "\n",
    "#######################################################\n",
    "\n",
    "collected = True # Change to False if you want to collect data\n",
    "\n",
    "if not collected:\n",
    "\n",
    "      n = 6 # states\n",
    "      m = 3 # inputs\n",
    "      p = 6 # outputs\n",
    "\n",
    "      T_past = 1 # number of past measurements (also called T_ini)\n",
    "      T_future = 10 # number of future measurements (also called K)\n",
    "\n",
    "      L = T_past + T_future # length of a data sequence\n",
    "      print(\"Length of a data sequence:\", L)\n",
    "\n",
    "      T_hankel =  PRBS_interval*len(PRBS_inputs) #(m*L + n) + L - 1 # number of measurements used to fill Hankel Matrix\n",
    "\n",
    "      print(\"Number of measurements to fill Hankel Matrix:\", T_hankel)\n",
    "\n",
    "      rank_hankel_theoretical = m*L + n # theoretical maximum rank of Hankel Matrix\n",
    "      print(\"Theoretical maximum rank of Hankel Matrix:\", rank_hankel_theoretical)\n",
    "\n",
    "      u_data = np.zeros((T_hankel,m))\n",
    "      y_data = np.zeros((T_hankel,p))\n",
    "      print(\"Shape of u_data:\", np.shape(u_data))\n",
    "      print(\"Shape of y_data:\", np.shape(y_data))\n",
    "\n",
    "\n",
    "      # make environment and wrap video so that we can replay them later\n",
    "\n",
    "      args = {\n",
    "      \"initial_position\": (0.5, 0.4, 0)\n",
    "      }\n",
    "\n",
    "      env = gym.make(\"coco_rocket_lander/RocketLander-v0\", render_mode=\"rgb_array\", args=args)\n",
    "      env = gym.wrappers.RecordVideo(env, 'video', episode_trigger = lambda x: True, name_prefix=\"DeePC_Data_Collection\")\n",
    "\n",
    "      # simulate\n",
    "      step_count = 0\n",
    "      max_steps = T_hankel\n",
    "\n",
    "      obs, info = env.reset(seed=0)  # specify a random seed for consistency\n",
    "\n",
    "      while True:\n",
    "            landing_position = env.get_landing_position()  # (x, y, theta) in [m, m, radians]\n",
    "\n",
    "            # PRBS INPUT\n",
    "            action = np.array(PRBS_inputs[step_count//PRBS_interval])\n",
    "            # print(\"Used PRBS input number:\", step_count//PRBS_interval)\n",
    "\n",
    "            # collect data\n",
    "            u_data[step_count] = action\n",
    "            y_data[step_count] = obs[0:6]\n",
    "\n",
    "            next_obs, rewards, done, _, info = env.step(action)\n",
    "\n",
    "            # check if simulation ended\n",
    "            step_count += 1\n",
    "            if done or (step_count >= max_steps):\n",
    "                  break\n",
    "\n",
    "            # update observation\n",
    "            obs = next_obs\n",
    "\n",
    "            env.close()  "
   ]
  },
  {
   "cell_type": "markdown",
   "metadata": {},
   "source": [
    "### Initialise controller"
   ]
  },
  {
   "cell_type": "code",
   "execution_count": 10,
   "metadata": {},
   "outputs": [],
   "source": [
    "q = torch.Tensor([100,10,5,1,3000,30]) # 6-tuple (x, y, x_dot, y_dot, theta, theta_dot)\n",
    "r = torch.Tensor([0.01,0.01,0.01]) # 3-tuple (F_E, F_S, phi)\n",
    "q_np = tensor2np(q)\n",
    "r_np = tensor2np(r)\n",
    "\n",
    "n = 6 # states\n",
    "m = 3 # inputs\n",
    "p = 6 # outputs\n",
    "\n",
    "Tini = 1 # number of past measurements (also called T_ini)\n",
    "Tf = 10 # number of future measurements (also called K)\n",
    "device = 'cuda' if torch.cuda.is_available() else 'cpu'\n",
    "n_batch = 2\n",
    "\n",
    "ud = np.genfromtxt('data/rocket_ud.csv', delimiter=',')\n",
    "yd = np.genfromtxt('data/rocket_yd.csv', delimiter=',')\n",
    "\n",
    "# y_constraints = np.ones(Tf*p)*1e5 #Unconstrained\n",
    "# u_constraints = np.ones(Tf*m)\n",
    "y_upper = np.kron(np.ones(Tf), np.array([33,26.6,100,100,0.6,100]))\n",
    "y_lower = np.kron(np.ones(Tf), np.array([0,7,-100,-100,-0.6,-100]))\n",
    "u_upper = np.kron(np.ones(Tf), np.array([1,1,1]))\n",
    "u_lower = np.kron(np.ones(Tf), np.array([0,-1,-1]))\n",
    "y_constraints = (y_lower, y_upper)\n",
    "u_constraints = (u_lower, u_upper)\n",
    "Trained = True\n"
   ]
  },
  {
   "cell_type": "code",
   "execution_count": 11,
   "metadata": {},
   "outputs": [],
   "source": [
    "# For training\n",
    "controller = DeePC(\n",
    "    ud=ud, yd=yd, u_constraints=u_constraints, y_constraints=y_constraints,\n",
    "    Tini=Tini, N=Tf, m=m, p=p, n_batch=n_batch, device=device,\n",
    "    linear=False, stochastic_y=True, stochastic_u=False, q=q, r=r,\n",
    ").to(device)\n",
    "\n",
    "epochs = 100\n",
    "time_steps = 20\n",
    "rocket = RocketDx(true_model=False)"
   ]
  },
  {
   "cell_type": "markdown",
   "metadata": {},
   "source": [
    "### Run DeePC-Hunt using the the rocket surrogate dynamics"
   ]
  },
  {
   "cell_type": "code",
   "execution_count": 12,
   "metadata": {},
   "outputs": [
    {
     "name": "stderr",
     "output_type": "stream",
     "text": [
      "  0%|                                                                       | 0/100 [00:00<?, ?it/s]"
     ]
    },
    {
     "name": "stdout",
     "output_type": "stream",
     "text": [
      "param 0 has shape torch.Size([2, 60, 60])\n",
      "param 1 has shape torch.Size([2, 30, 30])\n",
      "param 2 has shape torch.Size([2, 3])\n",
      "param 3 has shape torch.Size([2, 6])\n",
      "param 4 has shape torch.Size([2, 60])\n",
      "param 5 has shape torch.Size([2, 30])\n",
      "param 6 has shape torch.Size([2, 1])\n",
      "param 7 has shape torch.Size([2, 1])\n",
      "param 8 has shape torch.Size([2, 1])\n",
      "param 0 has shape torch.Size([2, 60, 60])\n",
      "param 1 has shape torch.Size([2, 30, 30])\n",
      "param 2 has shape torch.Size([2, 3])\n",
      "param 3 has shape torch.Size([2, 6])\n",
      "param 4 has shape torch.Size([2, 60])\n",
      "param 5 has shape torch.Size([2, 30])\n",
      "param 6 has shape torch.Size([2, 1])\n",
      "param 7 has shape torch.Size([2, 1])\n",
      "param 8 has shape torch.Size([2, 1])\n",
      "param 0 has shape torch.Size([2, 60, 60])\n",
      "param 1 has shape torch.Size([2, 30, 30])\n",
      "param 2 has shape torch.Size([2, 3])\n",
      "param 3 has shape torch.Size([2, 6])\n",
      "param 4 has shape torch.Size([2, 60])\n",
      "param 5 has shape torch.Size([2, 30])\n",
      "param 6 has shape torch.Size([2, 1])\n",
      "param 7 has shape torch.Size([2, 1])\n",
      "param 8 has shape torch.Size([2, 1])\n",
      "param 0 has shape torch.Size([2, 60, 60])\n",
      "param 1 has shape torch.Size([2, 30, 30])\n",
      "param 2 has shape torch.Size([2, 3])\n",
      "param 3 has shape torch.Size([2, 6])\n",
      "param 4 has shape torch.Size([2, 60])\n",
      "param 5 has shape torch.Size([2, 30])\n",
      "param 6 has shape torch.Size([2, 1])\n",
      "param 7 has shape torch.Size([2, 1])\n",
      "param 8 has shape torch.Size([2, 1])\n",
      "param 0 has shape torch.Size([2, 60, 60])\n",
      "param 1 has shape torch.Size([2, 30, 30])\n",
      "param 2 has shape torch.Size([2, 3])\n",
      "param 3 has shape torch.Size([2, 6])\n",
      "param 4 has shape torch.Size([2, 60])\n",
      "param 5 has shape torch.Size([2, 30])\n",
      "param 6 has shape torch.Size([2, 1])\n",
      "param 7 has shape torch.Size([2, 1])\n",
      "param 8 has shape torch.Size([2, 1])\n",
      "param 0 has shape torch.Size([2, 60, 60])\n",
      "param 1 has shape torch.Size([2, 30, 30])\n",
      "param 2 has shape torch.Size([2, 3])\n",
      "param 3 has shape torch.Size([2, 6])\n",
      "param 4 has shape torch.Size([2, 60])\n",
      "param 5 has shape torch.Size([2, 30])\n",
      "param 6 has shape torch.Size([2, 1])\n",
      "param 7 has shape torch.Size([2, 1])\n",
      "param 8 has shape torch.Size([2, 1])\n",
      "param 0 has shape torch.Size([2, 60, 60])\n",
      "param 1 has shape torch.Size([2, 30, 30])\n",
      "param 2 has shape torch.Size([2, 3])\n",
      "param 3 has shape torch.Size([2, 6])\n",
      "param 4 has shape torch.Size([2, 60])\n",
      "param 5 has shape torch.Size([2, 30])\n",
      "param 6 has shape torch.Size([2, 1])\n",
      "param 7 has shape torch.Size([2, 1])\n",
      "param 8 has shape torch.Size([2, 1])\n",
      "param 0 has shape torch.Size([2, 60, 60])\n",
      "param 1 has shape torch.Size([2, 30, 30])\n",
      "param 2 has shape torch.Size([2, 3])\n",
      "param 3 has shape torch.Size([2, 6])\n",
      "param 4 has shape torch.Size([2, 60])\n",
      "param 5 has shape torch.Size([2, 30])\n",
      "param 6 has shape torch.Size([2, 1])\n",
      "param 7 has shape torch.Size([2, 1])\n",
      "param 8 has shape torch.Size([2, 1])\n"
     ]
    },
    {
     "name": "stderr",
     "output_type": "stream",
     "text": [
      "  0%|                                                                       | 0/100 [00:03<?, ?it/s]"
     ]
    },
    {
     "name": "stdout",
     "output_type": "stream",
     "text": [
      "param 0 has shape torch.Size([2, 60, 60])\n",
      "param 1 has shape torch.Size([2, 30, 30])\n",
      "param 2 has shape torch.Size([2, 3])\n",
      "param 3 has shape torch.Size([2, 6])\n",
      "param 4 has shape torch.Size([2, 60])\n",
      "param 5 has shape torch.Size([2, 30])\n",
      "param 6 has shape torch.Size([2, 1])\n",
      "param 7 has shape torch.Size([2, 1])\n",
      "param 8 has shape torch.Size([2, 1])\n",
      "Please consider re-formulating your problem so that it is always solvable or increasing the number of solver iterations.\n"
     ]
    },
    {
     "name": "stderr",
     "output_type": "stream",
     "text": [
      "\n"
     ]
    },
    {
     "ename": "SolverError",
     "evalue": "Solver ecos errored.",
     "output_type": "error",
     "traceback": [
      "\u001b[0;31m---------------------------------------------------------------------------\u001b[0m",
      "\u001b[0;31mSolverError\u001b[0m                               Traceback (most recent call last)",
      "Cell \u001b[0;32mIn[12], line 10\u001b[0m\n\u001b[1;32m      8\u001b[0m controller\u001b[38;5;241m.\u001b[39minitialise(lam_g1\u001b[38;5;241m=\u001b[39minitial_params[\u001b[38;5;124m'\u001b[39m\u001b[38;5;124mlam_g1\u001b[39m\u001b[38;5;124m'\u001b[39m], lam_g2\u001b[38;5;241m=\u001b[39minitial_params[\u001b[38;5;124m'\u001b[39m\u001b[38;5;124mlam_g2\u001b[39m\u001b[38;5;124m'\u001b[39m], lam_y\u001b[38;5;241m=\u001b[39minitial_params[\u001b[38;5;124m'\u001b[39m\u001b[38;5;124mlam_y\u001b[39m\u001b[38;5;124m'\u001b[39m])\n\u001b[1;32m      9\u001b[0m deepc_tuner \u001b[38;5;241m=\u001b[39m Trainer(controller\u001b[38;5;241m=\u001b[39mcontroller, env\u001b[38;5;241m=\u001b[39mrocket)\n\u001b[0;32m---> 10\u001b[0m final_params \u001b[38;5;241m=\u001b[39m \u001b[43mdeepc_tuner\u001b[49m\u001b[38;5;241;43m.\u001b[39;49m\u001b[43mrun\u001b[49m\u001b[43m(\u001b[49m\u001b[43mepochs\u001b[49m\u001b[38;5;241;43m=\u001b[39;49m\u001b[43mepochs\u001b[49m\u001b[43m,\u001b[49m\u001b[43m \u001b[49m\u001b[43mtime_steps\u001b[49m\u001b[38;5;241;43m=\u001b[39;49m\u001b[43mtime_steps\u001b[49m\u001b[43m,\u001b[49m\u001b[43m \u001b[49m\u001b[43muref\u001b[49m\u001b[38;5;241;43m=\u001b[39;49m\u001b[43muref\u001b[49m\u001b[43m,\u001b[49m\u001b[43m \u001b[49m\u001b[43myref\u001b[49m\u001b[38;5;241;43m=\u001b[39;49m\u001b[43myref\u001b[49m\u001b[43m)\u001b[49m\n\u001b[1;32m     11\u001b[0m Trained \u001b[38;5;241m=\u001b[39m \u001b[38;5;28;01mTrue\u001b[39;00m\n",
      "File \u001b[0;32m~/DeePC-HUNT/deepc_hunt/trainer.py:54\u001b[0m, in \u001b[0;36mTrainer.run\u001b[0;34m(self, epochs, time_steps, uref, yref)\u001b[0m\n\u001b[1;32m     49\u001b[0m \u001b[38;5;66;03m# Begin simulation \u001b[39;00m\n\u001b[1;32m     50\u001b[0m \u001b[38;5;28;01mfor\u001b[39;00m _ \u001b[38;5;129;01min\u001b[39;00m \u001b[38;5;28mrange\u001b[39m(time_steps):\n\u001b[1;32m     51\u001b[0m     \n\u001b[1;32m     52\u001b[0m     \u001b[38;5;66;03m# Solve for input\u001b[39;00m\n\u001b[1;32m     53\u001b[0m     \u001b[38;5;66;03m# decision_vars = self.controller(ref=yref, uref=uref.to(self.controller.device), u_ini=u_ini, y_ini=y_ini)\u001b[39;00m\n\u001b[0;32m---> 54\u001b[0m     decision_vars \u001b[38;5;241m=\u001b[39m \u001b[38;5;28;43mself\u001b[39;49m\u001b[38;5;241;43m.\u001b[39;49m\u001b[43mcontroller\u001b[49m\u001b[43m(\u001b[49m\u001b[43muref\u001b[49m\u001b[38;5;241;43m=\u001b[39;49m\u001b[43muref\u001b[49m\u001b[43m,\u001b[49m\u001b[43m \u001b[49m\u001b[43myref\u001b[49m\u001b[38;5;241;43m=\u001b[39;49m\u001b[43myref\u001b[49m\u001b[43m,\u001b[49m\u001b[43m \u001b[49m\u001b[43mu_ini\u001b[49m\u001b[38;5;241;43m=\u001b[39;49m\u001b[43mu_ini\u001b[49m\u001b[43m,\u001b[49m\u001b[43m \u001b[49m\u001b[43my_ini\u001b[49m\u001b[38;5;241;43m=\u001b[39;49m\u001b[43my_ini\u001b[49m\u001b[43m)\u001b[49m\n\u001b[1;32m     55\u001b[0m     u_pred \u001b[38;5;241m=\u001b[39m decision_vars[\u001b[38;5;241m0\u001b[39m]\n\u001b[1;32m     56\u001b[0m     action \u001b[38;5;241m=\u001b[39m u_pred[:,:\u001b[38;5;28mself\u001b[39m\u001b[38;5;241m.\u001b[39mcontroller\u001b[38;5;241m.\u001b[39mm]\n",
      "File \u001b[0;32m/opt/homebrew/Caskroom/miniforge/base/envs/deepc-dev/lib/python3.10/site-packages/torch/nn/modules/module.py:1518\u001b[0m, in \u001b[0;36mModule._wrapped_call_impl\u001b[0;34m(self, *args, **kwargs)\u001b[0m\n\u001b[1;32m   1516\u001b[0m     \u001b[38;5;28;01mreturn\u001b[39;00m \u001b[38;5;28mself\u001b[39m\u001b[38;5;241m.\u001b[39m_compiled_call_impl(\u001b[38;5;241m*\u001b[39margs, \u001b[38;5;241m*\u001b[39m\u001b[38;5;241m*\u001b[39mkwargs)  \u001b[38;5;66;03m# type: ignore[misc]\u001b[39;00m\n\u001b[1;32m   1517\u001b[0m \u001b[38;5;28;01melse\u001b[39;00m:\n\u001b[0;32m-> 1518\u001b[0m     \u001b[38;5;28;01mreturn\u001b[39;00m \u001b[38;5;28;43mself\u001b[39;49m\u001b[38;5;241;43m.\u001b[39;49m\u001b[43m_call_impl\u001b[49m\u001b[43m(\u001b[49m\u001b[38;5;241;43m*\u001b[39;49m\u001b[43margs\u001b[49m\u001b[43m,\u001b[49m\u001b[43m \u001b[49m\u001b[38;5;241;43m*\u001b[39;49m\u001b[38;5;241;43m*\u001b[39;49m\u001b[43mkwargs\u001b[49m\u001b[43m)\u001b[49m\n",
      "File \u001b[0;32m/opt/homebrew/Caskroom/miniforge/base/envs/deepc-dev/lib/python3.10/site-packages/torch/nn/modules/module.py:1527\u001b[0m, in \u001b[0;36mModule._call_impl\u001b[0;34m(self, *args, **kwargs)\u001b[0m\n\u001b[1;32m   1522\u001b[0m \u001b[38;5;66;03m# If we don't have any hooks, we want to skip the rest of the logic in\u001b[39;00m\n\u001b[1;32m   1523\u001b[0m \u001b[38;5;66;03m# this function, and just call forward.\u001b[39;00m\n\u001b[1;32m   1524\u001b[0m \u001b[38;5;28;01mif\u001b[39;00m \u001b[38;5;129;01mnot\u001b[39;00m (\u001b[38;5;28mself\u001b[39m\u001b[38;5;241m.\u001b[39m_backward_hooks \u001b[38;5;129;01mor\u001b[39;00m \u001b[38;5;28mself\u001b[39m\u001b[38;5;241m.\u001b[39m_backward_pre_hooks \u001b[38;5;129;01mor\u001b[39;00m \u001b[38;5;28mself\u001b[39m\u001b[38;5;241m.\u001b[39m_forward_hooks \u001b[38;5;129;01mor\u001b[39;00m \u001b[38;5;28mself\u001b[39m\u001b[38;5;241m.\u001b[39m_forward_pre_hooks\n\u001b[1;32m   1525\u001b[0m         \u001b[38;5;129;01mor\u001b[39;00m _global_backward_pre_hooks \u001b[38;5;129;01mor\u001b[39;00m _global_backward_hooks\n\u001b[1;32m   1526\u001b[0m         \u001b[38;5;129;01mor\u001b[39;00m _global_forward_hooks \u001b[38;5;129;01mor\u001b[39;00m _global_forward_pre_hooks):\n\u001b[0;32m-> 1527\u001b[0m     \u001b[38;5;28;01mreturn\u001b[39;00m \u001b[43mforward_call\u001b[49m\u001b[43m(\u001b[49m\u001b[38;5;241;43m*\u001b[39;49m\u001b[43margs\u001b[49m\u001b[43m,\u001b[49m\u001b[43m \u001b[49m\u001b[38;5;241;43m*\u001b[39;49m\u001b[38;5;241;43m*\u001b[39;49m\u001b[43mkwargs\u001b[49m\u001b[43m)\u001b[49m\n\u001b[1;32m   1529\u001b[0m \u001b[38;5;28;01mtry\u001b[39;00m:\n\u001b[1;32m   1530\u001b[0m     result \u001b[38;5;241m=\u001b[39m \u001b[38;5;28;01mNone\u001b[39;00m\n",
      "File \u001b[0;32m~/DeePC-HUNT/deepc_hunt/controllers.py:229\u001b[0m, in \u001b[0;36mDeePC.forward\u001b[0;34m(self, yref, uref, u_ini, y_ini)\u001b[0m\n\u001b[1;32m    225\u001b[0m     params\u001b[38;5;241m.\u001b[39mappend(\u001b[38;5;28mself\u001b[39m\u001b[38;5;241m.\u001b[39mlam_u\u001b[38;5;241m.\u001b[39mrepeat(\u001b[38;5;28mself\u001b[39m\u001b[38;5;241m.\u001b[39mn_batch,\u001b[38;5;241m1\u001b[39m))\n\u001b[1;32m    227\u001b[0m \u001b[38;5;28;01mfor\u001b[39;00m i, param \u001b[38;5;129;01min\u001b[39;00m \u001b[38;5;28menumerate\u001b[39m(params): \u001b[38;5;28mprint\u001b[39m(\u001b[38;5;124mf\u001b[39m\u001b[38;5;124m'\u001b[39m\u001b[38;5;124mparam \u001b[39m\u001b[38;5;132;01m{\u001b[39;00mi\u001b[38;5;132;01m}\u001b[39;00m\u001b[38;5;124m has shape \u001b[39m\u001b[38;5;132;01m{\u001b[39;00mparam\u001b[38;5;241m.\u001b[39mshape\u001b[38;5;132;01m}\u001b[39;00m\u001b[38;5;124m'\u001b[39m)\n\u001b[0;32m--> 229\u001b[0m out \u001b[38;5;241m=\u001b[39m \u001b[38;5;28;43mself\u001b[39;49m\u001b[38;5;241;43m.\u001b[39;49m\u001b[43mQP_layer\u001b[49m\u001b[43m(\u001b[49m\u001b[38;5;241;43m*\u001b[39;49m\u001b[43mparams\u001b[49m\u001b[43m,\u001b[49m\u001b[43m \u001b[49m\u001b[43msolver_args\u001b[49m\u001b[38;5;241;43m=\u001b[39;49m\u001b[43m{\u001b[49m\u001b[38;5;124;43m\"\u001b[39;49m\u001b[38;5;124;43msolve_method\u001b[39;49m\u001b[38;5;124;43m\"\u001b[39;49m\u001b[43m:\u001b[49m\u001b[43m \u001b[49m\u001b[38;5;124;43m\"\u001b[39;49m\u001b[38;5;124;43mECOS\u001b[39;49m\u001b[38;5;124;43m\"\u001b[39;49m\u001b[43m}\u001b[49m\u001b[43m)\u001b[49m\n\u001b[1;32m    230\u001b[0m \u001b[38;5;28minput\u001b[39m, output \u001b[38;5;241m=\u001b[39m out[\u001b[38;5;241m0\u001b[39m], out[\u001b[38;5;241m1\u001b[39m]\n\u001b[1;32m    231\u001b[0m \u001b[38;5;28mvars\u001b[39m \u001b[38;5;241m=\u001b[39m [\u001b[38;5;28minput\u001b[39m, output]\n",
      "File \u001b[0;32m/opt/homebrew/Caskroom/miniforge/base/envs/deepc-dev/lib/python3.10/site-packages/torch/nn/modules/module.py:1518\u001b[0m, in \u001b[0;36mModule._wrapped_call_impl\u001b[0;34m(self, *args, **kwargs)\u001b[0m\n\u001b[1;32m   1516\u001b[0m     \u001b[38;5;28;01mreturn\u001b[39;00m \u001b[38;5;28mself\u001b[39m\u001b[38;5;241m.\u001b[39m_compiled_call_impl(\u001b[38;5;241m*\u001b[39margs, \u001b[38;5;241m*\u001b[39m\u001b[38;5;241m*\u001b[39mkwargs)  \u001b[38;5;66;03m# type: ignore[misc]\u001b[39;00m\n\u001b[1;32m   1517\u001b[0m \u001b[38;5;28;01melse\u001b[39;00m:\n\u001b[0;32m-> 1518\u001b[0m     \u001b[38;5;28;01mreturn\u001b[39;00m \u001b[38;5;28;43mself\u001b[39;49m\u001b[38;5;241;43m.\u001b[39;49m\u001b[43m_call_impl\u001b[49m\u001b[43m(\u001b[49m\u001b[38;5;241;43m*\u001b[39;49m\u001b[43margs\u001b[49m\u001b[43m,\u001b[49m\u001b[43m \u001b[49m\u001b[38;5;241;43m*\u001b[39;49m\u001b[38;5;241;43m*\u001b[39;49m\u001b[43mkwargs\u001b[49m\u001b[43m)\u001b[49m\n",
      "File \u001b[0;32m/opt/homebrew/Caskroom/miniforge/base/envs/deepc-dev/lib/python3.10/site-packages/torch/nn/modules/module.py:1527\u001b[0m, in \u001b[0;36mModule._call_impl\u001b[0;34m(self, *args, **kwargs)\u001b[0m\n\u001b[1;32m   1522\u001b[0m \u001b[38;5;66;03m# If we don't have any hooks, we want to skip the rest of the logic in\u001b[39;00m\n\u001b[1;32m   1523\u001b[0m \u001b[38;5;66;03m# this function, and just call forward.\u001b[39;00m\n\u001b[1;32m   1524\u001b[0m \u001b[38;5;28;01mif\u001b[39;00m \u001b[38;5;129;01mnot\u001b[39;00m (\u001b[38;5;28mself\u001b[39m\u001b[38;5;241m.\u001b[39m_backward_hooks \u001b[38;5;129;01mor\u001b[39;00m \u001b[38;5;28mself\u001b[39m\u001b[38;5;241m.\u001b[39m_backward_pre_hooks \u001b[38;5;129;01mor\u001b[39;00m \u001b[38;5;28mself\u001b[39m\u001b[38;5;241m.\u001b[39m_forward_hooks \u001b[38;5;129;01mor\u001b[39;00m \u001b[38;5;28mself\u001b[39m\u001b[38;5;241m.\u001b[39m_forward_pre_hooks\n\u001b[1;32m   1525\u001b[0m         \u001b[38;5;129;01mor\u001b[39;00m _global_backward_pre_hooks \u001b[38;5;129;01mor\u001b[39;00m _global_backward_hooks\n\u001b[1;32m   1526\u001b[0m         \u001b[38;5;129;01mor\u001b[39;00m _global_forward_hooks \u001b[38;5;129;01mor\u001b[39;00m _global_forward_pre_hooks):\n\u001b[0;32m-> 1527\u001b[0m     \u001b[38;5;28;01mreturn\u001b[39;00m \u001b[43mforward_call\u001b[49m\u001b[43m(\u001b[49m\u001b[38;5;241;43m*\u001b[39;49m\u001b[43margs\u001b[49m\u001b[43m,\u001b[49m\u001b[43m \u001b[49m\u001b[38;5;241;43m*\u001b[39;49m\u001b[38;5;241;43m*\u001b[39;49m\u001b[43mkwargs\u001b[49m\u001b[43m)\u001b[49m\n\u001b[1;32m   1529\u001b[0m \u001b[38;5;28;01mtry\u001b[39;00m:\n\u001b[1;32m   1530\u001b[0m     result \u001b[38;5;241m=\u001b[39m \u001b[38;5;28;01mNone\u001b[39;00m\n",
      "File \u001b[0;32m/opt/homebrew/Caskroom/miniforge/base/envs/deepc-dev/lib/python3.10/site-packages/cvxpylayers/torch/cvxpylayer.py:164\u001b[0m, in \u001b[0;36mCvxpyLayer.forward\u001b[0;34m(self, solver_args, *params)\u001b[0m\n\u001b[1;32m    149\u001b[0m info \u001b[38;5;241m=\u001b[39m {}\n\u001b[1;32m    150\u001b[0m f \u001b[38;5;241m=\u001b[39m _CvxpyLayerFn(\n\u001b[1;32m    151\u001b[0m     _forward_numpy\u001b[38;5;241m=\u001b[39m\u001b[38;5;28mself\u001b[39m\u001b[38;5;241m.\u001b[39m_forward_numpy,\n\u001b[1;32m    152\u001b[0m     _backward_numpy\u001b[38;5;241m=\u001b[39m\u001b[38;5;28mself\u001b[39m\u001b[38;5;241m.\u001b[39m_backward_numpy,\n\u001b[0;32m   (...)\u001b[0m\n\u001b[1;32m    162\u001b[0m     info\u001b[38;5;241m=\u001b[39minfo,\n\u001b[1;32m    163\u001b[0m )\n\u001b[0;32m--> 164\u001b[0m sol \u001b[38;5;241m=\u001b[39m \u001b[43mf\u001b[49m\u001b[43m(\u001b[49m\u001b[38;5;241;43m*\u001b[39;49m\u001b[43mparams\u001b[49m\u001b[43m)\u001b[49m\n\u001b[1;32m    165\u001b[0m \u001b[38;5;28mself\u001b[39m\u001b[38;5;241m.\u001b[39minfo \u001b[38;5;241m=\u001b[39m info\n\u001b[1;32m    166\u001b[0m \u001b[38;5;28;01mreturn\u001b[39;00m sol\n",
      "File \u001b[0;32m/opt/homebrew/Caskroom/miniforge/base/envs/deepc-dev/lib/python3.10/site-packages/torch/autograd/function.py:539\u001b[0m, in \u001b[0;36mFunction.apply\u001b[0;34m(cls, *args, **kwargs)\u001b[0m\n\u001b[1;32m    536\u001b[0m \u001b[38;5;28;01mif\u001b[39;00m \u001b[38;5;129;01mnot\u001b[39;00m torch\u001b[38;5;241m.\u001b[39m_C\u001b[38;5;241m.\u001b[39m_are_functorch_transforms_active():\n\u001b[1;32m    537\u001b[0m     \u001b[38;5;66;03m# See NOTE: [functorch vjp and autograd interaction]\u001b[39;00m\n\u001b[1;32m    538\u001b[0m     args \u001b[38;5;241m=\u001b[39m _functorch\u001b[38;5;241m.\u001b[39mutils\u001b[38;5;241m.\u001b[39munwrap_dead_wrappers(args)\n\u001b[0;32m--> 539\u001b[0m     \u001b[38;5;28;01mreturn\u001b[39;00m \u001b[38;5;28;43msuper\u001b[39;49m\u001b[43m(\u001b[49m\u001b[43m)\u001b[49m\u001b[38;5;241;43m.\u001b[39;49m\u001b[43mapply\u001b[49m\u001b[43m(\u001b[49m\u001b[38;5;241;43m*\u001b[39;49m\u001b[43margs\u001b[49m\u001b[43m,\u001b[49m\u001b[43m \u001b[49m\u001b[38;5;241;43m*\u001b[39;49m\u001b[38;5;241;43m*\u001b[39;49m\u001b[43mkwargs\u001b[49m\u001b[43m)\u001b[49m  \u001b[38;5;66;03m# type: ignore[misc]\u001b[39;00m\n\u001b[1;32m    541\u001b[0m \u001b[38;5;28;01mif\u001b[39;00m \u001b[38;5;28mcls\u001b[39m\u001b[38;5;241m.\u001b[39msetup_context \u001b[38;5;241m==\u001b[39m _SingleLevelFunction\u001b[38;5;241m.\u001b[39msetup_context:\n\u001b[1;32m    542\u001b[0m     \u001b[38;5;28;01mraise\u001b[39;00m \u001b[38;5;167;01mRuntimeError\u001b[39;00m(\n\u001b[1;32m    543\u001b[0m         \u001b[38;5;124m\"\u001b[39m\u001b[38;5;124mIn order to use an autograd.Function with functorch transforms \u001b[39m\u001b[38;5;124m\"\u001b[39m\n\u001b[1;32m    544\u001b[0m         \u001b[38;5;124m\"\u001b[39m\u001b[38;5;124m(vmap, grad, jvp, jacrev, ...), it must override the setup_context \u001b[39m\u001b[38;5;124m\"\u001b[39m\n\u001b[1;32m    545\u001b[0m         \u001b[38;5;124m\"\u001b[39m\u001b[38;5;124mstaticmethod. For more details, please see \u001b[39m\u001b[38;5;124m\"\u001b[39m\n\u001b[1;32m    546\u001b[0m         \u001b[38;5;124m\"\u001b[39m\u001b[38;5;124mhttps://pytorch.org/docs/master/notes/extending.func.html\u001b[39m\u001b[38;5;124m\"\u001b[39m\n\u001b[1;32m    547\u001b[0m     )\n",
      "File \u001b[0;32m/opt/homebrew/Caskroom/miniforge/base/envs/deepc-dev/lib/python3.10/site-packages/cvxpylayers/torch/cvxpylayer.py:288\u001b[0m, in \u001b[0;36m_CvxpyLayerFn.<locals>._CvxpyLayerFnFn.forward\u001b[0;34m(ctx, *params)\u001b[0m\n\u001b[1;32m    270\u001b[0m params_numpy \u001b[38;5;241m=\u001b[39m [to_numpy(p) \u001b[38;5;28;01mfor\u001b[39;00m p \u001b[38;5;129;01min\u001b[39;00m params]\n\u001b[1;32m    272\u001b[0m context \u001b[38;5;241m=\u001b[39m ForwardContext(\n\u001b[1;32m    273\u001b[0m     gp\u001b[38;5;241m=\u001b[39mgp,\n\u001b[1;32m    274\u001b[0m     solve_and_derivative\u001b[38;5;241m=\u001b[39m\u001b[38;5;28many\u001b[39m(p\u001b[38;5;241m.\u001b[39mrequires_grad \u001b[38;5;28;01mfor\u001b[39;00m p \u001b[38;5;129;01min\u001b[39;00m params),\n\u001b[0;32m   (...)\u001b[0m\n\u001b[1;32m    285\u001b[0m     var_dict\u001b[38;5;241m=\u001b[39mvar_dict,\n\u001b[1;32m    286\u001b[0m )\n\u001b[0;32m--> 288\u001b[0m sol, info_forward \u001b[38;5;241m=\u001b[39m \u001b[43m_forward_numpy\u001b[49m\u001b[43m(\u001b[49m\u001b[43mparams_numpy\u001b[49m\u001b[43m,\u001b[49m\u001b[43m \u001b[49m\u001b[43mcontext\u001b[49m\u001b[43m)\u001b[49m\n\u001b[1;32m    290\u001b[0m \u001b[38;5;66;03m# convert to torch tensors and incorporate info_forward\u001b[39;00m\n\u001b[1;32m    291\u001b[0m sol \u001b[38;5;241m=\u001b[39m [to_torch(s, ctx\u001b[38;5;241m.\u001b[39mdtype, ctx\u001b[38;5;241m.\u001b[39mdevice) \u001b[38;5;28;01mfor\u001b[39;00m s \u001b[38;5;129;01min\u001b[39;00m sol]\n",
      "File \u001b[0;32m/opt/homebrew/Caskroom/miniforge/base/envs/deepc-dev/lib/python3.10/site-packages/cvxpylayers/utils.py:93\u001b[0m, in \u001b[0;36mforward_numpy\u001b[0;34m(params_numpy, context)\u001b[0m\n\u001b[1;32m     88\u001b[0m \u001b[38;5;28;01mexcept\u001b[39;00m diffcp\u001b[38;5;241m.\u001b[39mSolverError \u001b[38;5;28;01mas\u001b[39;00m e:\n\u001b[1;32m     89\u001b[0m     \u001b[38;5;28mprint\u001b[39m(\n\u001b[1;32m     90\u001b[0m         \u001b[38;5;124m\"\u001b[39m\u001b[38;5;124mPlease consider re-formulating your problem so that \u001b[39m\u001b[38;5;124m\"\u001b[39m\n\u001b[1;32m     91\u001b[0m         \u001b[38;5;124m\"\u001b[39m\u001b[38;5;124mit is always solvable or increasing the number of \u001b[39m\u001b[38;5;124m\"\u001b[39m\n\u001b[1;32m     92\u001b[0m         \u001b[38;5;124m\"\u001b[39m\u001b[38;5;124msolver iterations.\u001b[39m\u001b[38;5;124m\"\u001b[39m)\n\u001b[0;32m---> 93\u001b[0m     \u001b[38;5;28;01mraise\u001b[39;00m e\n\u001b[1;32m     94\u001b[0m info[\u001b[38;5;124m'\u001b[39m\u001b[38;5;124msolve_time\u001b[39m\u001b[38;5;124m'\u001b[39m] \u001b[38;5;241m=\u001b[39m time\u001b[38;5;241m.\u001b[39mtime() \u001b[38;5;241m-\u001b[39m start\n\u001b[1;32m     96\u001b[0m \u001b[38;5;66;03m# extract solutions and append along batch dimension\u001b[39;00m\n",
      "File \u001b[0;32m/opt/homebrew/Caskroom/miniforge/base/envs/deepc-dev/lib/python3.10/site-packages/cvxpylayers/utils.py:82\u001b[0m, in \u001b[0;36mforward_numpy\u001b[0;34m(params_numpy, context)\u001b[0m\n\u001b[1;32m     80\u001b[0m \u001b[38;5;28;01mtry\u001b[39;00m:\n\u001b[1;32m     81\u001b[0m     \u001b[38;5;28;01mif\u001b[39;00m context\u001b[38;5;241m.\u001b[39msolve_and_derivative:\n\u001b[0;32m---> 82\u001b[0m         xs, _, _, _, DT_batch \u001b[38;5;241m=\u001b[39m \u001b[43mdiffcp\u001b[49m\u001b[38;5;241;43m.\u001b[39;49m\u001b[43msolve_and_derivative_batch\u001b[49m\u001b[43m(\u001b[49m\n\u001b[1;32m     83\u001b[0m \u001b[43m            \u001b[49m\u001b[43mAs\u001b[49m\u001b[43m,\u001b[49m\u001b[43m \u001b[49m\u001b[43mbs\u001b[49m\u001b[43m,\u001b[49m\u001b[43m \u001b[49m\u001b[43mcs\u001b[49m\u001b[43m,\u001b[49m\u001b[43m \u001b[49m\u001b[43mcone_dicts\u001b[49m\u001b[43m,\u001b[49m\u001b[43m \u001b[49m\u001b[38;5;241;43m*\u001b[39;49m\u001b[38;5;241;43m*\u001b[39;49m\u001b[43mcontext\u001b[49m\u001b[38;5;241;43m.\u001b[39;49m\u001b[43msolver_args\u001b[49m\u001b[43m)\u001b[49m\n\u001b[1;32m     84\u001b[0m         info[\u001b[38;5;124m'\u001b[39m\u001b[38;5;124mDT_batch\u001b[39m\u001b[38;5;124m'\u001b[39m] \u001b[38;5;241m=\u001b[39m DT_batch\n\u001b[1;32m     85\u001b[0m     \u001b[38;5;28;01melse\u001b[39;00m:\n",
      "File \u001b[0;32m/opt/homebrew/Caskroom/miniforge/base/envs/deepc-dev/lib/python3.10/site-packages/diffcp/cone_program.py:90\u001b[0m, in \u001b[0;36msolve_and_derivative_batch\u001b[0;34m(As, bs, cs, cone_dicts, n_jobs_forward, n_jobs_backward, mode, warm_starts, **kwargs)\u001b[0m\n\u001b[1;32m     87\u001b[0m args \u001b[38;5;241m=\u001b[39m [(A, b, c, cone_dict, warm_start, mode, kwargs) \u001b[38;5;28;01mfor\u001b[39;00m A, b, c, cone_dict, warm_start \u001b[38;5;129;01min\u001b[39;00m\n\u001b[1;32m     88\u001b[0m         \u001b[38;5;28mzip\u001b[39m(As, bs, cs, cone_dicts, warm_starts)]\n\u001b[1;32m     89\u001b[0m \u001b[38;5;28;01mwith\u001b[39;00m threadpool_limits(limits\u001b[38;5;241m=\u001b[39m\u001b[38;5;241m1\u001b[39m):\n\u001b[0;32m---> 90\u001b[0m     results \u001b[38;5;241m=\u001b[39m \u001b[43mpool\u001b[49m\u001b[38;5;241;43m.\u001b[39;49m\u001b[43mstarmap\u001b[49m\u001b[43m(\u001b[49m\u001b[43msolve_and_derivative_wrapper\u001b[49m\u001b[43m,\u001b[49m\u001b[43m \u001b[49m\u001b[43margs\u001b[49m\u001b[43m)\u001b[49m\n\u001b[1;32m     91\u001b[0m pool\u001b[38;5;241m.\u001b[39mclose()\n\u001b[1;32m     92\u001b[0m xs \u001b[38;5;241m=\u001b[39m [r[\u001b[38;5;241m0\u001b[39m] \u001b[38;5;28;01mfor\u001b[39;00m r \u001b[38;5;129;01min\u001b[39;00m results]\n",
      "File \u001b[0;32m/opt/homebrew/Caskroom/miniforge/base/envs/deepc-dev/lib/python3.10/multiprocessing/pool.py:375\u001b[0m, in \u001b[0;36mPool.starmap\u001b[0;34m(self, func, iterable, chunksize)\u001b[0m\n\u001b[1;32m    369\u001b[0m \u001b[38;5;28;01mdef\u001b[39;00m \u001b[38;5;21mstarmap\u001b[39m(\u001b[38;5;28mself\u001b[39m, func, iterable, chunksize\u001b[38;5;241m=\u001b[39m\u001b[38;5;28;01mNone\u001b[39;00m):\n\u001b[1;32m    370\u001b[0m \u001b[38;5;250m    \u001b[39m\u001b[38;5;124;03m'''\u001b[39;00m\n\u001b[1;32m    371\u001b[0m \u001b[38;5;124;03m    Like `map()` method but the elements of the `iterable` are expected to\u001b[39;00m\n\u001b[1;32m    372\u001b[0m \u001b[38;5;124;03m    be iterables as well and will be unpacked as arguments. Hence\u001b[39;00m\n\u001b[1;32m    373\u001b[0m \u001b[38;5;124;03m    `func` and (a, b) becomes func(a, b).\u001b[39;00m\n\u001b[1;32m    374\u001b[0m \u001b[38;5;124;03m    '''\u001b[39;00m\n\u001b[0;32m--> 375\u001b[0m     \u001b[38;5;28;01mreturn\u001b[39;00m \u001b[38;5;28;43mself\u001b[39;49m\u001b[38;5;241;43m.\u001b[39;49m\u001b[43m_map_async\u001b[49m\u001b[43m(\u001b[49m\u001b[43mfunc\u001b[49m\u001b[43m,\u001b[49m\u001b[43m \u001b[49m\u001b[43miterable\u001b[49m\u001b[43m,\u001b[49m\u001b[43m \u001b[49m\u001b[43mstarmapstar\u001b[49m\u001b[43m,\u001b[49m\u001b[43m \u001b[49m\u001b[43mchunksize\u001b[49m\u001b[43m)\u001b[49m\u001b[38;5;241;43m.\u001b[39;49m\u001b[43mget\u001b[49m\u001b[43m(\u001b[49m\u001b[43m)\u001b[49m\n",
      "File \u001b[0;32m/opt/homebrew/Caskroom/miniforge/base/envs/deepc-dev/lib/python3.10/multiprocessing/pool.py:774\u001b[0m, in \u001b[0;36mApplyResult.get\u001b[0;34m(self, timeout)\u001b[0m\n\u001b[1;32m    772\u001b[0m     \u001b[38;5;28;01mreturn\u001b[39;00m \u001b[38;5;28mself\u001b[39m\u001b[38;5;241m.\u001b[39m_value\n\u001b[1;32m    773\u001b[0m \u001b[38;5;28;01melse\u001b[39;00m:\n\u001b[0;32m--> 774\u001b[0m     \u001b[38;5;28;01mraise\u001b[39;00m \u001b[38;5;28mself\u001b[39m\u001b[38;5;241m.\u001b[39m_value\n",
      "File \u001b[0;32m/opt/homebrew/Caskroom/miniforge/base/envs/deepc-dev/lib/python3.10/multiprocessing/pool.py:125\u001b[0m, in \u001b[0;36mworker\u001b[0;34m(inqueue, outqueue, initializer, initargs, maxtasks, wrap_exception)\u001b[0m\n\u001b[1;32m    123\u001b[0m job, i, func, args, kwds \u001b[38;5;241m=\u001b[39m task\n\u001b[1;32m    124\u001b[0m \u001b[38;5;28;01mtry\u001b[39;00m:\n\u001b[0;32m--> 125\u001b[0m     result \u001b[38;5;241m=\u001b[39m (\u001b[38;5;28;01mTrue\u001b[39;00m, \u001b[43mfunc\u001b[49m\u001b[43m(\u001b[49m\u001b[38;5;241;43m*\u001b[39;49m\u001b[43margs\u001b[49m\u001b[43m,\u001b[49m\u001b[43m \u001b[49m\u001b[38;5;241;43m*\u001b[39;49m\u001b[38;5;241;43m*\u001b[39;49m\u001b[43mkwds\u001b[49m\u001b[43m)\u001b[49m)\n\u001b[1;32m    126\u001b[0m \u001b[38;5;28;01mexcept\u001b[39;00m \u001b[38;5;167;01mException\u001b[39;00m \u001b[38;5;28;01mas\u001b[39;00m e:\n\u001b[1;32m    127\u001b[0m     \u001b[38;5;28;01mif\u001b[39;00m wrap_exception \u001b[38;5;129;01mand\u001b[39;00m func \u001b[38;5;129;01mis\u001b[39;00m \u001b[38;5;129;01mnot\u001b[39;00m _helper_reraises_exception:\n",
      "File \u001b[0;32m/opt/homebrew/Caskroom/miniforge/base/envs/deepc-dev/lib/python3.10/multiprocessing/pool.py:51\u001b[0m, in \u001b[0;36mstarmapstar\u001b[0;34m(args)\u001b[0m\n\u001b[1;32m     50\u001b[0m \u001b[38;5;28;01mdef\u001b[39;00m \u001b[38;5;21mstarmapstar\u001b[39m(args):\n\u001b[0;32m---> 51\u001b[0m     \u001b[38;5;28;01mreturn\u001b[39;00m \u001b[38;5;28;43mlist\u001b[39;49m\u001b[43m(\u001b[49m\u001b[43mitertools\u001b[49m\u001b[38;5;241;43m.\u001b[39;49m\u001b[43mstarmap\u001b[49m\u001b[43m(\u001b[49m\u001b[43margs\u001b[49m\u001b[43m[\u001b[49m\u001b[38;5;241;43m0\u001b[39;49m\u001b[43m]\u001b[49m\u001b[43m,\u001b[49m\u001b[43m \u001b[49m\u001b[43margs\u001b[49m\u001b[43m[\u001b[49m\u001b[38;5;241;43m1\u001b[39;49m\u001b[43m]\u001b[49m\u001b[43m)\u001b[49m\u001b[43m)\u001b[49m\n",
      "File \u001b[0;32m/opt/homebrew/Caskroom/miniforge/base/envs/deepc-dev/lib/python3.10/site-packages/diffcp/cone_program.py:25\u001b[0m, in \u001b[0;36msolve_and_derivative_wrapper\u001b[0;34m(A, b, c, cone_dict, warm_start, mode, kwargs)\u001b[0m\n\u001b[1;32m     23\u001b[0m \u001b[38;5;28;01mdef\u001b[39;00m \u001b[38;5;21msolve_and_derivative_wrapper\u001b[39m(A, b, c, cone_dict, warm_start, mode, kwargs):\n\u001b[1;32m     24\u001b[0m \u001b[38;5;250m    \u001b[39m\u001b[38;5;124;03m\"\"\"A wrapper around solve_and_derivative for the batch function.\"\"\"\u001b[39;00m\n\u001b[0;32m---> 25\u001b[0m     \u001b[38;5;28;01mreturn\u001b[39;00m \u001b[43msolve_and_derivative\u001b[49m\u001b[43m(\u001b[49m\n\u001b[1;32m     26\u001b[0m \u001b[43m        \u001b[49m\u001b[43mA\u001b[49m\u001b[43m,\u001b[49m\u001b[43m \u001b[49m\u001b[43mb\u001b[49m\u001b[43m,\u001b[49m\u001b[43m \u001b[49m\u001b[43mc\u001b[49m\u001b[43m,\u001b[49m\u001b[43m \u001b[49m\u001b[43mcone_dict\u001b[49m\u001b[43m,\u001b[49m\u001b[43m \u001b[49m\u001b[43mwarm_start\u001b[49m\u001b[38;5;241;43m=\u001b[39;49m\u001b[43mwarm_start\u001b[49m\u001b[43m,\u001b[49m\u001b[43m \u001b[49m\u001b[43mmode\u001b[49m\u001b[38;5;241;43m=\u001b[39;49m\u001b[43mmode\u001b[49m\u001b[43m,\u001b[49m\u001b[43m \u001b[49m\u001b[38;5;241;43m*\u001b[39;49m\u001b[38;5;241;43m*\u001b[39;49m\u001b[43mkwargs\u001b[49m\u001b[43m)\u001b[49m\n",
      "File \u001b[0;32m/opt/homebrew/Caskroom/miniforge/base/envs/deepc-dev/lib/python3.10/site-packages/diffcp/cone_program.py:269\u001b[0m, in \u001b[0;36msolve_and_derivative\u001b[0;34m(A, b, c, cone_dict, warm_start, mode, solve_method, **kwargs)\u001b[0m\n\u001b[1;32m    205\u001b[0m \u001b[38;5;28;01mdef\u001b[39;00m \u001b[38;5;21msolve_and_derivative\u001b[39m(A, b, c, cone_dict, warm_start\u001b[38;5;241m=\u001b[39m\u001b[38;5;28;01mNone\u001b[39;00m, mode\u001b[38;5;241m=\u001b[39m\u001b[38;5;124m'\u001b[39m\u001b[38;5;124mlsqr\u001b[39m\u001b[38;5;124m'\u001b[39m,\n\u001b[1;32m    206\u001b[0m                          solve_method\u001b[38;5;241m=\u001b[39m\u001b[38;5;124m'\u001b[39m\u001b[38;5;124mSCS\u001b[39m\u001b[38;5;124m'\u001b[39m, \u001b[38;5;241m*\u001b[39m\u001b[38;5;241m*\u001b[39mkwargs):\n\u001b[1;32m    207\u001b[0m \u001b[38;5;250m    \u001b[39m\u001b[38;5;124;03m\"\"\"Solves a cone program, returns its derivative as an abstract linear map.\u001b[39;00m\n\u001b[1;32m    208\u001b[0m \n\u001b[1;32m    209\u001b[0m \u001b[38;5;124;03m    This function solves a convex cone program, with primal-dual problems\u001b[39;00m\n\u001b[0;32m   (...)\u001b[0m\n\u001b[1;32m    267\u001b[0m \u001b[38;5;124;03m        SolverError: if the cone program is infeasible or unbounded.\u001b[39;00m\n\u001b[1;32m    268\u001b[0m \u001b[38;5;124;03m    \"\"\"\u001b[39;00m\n\u001b[0;32m--> 269\u001b[0m     result \u001b[38;5;241m=\u001b[39m \u001b[43msolve_and_derivative_internal\u001b[49m\u001b[43m(\u001b[49m\n\u001b[1;32m    270\u001b[0m \u001b[43m        \u001b[49m\u001b[43mA\u001b[49m\u001b[43m,\u001b[49m\u001b[43m \u001b[49m\u001b[43mb\u001b[49m\u001b[43m,\u001b[49m\u001b[43m \u001b[49m\u001b[43mc\u001b[49m\u001b[43m,\u001b[49m\u001b[43m \u001b[49m\u001b[43mcone_dict\u001b[49m\u001b[43m,\u001b[49m\u001b[43m \u001b[49m\u001b[43mwarm_start\u001b[49m\u001b[38;5;241;43m=\u001b[39;49m\u001b[43mwarm_start\u001b[49m\u001b[43m,\u001b[49m\u001b[43m \u001b[49m\u001b[43mmode\u001b[49m\u001b[38;5;241;43m=\u001b[39;49m\u001b[43mmode\u001b[49m\u001b[43m,\u001b[49m\n\u001b[1;32m    271\u001b[0m \u001b[43m        \u001b[49m\u001b[43msolve_method\u001b[49m\u001b[38;5;241;43m=\u001b[39;49m\u001b[43msolve_method\u001b[49m\u001b[43m,\u001b[49m\u001b[43m \u001b[49m\u001b[38;5;241;43m*\u001b[39;49m\u001b[38;5;241;43m*\u001b[39;49m\u001b[43mkwargs\u001b[49m\u001b[43m)\u001b[49m\n\u001b[1;32m    272\u001b[0m     x \u001b[38;5;241m=\u001b[39m result[\u001b[38;5;124m\"\u001b[39m\u001b[38;5;124mx\u001b[39m\u001b[38;5;124m\"\u001b[39m]\n\u001b[1;32m    273\u001b[0m     y \u001b[38;5;241m=\u001b[39m result[\u001b[38;5;124m\"\u001b[39m\u001b[38;5;124my\u001b[39m\u001b[38;5;124m\"\u001b[39m]\n",
      "File \u001b[0;32m/opt/homebrew/Caskroom/miniforge/base/envs/deepc-dev/lib/python3.10/site-packages/diffcp/cone_program.py:523\u001b[0m, in \u001b[0;36msolve_and_derivative_internal\u001b[0;34m(A, b, c, cone_dict, solve_method, warm_start, mode, raise_on_error, **kwargs)\u001b[0m\n\u001b[1;32m    520\u001b[0m \u001b[38;5;66;03m# eliminate explicit zeros in A, we no longer need them\u001b[39;00m\n\u001b[1;32m    521\u001b[0m A\u001b[38;5;241m.\u001b[39meliminate_zeros()\n\u001b[0;32m--> 523\u001b[0m result \u001b[38;5;241m=\u001b[39m \u001b[43msolve_internal\u001b[49m\u001b[43m(\u001b[49m\u001b[43mA\u001b[49m\u001b[43m,\u001b[49m\u001b[43m \u001b[49m\u001b[43mb\u001b[49m\u001b[43m,\u001b[49m\u001b[43m \u001b[49m\u001b[43mc\u001b[49m\u001b[43m,\u001b[49m\u001b[43m \u001b[49m\u001b[43mcone_dict\u001b[49m\u001b[43m,\u001b[49m\u001b[43m \u001b[49m\u001b[43msolve_method\u001b[49m\u001b[38;5;241;43m=\u001b[39;49m\u001b[43msolve_method\u001b[49m\u001b[43m,\u001b[49m\n\u001b[1;32m    524\u001b[0m \u001b[43m    \u001b[49m\u001b[43mwarm_start\u001b[49m\u001b[38;5;241;43m=\u001b[39;49m\u001b[43mwarm_start\u001b[49m\u001b[43m,\u001b[49m\u001b[43m \u001b[49m\u001b[43mraise_on_error\u001b[49m\u001b[38;5;241;43m=\u001b[39;49m\u001b[43mraise_on_error\u001b[49m\u001b[43m,\u001b[49m\u001b[43m \u001b[49m\u001b[38;5;241;43m*\u001b[39;49m\u001b[38;5;241;43m*\u001b[39;49m\u001b[43mkwargs\u001b[49m\u001b[43m)\u001b[49m\n\u001b[1;32m    525\u001b[0m x \u001b[38;5;241m=\u001b[39m result[\u001b[38;5;124m\"\u001b[39m\u001b[38;5;124mx\u001b[39m\u001b[38;5;124m\"\u001b[39m]\n\u001b[1;32m    526\u001b[0m y \u001b[38;5;241m=\u001b[39m result[\u001b[38;5;124m\"\u001b[39m\u001b[38;5;124my\u001b[39m\u001b[38;5;124m\"\u001b[39m]\n",
      "File \u001b[0;32m/opt/homebrew/Caskroom/miniforge/base/envs/deepc-dev/lib/python3.10/site-packages/diffcp/cone_program.py:424\u001b[0m, in \u001b[0;36msolve_internal\u001b[0;34m(A, b, c, cone_dict, solve_method, warm_start, raise_on_error, **kwargs)\u001b[0m\n\u001b[1;32m    422\u001b[0m     warnings\u001b[38;5;241m.\u001b[39mwarn(\u001b[38;5;124m\"\u001b[39m\u001b[38;5;124mSolved/Inaccurate.\u001b[39m\u001b[38;5;124m\"\u001b[39m)\n\u001b[1;32m    423\u001b[0m \u001b[38;5;28;01melif\u001b[39;00m status \u001b[38;5;241m<\u001b[39m \u001b[38;5;241m0\u001b[39m:\n\u001b[0;32m--> 424\u001b[0m     \u001b[38;5;28;01mraise\u001b[39;00m SolverError(\u001b[38;5;124m\"\u001b[39m\u001b[38;5;124mSolver ecos errored.\u001b[39m\u001b[38;5;124m\"\u001b[39m)\n\u001b[1;32m    425\u001b[0m \u001b[38;5;28;01mif\u001b[39;00m status \u001b[38;5;129;01mnot\u001b[39;00m \u001b[38;5;129;01min\u001b[39;00m [\u001b[38;5;241m0\u001b[39m, \u001b[38;5;241m10\u001b[39m]:\n\u001b[1;32m    426\u001b[0m     \u001b[38;5;28;01mraise\u001b[39;00m SolverError(\u001b[38;5;124m\"\u001b[39m\u001b[38;5;124mSolver ecos returned status \u001b[39m\u001b[38;5;132;01m%s\u001b[39;00m\u001b[38;5;124m\"\u001b[39m \u001b[38;5;241m%\u001b[39m\n\u001b[1;32m    427\u001b[0m                       STATUS_LOOKUP[status])\n",
      "\u001b[0;31mSolverError\u001b[0m: Solver ecos errored."
     ]
    }
   ],
   "source": [
    "initial_params = {'lam_g1':50, 'lam_g2':50, 'lam_y':1000}\n",
    "uref = torch.zeros(m)\n",
    "uref = uref.repeat(n_batch, Tf)\n",
    "yref = torch.Tensor([16.6,7.47,0,0,0,0])\n",
    "yref = yref.repeat(n_batch, Tf)\n",
    "\n",
    "# Tune regularization params\n",
    "controller.initialise(lam_g1=initial_params['lam_g1'], lam_g2=initial_params['lam_g2'], lam_y=initial_params['lam_y'])\n",
    "deepc_tuner = Trainer(controller=controller, env=rocket)\n",
    "final_params = deepc_tuner.run(epochs=epochs, time_steps=time_steps, uref=uref, yref=yref)\n",
    "Trained = True"
   ]
  },
  {
   "cell_type": "markdown",
   "metadata": {},
   "source": [
    "### Build New DeePC controllers\n",
    "\n",
    "Take the final and initial regularisation parameters and build faster implementation in NumPy and CvxPy"
   ]
  },
  {
   "cell_type": "code",
   "execution_count": null,
   "metadata": {},
   "outputs": [
    {
     "data": {
      "text/plain": [
       "<deepc_hunt.controllers.npDeePC at 0x30b3e10f0>"
      ]
     },
     "execution_count": 8,
     "metadata": {},
     "output_type": "execute_result"
    }
   ],
   "source": [
    "# Trained controller in NumPy\n",
    "initial_params = {'lam_g1':50, 'lam_g2':10.3, 'lam_y':1000}\n",
    "trained_controller = npDeePC(\n",
    "    ud=ud, yd=yd, u_constraints=u_constraints, y_constraints=y_constraints,\n",
    "    Tini=Tini, N=Tf, m=m, p=p, n=n\n",
    ")\n",
    "trained_controller.setup(Q=np.diag(q_np), R=np.diag(r_np), \n",
    "    lam_g1=tensor2np(initial_params['lam_g1']), \n",
    "    lam_g2=tensor2np(initial_params['lam_g2']), \n",
    "    lam_y=tensor2np(initial_params['lam_y'])\n",
    ")"
   ]
  },
  {
   "cell_type": "markdown",
   "metadata": {},
   "source": [
    "### MPC Controller for testing"
   ]
  },
  {
   "cell_type": "code",
   "execution_count": null,
   "metadata": {},
   "outputs": [
    {
     "name": "stdout",
     "output_type": "stream",
     "text": [
      "A:\n",
      " [[1.    0.    0.017 0.    0.    0.   ]\n",
      " [0.    1.    0.    0.017 0.    0.   ]\n",
      " [0.    0.    1.    0.    0.    0.   ]\n",
      " [0.    0.    0.    1.    0.    0.   ]\n",
      " [0.    0.    0.    0.    1.    0.017]\n",
      " [0.    0.    0.    0.    0.    1.   ]] \n",
      "\n",
      " B:\n",
      " [[ 0.     0.     0.   ]\n",
      " [ 0.008  0.     0.   ]\n",
      " [ 0.     0.02   0.   ]\n",
      " [ 1.013  0.     0.   ]\n",
      " [ 0.    -0.     0.   ]\n",
      " [ 0.    -0.013  0.   ]]\n"
     ]
    },
    {
     "data": {
      "text/plain": [
       "<deepc_hunt.controllers.npMPC at 0x1767b92a0>"
      ]
     },
     "execution_count": 9,
     "metadata": {},
     "output_type": "execute_result"
    }
   ],
   "source": [
    "x_eq = np.array([16.6,7.47,0,0,0,0]) # Landing position\n",
    "u_eq = np.array([0,0,0])\n",
    "\n",
    "A, B = rocket.linearise(x_eq=x_eq, u_eq=u_eq, discrete=True)\n",
    "print(\"A:\\n\", A.round(3), \"\\n\"*2, \"B:\\n\", B.round(3))\n",
    "\n",
    "mpc = npMPC(\n",
    "        A=A, B=B, Q=np.diag(q_np), R=np.diag(r_np), N=Tf, \n",
    "        u_constraints=u_constraints, y_constraints=y_constraints\n",
    ")\n",
    "mpc.setup()"
   ]
  },
  {
   "cell_type": "markdown",
   "metadata": {},
   "source": [
    "### Showcase trained controller on real simulation"
   ]
  },
  {
   "cell_type": "code",
   "execution_count": null,
   "metadata": {},
   "outputs": [
    {
     "name": "stderr",
     "output_type": "stream",
     "text": [
      " 43%|████▎     | 515/1200 [01:09<01:28,  7.77it/s]"
     ]
    },
    {
     "name": "stdout",
     "output_type": "stream",
     "text": [
      "Moviepy - Building video /Users/michaelcummins/DeePC-HUNT/videos/DeePC/DeePC-episode-0.mp4.\n",
      "Moviepy - Writing video /Users/michaelcummins/DeePC-HUNT/videos/DeePC/DeePC-episode-0.mp4\n",
      "\n"
     ]
    },
    {
     "name": "stderr",
     "output_type": "stream",
     "text": [
      " 43%|████▎     | 515/1200 [01:10<01:34,  7.25it/s]"
     ]
    },
    {
     "name": "stdout",
     "output_type": "stream",
     "text": [
      "Moviepy - Done !\n",
      "Moviepy - video ready /Users/michaelcummins/DeePC-HUNT/videos/DeePC/DeePC-episode-0.mp4\n"
     ]
    },
    {
     "name": "stderr",
     "output_type": "stream",
     "text": [
      "\n"
     ]
    }
   ],
   "source": [
    "import gymnasium as gym\n",
    "import numpy as np\n",
    "from tqdm import tqdm\n",
    "\n",
    "import coco_rocket_lander  # need to import to call gym.make()\n",
    "\n",
    "args = {\n",
    "    \"initial_position\": (0.6, 0.9, 0.1),  # 3-tuple (x, y, theta)\n",
    "    \"enable_wind\": False,\n",
    "}\n",
    "vids = 1\n",
    "data_driven = True\n",
    "root = 'DeePC' if data_driven else 'MPC'\n",
    "\n",
    "# make environment and wrap video so that we can replay them later\n",
    "env = gym.make(\"coco_rocket_lander/RocketLander-v0\", render_mode=\"rgb_array\", args=args)\n",
    "env = gym.wrappers.RecordVideo(env, '../videos/' + root, episode_trigger = lambda x: True, name_prefix=root)\n",
    "obs, info = env.reset()  # specify a random seed for consistency\n",
    "\n",
    "# initialize variables\n",
    "step_count = 0\n",
    "max_steps = 1200\n",
    "touched_ground = 0\n",
    "landing_mode = 0\n",
    "final_landing_position = []\n",
    "\n",
    "# landing parameters\n",
    "hover_height = 0\n",
    "x_tol = 0.5\n",
    "x_dot_tol = 0.3\n",
    "theta_tol = 0.1\n",
    "fig = []\n",
    "\n",
    "#Initial state for DeePC\n",
    "u_past_sim = np.zeros(3*Tini)\n",
    "y_past_sim = np.tile(obs[0:6],Tini)\n",
    "\n",
    "torch_states = []\n",
    "real_states = []\n",
    "\n",
    "# simulate\n",
    "pbar = tqdm(range(max_steps))\n",
    "for i in pbar:\n",
    "\n",
    "  # Get references for tracking\n",
    "  landing_position = env.get_landing_position()  # (x, y, theta) in [m, m, radians]\n",
    "  deepc_reference = [0,0,0,0,0,0]\n",
    "  deepc_reference[0] = landing_position[0]\n",
    "  deepc_reference[1] = landing_position[1] \n",
    "  deepc_reference = np.tile(deepc_reference,Tf)\n",
    "  uref = np.zeros(m*Tf)     \n",
    "\n",
    "  # Compute control action depending on data-driven or model-based policy\n",
    "  if data_driven:\n",
    "    action, _ = trained_controller.solve(y_ref=deepc_reference, u_ref=uref, y_ini=y_past_sim[-p:], u_ini=u_past_sim)\n",
    "  else:\n",
    "    action, _ = mpc.solve(y_ref=deepc_reference, u_ref=uref, y_ini=y_past_sim[-p:])\n",
    "\n",
    "  # store input & output for DeePC\n",
    "  u_past_sim = np.append(u_past_sim[3:], action)\n",
    "  y_past_sim = np.append(y_past_sim, obs[0:6])\n",
    "\n",
    "  # # apply action\n",
    "  fig.append(env.render())\n",
    "  next_obs, rewards, done, _, info = env.step(action)\n",
    "  obs = next_obs\n",
    "\n",
    "  # check if simulation ended\n",
    "  step_count += 1\n",
    "  if done or (step_count > max_steps):\n",
    "    break\n",
    "\n",
    "# Save trajectory for plotting\n",
    "real_states = np.array(real_states)\n",
    "torch_states = np.array(torch_states)\n",
    "env.close()  # video saved at this step"
   ]
  },
  {
   "cell_type": "markdown",
   "metadata": {},
   "source": [
    "### Display final landing position of rocket"
   ]
  },
  {
   "cell_type": "code",
   "execution_count": null,
   "metadata": {},
   "outputs": [
    {
     "data": {
      "image/png": "[encoded data removed]",
      "text/plain": [
       "<Figure size 640x480 with 1 Axes>"
      ]
     },
     "metadata": {},
     "output_type": "display_data"
    }
   ],
   "source": [
    "plt.imshow(fig[-1])\n",
    "plt.axis('off')\n",
    "if not data_driven:\n",
    "    if rocket.true_model:\n",
    "        plt.savefig('images/mpc/mpc_good.png') \n",
    "    else: \n",
    "        plt.savefig('images/mpc/mpc_bad.png')\n",
    "else:\n",
    "    if Trained:\n",
    "        if rocket.true_model:\n",
    "            plt.savefig('images/deepc/deepc_good.png') \n",
    "        else: \n",
    "            plt.savefig('images/deepc/deepc_bad.png')\n",
    "    else: plt.savefig('images/deepc/rocket_untrained.png')\n",
    "plt.show()"
   ]
  },
  {
   "cell_type": "markdown",
   "metadata": {},
   "source": [
    "### Trajectory Plotting"
   ]
  },
  {
   "cell_type": "code",
   "execution_count": null,
   "metadata": {},
   "outputs": [
    {
     "data": {
      "image/png": "[encoded data removed]",
      "text/plain": [
       "<Figure size 640x480 with 1 Axes>"
      ]
     },
     "metadata": {},
     "output_type": "display_data"
    }
   ],
   "source": [
    "import matplotlib\n",
    "matplotlib.rcParams.update({'font.size': 20})\n",
    "\n",
    "# Plot the trajectory of rocket depending on policy\n",
    "Trained = True\n",
    "row = len(y_past_sim)/6\n",
    "x_traj_deepc = y_past_sim.reshape(int(row),6)\n",
    "\n",
    "plt.plot(x_traj_deepc[:,0], x_traj_deepc[:,1], c='blue', label='Trajectory')\n",
    "for step in range(x_traj_deepc.shape[0]):\n",
    "    plt.plot(\n",
    "        [x_traj_deepc[step,0], x_traj_deepc[step,0]+np.sin(-x_traj_deepc[step,4])],\n",
    "        [x_traj_deepc[step,1], x_traj_deepc[step,1]+np.cos(-x_traj_deepc[step,4])],\n",
    "        c='red', linewidth=0.2\n",
    "    )\n",
    "plt.plot(landing_position[0], landing_position[1], c='green', marker='x', markersize=8, markeredgewidth=2, linewidth=10, label='Landing Position')\n",
    "plt.legend(loc='upper left')\n",
    "plt.xlabel('x (meters)')\n",
    "plt.ylabel('y (meters)')\n",
    "plt.xlim(10,22.5)\n",
    "plt.ylim(5,28)\n",
    "plt.tight_layout()\n",
    "\n",
    "if not data_driven:\n",
    "    if rocket.true_model:\n",
    "        plt.savefig('images/mpc/mpc_good_traj.png') \n",
    "    else: \n",
    "        plt.savefig('images/mpc/mpc_bad_traj.png')\n",
    "else:\n",
    "    if Trained:\n",
    "        if rocket.true_model:\n",
    "            print('saving')\n",
    "            plt.savefig('images/deepc/deepc_good_traj.png') \n",
    "        else: \n",
    "            plt.savefig('images/deepc/deepc_bad_traj.png')\n",
    "    else: \n",
    "        plt.savefig('images/deepc/rocket_untrained_traj.png')\n",
    "plt.show()"
   ]
  }
 ],
 "metadata": {
  "kernelspec": {
   "display_name": "deepc-dev",
   "language": "python",
   "name": "python3"
  },
  "language_info": {
   "codemirror_mode": {
    "name": "ipython",
    "version": 3
   },
   "file_extension": ".py",
   "mimetype": "text/x-python",
   "name": "python",
   "nbconvert_exporter": "python",
   "pygments_lexer": "ipython3",
   "version": "3.10.12"
  },
  "orig_nbformat": 4
 },
 "nbformat": 4,
 "nbformat_minor": 2
}
