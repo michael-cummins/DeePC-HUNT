{
 "cells": [
  {
   "cell_type": "code",
   "execution_count": 1,
   "metadata": {},
   "outputs": [],
   "source": [
    "%reload_ext autoreload\n",
    "%autoreload 2\n",
    "import torch.nn as nn\n",
    "from numpy import genfromtxt\n",
    "import numpy as np\n",
    "import torch\n",
    "from deepc_hunt.dynamics import CartpoleDx, RocketDx\n",
    "from deepc_hunt import DeePC, Trainer\n",
    "from deepc_hunt.controllers import npDeePC, npMPC\n",
    "from deepc_hunt.utils import tensor2np\n",
    "from mpc import mpc\n",
    "from mpc.mpc import QuadCost, GradMethods\n",
    "import matplotlib.pyplot as plt\n",
    "%matplotlib inline"
   ]
  },
  {
   "cell_type": "markdown",
   "metadata": {},
   "source": [
    "### Data collection"
   ]
  },
  {
   "cell_type": "code",
   "execution_count": 2,
   "metadata": {},
   "outputs": [],
   "source": [
    "# PRBS_inputs = [(0.33, -1, -0.5), (0.33, 0, -1), (0.75, -1, 1), (0.33, 0, 0.5), \n",
    "#  (0, -1, 0), (0.33, -1, 1), (0.75, 0, -0.5), (0.75, 0, -1), (0.75, -1, 0.5), (0, 0, 0), \n",
    "#   (0.75, 1, 0.5), (0, 0, -0.5), (0.33, 1, 0), (0.75, 0, 0), (0.33, 0, 1), (0, -1, 1), (0.75, -1, -1), \n",
    "#    (0, -1, 0.5), (0.75, 1, 1), (0.33, 1, -0.5), (0, 1, -0.5), (0.33, 0, 0), (0, 1, 1), (0.75, 1, -1), \n",
    "#     (0.33, 1, 1), (0.75, -1, -0.5), (0.75, 1, -0.5), (0, 0, 1), (0.75, 0, 1), (0.33, -1, 0.5), (0, -1, -1), \n",
    "#      (0, 1, 0), (0.33, 0, -0.5), (0.75, 0, 0.5), (0, 0, 0.5), (0.33, -1, 0), (0.75, 1, 0), (0.75, -1, 0), \n",
    "#       (0, 0, -1), (0, 1, -1), (0.33, 1, -1), (0, -1, -0.5), (0.33, -1, -1), (0.33, 1, 0.5), (0, 1, 0.5)]\n",
    "# len(PRBS_inputs)"
   ]
  },
  {
   "cell_type": "code",
   "execution_count": 3,
   "metadata": {},
   "outputs": [],
   "source": [
    "# import gymnasium as gym\n",
    "# import numpy as np\n",
    "# import itertools\n",
    "# import random\n",
    "# import coco_rocket_lander  # need to import to call gym.make()\n",
    "\n",
    "\n",
    "# # initialize data collection\n",
    "# # PRBS INPUT\n",
    "# PRBS_inputs = [(0.33, -1, -0.5), (0.33, 0, -1), (0.75, -1, 1), (0.33, 0, 0.5), \n",
    "#  (0, -1, 0), (0.33, -1, 1), (0.75, 0, -0.5), (0.75, 0, -1), (0.75, -1, 0.5), (0, 0, 0), \n",
    "#   (0.75, 1, 0.5), (0, 0, -0.5), (0.33, 1, 0), (0.75, 0, 0), (0.33, 0, 1), (0, -1, 1), (0.75, -1, -1), \n",
    "#    (0, -1, 0.5), (0.75, 1, 1), (0.33, 1, -0.5), (0, 1, -0.5), (0.33, 0, 0), (0, 1, 1), (0.75, 1, -1), \n",
    "#     (0.33, 1, 1), (0.75, -1, -0.5), (0.75, 1, -0.5), (0, 0, 1), (0.75, 0, 1), (0.33, -1, 0.5), (0, -1, -1), \n",
    "#      (0, 1, 0), (0.33, 0, -0.5), (0.75, 0, 0.5), (0, 0, 0.5), (0.33, -1, 0), (0.75, 1, 0), (0.75, -1, 0), \n",
    "#       (0, 0, -1), (0, 1, -1), (0.33, 1, -1), (0, -1, -0.5), (0.33, -1, -1), (0.33, 1, 0.5), (0, 1, 0.5)]\n",
    "      \n",
    "# PRBS_interval = 5 # Number of frames per input\n",
    "\n",
    "# ############### RANDOM INPUT GENERATOR ###############\n",
    "\n",
    "# # set1 = (0, 0.33, 0.75)\n",
    "# # set2 = (-1, 0, 1)\n",
    "# # set3 = (-1, -0.5, 0,  0.5, 1)\n",
    "\n",
    "# # PRBS_inputs = list(itertools.product(set1, set2, set3))\n",
    "# # random.shuffle(PRBS_inputs)\n",
    "# # print(\"Number of PRBS inputs is:\", len(PRBS_inputs))\n",
    "# # print(\"PRBS input combinations are:\", PRBS_inputs)\n",
    "\n",
    "# #######################################################\n",
    "\n",
    "# n = 6 # states\n",
    "# m = 3 # inputs\n",
    "# p = 6 # outputs\n",
    "\n",
    "# T_past = 1 # number of past measurements (also called T_ini)\n",
    "# T_future = 10 # number of future measurements (also called K)\n",
    "\n",
    "# L = T_past + T_future # length of a data sequence\n",
    "# print(\"Length of a data sequence:\", L)\n",
    "\n",
    "# T_hankel =  PRBS_interval*len(PRBS_inputs) #(m*L + n) + L - 1 # number of measurements used to fill Hankel Matrix\n",
    "\n",
    "# print(\"Number of measurements to fill Hankel Matrix:\", T_hankel)\n",
    "\n",
    "# rank_hankel_theoretical = m*L + n # theoretical maximum rank of Hankel Matrix\n",
    "# print(\"Theoretical maximum rank of Hankel Matrix:\", rank_hankel_theoretical)\n",
    "\n",
    "# u_data = np.zeros((T_hankel,m))\n",
    "# y_data = np.zeros((T_hankel,p))\n",
    "# print(\"Shape of u_data:\", np.shape(u_data))\n",
    "# print(\"Shape of y_data:\", np.shape(y_data))\n",
    "\n",
    "\n",
    "# # make environment and wrap video so that we can replay them later\n",
    "\n",
    "# args = {\n",
    "#     \"initial_position\": (0.5, 0.4, 0)\n",
    "# }\n",
    "\n",
    "# env = gym.make(\"coco_rocket_lander/RocketLander-v0\", render_mode=\"rgb_array\", args=args)\n",
    "# env = gym.wrappers.RecordVideo(env, 'video', episode_trigger = lambda x: True, name_prefix=\"DeePC_Data_Collection\")\n",
    "\n",
    "# # simulate\n",
    "# step_count = 0\n",
    "# max_steps = T_hankel\n",
    "\n",
    "# obs, info = env.reset(seed=0)  # specify a random seed for consistency\n",
    "\n",
    "# while True:\n",
    "#     landing_position = env.get_landing_position()  # (x, y, theta) in [m, m, radians]\n",
    "\n",
    "#     # PRBS INPUT\n",
    "#     action = np.array(PRBS_inputs[step_count//PRBS_interval])\n",
    "#     # print(\"Used PRBS input number:\", step_count//PRBS_interval)\n",
    "\n",
    "#     # collect data\n",
    "#     u_data[step_count] = action\n",
    "#     y_data[step_count] = obs[0:6]\n",
    "\n",
    "#     next_obs, rewards, done, _, info = env.step(action)\n",
    "\n",
    "#     # check if simulation ended\n",
    "#     step_count += 1\n",
    "#     if done or (step_count >= max_steps):\n",
    "#         break\n",
    "\n",
    "#     # update observation\n",
    "#     obs = next_obs\n",
    "\n",
    "\n",
    "# env.close()  \n"
   ]
  },
  {
   "cell_type": "markdown",
   "metadata": {},
   "source": [
    "### Initialise controller"
   ]
  },
  {
   "cell_type": "code",
   "execution_count": 4,
   "metadata": {},
   "outputs": [],
   "source": [
    "# q = torch.Tensor([40,10,1,1,3000,30]) # 6-tuple (x, y, x_dot, y_dot, theta, theta_dot)\n",
    "q = torch.Tensor([100,10,5,1,3000,30]) # 6-tuple (x, y, x_dot, y_dot, theta, theta_dot)\n",
    "# q = torch.Tensor([10,1,1,1,1000,30]) # 6-tuple (x, y, x_dot, y_dot, theta, theta_dot)\n",
    "# q = torch.Tensor([3,1,0.5,0.5,300,30]) # 6-tuple (x, y, x_dot, y_dot, theta, theta_dot)\n",
    "r = torch.Tensor([0.01,0.01,0.01]) # 3-tuple (F_E, F_S, phi)\n",
    "q_np = tensor2np(q)\n",
    "r_np = tensor2np(r)\n",
    "\n",
    "n = 6 # states\n",
    "m = 3 # inputs\n",
    "p = 6 # outputs\n",
    "\n",
    "Tini = 1 # number of past measurements (also called T_ini)\n",
    "Tf = 10 # number of future measurements (also called K)\n",
    "device = 'cuda' if torch.cuda.is_available() else 'cpu'\n",
    "n_batch = 1\n",
    "\n",
    "ud = np.genfromtxt('data/rocket_ud.csv', delimiter=',')\n",
    "yd = np.genfromtxt('data/rocket_yd.csv', delimiter=',')\n",
    "\n",
    "# y_constraints = np.ones(Tf*p)*1e5 #Unconstrained\n",
    "# u_constraints = np.ones(Tf*m)\n",
    "y_upper = np.kron(np.ones(Tf), np.array([33,26.6,100,100,0.6,100]))\n",
    "y_lower = np.kron(np.ones(Tf), np.array([0,7,-100,-100,-0.6,-100]))\n",
    "u_upper = np.kron(np.ones(Tf), np.array([1,1,1]))\n",
    "u_lower = np.kron(np.ones(Tf), np.array([0,-1,-1]))\n",
    "y_constraints = (y_lower, y_upper)\n",
    "u_constraints = (u_lower, u_upper)\n",
    "Trained = True\n"
   ]
  },
  {
   "cell_type": "code",
   "execution_count": 5,
   "metadata": {},
   "outputs": [
    {
     "name": "stdout",
     "output_type": "stream",
     "text": [
      "225\n",
      "length of constraints before noise : 7\n",
      "length of constraints after noise : 9\n"
     ]
    }
   ],
   "source": [
    "# For training\n",
    "controller = DeePC(\n",
    "    ud=ud, yd=yd, u_constraints=u_constraints, y_constraints=y_constraints,\n",
    "    Tini=Tini, N=Tf, m=m, p=p, n_batch=n_batch, device=device,\n",
    "    linear=False, stochastic_y=True, stochastic_u=False, q=q, r=r,\n",
    "    # lam_g1=torch.Tensor([1e-5]), lam_g2=torch.Tensor([10]), lam_y=torch.Tensor([1e5])\n",
    ").to(device)\n",
    "\n",
    "epochs = 100\n",
    "time_steps = 20\n",
    "rocket = RocketDx(true_model=False)"
   ]
  },
  {
   "cell_type": "code",
   "execution_count": 4,
   "metadata": {},
   "outputs": [
    {
     "name": "stderr",
     "output_type": "stream",
     "text": [
      "  0%|                                                                       | 0/100 [00:00<?, ?it/s]/opt/homebrew/Caskroom/miniforge/base/envs/deepc-dev/lib/python3.10/site-packages/diffcp/cone_program.py:371: UserWarning: Solved/Inaccurate.\n",
      "  warnings.warn(\"Solved/Inaccurate.\")\n",
      "/Users/michaelcummins/DeePC-HUNT/deepc_hunt/utils.py:27: UserWarning: The use of `x.T` on tensors of dimension other than 2 to reverse their shape is deprecated and it will throw an error in a future release. Consider `x.mT` to transpose batches of matrices or `x.permute(*torch.arange(x.ndim - 1, -1, -1))` to reverse the dimensions of a tensor. (Triggered internally at /Users/runner/work/pytorch/pytorch/pytorch/aten/src/ATen/native/TensorShape.cpp:3618.)\n",
      "  Ct += (Y[i,j,:].T @ Q @ Y[i,j,:] + U[i,j,:].T @ R @ U[i,j,:]).reshape(1)\n"
     ]
    }
   ],
   "source": [
    "# Tune regularization params\n",
    "controller.initialise(lam_g1=50, lam_g2=50, lam_y=1000)\n",
    "deepc_tuner = Trainer(controller=controller, env=rocket)\n",
    "final_params = deepc_tuner.run(epochs=epochs, time_steps=time_steps)\n",
    "Trained = True"
   ]
  },
  {
   "cell_type": "markdown",
   "metadata": {},
   "source": [
    "### Simulation results"
   ]
  },
  {
   "cell_type": "code",
   "execution_count": 6,
   "metadata": {},
   "outputs": [
    {
     "data": {
      "text/plain": [
       "<deepc_hunt.controllers.npDeePC at 0x1036fd600>"
      ]
     },
     "execution_count": 6,
     "metadata": {},
     "output_type": "execute_result"
    }
   ],
   "source": [
    "# For speed\n",
    "np_controller = npDeePC(\n",
    "    ud=ud, yd=yd, u_constraints=u_constraints, y_constraints=y_constraints,\n",
    "    Tini=Tini, N=Tf, m=m, p=p, n=n\n",
    ")\n",
    "\n",
    "np_controller.setup(Q=np.diag(q_np), R=np.diag(r_np), \n",
    "                    # lam_g1=tensor2np(final_params['lam_g1']), \n",
    "                    lam_g1=49.83,\n",
    "                    # lam_g2=tensor2np(final_params['lam_g2']), \n",
    "                    lam_g2=8.364,\n",
    "                    # lam_y=tensor2np(final_params['lam_y']))\n",
    "                    lam_y=1000)"
   ]
  },
  {
   "cell_type": "code",
   "execution_count": 7,
   "metadata": {},
   "outputs": [
    {
     "name": "stdout",
     "output_type": "stream",
     "text": [
      "A:\n",
      " [[1.    0.    0.017 0.    0.    0.   ]\n",
      " [0.    1.    0.    0.017 0.    0.   ]\n",
      " [0.    0.    1.    0.    0.    0.   ]\n",
      " [0.    0.    0.    1.    0.    0.   ]\n",
      " [0.    0.    0.    0.    1.    0.017]\n",
      " [0.    0.    0.    0.    0.    1.   ]] \n",
      "\n",
      " B:\n",
      " [[ 0.     0.     0.   ]\n",
      " [ 0.008  0.     0.   ]\n",
      " [ 0.     0.02   0.   ]\n",
      " [ 1.013  0.     0.   ]\n",
      " [ 0.    -0.     0.   ]\n",
      " [ 0.    -0.013  0.   ]]\n"
     ]
    },
    {
     "data": {
      "text/plain": [
       "<deepc_hunt.controllers.npMPC at 0x16d097d60>"
      ]
     },
     "execution_count": 7,
     "metadata": {},
     "output_type": "execute_result"
    }
   ],
   "source": [
    "x_eq = np.array([16.6,7.47,0,0,0,0]) # Landing position\n",
    "u_eq = np.array([0,0,0])\n",
    "# u_eq = np.array([0,0,0])\n",
    "\n",
    "A, B = rocket.linearise(x_eq=x_eq, u_eq=u_eq, discrete=True)\n",
    "print(\"A:\\n\", A.round(3), \"\\n\"*2, \"B:\\n\", B.round(3))\n",
    "\n",
    "mpc = npMPC(\n",
    "        A=A, B=B, Q=np.diag(q_np), R=np.diag(r_np), N=Tf, \n",
    "        u_constraints=u_constraints, y_constraints=y_constraints\n",
    ")\n",
    "mpc.setup()"
   ]
  },
  {
   "cell_type": "code",
   "execution_count": 29,
   "metadata": {},
   "outputs": [
    {
     "name": "stderr",
     "output_type": "stream",
     "text": [
      "/opt/homebrew/Caskroom/miniforge/base/envs/deepc-dev/lib/python3.10/site-packages/gymnasium/wrappers/record_video.py:79: UserWarning: \u001b[33mWARN: Overwriting existing videos at /Users/michaelcummins/DeePC-HUNT/examples/video/MPC folder (try specifying a different `video_folder` for the `RecordVideo` wrapper if this is not desired)\u001b[0m\n",
      "  logger.warn(\n",
      " 32%|███▏      | 378/1200 [00:04<00:08, 93.16it/s]"
     ]
    },
    {
     "name": "stdout",
     "output_type": "stream",
     "text": [
      "Moviepy - Building video /Users/michaelcummins/DeePC-HUNT/examples/video/MPC/MPC-episode-0.mp4.\n",
      "Moviepy - Writing video /Users/michaelcummins/DeePC-HUNT/examples/video/MPC/MPC-episode-0.mp4\n",
      "\n"
     ]
    },
    {
     "name": "stderr",
     "output_type": "stream",
     "text": [
      " 32%|███▏      | 382/1200 [00:06<00:13, 61.54it/s]"
     ]
    },
    {
     "name": "stdout",
     "output_type": "stream",
     "text": [
      "Moviepy - Done !\n",
      "Moviepy - video ready /Users/michaelcummins/DeePC-HUNT/examples/video/MPC/MPC-episode-0.mp4\n"
     ]
    },
    {
     "name": "stderr",
     "output_type": "stream",
     "text": [
      "\n"
     ]
    }
   ],
   "source": [
    "import gymnasium as gym\n",
    "import numpy as np\n",
    "from tqdm import tqdm\n",
    "\n",
    "import coco_rocket_lander  # need to import to call gym.make()\n",
    "from coco_rocket_lander.env import SystemModel\n",
    "\n",
    "args = {\n",
    "    # \"initial_position\": (0.5, 0.6, 0),  # 3-tuple (x, y, theta)\n",
    "    \"initial_position\": (0.6, 0.9, 0.1),  # 3-tuple (x, y, theta)\n",
    "    # \"random_initial_position\" : True,\n",
    "    # \"initial_position\": (np.random.uniform(low=0.2,high=0.8), np.random.uniform(low=0.7, high=0.9), np.random.uniform(low=-0.1, high=0.1)),\n",
    "    \"enable_wind\": False,\n",
    "    # \"enable_moving_barge\": True\n",
    "}\n",
    "vids = 1\n",
    "data_driven = True\n",
    "adaptive = False\n",
    "root = 'DeePC' if data_driven else 'MPC'\n",
    "\n",
    "# make environment and wrap video so that we can replay them later\n",
    "env = gym.make(\"coco_rocket_lander/RocketLander-v0\", render_mode=\"rgb_array\", args=args)\n",
    "env = gym.wrappers.RecordVideo(env, 'video/' + root, episode_trigger = lambda x: True, name_prefix=root)\n",
    "\n",
    "model = SystemModel(env)\n",
    "model.calculate_linear_system_matrices()\n",
    "model.discretize_system_matrices(sample_time=0.1)\n",
    "\n",
    "\n",
    "obs, info = env.reset()  # specify a random seed for consistency\n",
    "# torch_state = torch.zeros((n_batch, 6))\n",
    "# torch_state[:,:] = torch.Tensor(obs[:6]).unsqueeze(0)\n",
    "# torch_state[1,0] = 16.3\n",
    "# torch_state[0,0] = 18.3\n",
    "# print(torch_state.shape)\n",
    "# initialize variables\n",
    "step_count = 0\n",
    "max_steps = 1200\n",
    "touched_ground = 0\n",
    "landing_mode = 0\n",
    "final_landing_position = []\n",
    "\n",
    "# landing parameters\n",
    "hover_height = 0\n",
    "x_tol = 0.5\n",
    "x_dot_tol = 0.3\n",
    "theta_tol = 0.1\n",
    "fig = []\n",
    "#Initial state for DeePC\n",
    "u_past_sim = np.zeros(3*Tini)\n",
    "y_past_sim = np.tile(obs[0:6],Tini)\n",
    "\n",
    "# u_past_sim = torch.zeros((n_batch, 3*Tini))\n",
    "# y_past_sim = torch.zeros((n_batch, 6*Tini))\n",
    "# y_past_sim[0,:] = torch.Tensor(y_past)\n",
    "# y_past_sim[1,:] = torch.Tensor(y_past)\n",
    "\n",
    "torch_states = []\n",
    "real_states = []\n",
    "\n",
    "# simulate\n",
    "pbar = tqdm(range(max_steps))\n",
    "for i in pbar:\n",
    "\n",
    "    landing_position = env.get_landing_position()  # (x, y, theta) in [m, m, radians]\n",
    "    deepc_reference = [0,0,0,0,0,0]\n",
    "    deepc_reference[0] = landing_position[0]\n",
    "    deepc_reference[1] = landing_position[1] + hover_height\n",
    "    \n",
    "    if landing_mode == 0: # default mode: try to hover above platform\n",
    "      deepc_reference = [0,0,0,0,0,0]\n",
    "      deepc_reference[0] = landing_position[0]\n",
    "      deepc_reference[1] = landing_position[1] + hover_height\n",
    "      if ((abs(obs[0]-landing_position[0]) < x_tol) and (abs(obs[2]) < x_dot_tol) and (abs(obs[4]) < theta_tol)): # if only small errors left, enter landing mode\n",
    "        print(\"Enter landing mode\")\n",
    "        landing_mode = 1\n",
    "        deepc_reference = [0,0,0,0,0,0]\n",
    "        deepc_reference[0] = landing_position[0]\n",
    "        deepc_reference[1] = landing_position[1]\n",
    "        final_landing_position = deepc_reference.copy()\n",
    "    elif landing_mode == 1: # landing mode: land at fixed position (works better when using moving barge)\n",
    "      deepc_reference = final_landing_position.copy()\n",
    "\n",
    "    deepc_reference = np.tile(deepc_reference,Tf)\n",
    "    uref = np.zeros(m*Tf)\n",
    "    # if landing_mode == 0:\n",
    "    #   uref[::3] = rocket.g*rocket.mass/rocket.main_engine_thrust       \n",
    "\n",
    "    # get action\n",
    "    if((obs[6] and obs[7]) or touched_ground): # if both sensors touch the ground, stop\n",
    "      action = [0,0,0]\n",
    "      touched_ground = 1\n",
    "\n",
    "    elif not touched_ground:\n",
    "      if data_driven:\n",
    "         action, _ = np_controller.solve(y_ref=deepc_reference, u_ref=uref, y_ini=y_past_sim[-p:], u_ini=u_past_sim)\n",
    "      else:\n",
    "         if adaptive:\n",
    "          x_eq = y_past_sim[-p:]\n",
    "          x_eq[2:] = 0\n",
    "          u_eq = np.zeros(u_past_sim[-m:].shape)\n",
    "          u_eq[0] = 0.3228\n",
    "          mpc.A.value, mpc.B.value = rocket.linearise(x_eq=x_eq, u_eq=u_eq, discrete=True)\n",
    "         action, _ = mpc.solve(y_ref=deepc_reference, u_ref=uref, y_ini=y_past_sim[-p:])\n",
    "        # x_init = torch.Tensor(obs[:6]).unsqueeze(0)\n",
    "        # assert x_init.ndimension() == 2\n",
    "        # assert x_init.size(0) == 1\n",
    "        # _,u,_ = diff_controller(x_init=torch.Tensor(obs), cost=diff_cost, dx=RocketDx())\n",
    "        # action = tensor2np(u[0,:m])\n",
    "\n",
    "    # store input & output for DeePC\n",
    "    u_past_sim = np.append(u_past_sim[3:], action)\n",
    "    y_past_sim = np.append(y_past_sim, obs[0:6])\n",
    "\n",
    "    # # apply action\n",
    "    fig.append(env.render())\n",
    "    next_obs, rewards, done, _, info = env.step(action)\n",
    "    obs = next_obs\n",
    "    \n",
    "    # check if simulation ended\n",
    "    step_count += 1\n",
    "    if done or (step_count > max_steps):\n",
    "        # env.reset()\n",
    "        # vids += 1\n",
    "        # if vids == 2: break\n",
    "       break\n",
    "    \n",
    "real_states = np.array(real_states)\n",
    "torch_states = np.array(torch_states)\n",
    "env.close()  # video saved at this step"
   ]
  },
  {
   "cell_type": "code",
   "execution_count": 30,
   "metadata": {},
   "outputs": [
    {
     "data": {
      "image/png": "[encoded data removed]",
      "text/plain": [
       "<Figure size 640x480 with 1 Axes>"
      ]
     },
     "metadata": {},
     "output_type": "display_data"
    }
   ],
   "source": [
    "plt.imshow(fig[-1])\n",
    "plt.axis('off')\n",
    "if not data_driven:\n",
    "    if rocket.true_model:\n",
    "        plt.savefig('images/mpc/mpc_good.png') \n",
    "    else: \n",
    "        plt.savefig('images/mpc/mpc_bad.png')\n",
    "else:\n",
    "    if Trained:\n",
    "        if rocket.true_model:\n",
    "            plt.savefig('images/deepc/deepc_good.png') \n",
    "        else: \n",
    "            plt.savefig('images/deepc/deepc_bad.png')\n",
    "    else: plt.savefig('images/deepc/rocket_untrained.png')\n",
    "plt.show()"
   ]
  },
  {
   "cell_type": "code",
   "execution_count": 31,
   "metadata": {},
   "outputs": [
    {
     "data": {
      "image/png": "[encoded data removed]",
      "text/plain": [
       "<Figure size 640x480 with 1 Axes>"
      ]
     },
     "metadata": {},
     "output_type": "display_data"
    }
   ],
   "source": [
    "Trained = True\n",
    "row = len(y_past_sim)/6\n",
    "x_traj_deepc = y_past_sim.reshape(int(row),6)\n",
    "import matplotlib\n",
    "matplotlib.rcParams.update({'font.size': 20})\n",
    "plt.plot(x_traj_deepc[:,0], x_traj_deepc[:,1], c='blue', label='Trajectory')\n",
    "for step in range(x_traj_deepc.shape[0]):\n",
    "    plt.plot(\n",
    "        [x_traj_deepc[step,0], x_traj_deepc[step,0]+np.sin(-x_traj_deepc[step,4])],\n",
    "        [x_traj_deepc[step,1], x_traj_deepc[step,1]+np.cos(-x_traj_deepc[step,4])],\n",
    "        c='red', linewidth=0.2\n",
    "    )\n",
    "plt.plot(landing_position[0], landing_position[1], c='green', marker='x', markersize=8, markeredgewidth=2, linewidth=10, label='Landing Position')\n",
    "plt.legend(loc='upper left')\n",
    "plt.xlabel('x (meters)')\n",
    "plt.ylabel('y (meters)')\n",
    "plt.xlim(10,22.5)\n",
    "plt.ylim(5,28)\n",
    "plt.tight_layout()\n",
    "if not data_driven:\n",
    "    if rocket.true_model:\n",
    "        plt.savefig('images/mpc/mpc_good_traj.png') \n",
    "    else: \n",
    "        plt.savefig('images/mpc/mpc_bad_traj.png')\n",
    "        # tikzplotlib.save('images/mpc/rocket_bad.tex')\n",
    "else:\n",
    "    if Trained:\n",
    "        if rocket.true_model:\n",
    "            print('saving')\n",
    "            plt.savefig('images/deepc/deepc_good_traj.png') \n",
    "            # tikzplotlib.save('images/deepc/deepc_good_model_traj.tex') \n",
    "        else: \n",
    "            plt.savefig('images/deepc/deepc_bad_traj.png')\n",
    "            # tikzplotlib.save('images/deepc/rocket_bad.tex')\n",
    "    else: \n",
    "        plt.savefig('images/deepc/rocket_untrained_traj.png')\n",
    "        # tikzplotlib.save('images/deepc/rocket_untrained.tex')\n",
    "plt.show()"
   ]
  }
 ],
 "metadata": {
  "kernelspec": {
   "display_name": "deepc-dev",
   "language": "python",
   "name": "python3"
  },
  "language_info": {
   "codemirror_mode": {
    "name": "ipython",
    "version": 3
   },
   "file_extension": ".py",
   "mimetype": "text/x-python",
   "name": "python",
   "nbconvert_exporter": "python",
   "pygments_lexer": "ipython3",
   "version": "3.10.12"
  },
  "orig_nbformat": 4
 },
 "nbformat": 4,
 "nbformat_minor": 2
}
