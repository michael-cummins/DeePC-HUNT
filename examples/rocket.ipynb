{
 "cells": [
  {
   "cell_type": "code",
   "execution_count": 1,
   "metadata": {},
   "outputs": [],
   "source": [
    "%reload_ext autoreload\n",
    "%autoreload 2\n",
    "import torch.nn as nn\n",
    "from numpy import genfromtxt\n",
    "import numpy as np\n",
    "import torch\n",
    "from deepc_hunt.dynamics import CartpoleDx, RocketDx\n",
    "from deepc_hunt import DeePC, Trainer\n",
    "from deepc_hunt.controllers import npDeePC, npMPC\n",
    "from deepc_hunt.utils import tensor2np\n",
    "import matplotlib.pyplot as plt\n",
    "%matplotlib inline"
   ]
  },
  {
   "cell_type": "markdown",
   "metadata": {},
   "source": [
    "### Data collection"
   ]
  },
  {
   "cell_type": "code",
   "execution_count": 4,
   "metadata": {},
   "outputs": [],
   "source": [
    "# import gymnasium as gym\n",
    "# import numpy as np\n",
    "# import itertools\n",
    "# import random\n",
    "\n",
    "# import coco_rocket_lander  # need to import to call gym.make()\n",
    "\n",
    "\n",
    "# # initialize data collection\n",
    "# # PRBS INPUT\n",
    "# PRBS_inputs = [(0.33, -1, -0.5), (0.33, 0, -1), (0.75, -1, 1), (0.33, 0, 0.5), \n",
    "#  (0, -1, 0), (0.33, -1, 1), (0.75, 0, -0.5), (0.75, 0, -1), (0.75, -1, 0.5), (0, 0, 0), \n",
    "#   (0.75, 1, 0.5), (0, 0, -0.5), (0.33, 1, 0), (0.75, 0, 0), (0.33, 0, 1), (0, -1, 1), (0.75, -1, -1), \n",
    "#    (0, -1, 0.5), (0.75, 1, 1), (0.33, 1, -0.5), (0, 1, -0.5), (0.33, 0, 0), (0, 1, 1), (0.75, 1, -1), \n",
    "#     (0.33, 1, 1), (0.75, -1, -0.5), (0.75, 1, -0.5), (0, 0, 1), (0.75, 0, 1), (0.33, -1, 0.5), (0, -1, -1), \n",
    "#      (0, 1, 0), (0.33, 0, -0.5), (0.75, 0, 0.5), (0, 0, 0.5), (0.33, -1, 0), (0.75, 1, 0), (0.75, -1, 0), \n",
    "#       (0, 0, -1), (0, 1, -1), (0.33, 1, -1), (0, -1, -0.5), (0.33, -1, -1), (0.33, 1, 0.5), (0, 1, 0.5)]\n",
    "      \n",
    "# PRBS_interval = 5 # Number of frames per input\n",
    "\n",
    "# ############### RANDOM INPUT GENERATOR ###############\n",
    "\n",
    "# # set1 = (0, 0.33, 0.75)\n",
    "# # set2 = (-1, 0, 1)\n",
    "# # set3 = (-1, -0.5, 0,  0.5, 1)\n",
    "\n",
    "# # PRBS_inputs = list(itertools.product(set1, set2, set3))\n",
    "# # random.shuffle(PRBS_inputs)\n",
    "# # print(\"Number of PRBS inputs is:\", len(PRBS_inputs))\n",
    "# # print(\"PRBS input combinations are:\", PRBS_inputs)\n",
    "\n",
    "# #######################################################\n",
    "\n",
    "# n = 6 # states\n",
    "# m = 3 # inputs\n",
    "# p = 6 # outputs\n",
    "\n",
    "# T_past = 1 # number of past measurements (also called T_ini)\n",
    "# T_future = 10 # number of future measurements (also called K)\n",
    "\n",
    "# L = T_past + T_future # length of a data sequence\n",
    "# print(\"Length of a data sequence:\", L)\n",
    "\n",
    "# T_hankel =  PRBS_interval*len(PRBS_inputs) #(m*L + n) + L - 1 # number of measurements used to fill Hankel Matrix\n",
    "\n",
    "# print(\"Number of measurements to fill Hankel Matrix:\", T_hankel)\n",
    "\n",
    "# rank_hankel_theoretical = m*L + n # theoretical maximum rank of Hankel Matrix\n",
    "# print(\"Theoretical maximum rank of Hankel Matrix:\", rank_hankel_theoretical)\n",
    "\n",
    "# u_data = np.zeros((T_hankel,m))\n",
    "# y_data = np.zeros((T_hankel,p))\n",
    "# print(\"Shape of u_data:\", np.shape(u_data))\n",
    "# print(\"Shape of y_data:\", np.shape(y_data))\n",
    "\n",
    "\n",
    "# # make environment and wrap video so that we can replay them later\n",
    "\n",
    "# args = {\n",
    "#     \"initial_position\": (0.5, 0.4, 0)\n",
    "# }\n",
    "\n",
    "# env = gym.make(\"coco_rocket_lander/RocketLander-v0\", render_mode=\"rgb_array\", args=args)\n",
    "# env = gym.wrappers.RecordVideo(env, 'video', episode_trigger = lambda x: True, name_prefix=\"DeePC_Data_Collection\")\n",
    "\n",
    "# # simulate\n",
    "# step_count = 0\n",
    "# max_steps = T_hankel\n",
    "\n",
    "# obs, info = env.reset(seed=0)  # specify a random seed for consistency\n",
    "\n",
    "# while True:\n",
    "#     landing_position = env.get_landing_position()  # (x, y, theta) in [m, m, radians]\n",
    "\n",
    "#     # PRBS INPUT\n",
    "#     action = np.array(PRBS_inputs[step_count//PRBS_interval])\n",
    "#     # print(\"Used PRBS input number:\", step_count//PRBS_interval)\n",
    "\n",
    "#     # collect data\n",
    "#     u_data[step_count] = action\n",
    "#     y_data[step_count] = obs[0:6]\n",
    "\n",
    "#     next_obs, rewards, done, _, info = env.step(action)\n",
    "\n",
    "#     # check if simulation ended\n",
    "#     step_count += 1\n",
    "#     if done or (step_count >= max_steps):\n",
    "#         break\n",
    "\n",
    "#     # update observation\n",
    "#     obs = next_obs\n",
    "\n",
    "\n",
    "# env.close()  \n"
   ]
  },
  {
   "cell_type": "markdown",
   "metadata": {},
   "source": [
    "### Initialise controller"
   ]
  },
  {
   "cell_type": "code",
   "execution_count": 2,
   "metadata": {},
   "outputs": [],
   "source": [
    "q = torch.Tensor([40,10,1,1,3000,30]) # 6-tuple (x, y, x_dot, y_dot, theta, theta_dot)\n",
    "r = torch.Tensor([0.01,0.01,0.01]) # 3-tuple (F_E, F_S, phi)\n",
    "q_np = tensor2np(q)\n",
    "r_np = tensor2np(r)\n",
    "\n",
    "n = 6 # states\n",
    "m = 3 # inputs\n",
    "p = 6 # outputs\n",
    "\n",
    "Tini = 1 # number of past measurements (also called T_ini)\n",
    "Tf = 10 # number of future measurements (also called K)\n",
    "device = 'cuda' if torch.cuda.is_available() else 'cpu'\n",
    "n_batch = 4\n",
    "\n",
    "ud = np.genfromtxt('data/rocket_ud.csv', delimiter=',')\n",
    "yd = np.genfromtxt('data/rocket_yd.csv', delimiter=',')\n",
    "\n",
    "y_constraints = np.ones(Tf*p)*1e5 #Unconstrained\n",
    "u_constraints = np.ones(Tf*m)"
   ]
  },
  {
   "cell_type": "code",
   "execution_count": 3,
   "metadata": {},
   "outputs": [
    {
     "name": "stdout",
     "output_type": "stream",
     "text": [
      "225\n",
      "length of constraints before noise : 6\n",
      "length of constraints after noise : 8\n"
     ]
    }
   ],
   "source": [
    "# For training\n",
    "controller = DeePC(\n",
    "    ud=ud, yd=yd, u_constraints=u_constraints, y_constraints=y_constraints,\n",
    "    Tini=Tini, N=Tf, m=m, p=p, n_batch=n_batch, device=device,\n",
    "    linear=False, stochastic_y=True, stochastic_u=False, q=q, r=r,\n",
    "    # lam_g1=torch.Tensor([1e-5]), lam_g2=torch.Tensor([10]), lam_y=torch.Tensor([1e5])\n",
    ").to(device)\n",
    "\n",
    "epochs = 70\n",
    "time_steps = 20\n",
    "\n",
    "# Tune regularization params\n",
    "controller.initialise(lam_g1=10, lam_g2=10, lam_y=1000)\n",
    "deepc_tuner = Trainer(controller=controller, env=RocketDx())\n",
    "# final_params = deepc_tuner.run(epochs=epochs, time_steps=time_steps)"
   ]
  },
  {
   "cell_type": "markdown",
   "metadata": {},
   "source": [
    "### Simulation results"
   ]
  },
  {
   "cell_type": "code",
   "execution_count": 20,
   "metadata": {},
   "outputs": [],
   "source": [
    "# For speed\n",
    "np_controller = npDeePC(\n",
    "    ud=ud, yd=yd, u_constraints=u_constraints, y_constraints=y_constraints,\n",
    "    Tini=Tini, N=Tf, m=m, p=p, n=n\n",
    ")\n",
    "\n",
    "np_controller.setup(Q=np.diag(q_np), R=np.diag(r_np), \n",
    "                    # lam_g1=tensor2np(final_params['lam_g1']), \n",
    "                    lam_g1=5,\n",
    "                    # lam_g2=tensor2np(final_params['lam_g2']), \n",
    "                    lam_g2=2,\n",
    "                    # lam_y=tensor2np(final_params['lam_y']),\n",
    "                    lam_y=1000)"
   ]
  },
  {
   "cell_type": "code",
   "execution_count": 19,
   "metadata": {},
   "outputs": [
    {
     "name": "stdout",
     "output_type": "stream",
     "text": [
      "[ 0.00000000e+00  8.44139688e-05 -2.21289772e-08]\n",
      "[0.0042207 0.        0.       ]\n",
      "[ 0.00000000e+00  1.01296764e-02 -2.65547721e-06]\n",
      "[0.50648381 0.         0.        ]\n",
      "[ 0.0000000e+00 -7.9031824e-05 -2.7624077e-08]\n",
      "[ 0.00000000e+00 -9.48381888e-03 -3.31488924e-06]\n"
     ]
    }
   ],
   "source": [
    "x_eq = np.array([0,5,0,0,0,0])\n",
    "u_eq = np.array([0.3228,0,0])\n",
    "A, B = RocketDx().linearise(x_eq=x_eq, u_eq=u_eq, discrete=True)\n",
    "mpc = npMPC(\n",
    "        A=A, B=B, Q=np.diag(q_np), R=np.diag(r_np), N=Tf, \n",
    "        u_constraints=u_constraints, y_constraints=y_constraints\n",
    ")"
   ]
  },
  {
   "cell_type": "code",
   "execution_count": 21,
   "metadata": {},
   "outputs": [
    {
     "name": "stderr",
     "output_type": "stream",
     "text": [
      "/opt/homebrew/Caskroom/miniforge/base/envs/deepc-dev/lib/python3.10/site-packages/gymnasium/wrappers/record_video.py:79: UserWarning: \u001b[33mWARN: Overwriting existing videos at /Users/michaelcummins/DeePC-HUNT/examples/video folder (try specifying a different `video_folder` for the `RecordVideo` wrapper if this is not desired)\u001b[0m\n",
      "  logger.warn(\n",
      "100%|██████████| 500/500 [01:25<00:00,  5.87it/s]\n"
     ]
    },
    {
     "name": "stdout",
     "output_type": "stream",
     "text": [
      "Moviepy - Building video /Users/michaelcummins/DeePC-HUNT/examples/video/Trained-episode-0.mp4.\n",
      "Moviepy - Writing video /Users/michaelcummins/DeePC-HUNT/examples/video/Trained-episode-0.mp4\n",
      "\n"
     ]
    },
    {
     "name": "stderr",
     "output_type": "stream",
     "text": [
      "                                                               "
     ]
    },
    {
     "name": "stdout",
     "output_type": "stream",
     "text": [
      "Moviepy - Done !\n",
      "Moviepy - video ready /Users/michaelcummins/DeePC-HUNT/examples/video/Trained-episode-0.mp4\n"
     ]
    },
    {
     "name": "stderr",
     "output_type": "stream",
     "text": [
      "\r"
     ]
    }
   ],
   "source": [
    "import gymnasium as gym\n",
    "import numpy as np\n",
    "from tqdm import tqdm\n",
    "\n",
    "import coco_rocket_lander  # need to import to call gym.make()\n",
    "from coco_rocket_lander.env import SystemModel\n",
    "\n",
    "args = {\n",
    "    # \"initial_position\": (0.5, 0.6, 0),  # 3-tuple (x, y, theta)\n",
    "    # \"initial_position\": (0.4, 0.9, 0),  # 3-tuple (x, y, theta)\n",
    "    \"initial_position\": (0.4, 0.9, 0.1),\n",
    "    # \"enable_wind\": True,\n",
    "    \"enable_moving_barge\": False\n",
    "}\n",
    "\n",
    "# make environment and wrap video so that we can replay them later\n",
    "env = gym.make(\"coco_rocket_lander/RocketLander-v0\", render_mode=\"rgb_array\", args=args)\n",
    "env = gym.wrappers.RecordVideo(env, 'video', episode_trigger = lambda x: True, name_prefix=\"Trained\")\n",
    "obs, info = env.reset(seed=0)  # specify a random seed for consistency\n",
    "rocket = RocketDx()\n",
    "torch_state = torch.zeros((n_batch, 6))\n",
    "torch_state[:,:] = torch.Tensor(obs[:6]).unsqueeze(0)\n",
    "torch_state[1,0] = 16.3\n",
    "torch_state[0,0] = 18.3\n",
    "# print(torch_state.shape)\n",
    "# initialize variables\n",
    "step_count = 0\n",
    "max_steps = 500\n",
    "touched_ground = 0\n",
    "landing_mode = 0\n",
    "final_landing_position = []\n",
    "\n",
    "# landing parameters\n",
    "hover_height = 5\n",
    "x_tol = 0.5\n",
    "x_dot_tol = 0.3\n",
    "theta_tol = 0.1\n",
    "\n",
    "#Initial state for DeePC\n",
    "u_past_sim = np.zeros(3*Tini)\n",
    "y_past_sim = np.tile(obs[0:6],Tini)\n",
    "\n",
    "# u_past_sim = torch.zeros((n_batch, 3*Tini))\n",
    "# y_past_sim = torch.zeros((n_batch, 6*Tini))\n",
    "# y_past_sim[0,:] = torch.Tensor(y_past)\n",
    "# y_past_sim[1,:] = torch.Tensor(y_past)\n",
    "\n",
    "torch_states = []\n",
    "real_states = []\n",
    "action = np.array([0.1,0.5,0.1])\n",
    "\n",
    "# simulate\n",
    "pbar = tqdm(range(max_steps))\n",
    "for _ in pbar:\n",
    "\n",
    "    landing_position = env.get_landing_position()  # (x, y, theta) in [m, m, radians]\n",
    "    deepc_reference = [0,0,0,0,0,0]\n",
    "    deepc_reference[0] = landing_position[0]\n",
    "    deepc_reference[1] = landing_position[1] + hover_height\n",
    "\n",
    "    if landing_mode == 0: # default mode: try to hover above platform\n",
    "      deepc_reference = [0,0,0,0,0,0]\n",
    "      deepc_reference[0] = landing_position[0]\n",
    "      deepc_reference[1] = landing_position[1] + hover_height\n",
    "      if ((abs(obs[0]-landing_position[0]) < x_tol) and (abs(obs[2]) < x_dot_tol) and (abs(obs[4]) < theta_tol)): # if only small errors left, enter landing mode\n",
    "        print(\"Enter landing mode\")\n",
    "        landing_mode = 1\n",
    "        deepc_reference = [0,0,0,0,0,0]\n",
    "        deepc_reference[0] = landing_position[0]\n",
    "        deepc_reference[1] = landing_position[1]\n",
    "        final_landing_position = deepc_reference.copy()\n",
    "    elif landing_mode == 1: # landing mode: land at fixed position (works better when using moving barge)\n",
    "      deepc_reference = final_landing_position.copy()\n",
    "    \n",
    "    deepc_reference = np.tile(deepc_reference,Tf)\n",
    "    uref = torch.zeros(deepc_reference.shape)\n",
    "    uref[::3] = rocket.g*rocket.mass/rocket.main_engine_thrust\n",
    "\n",
    "    # get action\n",
    "    if((obs[6] and obs[7]) or touched_ground): # if both sensors touch the ground, stop\n",
    "      action = [0,0,0]\n",
    "      touched_ground = 1\n",
    "\n",
    "    elif not touched_ground:\n",
    "      # with torch.no_grad():\n",
    "      #   _,u,_,_ = controller(\n",
    "      #     uref=uref,\n",
    "      #     ref=torch.Tensor(deepc_reference),\n",
    "      #     u_ini=u_past_sim,\n",
    "      #     y_ini=y_past_sim\n",
    "      #   )\n",
    "      #   # action = tensor2np(u[0,:controller.m])\n",
    "      #   action = u[:,:controller.m]\n",
    "      action, _ = np_controller.solve(ref=deepc_reference, y_ini=y_past_sim, u_ini=u_past_sim)\n",
    "      pass\n",
    "\n",
    "    # u_past_sim=action\n",
    "    # y_past_sim=torch_state\n",
    "    # store input & output for DeePC\n",
    "    u_past_sim = np.append(u_past_sim[3:], action)\n",
    "    y_past_sim = np.append(y_past_sim[6:], obs[0:6])\n",
    "    # y_past_sim = np.append(y_past_sim[:,6:], tensor2np(torch_state[0,:]).reshape(obs[0:6].shape))\n",
    "\n",
    "  \n",
    "\n",
    "    # # apply action\n",
    "    next_obs, rewards, done, _, info = env.step(action)\n",
    "    \n",
    "    obs = next_obs\n",
    "\n",
    "    # with torch.no_grad():\n",
    "    #   torch_action = action\n",
    "    #   torch_state, unscaled_u = rocket(x=torch_state, u=torch_action)\n",
    "      \n",
    "    # append1 = np.copy(tensor2np(torch_state[0,:]))\n",
    "    # append2 = np.copy(tensor2np(torch_state[1,:]))\n",
    "    # torch_states.append(append1)\n",
    "    # real_states.append(append2)\n",
    "    \n",
    "    # check if simulation ended\n",
    "    step_count += 1\n",
    "    if done or (step_count > max_steps):\n",
    "        break\n",
    "    \n",
    "real_states = np.array(real_states)\n",
    "torch_states = np.array(torch_states)\n",
    "env.close()  # video saved at this step"
   ]
  },
  {
   "cell_type": "code",
   "execution_count": null,
   "metadata": {},
   "outputs": [
    {
     "name": "stdout",
     "output_type": "stream",
     "text": [
      "reals : (0,), torch : (0,)\n"
     ]
    },
    {
     "ename": "IndexError",
     "evalue": "too many indices for array: array is 1-dimensional, but 2 were indexed",
     "output_type": "error",
     "traceback": [
      "\u001b[0;31m---------------------------------------------------------------------------\u001b[0m",
      "\u001b[0;31mIndexError\u001b[0m                                Traceback (most recent call last)",
      "\u001b[1;32m/Users/michaelcummins/DeePC-HUNT/examples/rocket.ipynb Cell 10\u001b[0m line \u001b[0;36m8\n\u001b[1;32m      <a href='vscode-notebook-cell:/Users/michaelcummins/DeePC-HUNT/examples/rocket.ipynb#X14sZmlsZQ%3D%3D?line=5'>6</a>\u001b[0m \u001b[39mfor\u001b[39;00m i, state \u001b[39min\u001b[39;00m \u001b[39menumerate\u001b[39m(states):\n\u001b[1;32m      <a href='vscode-notebook-cell:/Users/michaelcummins/DeePC-HUNT/examples/rocket.ipynb#X14sZmlsZQ%3D%3D?line=6'>7</a>\u001b[0m     plt\u001b[39m.\u001b[39msubplot(\u001b[39m3\u001b[39m,\u001b[39m2\u001b[39m,i\u001b[39m+\u001b[39m\u001b[39m1\u001b[39m)\n\u001b[0;32m----> <a href='vscode-notebook-cell:/Users/michaelcummins/DeePC-HUNT/examples/rocket.ipynb#X14sZmlsZQ%3D%3D?line=7'>8</a>\u001b[0m     plt\u001b[39m.\u001b[39mplot(T, real_states[:,i], label\u001b[39m=\u001b[39m\u001b[39m'\u001b[39m\u001b[39mSim\u001b[39m\u001b[39m'\u001b[39m)\n\u001b[1;32m      <a href='vscode-notebook-cell:/Users/michaelcummins/DeePC-HUNT/examples/rocket.ipynb#X14sZmlsZQ%3D%3D?line=8'>9</a>\u001b[0m     plt\u001b[39m.\u001b[39mplot(T, torch_states[:,i], label\u001b[39m=\u001b[39m\u001b[39m'\u001b[39m\u001b[39mTorch model\u001b[39m\u001b[39m'\u001b[39m)\n\u001b[1;32m     <a href='vscode-notebook-cell:/Users/michaelcummins/DeePC-HUNT/examples/rocket.ipynb#X14sZmlsZQ%3D%3D?line=9'>10</a>\u001b[0m     plt\u001b[39m.\u001b[39mtitle(state)\n",
      "\u001b[0;31mIndexError\u001b[0m: too many indices for array: array is 1-dimensional, but 2 were indexed"
     ]
    },
    {
     "data": {
      "image/png": "[encoded data removed]",
      "text/plain": [
       "<Figure size 800x1000 with 1 Axes>"
      ]
     },
     "metadata": {},
     "output_type": "display_data"
    }
   ],
   "source": [
    "print(f'reals : {real_states.shape}, torch : {torch_states.shape}')\n",
    "T = range(real_states.shape[0])\n",
    "states = ['x', 'y', 'x_dot', 'y_dot', 'theta', 'theta_dot']\n",
    "\n",
    "plt.figure(figsize=(8,10))\n",
    "for i, state in enumerate(states):\n",
    "    plt.subplot(3,2,i+1)\n",
    "    plt.plot(T, real_states[:,i], label='Sim')\n",
    "    plt.plot(T, torch_states[:,i], label='Torch model')\n",
    "    plt.title(state)\n",
    "    plt.legend()\n",
    "    \n",
    "plt.show()"
   ]
  },
  {
   "cell_type": "code",
   "execution_count": null,
   "metadata": {},
   "outputs": [
    {
     "name": "stdout",
     "output_type": "stream",
     "text": [
      "-49.42537\n",
      "134.64256\n"
     ]
    }
   ],
   "source": [
    "print(min(torch_states[:,5]/real_states[:,5]))\n",
    "print(max(torch_states[:,5]/real_states[:,5]))"
   ]
  },
  {
   "cell_type": "code",
   "execution_count": null,
   "metadata": {},
   "outputs": [
    {
     "data": {
      "image/png": "[encoded data removed]",
      "text/plain": [
       "<Figure size 640x480 with 1 Axes>"
      ]
     },
     "metadata": {},
     "output_type": "display_data"
    }
   ],
   "source": [
    "plt.plot(T, real_states[:,3], label='Sim')\n",
    "plt.plot(T, torch_states[:,3], label='Torch model')\n",
    "plt.show()"
   ]
  }
 ],
 "metadata": {
  "kernelspec": {
   "display_name": "deepc-dev",
   "language": "python",
   "name": "python3"
  },
  "language_info": {
   "codemirror_mode": {
    "name": "ipython",
    "version": 3
   },
   "file_extension": ".py",
   "mimetype": "text/x-python",
   "name": "python",
   "nbconvert_exporter": "python",
   "pygments_lexer": "ipython3",
   "version": "3.10.12"
  },
  "orig_nbformat": 4
 },
 "nbformat": 4,
 "nbformat_minor": 2
}
