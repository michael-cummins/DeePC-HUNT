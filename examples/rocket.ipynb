{
 "cells": [
  {
   "cell_type": "code",
   "execution_count": 2,
   "metadata": {},
   "outputs": [],
   "source": [
    "%reload_ext autoreload\n",
    "%autoreload 2\n",
    "import torch.nn as nn\n",
    "from numpy import genfromtxt\n",
    "import numpy as np\n",
    "import torch\n",
    "from deepc_hunt.dynamics import CartpoleDx, RocketDx\n",
    "from deepc_hunt import DeePC, Trainer\n",
    "from deepc_hunt.controllers import npDeePC, npMPC\n",
    "from deepc_hunt.utils import tensor2np\n",
    "from mpc import mpc\n",
    "from mpc.mpc import QuadCost, GradMethods\n",
    "import matplotlib.pyplot as plt\n",
    "%matplotlib inline"
   ]
  },
  {
   "cell_type": "markdown",
   "metadata": {},
   "source": [
    "### Data collection"
   ]
  },
  {
   "cell_type": "code",
   "execution_count": 2,
   "metadata": {},
   "outputs": [
    {
     "data": {
      "text/plain": [
       "45"
      ]
     },
     "execution_count": 2,
     "metadata": {},
     "output_type": "execute_result"
    }
   ],
   "source": [
    "PRBS_inputs = [(0.33, -1, -0.5), (0.33, 0, -1), (0.75, -1, 1), (0.33, 0, 0.5), \n",
    " (0, -1, 0), (0.33, -1, 1), (0.75, 0, -0.5), (0.75, 0, -1), (0.75, -1, 0.5), (0, 0, 0), \n",
    "  (0.75, 1, 0.5), (0, 0, -0.5), (0.33, 1, 0), (0.75, 0, 0), (0.33, 0, 1), (0, -1, 1), (0.75, -1, -1), \n",
    "   (0, -1, 0.5), (0.75, 1, 1), (0.33, 1, -0.5), (0, 1, -0.5), (0.33, 0, 0), (0, 1, 1), (0.75, 1, -1), \n",
    "    (0.33, 1, 1), (0.75, -1, -0.5), (0.75, 1, -0.5), (0, 0, 1), (0.75, 0, 1), (0.33, -1, 0.5), (0, -1, -1), \n",
    "     (0, 1, 0), (0.33, 0, -0.5), (0.75, 0, 0.5), (0, 0, 0.5), (0.33, -1, 0), (0.75, 1, 0), (0.75, -1, 0), \n",
    "      (0, 0, -1), (0, 1, -1), (0.33, 1, -1), (0, -1, -0.5), (0.33, -1, -1), (0.33, 1, 0.5), (0, 1, 0.5)]\n",
    "len(PRBS_inputs)"
   ]
  },
  {
   "cell_type": "code",
   "execution_count": 3,
   "metadata": {},
   "outputs": [
    {
     "name": "stderr",
     "output_type": "stream",
     "text": [
      "/opt/homebrew/Caskroom/miniforge/base/envs/deepc-dev/lib/python3.10/site-packages/gymnasium/experimental/wrappers/jax_to_numpy.py:75: DeprecationWarning: jax.numpy.DeviceArray is deprecated. Use jax.Array.\n",
      "  @jax_to_numpy.register(jnp.DeviceArray)\n",
      "Exception ignored in: <function _xla_gc_callback at 0x10b3b6a70>\n",
      "Traceback (most recent call last):\n",
      "  File \"/opt/homebrew/Caskroom/miniforge/base/envs/deepc-dev/lib/python3.10/site-packages/jax/_src/lib/__init__.py\", line 103, in _xla_gc_callback\n",
      "    def _xla_gc_callback(*args):\n",
      "KeyboardInterrupt: \n",
      "/opt/homebrew/Caskroom/miniforge/base/envs/deepc-dev/lib/python3.10/site-packages/gymnasium/experimental/wrappers/jax_to_torch.py:105: DeprecationWarning: jax.numpy.DeviceArray is deprecated. Use jax.Array.\n",
      "  @jax_to_torch.register(jnp.DeviceArray)\n"
     ]
    },
    {
     "name": "stdout",
     "output_type": "stream",
     "text": [
      "Length of a data sequence: 11\n",
      "Number of measurements to fill Hankel Matrix: 225\n",
      "Theoretical maximum rank of Hankel Matrix: 39\n",
      "Shape of u_data: (225, 3)\n",
      "Shape of y_data: (225, 6)\n"
     ]
    },
    {
     "name": "stderr",
     "output_type": "stream",
     "text": [
      "/opt/homebrew/Caskroom/miniforge/base/envs/deepc-dev/lib/python3.10/site-packages/gymnasium/wrappers/record_video.py:79: UserWarning: \u001b[33mWARN: Overwriting existing videos at /Users/michaelcummins/DeePC-HUNT/examples/video folder (try specifying a different `video_folder` for the `RecordVideo` wrapper if this is not desired)\u001b[0m\n",
      "  logger.warn(\n"
     ]
    },
    {
     "name": "stdout",
     "output_type": "stream",
     "text": [
      "Moviepy - Building video /Users/michaelcummins/DeePC-HUNT/examples/video/DeePC_Data_Collection-episode-0.mp4.\n",
      "Moviepy - Writing video /Users/michaelcummins/DeePC-HUNT/examples/video/DeePC_Data_Collection-episode-0.mp4\n",
      "\n"
     ]
    },
    {
     "name": "stderr",
     "output_type": "stream",
     "text": [
      "                                                               \r"
     ]
    },
    {
     "name": "stdout",
     "output_type": "stream",
     "text": [
      "Moviepy - Done !\n",
      "Moviepy - video ready /Users/michaelcummins/DeePC-HUNT/examples/video/DeePC_Data_Collection-episode-0.mp4\n"
     ]
    }
   ],
   "source": [
    "import gymnasium as gym\n",
    "import numpy as np\n",
    "import itertools\n",
    "import random\n",
    "import coco_rocket_lander  # need to import to call gym.make()\n",
    "\n",
    "\n",
    "# initialize data collection\n",
    "# PRBS INPUT\n",
    "PRBS_inputs = [(0.33, -1, -0.5), (0.33, 0, -1), (0.75, -1, 1), (0.33, 0, 0.5), \n",
    " (0, -1, 0), (0.33, -1, 1), (0.75, 0, -0.5), (0.75, 0, -1), (0.75, -1, 0.5), (0, 0, 0), \n",
    "  (0.75, 1, 0.5), (0, 0, -0.5), (0.33, 1, 0), (0.75, 0, 0), (0.33, 0, 1), (0, -1, 1), (0.75, -1, -1), \n",
    "   (0, -1, 0.5), (0.75, 1, 1), (0.33, 1, -0.5), (0, 1, -0.5), (0.33, 0, 0), (0, 1, 1), (0.75, 1, -1), \n",
    "    (0.33, 1, 1), (0.75, -1, -0.5), (0.75, 1, -0.5), (0, 0, 1), (0.75, 0, 1), (0.33, -1, 0.5), (0, -1, -1), \n",
    "     (0, 1, 0), (0.33, 0, -0.5), (0.75, 0, 0.5), (0, 0, 0.5), (0.33, -1, 0), (0.75, 1, 0), (0.75, -1, 0), \n",
    "      (0, 0, -1), (0, 1, -1), (0.33, 1, -1), (0, -1, -0.5), (0.33, -1, -1), (0.33, 1, 0.5), (0, 1, 0.5)]\n",
    "      \n",
    "PRBS_interval = 5 # Number of frames per input\n",
    "\n",
    "############### RANDOM INPUT GENERATOR ###############\n",
    "\n",
    "# set1 = (0, 0.33, 0.75)\n",
    "# set2 = (-1, 0, 1)\n",
    "# set3 = (-1, -0.5, 0,  0.5, 1)\n",
    "\n",
    "# PRBS_inputs = list(itertools.product(set1, set2, set3))\n",
    "# random.shuffle(PRBS_inputs)\n",
    "# print(\"Number of PRBS inputs is:\", len(PRBS_inputs))\n",
    "# print(\"PRBS input combinations are:\", PRBS_inputs)\n",
    "\n",
    "#######################################################\n",
    "\n",
    "n = 6 # states\n",
    "m = 3 # inputs\n",
    "p = 6 # outputs\n",
    "\n",
    "T_past = 1 # number of past measurements (also called T_ini)\n",
    "T_future = 10 # number of future measurements (also called K)\n",
    "\n",
    "L = T_past + T_future # length of a data sequence\n",
    "print(\"Length of a data sequence:\", L)\n",
    "\n",
    "T_hankel =  PRBS_interval*len(PRBS_inputs) #(m*L + n) + L - 1 # number of measurements used to fill Hankel Matrix\n",
    "\n",
    "print(\"Number of measurements to fill Hankel Matrix:\", T_hankel)\n",
    "\n",
    "rank_hankel_theoretical = m*L + n # theoretical maximum rank of Hankel Matrix\n",
    "print(\"Theoretical maximum rank of Hankel Matrix:\", rank_hankel_theoretical)\n",
    "\n",
    "u_data = np.zeros((T_hankel,m))\n",
    "y_data = np.zeros((T_hankel,p))\n",
    "print(\"Shape of u_data:\", np.shape(u_data))\n",
    "print(\"Shape of y_data:\", np.shape(y_data))\n",
    "\n",
    "\n",
    "# make environment and wrap video so that we can replay them later\n",
    "\n",
    "args = {\n",
    "    \"initial_position\": (0.5, 0.4, 0)\n",
    "}\n",
    "\n",
    "env = gym.make(\"coco_rocket_lander/RocketLander-v0\", render_mode=\"rgb_array\", args=args)\n",
    "env = gym.wrappers.RecordVideo(env, 'video', episode_trigger = lambda x: True, name_prefix=\"DeePC_Data_Collection\")\n",
    "\n",
    "# simulate\n",
    "step_count = 0\n",
    "max_steps = T_hankel\n",
    "\n",
    "obs, info = env.reset(seed=0)  # specify a random seed for consistency\n",
    "\n",
    "while True:\n",
    "    landing_position = env.get_landing_position()  # (x, y, theta) in [m, m, radians]\n",
    "\n",
    "    # PRBS INPUT\n",
    "    action = np.array(PRBS_inputs[step_count//PRBS_interval])\n",
    "    # print(\"Used PRBS input number:\", step_count//PRBS_interval)\n",
    "\n",
    "    # collect data\n",
    "    u_data[step_count] = action\n",
    "    y_data[step_count] = obs[0:6]\n",
    "\n",
    "    next_obs, rewards, done, _, info = env.step(action)\n",
    "\n",
    "    # check if simulation ended\n",
    "    step_count += 1\n",
    "    if done or (step_count >= max_steps):\n",
    "        break\n",
    "\n",
    "    # update observation\n",
    "    obs = next_obs\n",
    "\n",
    "\n",
    "env.close()  \n"
   ]
  },
  {
   "cell_type": "markdown",
   "metadata": {},
   "source": [
    "### Initialise controller"
   ]
  },
  {
   "cell_type": "code",
   "execution_count": 3,
   "metadata": {},
   "outputs": [],
   "source": [
    "# q = torch.Tensor([40,10,1,1,3000,30]) # 6-tuple (x, y, x_dot, y_dot, theta, theta_dot)\n",
    "q = torch.Tensor([100,10,5,1,3000,30]) # 6-tuple (x, y, x_dot, y_dot, theta, theta_dot)\n",
    "# q = torch.Tensor([10,1,1,1,1000,30]) # 6-tuple (x, y, x_dot, y_dot, theta, theta_dot)\n",
    "# q = torch.Tensor([3,1,0.5,0.5,300,30]) # 6-tuple (x, y, x_dot, y_dot, theta, theta_dot)\n",
    "r = torch.Tensor([0.01,0.01,0.01]) # 3-tuple (F_E, F_S, phi)\n",
    "q_np = tensor2np(q)\n",
    "r_np = tensor2np(r)\n",
    "\n",
    "n = 6 # states\n",
    "m = 3 # inputs\n",
    "p = 6 # outputs\n",
    "\n",
    "Tini = 1 # number of past measurements (also called T_ini)\n",
    "Tf = 10 # number of future measurements (also called K)\n",
    "device = 'cuda' if torch.cuda.is_available() else 'cpu'\n",
    "n_batch = 1\n",
    "\n",
    "ud = np.genfromtxt('data/rocket_ud.csv', delimiter=',')\n",
    "yd = np.genfromtxt('data/rocket_yd.csv', delimiter=',')\n",
    "\n",
    "# y_constraints = np.ones(Tf*p)*1e5 #Unconstrained\n",
    "# u_constraints = np.ones(Tf*m)\n",
    "y_upper = np.kron(np.ones(Tf), np.array([33,26.6,100,100,0.6,100]))\n",
    "y_lower = np.kron(np.ones(Tf), np.array([0,7,-100,-100,-0.6,-100]))\n",
    "u_upper = np.kron(np.ones(Tf), np.array([1,1,1]))\n",
    "u_lower = np.kron(np.ones(Tf), np.array([0,-1,-1]))\n",
    "y_constraints = (y_lower, y_upper)\n",
    "u_constraints = (u_lower, u_upper)\n",
    "Trained = False\n"
   ]
  },
  {
   "cell_type": "code",
   "execution_count": 7,
   "metadata": {},
   "outputs": [
    {
     "name": "stdout",
     "output_type": "stream",
     "text": [
      "225\n",
      "length of constraints before noise : 7\n",
      "length of constraints after noise : 9\n"
     ]
    }
   ],
   "source": [
    "# For training\n",
    "controller = DeePC(\n",
    "    ud=ud, yd=yd, u_constraints=u_constraints, y_constraints=y_constraints,\n",
    "    Tini=Tini, N=Tf, m=m, p=p, n_batch=n_batch, device=device,\n",
    "    linear=False, stochastic_y=True, stochastic_u=False, q=q, r=r,\n",
    "    # lam_g1=torch.Tensor([1e-5]), lam_g2=torch.Tensor([10]), lam_y=torch.Tensor([1e5])\n",
    ").to(device)\n",
    "\n",
    "epochs = 100\n",
    "time_steps = 20\n",
    "rocket = RocketDx(true_model=False)"
   ]
  },
  {
   "cell_type": "code",
   "execution_count": 8,
   "metadata": {},
   "outputs": [
    {
     "name": "stderr",
     "output_type": "stream",
     "text": [
      "  0%|                                                                       | 0/100 [00:01<?, ?it/s]"
     ]
    },
    {
     "name": "stdout",
     "output_type": "stream",
     "text": [
      "Please consider re-formulating your problem so that it is always solvable or increasing the number of solver iterations.\n"
     ]
    },
    {
     "name": "stderr",
     "output_type": "stream",
     "text": [
      "\n"
     ]
    },
    {
     "ename": "SolverError",
     "evalue": "Solver ecos errored.",
     "output_type": "error",
     "traceback": [
      "\u001b[0;31m---------------------------------------------------------------------------\u001b[0m",
      "\u001b[0;31mSolverError\u001b[0m                               Traceback (most recent call last)",
      "Cell \u001b[0;32mIn[8], line 4\u001b[0m\n\u001b[1;32m      2\u001b[0m controller\u001b[38;5;241m.\u001b[39minitialise(lam_g1\u001b[38;5;241m=\u001b[39m\u001b[38;5;241m50\u001b[39m, lam_g2\u001b[38;5;241m=\u001b[39m\u001b[38;5;241m50\u001b[39m, lam_y\u001b[38;5;241m=\u001b[39m\u001b[38;5;241m1000\u001b[39m)\n\u001b[1;32m      3\u001b[0m deepc_tuner \u001b[38;5;241m=\u001b[39m Trainer(controller\u001b[38;5;241m=\u001b[39mcontroller, env\u001b[38;5;241m=\u001b[39mrocket)\n\u001b[0;32m----> 4\u001b[0m final_params \u001b[38;5;241m=\u001b[39m \u001b[43mdeepc_tuner\u001b[49m\u001b[38;5;241;43m.\u001b[39;49m\u001b[43mrun\u001b[49m\u001b[43m(\u001b[49m\u001b[43mepochs\u001b[49m\u001b[38;5;241;43m=\u001b[39;49m\u001b[43mepochs\u001b[49m\u001b[43m,\u001b[49m\u001b[43m \u001b[49m\u001b[43mtime_steps\u001b[49m\u001b[38;5;241;43m=\u001b[39;49m\u001b[43mtime_steps\u001b[49m\u001b[43m)\u001b[49m\n\u001b[1;32m      5\u001b[0m Trained \u001b[38;5;241m=\u001b[39m \u001b[38;5;28;01mTrue\u001b[39;00m\n",
      "File \u001b[0;32m~/DeePC-HUNT/deepc_hunt/trainer.py:66\u001b[0m, in \u001b[0;36mTrainer.run\u001b[0;34m(self, epochs, time_steps)\u001b[0m\n\u001b[1;32m     61\u001b[0m \u001b[38;5;66;03m# Begin simulation \u001b[39;00m\n\u001b[1;32m     62\u001b[0m \u001b[38;5;28;01mfor\u001b[39;00m _ \u001b[38;5;129;01min\u001b[39;00m \u001b[38;5;28mrange\u001b[39m(time_steps):\n\u001b[1;32m     63\u001b[0m     \n\u001b[1;32m     64\u001b[0m     \u001b[38;5;66;03m# Solve for input\u001b[39;00m\n\u001b[1;32m     65\u001b[0m     \u001b[38;5;66;03m# decision_vars = self.controller(ref=yref, uref=uref.to(self.controller.device), u_ini=u_ini, y_ini=y_ini)\u001b[39;00m\n\u001b[0;32m---> 66\u001b[0m     decision_vars \u001b[38;5;241m=\u001b[39m \u001b[38;5;28;43mself\u001b[39;49m\u001b[38;5;241;43m.\u001b[39;49m\u001b[43mcontroller\u001b[49m\u001b[43m(\u001b[49m\u001b[43muref\u001b[49m\u001b[38;5;241;43m=\u001b[39;49m\u001b[43muref\u001b[49m\u001b[43m,\u001b[49m\u001b[43m \u001b[49m\u001b[43mref\u001b[49m\u001b[38;5;241;43m=\u001b[39;49m\u001b[43myref\u001b[49m\u001b[43m,\u001b[49m\u001b[43m \u001b[49m\u001b[43mu_ini\u001b[49m\u001b[38;5;241;43m=\u001b[39;49m\u001b[43mu_ini\u001b[49m\u001b[43m,\u001b[49m\u001b[43m \u001b[49m\u001b[43my_ini\u001b[49m\u001b[38;5;241;43m=\u001b[39;49m\u001b[43my_ini\u001b[49m\u001b[43m)\u001b[49m\n\u001b[1;32m     67\u001b[0m     [g, u_pred] \u001b[38;5;241m=\u001b[39m decision_vars[:\u001b[38;5;241m2\u001b[39m]\n\u001b[1;32m     69\u001b[0m     sig_y \u001b[38;5;241m=\u001b[39m decision_vars[\u001b[38;5;241m3\u001b[39m] \u001b[38;5;28;01mif\u001b[39;00m Ey \u001b[38;5;129;01mis\u001b[39;00m \u001b[38;5;129;01mnot\u001b[39;00m \u001b[38;5;28;01mNone\u001b[39;00m \u001b[38;5;28;01melse\u001b[39;00m \u001b[38;5;28;01mNone\u001b[39;00m\n",
      "File \u001b[0;32m/opt/homebrew/Caskroom/miniforge/base/envs/deepc-dev/lib/python3.10/site-packages/torch/nn/modules/module.py:1518\u001b[0m, in \u001b[0;36mModule._wrapped_call_impl\u001b[0;34m(self, *args, **kwargs)\u001b[0m\n\u001b[1;32m   1516\u001b[0m     \u001b[38;5;28;01mreturn\u001b[39;00m \u001b[38;5;28mself\u001b[39m\u001b[38;5;241m.\u001b[39m_compiled_call_impl(\u001b[38;5;241m*\u001b[39margs, \u001b[38;5;241m*\u001b[39m\u001b[38;5;241m*\u001b[39mkwargs)  \u001b[38;5;66;03m# type: ignore[misc]\u001b[39;00m\n\u001b[1;32m   1517\u001b[0m \u001b[38;5;28;01melse\u001b[39;00m:\n\u001b[0;32m-> 1518\u001b[0m     \u001b[38;5;28;01mreturn\u001b[39;00m \u001b[38;5;28;43mself\u001b[39;49m\u001b[38;5;241;43m.\u001b[39;49m\u001b[43m_call_impl\u001b[49m\u001b[43m(\u001b[49m\u001b[38;5;241;43m*\u001b[39;49m\u001b[43margs\u001b[49m\u001b[43m,\u001b[49m\u001b[43m \u001b[49m\u001b[38;5;241;43m*\u001b[39;49m\u001b[38;5;241;43m*\u001b[39;49m\u001b[43mkwargs\u001b[49m\u001b[43m)\u001b[49m\n",
      "File \u001b[0;32m/opt/homebrew/Caskroom/miniforge/base/envs/deepc-dev/lib/python3.10/site-packages/torch/nn/modules/module.py:1527\u001b[0m, in \u001b[0;36mModule._call_impl\u001b[0;34m(self, *args, **kwargs)\u001b[0m\n\u001b[1;32m   1522\u001b[0m \u001b[38;5;66;03m# If we don't have any hooks, we want to skip the rest of the logic in\u001b[39;00m\n\u001b[1;32m   1523\u001b[0m \u001b[38;5;66;03m# this function, and just call forward.\u001b[39;00m\n\u001b[1;32m   1524\u001b[0m \u001b[38;5;28;01mif\u001b[39;00m \u001b[38;5;129;01mnot\u001b[39;00m (\u001b[38;5;28mself\u001b[39m\u001b[38;5;241m.\u001b[39m_backward_hooks \u001b[38;5;129;01mor\u001b[39;00m \u001b[38;5;28mself\u001b[39m\u001b[38;5;241m.\u001b[39m_backward_pre_hooks \u001b[38;5;129;01mor\u001b[39;00m \u001b[38;5;28mself\u001b[39m\u001b[38;5;241m.\u001b[39m_forward_hooks \u001b[38;5;129;01mor\u001b[39;00m \u001b[38;5;28mself\u001b[39m\u001b[38;5;241m.\u001b[39m_forward_pre_hooks\n\u001b[1;32m   1525\u001b[0m         \u001b[38;5;129;01mor\u001b[39;00m _global_backward_pre_hooks \u001b[38;5;129;01mor\u001b[39;00m _global_backward_hooks\n\u001b[1;32m   1526\u001b[0m         \u001b[38;5;129;01mor\u001b[39;00m _global_forward_hooks \u001b[38;5;129;01mor\u001b[39;00m _global_forward_pre_hooks):\n\u001b[0;32m-> 1527\u001b[0m     \u001b[38;5;28;01mreturn\u001b[39;00m \u001b[43mforward_call\u001b[49m\u001b[43m(\u001b[49m\u001b[38;5;241;43m*\u001b[39;49m\u001b[43margs\u001b[49m\u001b[43m,\u001b[49m\u001b[43m \u001b[49m\u001b[38;5;241;43m*\u001b[39;49m\u001b[38;5;241;43m*\u001b[39;49m\u001b[43mkwargs\u001b[49m\u001b[43m)\u001b[49m\n\u001b[1;32m   1529\u001b[0m \u001b[38;5;28;01mtry\u001b[39;00m:\n\u001b[1;32m   1530\u001b[0m     result \u001b[38;5;241m=\u001b[39m \u001b[38;5;28;01mNone\u001b[39;00m\n",
      "File \u001b[0;32m~/DeePC-HUNT/deepc_hunt/controllers.py:224\u001b[0m, in \u001b[0;36mDeePC.forward\u001b[0;34m(self, ref, uref, u_ini, y_ini)\u001b[0m\n\u001b[1;32m    221\u001b[0m \u001b[38;5;28;01mif\u001b[39;00m \u001b[38;5;28mself\u001b[39m\u001b[38;5;241m.\u001b[39mstochastic_u:\n\u001b[1;32m    222\u001b[0m     params\u001b[38;5;241m.\u001b[39mappend(\u001b[38;5;28mself\u001b[39m\u001b[38;5;241m.\u001b[39mlam_u\u001b[38;5;241m.\u001b[39mrepeat(\u001b[38;5;28mself\u001b[39m\u001b[38;5;241m.\u001b[39mn_batch,\u001b[38;5;241m1\u001b[39m))\n\u001b[0;32m--> 224\u001b[0m out \u001b[38;5;241m=\u001b[39m \u001b[38;5;28;43mself\u001b[39;49m\u001b[38;5;241;43m.\u001b[39;49m\u001b[43mQP_layer\u001b[49m\u001b[43m(\u001b[49m\u001b[38;5;241;43m*\u001b[39;49m\u001b[43mparams\u001b[49m\u001b[43m,\u001b[49m\u001b[43m \u001b[49m\u001b[43msolver_args\u001b[49m\u001b[38;5;241;43m=\u001b[39;49m\u001b[43m{\u001b[49m\u001b[38;5;124;43m\"\u001b[39;49m\u001b[38;5;124;43msolve_method\u001b[39;49m\u001b[38;5;124;43m\"\u001b[39;49m\u001b[43m:\u001b[49m\u001b[43m \u001b[49m\u001b[38;5;124;43m\"\u001b[39;49m\u001b[38;5;124;43mECOS\u001b[39;49m\u001b[38;5;124;43m\"\u001b[39;49m\u001b[43m}\u001b[49m\u001b[43m)\u001b[49m\n\u001b[1;32m    225\u001b[0m g, \u001b[38;5;28minput\u001b[39m, output \u001b[38;5;241m=\u001b[39m out[\u001b[38;5;241m0\u001b[39m], out[\u001b[38;5;241m2\u001b[39m], out[\u001b[38;5;241m3\u001b[39m]\n\u001b[1;32m    226\u001b[0m \u001b[38;5;28mvars\u001b[39m \u001b[38;5;241m=\u001b[39m [g, \u001b[38;5;28minput\u001b[39m, output]\n",
      "File \u001b[0;32m/opt/homebrew/Caskroom/miniforge/base/envs/deepc-dev/lib/python3.10/site-packages/torch/nn/modules/module.py:1518\u001b[0m, in \u001b[0;36mModule._wrapped_call_impl\u001b[0;34m(self, *args, **kwargs)\u001b[0m\n\u001b[1;32m   1516\u001b[0m     \u001b[38;5;28;01mreturn\u001b[39;00m \u001b[38;5;28mself\u001b[39m\u001b[38;5;241m.\u001b[39m_compiled_call_impl(\u001b[38;5;241m*\u001b[39margs, \u001b[38;5;241m*\u001b[39m\u001b[38;5;241m*\u001b[39mkwargs)  \u001b[38;5;66;03m# type: ignore[misc]\u001b[39;00m\n\u001b[1;32m   1517\u001b[0m \u001b[38;5;28;01melse\u001b[39;00m:\n\u001b[0;32m-> 1518\u001b[0m     \u001b[38;5;28;01mreturn\u001b[39;00m \u001b[38;5;28;43mself\u001b[39;49m\u001b[38;5;241;43m.\u001b[39;49m\u001b[43m_call_impl\u001b[49m\u001b[43m(\u001b[49m\u001b[38;5;241;43m*\u001b[39;49m\u001b[43margs\u001b[49m\u001b[43m,\u001b[49m\u001b[43m \u001b[49m\u001b[38;5;241;43m*\u001b[39;49m\u001b[38;5;241;43m*\u001b[39;49m\u001b[43mkwargs\u001b[49m\u001b[43m)\u001b[49m\n",
      "File \u001b[0;32m/opt/homebrew/Caskroom/miniforge/base/envs/deepc-dev/lib/python3.10/site-packages/torch/nn/modules/module.py:1527\u001b[0m, in \u001b[0;36mModule._call_impl\u001b[0;34m(self, *args, **kwargs)\u001b[0m\n\u001b[1;32m   1522\u001b[0m \u001b[38;5;66;03m# If we don't have any hooks, we want to skip the rest of the logic in\u001b[39;00m\n\u001b[1;32m   1523\u001b[0m \u001b[38;5;66;03m# this function, and just call forward.\u001b[39;00m\n\u001b[1;32m   1524\u001b[0m \u001b[38;5;28;01mif\u001b[39;00m \u001b[38;5;129;01mnot\u001b[39;00m (\u001b[38;5;28mself\u001b[39m\u001b[38;5;241m.\u001b[39m_backward_hooks \u001b[38;5;129;01mor\u001b[39;00m \u001b[38;5;28mself\u001b[39m\u001b[38;5;241m.\u001b[39m_backward_pre_hooks \u001b[38;5;129;01mor\u001b[39;00m \u001b[38;5;28mself\u001b[39m\u001b[38;5;241m.\u001b[39m_forward_hooks \u001b[38;5;129;01mor\u001b[39;00m \u001b[38;5;28mself\u001b[39m\u001b[38;5;241m.\u001b[39m_forward_pre_hooks\n\u001b[1;32m   1525\u001b[0m         \u001b[38;5;129;01mor\u001b[39;00m _global_backward_pre_hooks \u001b[38;5;129;01mor\u001b[39;00m _global_backward_hooks\n\u001b[1;32m   1526\u001b[0m         \u001b[38;5;129;01mor\u001b[39;00m _global_forward_hooks \u001b[38;5;129;01mor\u001b[39;00m _global_forward_pre_hooks):\n\u001b[0;32m-> 1527\u001b[0m     \u001b[38;5;28;01mreturn\u001b[39;00m \u001b[43mforward_call\u001b[49m\u001b[43m(\u001b[49m\u001b[38;5;241;43m*\u001b[39;49m\u001b[43margs\u001b[49m\u001b[43m,\u001b[49m\u001b[43m \u001b[49m\u001b[38;5;241;43m*\u001b[39;49m\u001b[38;5;241;43m*\u001b[39;49m\u001b[43mkwargs\u001b[49m\u001b[43m)\u001b[49m\n\u001b[1;32m   1529\u001b[0m \u001b[38;5;28;01mtry\u001b[39;00m:\n\u001b[1;32m   1530\u001b[0m     result \u001b[38;5;241m=\u001b[39m \u001b[38;5;28;01mNone\u001b[39;00m\n",
      "File \u001b[0;32m/opt/homebrew/Caskroom/miniforge/base/envs/deepc-dev/lib/python3.10/site-packages/cvxpylayers/torch/cvxpylayer.py:153\u001b[0m, in \u001b[0;36mCvxpyLayer.forward\u001b[0;34m(self, solver_args, *params)\u001b[0m\n\u001b[1;32m    140\u001b[0m info \u001b[38;5;241m=\u001b[39m {}\n\u001b[1;32m    141\u001b[0m f \u001b[38;5;241m=\u001b[39m _CvxpyLayerFn(\n\u001b[1;32m    142\u001b[0m     param_order\u001b[38;5;241m=\u001b[39m\u001b[38;5;28mself\u001b[39m\u001b[38;5;241m.\u001b[39mparam_order,\n\u001b[1;32m    143\u001b[0m     param_ids\u001b[38;5;241m=\u001b[39m\u001b[38;5;28mself\u001b[39m\u001b[38;5;241m.\u001b[39mparam_ids,\n\u001b[0;32m   (...)\u001b[0m\n\u001b[1;32m    151\u001b[0m     info\u001b[38;5;241m=\u001b[39minfo,\n\u001b[1;32m    152\u001b[0m )\n\u001b[0;32m--> 153\u001b[0m sol \u001b[38;5;241m=\u001b[39m \u001b[43mf\u001b[49m\u001b[43m(\u001b[49m\u001b[38;5;241;43m*\u001b[39;49m\u001b[43mparams\u001b[49m\u001b[43m)\u001b[49m\n\u001b[1;32m    154\u001b[0m \u001b[38;5;28mself\u001b[39m\u001b[38;5;241m.\u001b[39minfo \u001b[38;5;241m=\u001b[39m info\n\u001b[1;32m    155\u001b[0m \u001b[38;5;28;01mreturn\u001b[39;00m sol\n",
      "File \u001b[0;32m/opt/homebrew/Caskroom/miniforge/base/envs/deepc-dev/lib/python3.10/site-packages/torch/autograd/function.py:539\u001b[0m, in \u001b[0;36mFunction.apply\u001b[0;34m(cls, *args, **kwargs)\u001b[0m\n\u001b[1;32m    536\u001b[0m \u001b[38;5;28;01mif\u001b[39;00m \u001b[38;5;129;01mnot\u001b[39;00m torch\u001b[38;5;241m.\u001b[39m_C\u001b[38;5;241m.\u001b[39m_are_functorch_transforms_active():\n\u001b[1;32m    537\u001b[0m     \u001b[38;5;66;03m# See NOTE: [functorch vjp and autograd interaction]\u001b[39;00m\n\u001b[1;32m    538\u001b[0m     args \u001b[38;5;241m=\u001b[39m _functorch\u001b[38;5;241m.\u001b[39mutils\u001b[38;5;241m.\u001b[39munwrap_dead_wrappers(args)\n\u001b[0;32m--> 539\u001b[0m     \u001b[38;5;28;01mreturn\u001b[39;00m \u001b[38;5;28;43msuper\u001b[39;49m\u001b[43m(\u001b[49m\u001b[43m)\u001b[49m\u001b[38;5;241;43m.\u001b[39;49m\u001b[43mapply\u001b[49m\u001b[43m(\u001b[49m\u001b[38;5;241;43m*\u001b[39;49m\u001b[43margs\u001b[49m\u001b[43m,\u001b[49m\u001b[43m \u001b[49m\u001b[38;5;241;43m*\u001b[39;49m\u001b[38;5;241;43m*\u001b[39;49m\u001b[43mkwargs\u001b[49m\u001b[43m)\u001b[49m  \u001b[38;5;66;03m# type: ignore[misc]\u001b[39;00m\n\u001b[1;32m    541\u001b[0m \u001b[38;5;28;01mif\u001b[39;00m \u001b[38;5;28mcls\u001b[39m\u001b[38;5;241m.\u001b[39msetup_context \u001b[38;5;241m==\u001b[39m _SingleLevelFunction\u001b[38;5;241m.\u001b[39msetup_context:\n\u001b[1;32m    542\u001b[0m     \u001b[38;5;28;01mraise\u001b[39;00m \u001b[38;5;167;01mRuntimeError\u001b[39;00m(\n\u001b[1;32m    543\u001b[0m         \u001b[38;5;124m\"\u001b[39m\u001b[38;5;124mIn order to use an autograd.Function with functorch transforms \u001b[39m\u001b[38;5;124m\"\u001b[39m\n\u001b[1;32m    544\u001b[0m         \u001b[38;5;124m\"\u001b[39m\u001b[38;5;124m(vmap, grad, jvp, jacrev, ...), it must override the setup_context \u001b[39m\u001b[38;5;124m\"\u001b[39m\n\u001b[1;32m    545\u001b[0m         \u001b[38;5;124m\"\u001b[39m\u001b[38;5;124mstaticmethod. For more details, please see \u001b[39m\u001b[38;5;124m\"\u001b[39m\n\u001b[1;32m    546\u001b[0m         \u001b[38;5;124m\"\u001b[39m\u001b[38;5;124mhttps://pytorch.org/docs/master/notes/extending.func.html\u001b[39m\u001b[38;5;124m\"\u001b[39m\n\u001b[1;32m    547\u001b[0m     )\n",
      "File \u001b[0;32m/opt/homebrew/Caskroom/miniforge/base/envs/deepc-dev/lib/python3.10/site-packages/cvxpylayers/torch/cvxpylayer.py:296\u001b[0m, in \u001b[0;36m_CvxpyLayerFn.<locals>._CvxpyLayerFnFn.forward\u001b[0;34m(ctx, *params)\u001b[0m\n\u001b[1;32m    291\u001b[0m \u001b[38;5;28;01mexcept\u001b[39;00m diffcp\u001b[38;5;241m.\u001b[39mSolverError \u001b[38;5;28;01mas\u001b[39;00m e:\n\u001b[1;32m    292\u001b[0m     \u001b[38;5;28mprint\u001b[39m(\n\u001b[1;32m    293\u001b[0m         \u001b[38;5;124m\"\u001b[39m\u001b[38;5;124mPlease consider re-formulating your problem so that \u001b[39m\u001b[38;5;124m\"\u001b[39m\n\u001b[1;32m    294\u001b[0m         \u001b[38;5;124m\"\u001b[39m\u001b[38;5;124mit is always solvable or increasing the number of \u001b[39m\u001b[38;5;124m\"\u001b[39m\n\u001b[1;32m    295\u001b[0m         \u001b[38;5;124m\"\u001b[39m\u001b[38;5;124msolver iterations.\u001b[39m\u001b[38;5;124m\"\u001b[39m)\n\u001b[0;32m--> 296\u001b[0m     \u001b[38;5;28;01mraise\u001b[39;00m e\n\u001b[1;32m    297\u001b[0m info[\u001b[38;5;124m'\u001b[39m\u001b[38;5;124msolve_time\u001b[39m\u001b[38;5;124m'\u001b[39m] \u001b[38;5;241m=\u001b[39m time\u001b[38;5;241m.\u001b[39mtime() \u001b[38;5;241m-\u001b[39m start\n\u001b[1;32m    299\u001b[0m \u001b[38;5;66;03m# extract solutions and append along batch dimension\u001b[39;00m\n",
      "File \u001b[0;32m/opt/homebrew/Caskroom/miniforge/base/envs/deepc-dev/lib/python3.10/site-packages/cvxpylayers/torch/cvxpylayer.py:289\u001b[0m, in \u001b[0;36m_CvxpyLayerFn.<locals>._CvxpyLayerFnFn.forward\u001b[0;34m(ctx, *params)\u001b[0m\n\u001b[1;32m    287\u001b[0m start \u001b[38;5;241m=\u001b[39m time\u001b[38;5;241m.\u001b[39mtime()\n\u001b[1;32m    288\u001b[0m \u001b[38;5;28;01mtry\u001b[39;00m:\n\u001b[0;32m--> 289\u001b[0m     xs, _, _, _, ctx\u001b[38;5;241m.\u001b[39mDT_batch \u001b[38;5;241m=\u001b[39m \u001b[43mdiffcp\u001b[49m\u001b[38;5;241;43m.\u001b[39;49m\u001b[43msolve_and_derivative_batch\u001b[49m\u001b[43m(\u001b[49m\n\u001b[1;32m    290\u001b[0m \u001b[43m        \u001b[49m\u001b[43mAs\u001b[49m\u001b[43m,\u001b[49m\u001b[43m \u001b[49m\u001b[43mbs\u001b[49m\u001b[43m,\u001b[49m\u001b[43m \u001b[49m\u001b[43mcs\u001b[49m\u001b[43m,\u001b[49m\u001b[43m \u001b[49m\u001b[43mcone_dicts\u001b[49m\u001b[43m,\u001b[49m\u001b[43m \u001b[49m\u001b[38;5;241;43m*\u001b[39;49m\u001b[38;5;241;43m*\u001b[39;49m\u001b[43msolver_args\u001b[49m\u001b[43m)\u001b[49m\n\u001b[1;32m    291\u001b[0m \u001b[38;5;28;01mexcept\u001b[39;00m diffcp\u001b[38;5;241m.\u001b[39mSolverError \u001b[38;5;28;01mas\u001b[39;00m e:\n\u001b[1;32m    292\u001b[0m     \u001b[38;5;28mprint\u001b[39m(\n\u001b[1;32m    293\u001b[0m         \u001b[38;5;124m\"\u001b[39m\u001b[38;5;124mPlease consider re-formulating your problem so that \u001b[39m\u001b[38;5;124m\"\u001b[39m\n\u001b[1;32m    294\u001b[0m         \u001b[38;5;124m\"\u001b[39m\u001b[38;5;124mit is always solvable or increasing the number of \u001b[39m\u001b[38;5;124m\"\u001b[39m\n\u001b[1;32m    295\u001b[0m         \u001b[38;5;124m\"\u001b[39m\u001b[38;5;124msolver iterations.\u001b[39m\u001b[38;5;124m\"\u001b[39m)\n",
      "File \u001b[0;32m/opt/homebrew/Caskroom/miniforge/base/envs/deepc-dev/lib/python3.10/site-packages/diffcp/cone_program.py:80\u001b[0m, in \u001b[0;36msolve_and_derivative_batch\u001b[0;34m(As, bs, cs, cone_dicts, n_jobs_forward, n_jobs_backward, mode, warm_starts, **kwargs)\u001b[0m\n\u001b[1;32m     78\u001b[0m xs, ys, ss, Ds, DTs \u001b[38;5;241m=\u001b[39m [], [], [], [], []\n\u001b[1;32m     79\u001b[0m \u001b[38;5;28;01mfor\u001b[39;00m i \u001b[38;5;129;01min\u001b[39;00m \u001b[38;5;28mrange\u001b[39m(batch_size):\n\u001b[0;32m---> 80\u001b[0m     x, y, s, D, DT \u001b[38;5;241m=\u001b[39m \u001b[43msolve_and_derivative\u001b[49m\u001b[43m(\u001b[49m\u001b[43mAs\u001b[49m\u001b[43m[\u001b[49m\u001b[43mi\u001b[49m\u001b[43m]\u001b[49m\u001b[43m,\u001b[49m\u001b[43m \u001b[49m\u001b[43mbs\u001b[49m\u001b[43m[\u001b[49m\u001b[43mi\u001b[49m\u001b[43m]\u001b[49m\u001b[43m,\u001b[49m\u001b[43m \u001b[49m\u001b[43mcs\u001b[49m\u001b[43m[\u001b[49m\u001b[43mi\u001b[49m\u001b[43m]\u001b[49m\u001b[43m,\u001b[49m\n\u001b[1;32m     81\u001b[0m \u001b[43m                                          \u001b[49m\u001b[43mcone_dicts\u001b[49m\u001b[43m[\u001b[49m\u001b[43mi\u001b[49m\u001b[43m]\u001b[49m\u001b[43m,\u001b[49m\u001b[43m \u001b[49m\u001b[43mwarm_starts\u001b[49m\u001b[43m[\u001b[49m\u001b[43mi\u001b[49m\u001b[43m]\u001b[49m\u001b[43m,\u001b[49m\u001b[43m \u001b[49m\u001b[43mmode\u001b[49m\u001b[38;5;241;43m=\u001b[39;49m\u001b[43mmode\u001b[49m\u001b[43m,\u001b[49m\u001b[43m \u001b[49m\u001b[38;5;241;43m*\u001b[39;49m\u001b[38;5;241;43m*\u001b[39;49m\u001b[43mkwargs\u001b[49m\u001b[43m)\u001b[49m\n\u001b[1;32m     82\u001b[0m     xs \u001b[38;5;241m+\u001b[39m\u001b[38;5;241m=\u001b[39m [x]\n\u001b[1;32m     83\u001b[0m     ys \u001b[38;5;241m+\u001b[39m\u001b[38;5;241m=\u001b[39m [y]\n",
      "File \u001b[0;32m/opt/homebrew/Caskroom/miniforge/base/envs/deepc-dev/lib/python3.10/site-packages/diffcp/cone_program.py:216\u001b[0m, in \u001b[0;36msolve_and_derivative\u001b[0;34m(A, b, c, cone_dict, warm_start, mode, solve_method, **kwargs)\u001b[0m\n\u001b[1;32m    152\u001b[0m \u001b[38;5;28;01mdef\u001b[39;00m \u001b[38;5;21msolve_and_derivative\u001b[39m(A, b, c, cone_dict, warm_start\u001b[38;5;241m=\u001b[39m\u001b[38;5;28;01mNone\u001b[39;00m, mode\u001b[38;5;241m=\u001b[39m\u001b[38;5;124m'\u001b[39m\u001b[38;5;124mlsqr\u001b[39m\u001b[38;5;124m'\u001b[39m,\n\u001b[1;32m    153\u001b[0m                          solve_method\u001b[38;5;241m=\u001b[39m\u001b[38;5;124m'\u001b[39m\u001b[38;5;124mSCS\u001b[39m\u001b[38;5;124m'\u001b[39m, \u001b[38;5;241m*\u001b[39m\u001b[38;5;241m*\u001b[39mkwargs):\n\u001b[1;32m    154\u001b[0m \u001b[38;5;250m    \u001b[39m\u001b[38;5;124;03m\"\"\"Solves a cone program, returns its derivative as an abstract linear map.\u001b[39;00m\n\u001b[1;32m    155\u001b[0m \n\u001b[1;32m    156\u001b[0m \u001b[38;5;124;03m    This function solves a convex cone program, with primal-dual problems\u001b[39;00m\n\u001b[0;32m   (...)\u001b[0m\n\u001b[1;32m    214\u001b[0m \u001b[38;5;124;03m        SolverError: if the cone program is infeasible or unbounded.\u001b[39;00m\n\u001b[1;32m    215\u001b[0m \u001b[38;5;124;03m    \"\"\"\u001b[39;00m\n\u001b[0;32m--> 216\u001b[0m     result \u001b[38;5;241m=\u001b[39m \u001b[43msolve_and_derivative_internal\u001b[49m\u001b[43m(\u001b[49m\n\u001b[1;32m    217\u001b[0m \u001b[43m        \u001b[49m\u001b[43mA\u001b[49m\u001b[43m,\u001b[49m\u001b[43m \u001b[49m\u001b[43mb\u001b[49m\u001b[43m,\u001b[49m\u001b[43m \u001b[49m\u001b[43mc\u001b[49m\u001b[43m,\u001b[49m\u001b[43m \u001b[49m\u001b[43mcone_dict\u001b[49m\u001b[43m,\u001b[49m\u001b[43m \u001b[49m\u001b[43mwarm_start\u001b[49m\u001b[38;5;241;43m=\u001b[39;49m\u001b[43mwarm_start\u001b[49m\u001b[43m,\u001b[49m\u001b[43m \u001b[49m\u001b[43mmode\u001b[49m\u001b[38;5;241;43m=\u001b[39;49m\u001b[43mmode\u001b[49m\u001b[43m,\u001b[49m\n\u001b[1;32m    218\u001b[0m \u001b[43m        \u001b[49m\u001b[43msolve_method\u001b[49m\u001b[38;5;241;43m=\u001b[39;49m\u001b[43msolve_method\u001b[49m\u001b[43m,\u001b[49m\u001b[43m \u001b[49m\u001b[38;5;241;43m*\u001b[39;49m\u001b[38;5;241;43m*\u001b[39;49m\u001b[43mkwargs\u001b[49m\u001b[43m)\u001b[49m\n\u001b[1;32m    219\u001b[0m     x \u001b[38;5;241m=\u001b[39m result[\u001b[38;5;124m\"\u001b[39m\u001b[38;5;124mx\u001b[39m\u001b[38;5;124m\"\u001b[39m]\n\u001b[1;32m    220\u001b[0m     y \u001b[38;5;241m=\u001b[39m result[\u001b[38;5;124m\"\u001b[39m\u001b[38;5;124my\u001b[39m\u001b[38;5;124m\"\u001b[39m]\n",
      "File \u001b[0;32m/opt/homebrew/Caskroom/miniforge/base/envs/deepc-dev/lib/python3.10/site-packages/diffcp/cone_program.py:373\u001b[0m, in \u001b[0;36msolve_and_derivative_internal\u001b[0;34m(A, b, c, cone_dict, solve_method, warm_start, mode, raise_on_error, **kwargs)\u001b[0m\n\u001b[1;32m    371\u001b[0m     warnings\u001b[38;5;241m.\u001b[39mwarn(\u001b[38;5;124m\"\u001b[39m\u001b[38;5;124mSolved/Inaccurate.\u001b[39m\u001b[38;5;124m\"\u001b[39m)\n\u001b[1;32m    372\u001b[0m \u001b[38;5;28;01melif\u001b[39;00m status \u001b[38;5;241m<\u001b[39m \u001b[38;5;241m0\u001b[39m:\n\u001b[0;32m--> 373\u001b[0m     \u001b[38;5;28;01mraise\u001b[39;00m SolverError(\u001b[38;5;124m\"\u001b[39m\u001b[38;5;124mSolver ecos errored.\u001b[39m\u001b[38;5;124m\"\u001b[39m)\n\u001b[1;32m    374\u001b[0m \u001b[38;5;28;01mif\u001b[39;00m status \u001b[38;5;129;01mnot\u001b[39;00m \u001b[38;5;129;01min\u001b[39;00m [\u001b[38;5;241m0\u001b[39m, \u001b[38;5;241m10\u001b[39m]:\n\u001b[1;32m    375\u001b[0m     \u001b[38;5;28;01mraise\u001b[39;00m SolverError(\u001b[38;5;124m\"\u001b[39m\u001b[38;5;124mSolver ecos returned status \u001b[39m\u001b[38;5;132;01m%s\u001b[39;00m\u001b[38;5;124m\"\u001b[39m \u001b[38;5;241m%\u001b[39m\n\u001b[1;32m    376\u001b[0m                       STATUS_LOOKUP[status])\n",
      "\u001b[0;31mSolverError\u001b[0m: Solver ecos errored."
     ]
    }
   ],
   "source": [
    "# Tune regularization params\n",
    "controller.initialise(lam_g1=50, lam_g2=50, lam_y=1000)\n",
    "deepc_tuner = Trainer(controller=controller, env=rocket)\n",
    "final_params = deepc_tuner.run(epochs=epochs, time_steps=time_steps)\n",
    "Trained = True"
   ]
  },
  {
   "cell_type": "markdown",
   "metadata": {},
   "source": [
    "### Simulation results"
   ]
  },
  {
   "cell_type": "code",
   "execution_count": 9,
   "metadata": {},
   "outputs": [
    {
     "data": {
      "text/plain": [
       "<deepc_hunt.controllers.npDeePC at 0x15f9ebeb0>"
      ]
     },
     "execution_count": 9,
     "metadata": {},
     "output_type": "execute_result"
    }
   ],
   "source": [
    "# For speed\n",
    "np_controller = npDeePC(\n",
    "    ud=ud, yd=yd, u_constraints=u_constraints, y_constraints=y_constraints,\n",
    "    Tini=Tini, N=Tf, m=m, p=p, n=n\n",
    ")\n",
    "\n",
    "np_controller.setup(Q=np.diag(q_np), R=np.diag(r_np), \n",
    "                    # lam_g1=tensor2np(final_params['lam_g1']), \n",
    "                    lam_g1=20,\n",
    "                    # lam_g2=tensor2np(final_params['lam_g2']), \n",
    "                    lam_g2=0.818,\n",
    "                    # lam_y=tensor2np(final_params['lam_y']))\n",
    "                    lam_y=999.858)"
   ]
  },
  {
   "cell_type": "code",
   "execution_count": 10,
   "metadata": {},
   "outputs": [
    {
     "name": "stdout",
     "output_type": "stream",
     "text": [
      "A:\n",
      " [[1.    0.    0.017 0.    0.    0.   ]\n",
      " [0.    1.    0.    0.017 0.    0.   ]\n",
      " [0.    0.    1.    0.    0.    0.   ]\n",
      " [0.    0.    0.    1.    0.    0.   ]\n",
      " [0.    0.    0.    0.    1.    0.017]\n",
      " [0.    0.    0.    0.    0.    1.   ]] \n",
      "\n",
      " B:\n",
      " [[ 0.     0.     0.   ]\n",
      " [ 0.008  0.     0.   ]\n",
      " [ 0.     0.02   0.   ]\n",
      " [ 1.013  0.     0.   ]\n",
      " [ 0.    -0.     0.   ]\n",
      " [ 0.    -0.013  0.   ]]\n"
     ]
    },
    {
     "data": {
      "text/plain": [
       "<deepc_hunt.controllers.npMPC at 0x30fbef820>"
      ]
     },
     "execution_count": 10,
     "metadata": {},
     "output_type": "execute_result"
    }
   ],
   "source": [
    "x_eq = np.array([16.6,7.47,0,0,0,0]) # Landing position\n",
    "u_eq = np.array([0,0,0])\n",
    "# u_eq = np.array([0,0,0])\n",
    "\n",
    "A, B = rocket.linearise(x_eq=x_eq, u_eq=u_eq, discrete=True)\n",
    "print(\"A:\\n\", A.round(3), \"\\n\"*2, \"B:\\n\", B.round(3))\n",
    "\n",
    "mpc = npMPC(\n",
    "        A=A, B=B, Q=np.diag(q_np), R=np.diag(r_np), N=Tf, \n",
    "        u_constraints=u_constraints, y_constraints=y_constraints\n",
    ")\n",
    "mpc.setup()"
   ]
  },
  {
   "cell_type": "code",
   "execution_count": 18,
   "metadata": {},
   "outputs": [],
   "source": [
    "# C = torch.diag(torch.cat((q,r)))\n",
    "# C = C.repeat(Tf,1,1)\n",
    "# C = torch.bmm(C, C.transpose(1, 2)).view(Tf, 1, 9, 9)\n",
    "# c = torch.zeros((Tf, 1, 9))\n",
    "# diff_cost = QuadCost(C,c)\n",
    "\n",
    "# u_lower = -torch.ones(Tf,1,m)\n",
    "# u_lower[:,:,2] = 0\n",
    "# u_upper = torch.ones(Tf,1,m)\n",
    "\n",
    "# diff_controller = mpc.MPC(\n",
    "#     n_state=n,\n",
    "#     n_batch=1,\n",
    "#     n_ctrl=m,\n",
    "#     T=Tf,\n",
    "#     u_lower=u_lower, \n",
    "#     u_upper=u_upper,\n",
    "#     lqr_iter=50,\n",
    "#     verbose=1,\n",
    "#     grad_method=GradMethods.AUTO_DIFF,\n",
    "#     exit_unconverged=False,\n",
    "# )"
   ]
  },
  {
   "cell_type": "code",
   "execution_count": 11,
   "metadata": {},
   "outputs": [
    {
     "name": "stderr",
     "output_type": "stream",
     "text": [
      "/opt/homebrew/Caskroom/miniforge/base/envs/deepc-dev/lib/python3.10/site-packages/gymnasium/wrappers/record_video.py:79: UserWarning: \u001b[33mWARN: Overwriting existing videos at /Users/michaelcummins/DeePC-HUNT/examples/video/DeePC folder (try specifying a different `video_folder` for the `RecordVideo` wrapper if this is not desired)\u001b[0m\n",
      "  logger.warn(\n"
     ]
    },
    {
     "name": "stdout",
     "output_type": "stream",
     "text": [
      "A:\n",
      " [[1.    0.    0.017 0.    0.    0.   ]\n",
      " [0.    1.    0.    0.017 0.    0.   ]\n",
      " [0.    0.    1.    0.    0.    0.   ]\n",
      " [0.    0.    0.    1.    0.    0.   ]\n",
      " [0.    0.    0.    0.    1.    0.017]\n",
      " [0.    0.    0.    0.    0.    1.   ]] \n",
      "\n",
      " B:\n",
      " [[ 0.     0.     0.   ]\n",
      " [ 0.008  0.     0.   ]\n",
      " [ 0.     0.02   0.   ]\n",
      " [ 1.013  0.     0.   ]\n",
      " [ 0.    -0.     0.   ]\n",
      " [ 0.    -0.013  0.   ]]\n"
     ]
    },
    {
     "name": "stderr",
     "output_type": "stream",
     "text": [
      " 24%|██▍       | 288/1200 [00:43<02:07,  7.18it/s]"
     ]
    },
    {
     "name": "stdout",
     "output_type": "stream",
     "text": [
      "Enter landing mode\n"
     ]
    },
    {
     "name": "stderr",
     "output_type": "stream",
     "text": [
      " 35%|███▌      | 425/1200 [01:06<01:56,  6.65it/s]"
     ]
    },
    {
     "name": "stdout",
     "output_type": "stream",
     "text": [
      "Moviepy - Building video /Users/michaelcummins/DeePC-HUNT/examples/video/DeePC/DeePC-episode-0.mp4.\n",
      "Moviepy - Writing video /Users/michaelcummins/DeePC-HUNT/examples/video/DeePC/DeePC-episode-0.mp4\n",
      "\n"
     ]
    },
    {
     "name": "stderr",
     "output_type": "stream",
     "text": [
      " 35%|███▌      | 425/1200 [01:07<02:03,  6.29it/s]"
     ]
    },
    {
     "name": "stdout",
     "output_type": "stream",
     "text": [
      "Moviepy - Done !\n",
      "Moviepy - video ready /Users/michaelcummins/DeePC-HUNT/examples/video/DeePC/DeePC-episode-0.mp4\n"
     ]
    },
    {
     "name": "stderr",
     "output_type": "stream",
     "text": [
      "\n"
     ]
    }
   ],
   "source": [
    "import gymnasium as gym\n",
    "import numpy as np\n",
    "from tqdm import tqdm\n",
    "\n",
    "import coco_rocket_lander  # need to import to call gym.make()\n",
    "from coco_rocket_lander.env import SystemModel\n",
    "\n",
    "args = {\n",
    "    # \"initial_position\": (0.5, 0.6, 0),  # 3-tuple (x, y, theta)\n",
    "    \"initial_position\": (0.6, 0.9, 0.1),  # 3-tuple (x, y, theta)\n",
    "    # \"random_initial_position\" : True,\n",
    "    # \"initial_position\": (np.random.uniform(low=0.2,high=0.8), np.random.uniform(low=0.7, high=0.9), np.random.uniform(low=-0.1, high=0.1)),\n",
    "    \"enable_wind\": False,\n",
    "    # \"enable_moving_barge\": True\n",
    "}\n",
    "vids = 1\n",
    "data_driven = True\n",
    "adaptive = False\n",
    "root = 'DeePC' if data_driven else 'MPC'\n",
    "\n",
    "# make environment and wrap video so that we can replay them later\n",
    "env = gym.make(\"coco_rocket_lander/RocketLander-v0\", render_mode=\"rgb_array\", args=args)\n",
    "env = gym.wrappers.RecordVideo(env, 'video/' + root, episode_trigger = lambda x: True, name_prefix=root)\n",
    "\n",
    "model = SystemModel(env)\n",
    "model.calculate_linear_system_matrices()\n",
    "model.discretize_system_matrices(sample_time=0.1)\n",
    "print(\"A:\\n\", A.round(3), \"\\n\"*2, \"B:\\n\", B.round(3))\n",
    "\n",
    "\n",
    "obs, info = env.reset()  # specify a random seed for consistency\n",
    "# torch_state = torch.zeros((n_batch, 6))\n",
    "# torch_state[:,:] = torch.Tensor(obs[:6]).unsqueeze(0)\n",
    "# torch_state[1,0] = 16.3\n",
    "# torch_state[0,0] = 18.3\n",
    "# print(torch_state.shape)\n",
    "# initialize variables\n",
    "step_count = 0\n",
    "max_steps = 1200\n",
    "touched_ground = 0\n",
    "landing_mode = 0\n",
    "final_landing_position = []\n",
    "\n",
    "# landing parameters\n",
    "hover_height = 0\n",
    "x_tol = 0.5\n",
    "x_dot_tol = 0.3\n",
    "theta_tol = 0.1\n",
    "fig = []\n",
    "#Initial state for DeePC\n",
    "u_past_sim = np.zeros(3*Tini)\n",
    "y_past_sim = np.tile(obs[0:6],Tini)\n",
    "\n",
    "# u_past_sim = torch.zeros((n_batch, 3*Tini))\n",
    "# y_past_sim = torch.zeros((n_batch, 6*Tini))\n",
    "# y_past_sim[0,:] = torch.Tensor(y_past)\n",
    "# y_past_sim[1,:] = torch.Tensor(y_past)\n",
    "\n",
    "torch_states = []\n",
    "real_states = []\n",
    "\n",
    "# simulate\n",
    "pbar = tqdm(range(max_steps))\n",
    "for i in pbar:\n",
    "\n",
    "    landing_position = env.get_landing_position()  # (x, y, theta) in [m, m, radians]\n",
    "    deepc_reference = [0,0,0,0,0,0]\n",
    "    deepc_reference[0] = landing_position[0]\n",
    "    deepc_reference[1] = landing_position[1] + hover_height\n",
    "    \n",
    "    if landing_mode == 0: # default mode: try to hover above platform\n",
    "      deepc_reference = [0,0,0,0,0,0]\n",
    "      deepc_reference[0] = landing_position[0]\n",
    "      deepc_reference[1] = landing_position[1] + hover_height\n",
    "      if ((abs(obs[0]-landing_position[0]) < x_tol) and (abs(obs[2]) < x_dot_tol) and (abs(obs[4]) < theta_tol)): # if only small errors left, enter landing mode\n",
    "        print(\"Enter landing mode\")\n",
    "        landing_mode = 1\n",
    "        deepc_reference = [0,0,0,0,0,0]\n",
    "        deepc_reference[0] = landing_position[0]\n",
    "        deepc_reference[1] = landing_position[1]\n",
    "        final_landing_position = deepc_reference.copy()\n",
    "    elif landing_mode == 1: # landing mode: land at fixed position (works better when using moving barge)\n",
    "      deepc_reference = final_landing_position.copy()\n",
    "\n",
    "    deepc_reference = np.tile(deepc_reference,Tf)\n",
    "    uref = np.zeros(m*Tf)\n",
    "    # if landing_mode == 0:\n",
    "    #   uref[::3] = rocket.g*rocket.mass/rocket.main_engine_thrust       \n",
    "\n",
    "    # get action\n",
    "    if((obs[6] and obs[7]) or touched_ground): # if both sensors touch the ground, stop\n",
    "      action = [0,0,0]\n",
    "      touched_ground = 1\n",
    "\n",
    "    elif not touched_ground:\n",
    "      if data_driven:\n",
    "         action, _ = np_controller.solve(y_ref=deepc_reference, u_ref=uref, y_ini=y_past_sim[-p:], u_ini=u_past_sim)\n",
    "      else:\n",
    "         if adaptive:\n",
    "          x_eq = y_past_sim[-p:]\n",
    "          x_eq[2:] = 0\n",
    "          u_eq = np.zeros(u_past_sim[-m:].shape)\n",
    "          u_eq[0] = 0.3228\n",
    "          mpc.A.value, mpc.B.value = rocket.linearise(x_eq=x_eq, u_eq=u_eq, discrete=True)\n",
    "         action, _ = mpc.solve(y_ref=deepc_reference, u_ref=uref, y_ini=y_past_sim[-p:])\n",
    "        # x_init = torch.Tensor(obs[:6]).unsqueeze(0)\n",
    "        # assert x_init.ndimension() == 2\n",
    "        # assert x_init.size(0) == 1\n",
    "        # _,u,_ = diff_controller(x_init=torch.Tensor(obs), cost=diff_cost, dx=RocketDx())\n",
    "        # action = tensor2np(u[0,:m])\n",
    "\n",
    "    # store input & output for DeePC\n",
    "    u_past_sim = np.append(u_past_sim[3:], action)\n",
    "    y_past_sim = np.append(y_past_sim, obs[0:6])\n",
    "\n",
    "    # # apply action\n",
    "    fig.append(env.render())\n",
    "    next_obs, rewards, done, _, info = env.step(action)\n",
    "    obs = next_obs\n",
    "    \n",
    "    # check if simulation ended\n",
    "    step_count += 1\n",
    "    if done or (step_count > max_steps):\n",
    "        # env.reset()\n",
    "        # vids += 1\n",
    "        # if vids == 2: break\n",
    "       \n",
    "       break\n",
    "    \n",
    "real_states = np.array(real_states)\n",
    "torch_states = np.array(torch_states)\n",
    "env.close()  # video saved at this step"
   ]
  },
  {
   "cell_type": "code",
   "execution_count": 13,
   "metadata": {},
   "outputs": [
    {
     "data": {
      "image/png": "[encoded data removed]",
      "text/plain": [
       "<Figure size 640x480 with 1 Axes>"
      ]
     },
     "metadata": {},
     "output_type": "display_data"
    }
   ],
   "source": [
    "plt.imshow(fig[-1])\n",
    "plt.axis('off')\n",
    "if not data_driven:\n",
    "    if rocket.true_model:\n",
    "        plt.savefig('images/mpc/rocket_good.png') \n",
    "    else: \n",
    "        plt.savefig('images/mpc/rocket_bad.png')\n",
    "else:\n",
    "    if Trained:\n",
    "        if not rocket.true_model:\n",
    "            plt.savefig('images/deepc/deepc_good_model.png') \n",
    "        else: \n",
    "            plt.savefig('images/deepc/rocket_bad.png')\n",
    "    else: plt.savefig('images/deepc/rocket_untrained.png')\n",
    "plt.show()"
   ]
  },
  {
   "cell_type": "code",
   "execution_count": 13,
   "metadata": {},
   "outputs": [
    {
     "data": {
      "image/png": "[encoded data removed]",
      "text/plain": [
       "<Figure size 640x480 with 1 Axes>"
      ]
     },
     "metadata": {},
     "output_type": "display_data"
    }
   ],
   "source": [
    "row = len(y_past_sim)/6\n",
    "x_traj_deepc = y_past_sim.reshape(int(row),6)\n",
    "\n",
    "plt.plot(x_traj_deepc[:,0], x_traj_deepc[:,1], c='blue', label='Trajectory')\n",
    "for step in range(x_traj_deepc.shape[0]):\n",
    "    plt.plot(\n",
    "        [x_traj_deepc[step,0], x_traj_deepc[step,0]+np.sin(-x_traj_deepc[step,4])],\n",
    "        [x_traj_deepc[step,1], x_traj_deepc[step,1]+np.cos(-x_traj_deepc[step,4])],\n",
    "        c='red', linewidth=0.2\n",
    "    )\n",
    "plt.plot(landing_position[0], landing_position[1], c='green', marker='x', markersize=8, markeredgewidth=2, linewidth=10, label='Landing Position')\n",
    "plt.legend()\n",
    "plt.xlim(10,25)\n",
    "plt.ylim(5,28)\n",
    "plt.tight_layout()\n",
    "if not data_driven:\n",
    "    if rocket.true_model:\n",
    "        plt.savefig('images/mpc/rocket_good.png') \n",
    "    else: \n",
    "        plt.savefig('images/mpc/rocket_bad.png')\n",
    "else:\n",
    "    if Trained:\n",
    "        if not rocket.true_model:\n",
    "            plt.savefig('images/deepc/deepc_good_model_traj.png') \n",
    "        else: \n",
    "            plt.savefig('images/deepc/rocket_bad.png')\n",
    "    else: plt.savefig('images/deepc/rocket_untrained.png')\n",
    "plt.show()"
   ]
  }
 ],
 "metadata": {
  "kernelspec": {
   "display_name": "deepc-dev",
   "language": "python",
   "name": "python3"
  },
  "language_info": {
   "codemirror_mode": {
    "name": "ipython",
    "version": 3
   },
   "file_extension": ".py",
   "mimetype": "text/x-python",
   "name": "python",
   "nbconvert_exporter": "python",
   "pygments_lexer": "ipython3",
   "version": "3.10.12"
  },
  "orig_nbformat": 4
 },
 "nbformat": 4,
 "nbformat_minor": 2
}
