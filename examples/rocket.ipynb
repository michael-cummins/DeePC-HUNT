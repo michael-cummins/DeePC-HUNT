{
 "cells": [
  {
   "cell_type": "code",
   "execution_count": 1,
   "metadata": {},
   "outputs": [
    {
     "name": "stderr",
     "output_type": "stream",
     "text": [
      "/opt/homebrew/Caskroom/miniforge/base/envs/deepc-dev/lib/python3.10/site-packages/gymnasium/experimental/wrappers/jax_to_numpy.py:75: DeprecationWarning: jax.numpy.DeviceArray is deprecated. Use jax.Array.\n",
      "  @jax_to_numpy.register(jnp.DeviceArray)\n",
      "/opt/homebrew/Caskroom/miniforge/base/envs/deepc-dev/lib/python3.10/site-packages/gymnasium/experimental/wrappers/jax_to_torch.py:105: DeprecationWarning: jax.numpy.DeviceArray is deprecated. Use jax.Array.\n",
      "  @jax_to_torch.register(jnp.DeviceArray)\n"
     ]
    }
   ],
   "source": [
    "%reload_ext autoreload\n",
    "%autoreload 2\n",
    "\n",
    "import torch.nn as nn\n",
    "from numpy import genfromtxt\n",
    "import numpy as np\n",
    "import torch\n",
    "from deepc_hunt.dynamics import CartpoleDx, RocketDx\n",
    "from deepc_hunt import DeePC, Trainer\n",
    "from deepc_hunt.controllers import npDeePC, npMPC\n",
    "from deepc_hunt.utils import tensor2np\n",
    "from mpc import mpc\n",
    "from mpc.mpc import QuadCost, GradMethods\n",
    "import matplotlib.pyplot as plt\n",
    "\n",
    "import gymnasium as gym\n",
    "import itertools\n",
    "import random\n",
    "import coco_rocket_lander  # need to import to call gym.make()\n",
    "\n",
    "%matplotlib inline"
   ]
  },
  {
   "cell_type": "markdown",
   "metadata": {},
   "source": [
    "### Data collection"
   ]
  },
  {
   "cell_type": "code",
   "execution_count": 2,
   "metadata": {},
   "outputs": [],
   "source": [
    "# initialize data collection\n",
    "# PRBS INPUT\n",
    "PRBS_inputs = [(0.33, -1, -0.5), (0.33, 0, -1), (0.75, -1, 1), (0.33, 0, 0.5), \n",
    " (0, -1, 0), (0.33, -1, 1), (0.75, 0, -0.5), (0.75, 0, -1), (0.75, -1, 0.5), (0, 0, 0), \n",
    "  (0.75, 1, 0.5), (0, 0, -0.5), (0.33, 1, 0), (0.75, 0, 0), (0.33, 0, 1), (0, -1, 1), (0.75, -1, -1), \n",
    "   (0, -1, 0.5), (0.75, 1, 1), (0.33, 1, -0.5), (0, 1, -0.5), (0.33, 0, 0), (0, 1, 1), (0.75, 1, -1), \n",
    "    (0.33, 1, 1), (0.75, -1, -0.5), (0.75, 1, -0.5), (0, 0, 1), (0.75, 0, 1), (0.33, -1, 0.5), (0, -1, -1), \n",
    "     (0, 1, 0), (0.33, 0, -0.5), (0.75, 0, 0.5), (0, 0, 0.5), (0.33, -1, 0), (0.75, 1, 0), (0.75, -1, 0), \n",
    "      (0, 0, -1), (0, 1, -1), (0.33, 1, -1), (0, -1, -0.5), (0.33, -1, -1), (0.33, 1, 0.5), (0, 1, 0.5)]\n",
    "      \n",
    "PRBS_interval = 5 # Number of frames per input\n",
    "\n",
    "############### RANDOM INPUT GENERATOR ###############\n",
    "\n",
    "# set1 = (0, 0.33, 0.75)\n",
    "# set2 = (-1, 0, 1)\n",
    "# set3 = (-1, -0.5, 0,  0.5, 1)\n",
    "\n",
    "# PRBS_inputs = list(itertools.product(set1, set2, set3))\n",
    "# random.shuffle(PRBS_inputs)\n",
    "# print(\"Number of PRBS inputs is:\", len(PRBS_inputs))\n",
    "# print(\"PRBS input combinations are:\", PRBS_inputs)\n",
    "\n",
    "#######################################################\n",
    "\n",
    "collected = True # Change to False if you want to collect data\n",
    "\n",
    "if not collected:\n",
    "\n",
    "      n = 6 # states\n",
    "      m = 3 # inputs\n",
    "      p = 6 # outputs\n",
    "\n",
    "      T_past = 1 # number of past measurements (also called T_ini)\n",
    "      T_future = 10 # number of future measurements (also called K)\n",
    "\n",
    "      L = T_past + T_future # length of a data sequence\n",
    "      print(\"Length of a data sequence:\", L)\n",
    "\n",
    "      T_hankel =  PRBS_interval*len(PRBS_inputs) #(m*L + n) + L - 1 # number of measurements used to fill Hankel Matrix\n",
    "\n",
    "      print(\"Number of measurements to fill Hankel Matrix:\", T_hankel)\n",
    "\n",
    "      rank_hankel_theoretical = m*L + n # theoretical maximum rank of Hankel Matrix\n",
    "      print(\"Theoretical maximum rank of Hankel Matrix:\", rank_hankel_theoretical)\n",
    "\n",
    "      u_data = np.zeros((T_hankel,m))\n",
    "      y_data = np.zeros((T_hankel,p))\n",
    "      print(\"Shape of u_data:\", np.shape(u_data))\n",
    "      print(\"Shape of y_data:\", np.shape(y_data))\n",
    "\n",
    "\n",
    "      # make environment and wrap video so that we can replay them later\n",
    "\n",
    "      args = {\n",
    "      \"initial_position\": (0.5, 0.4, 0)\n",
    "      }\n",
    "\n",
    "      env = gym.make(\"coco_rocket_lander/RocketLander-v0\", render_mode=\"rgb_array\", args=args)\n",
    "      env = gym.wrappers.RecordVideo(env, 'video', episode_trigger = lambda x: True, name_prefix=\"DeePC_Data_Collection\")\n",
    "\n",
    "      # simulate\n",
    "      step_count = 0\n",
    "      max_steps = T_hankel\n",
    "\n",
    "      obs, info = env.reset(seed=0)  # specify a random seed for consistency\n",
    "\n",
    "      while True:\n",
    "            landing_position = env.get_landing_position()  # (x, y, theta) in [m, m, radians]\n",
    "\n",
    "            # PRBS INPUT\n",
    "            action = np.array(PRBS_inputs[step_count//PRBS_interval])\n",
    "            # print(\"Used PRBS input number:\", step_count//PRBS_interval)\n",
    "\n",
    "            # collect data\n",
    "            u_data[step_count] = action\n",
    "            y_data[step_count] = obs[0:6]\n",
    "\n",
    "            next_obs, rewards, done, _, info = env.step(action)\n",
    "\n",
    "            # check if simulation ended\n",
    "            step_count += 1\n",
    "            if done or (step_count >= max_steps):\n",
    "                  break\n",
    "\n",
    "            # update observation\n",
    "            obs = next_obs\n",
    "\n",
    "            env.close()  "
   ]
  },
  {
   "cell_type": "markdown",
   "metadata": {},
   "source": [
    "### Initialise controller"
   ]
  },
  {
   "cell_type": "code",
   "execution_count": 3,
   "metadata": {},
   "outputs": [],
   "source": [
    "q = torch.Tensor([100,10,5,1,3000,30]) # 6-tuple (x, y, x_dot, y_dot, theta, theta_dot)\n",
    "r = torch.Tensor([0.01,0.01,0.01]) # 3-tuple (F_E, F_S, phi)\n",
    "q_np = tensor2np(q)\n",
    "r_np = tensor2np(r)\n",
    "\n",
    "n = 6 # states\n",
    "m = 3 # inputs\n",
    "p = 6 # outputs\n",
    "\n",
    "Tini = 1 # number of past measurements (also called T_ini)\n",
    "Tf = 10 # number of future measurements (also called K)\n",
    "device = 'cuda' if torch.cuda.is_available() else 'cpu'\n",
    "n_batch = 1\n",
    "\n",
    "ud = np.genfromtxt('data/rocket_ud.csv', delimiter=',')\n",
    "yd = np.genfromtxt('data/rocket_yd.csv', delimiter=',')\n",
    "\n",
    "# y_constraints = np.ones(Tf*p)*1e5 #Unconstrained\n",
    "# u_constraints = np.ones(Tf*m)\n",
    "y_upper = np.kron(np.ones(Tf), np.array([33,26.6,100,100,0.6,100]))\n",
    "y_lower = np.kron(np.ones(Tf), np.array([0,7,-100,-100,-0.6,-100]))\n",
    "u_upper = np.kron(np.ones(Tf), np.array([1,1,1]))\n",
    "u_lower = np.kron(np.ones(Tf), np.array([0,-1,-1]))\n",
    "y_constraints = (y_lower, y_upper)\n",
    "u_constraints = (u_lower, u_upper)\n",
    "Trained = True\n"
   ]
  },
  {
   "cell_type": "code",
   "execution_count": null,
   "metadata": {},
   "outputs": [
    {
     "name": "stdout",
     "output_type": "stream",
     "text": [
      "225\n"
     ]
    }
   ],
   "source": [
    "# For training\n",
    "controller = DeePC(\n",
    "    ud=ud, yd=yd, u_constraints=u_constraints, y_constraints=y_constraints,\n",
    "    Tini=Tini, N=Tf, m=m, p=p, n_batch=n_batch, device=device,\n",
    "    linear=False, stochastic_y=True, stochastic_u=False, q=q, r=r,\n",
    ").to(device)\n",
    "\n",
    "epochs = 100\n",
    "time_steps = 20\n",
    "rocket = RocketDx(true_model=False)"
   ]
  },
  {
   "cell_type": "markdown",
   "metadata": {},
   "source": [
    "### Run DeePC-Hunt using the the rocket surrogate dynamics"
   ]
  },
  {
   "cell_type": "code",
   "execution_count": 6,
   "metadata": {},
   "outputs": [
    {
     "name": "stderr",
     "output_type": "stream",
     "text": [
      "lam_y : 999.860, lam_g1 : 24.398, lam_g2 : 4.402, : 100%|█████████| 100/100 [34:22<00:00, 20.63s/it]"
     ]
    },
    {
     "name": "stdout",
     "output_type": "stream",
     "text": [
      "Name : lam_y, Value : tensor([999.8599])\n",
      "Name : lam_g1, Value : tensor([24.3985])\n",
      "Name : lam_g2, Value : tensor([4.4016])\n"
     ]
    },
    {
     "name": "stderr",
     "output_type": "stream",
     "text": [
      "\n"
     ]
    }
   ],
   "source": [
    "initial_params = {'lam_g1':50, 'lam_g2':50, 'lam_y':1000}\n",
    "\n",
    "# Tune regularization params\n",
    "controller.initialise(lam_g1=initial_params['lam_g1'], lam_g2=initial_params['lam_g2'], lam_y=initial_params['lam_y'])\n",
    "deepc_tuner = Trainer(controller=controller, env=rocket)\n",
    "final_params = deepc_tuner.run(epochs=epochs, time_steps=time_steps)\n",
    "Trained = True"
   ]
  },
  {
   "cell_type": "markdown",
   "metadata": {},
   "source": [
    "### Build New DeePC controllers\n",
    "\n",
    "Take the final and initial regularisation parameters and build faster implementation in NumPy and CvxPy"
   ]
  },
  {
   "cell_type": "code",
   "execution_count": null,
   "metadata": {},
   "outputs": [
    {
     "data": {
      "text/plain": [
       "<deepc_hunt.controllers.npDeePC at 0x30e6120e0>"
      ]
     },
     "execution_count": 12,
     "metadata": {},
     "output_type": "execute_result"
    }
   ],
   "source": [
    "# Trained controller in NumPy\n",
    "trained_controller = npDeePC(\n",
    "    ud=ud, yd=yd, u_constraints=u_constraints, y_constraints=y_constraints,\n",
    "    Tini=Tini, N=Tf, m=m, p=p, n=n\n",
    ")\n",
    "trained_controller.setup(Q=np.diag(q_np), R=np.diag(r_np), \n",
    "    lam_g1=tensor2np(final_params['lam_g1']), \n",
    "    lam_g2=tensor2np(final_params['lam_g2']), \n",
    "    lam_y=tensor2np(final_params['lam_y'])\n",
    ")"
   ]
  },
  {
   "cell_type": "code",
   "execution_count": 13,
   "metadata": {},
   "outputs": [
    {
     "name": "stdout",
     "output_type": "stream",
     "text": [
      "A:\n",
      " [[1.    0.    0.017 0.    0.    0.   ]\n",
      " [0.    1.    0.    0.017 0.    0.   ]\n",
      " [0.    0.    1.    0.    0.    0.   ]\n",
      " [0.    0.    0.    1.    0.    0.   ]\n",
      " [0.    0.    0.    0.    1.    0.017]\n",
      " [0.    0.    0.    0.    0.    1.   ]] \n",
      "\n",
      " B:\n",
      " [[ 0.     0.     0.   ]\n",
      " [ 0.008  0.     0.   ]\n",
      " [ 0.     0.02   0.   ]\n",
      " [ 1.013  0.     0.   ]\n",
      " [ 0.    -0.     0.   ]\n",
      " [ 0.    -0.013  0.   ]]\n"
     ]
    },
    {
     "data": {
      "text/plain": [
       "<deepc_hunt.controllers.npMPC at 0x328d15840>"
      ]
     },
     "execution_count": 13,
     "metadata": {},
     "output_type": "execute_result"
    }
   ],
   "source": [
    "x_eq = np.array([16.6,7.47,0,0,0,0]) # Landing position\n",
    "u_eq = np.array([0,0,0])\n",
    "\n",
    "A, B = rocket.linearise(x_eq=x_eq, u_eq=u_eq, discrete=True)\n",
    "print(\"A:\\n\", A.round(3), \"\\n\"*2, \"B:\\n\", B.round(3))\n",
    "\n",
    "mpc = npMPC(\n",
    "        A=A, B=B, Q=np.diag(q_np), R=np.diag(r_np), N=Tf, \n",
    "        u_constraints=u_constraints, y_constraints=y_constraints\n",
    ")\n",
    "mpc.setup()"
   ]
  },
  {
   "cell_type": "markdown",
   "metadata": {},
   "source": [
    "### Showcase trained controller on real simulation"
   ]
  },
  {
   "cell_type": "code",
   "execution_count": null,
   "metadata": {},
   "outputs": [
    {
     "name": "stderr",
     "output_type": "stream",
     "text": [
      "/opt/homebrew/Caskroom/miniforge/base/envs/deepc-dev/lib/python3.10/site-packages/gymnasium/wrappers/record_video.py:79: UserWarning: \u001b[33mWARN: Overwriting existing videos at /Users/michaelcummins/DeePC-HUNT/videos/DeePC folder (try specifying a different `video_folder` for the `RecordVideo` wrapper if this is not desired)\u001b[0m\n",
      "  logger.warn(\n",
      "100%|██████████| 1200/1200 [02:57<00:00,  6.77it/s]\n"
     ]
    },
    {
     "name": "stdout",
     "output_type": "stream",
     "text": [
      "Moviepy - Building video /Users/michaelcummins/DeePC-HUNT/videos/DeePC/DeePC-episode-0.mp4.\n",
      "Moviepy - Writing video /Users/michaelcummins/DeePC-HUNT/videos/DeePC/DeePC-episode-0.mp4\n",
      "\n"
     ]
    },
    {
     "name": "stderr",
     "output_type": "stream",
     "text": [
      "                                                                 "
     ]
    },
    {
     "name": "stdout",
     "output_type": "stream",
     "text": [
      "Moviepy - Done !\n",
      "Moviepy - video ready /Users/michaelcummins/DeePC-HUNT/videos/DeePC/DeePC-episode-0.mp4\n"
     ]
    },
    {
     "name": "stderr",
     "output_type": "stream",
     "text": [
      "\r"
     ]
    }
   ],
   "source": [
    "import gymnasium as gym\n",
    "import numpy as np\n",
    "from tqdm import tqdm\n",
    "\n",
    "import coco_rocket_lander  # need to import to call gym.make()\n",
    "\n",
    "args = {\n",
    "    \"initial_position\": (0.6, 0.9, 0.1),  # 3-tuple (x, y, theta)\n",
    "    \"enable_wind\": False,\n",
    "}\n",
    "vids = 1\n",
    "data_driven = True\n",
    "root = 'DeePC' if data_driven else 'MPC'\n",
    "\n",
    "# make environment and wrap video so that we can replay them later\n",
    "env = gym.make(\"coco_rocket_lander/RocketLander-v0\", render_mode=\"rgb_array\", args=args)\n",
    "env = gym.wrappers.RecordVideo(env, '../videos/' + root, episode_trigger = lambda x: True, name_prefix=root)\n",
    "obs, info = env.reset()  # specify a random seed for consistency\n",
    "\n",
    "# initialize variables\n",
    "step_count = 0\n",
    "max_steps = 1200\n",
    "touched_ground = 0\n",
    "landing_mode = 0\n",
    "final_landing_position = []\n",
    "\n",
    "# landing parameters\n",
    "hover_height = 0\n",
    "x_tol = 0.5\n",
    "x_dot_tol = 0.3\n",
    "theta_tol = 0.1\n",
    "fig = []\n",
    "\n",
    "#Initial state for DeePC\n",
    "u_past_sim = np.zeros(3*Tini)\n",
    "y_past_sim = np.tile(obs[0:6],Tini)\n",
    "\n",
    "torch_states = []\n",
    "real_states = []\n",
    "\n",
    "# simulate\n",
    "pbar = tqdm(range(max_steps))\n",
    "for i in pbar:\n",
    "\n",
    "  # Get references for tracking\n",
    "  landing_position = env.get_landing_position()  # (x, y, theta) in [m, m, radians]\n",
    "  deepc_reference = [0,0,0,0,0,0]\n",
    "  deepc_reference[0] = landing_position[0]\n",
    "  deepc_reference[1] = landing_position[1] \n",
    "  deepc_reference = np.tile(deepc_reference,Tf)\n",
    "  uref = np.zeros(m*Tf)     \n",
    "\n",
    "  # Compute control action depending on data-driven or model-based policy\n",
    "  if data_driven:\n",
    "    action, _ = trained_controller.solve(y_ref=deepc_reference, u_ref=uref, y_ini=y_past_sim[-p:], u_ini=u_past_sim)\n",
    "  else:\n",
    "    action, _ = mpc.solve(y_ref=deepc_reference, u_ref=uref, y_ini=y_past_sim[-p:])\n",
    "\n",
    "  # store input & output for DeePC\n",
    "  u_past_sim = np.append(u_past_sim[3:], action)\n",
    "  y_past_sim = np.append(y_past_sim, obs[0:6])\n",
    "\n",
    "  # # apply action\n",
    "  fig.append(env.render())\n",
    "  next_obs, rewards, done, _, info = env.step(action)\n",
    "  obs = next_obs\n",
    "\n",
    "  # check if simulation ended\n",
    "  step_count += 1\n",
    "  if done or (step_count > max_steps):\n",
    "    break\n",
    "\n",
    "# Save trajectory for plotting\n",
    "real_states = np.array(real_states)\n",
    "torch_states = np.array(torch_states)\n",
    "env.close()  # video saved at this step"
   ]
  },
  {
   "cell_type": "markdown",
   "metadata": {},
   "source": [
    "### Display final landing position of rocket"
   ]
  },
  {
   "cell_type": "code",
   "execution_count": 19,
   "metadata": {},
   "outputs": [
    {
     "data": {
      "image/png": "[encoded data removed]",
      "text/plain": [
       "<Figure size 640x480 with 1 Axes>"
      ]
     },
     "metadata": {},
     "output_type": "display_data"
    }
   ],
   "source": [
    "plt.imshow(fig[-1])\n",
    "plt.axis('off')\n",
    "if not data_driven:\n",
    "    if rocket.true_model:\n",
    "        plt.savefig('images/mpc/mpc_good.png') \n",
    "    else: \n",
    "        plt.savefig('images/mpc/mpc_bad.png')\n",
    "else:\n",
    "    if Trained:\n",
    "        if rocket.true_model:\n",
    "            plt.savefig('images/deepc/deepc_good.png') \n",
    "        else: \n",
    "            plt.savefig('images/deepc/deepc_bad.png')\n",
    "    else: plt.savefig('images/deepc/rocket_untrained.png')\n",
    "plt.show()"
   ]
  },
  {
   "cell_type": "markdown",
   "metadata": {},
   "source": [
    "### Trajectory Plotting"
   ]
  },
  {
   "cell_type": "code",
   "execution_count": null,
   "metadata": {},
   "outputs": [
    {
     "data": {
      "image/png": "[encoded data removed]",
      "text/plain": [
       "<Figure size 640x480 with 1 Axes>"
      ]
     },
     "metadata": {},
     "output_type": "display_data"
    }
   ],
   "source": [
    "import matplotlib\n",
    "matplotlib.rcParams.update({'font.size': 20})\n",
    "\n",
    "# Plot the trajectory of rocket depending on policy\n",
    "Trained = True\n",
    "row = len(y_past_sim)/6\n",
    "x_traj_deepc = y_past_sim.reshape(int(row),6)\n",
    "\n",
    "plt.plot(x_traj_deepc[:,0], x_traj_deepc[:,1], c='blue', label='Trajectory')\n",
    "for step in range(x_traj_deepc.shape[0]):\n",
    "    plt.plot(\n",
    "        [x_traj_deepc[step,0], x_traj_deepc[step,0]+np.sin(-x_traj_deepc[step,4])],\n",
    "        [x_traj_deepc[step,1], x_traj_deepc[step,1]+np.cos(-x_traj_deepc[step,4])],\n",
    "        c='red', linewidth=0.2\n",
    "    )\n",
    "plt.plot(landing_position[0], landing_position[1], c='green', marker='x', markersize=8, markeredgewidth=2, linewidth=10, label='Landing Position')\n",
    "plt.legend(loc='upper left')\n",
    "plt.xlabel('x (meters)')\n",
    "plt.ylabel('y (meters)')\n",
    "plt.xlim(10,22.5)\n",
    "plt.ylim(5,28)\n",
    "plt.tight_layout()\n",
    "\n",
    "if not data_driven:\n",
    "    if rocket.true_model:\n",
    "        plt.savefig('images/mpc/mpc_good_traj.png') \n",
    "    else: \n",
    "        plt.savefig('images/mpc/mpc_bad_traj.png')\n",
    "else:\n",
    "    if Trained:\n",
    "        if rocket.true_model:\n",
    "            print('saving')\n",
    "            plt.savefig('images/deepc/deepc_good_traj.png') \n",
    "        else: \n",
    "            plt.savefig('images/deepc/deepc_bad_traj.png')\n",
    "    else: \n",
    "        plt.savefig('images/deepc/rocket_untrained_traj.png')\n",
    "plt.show()"
   ]
  }
 ],
 "metadata": {
  "kernelspec": {
   "display_name": "deepc-dev",
   "language": "python",
   "name": "python3"
  },
  "language_info": {
   "codemirror_mode": {
    "name": "ipython",
    "version": 3
   },
   "file_extension": ".py",
   "mimetype": "text/x-python",
   "name": "python",
   "nbconvert_exporter": "python",
   "pygments_lexer": "ipython3",
   "version": "3.10.12"
  },
  "orig_nbformat": 4
 },
 "nbformat": 4,
 "nbformat_minor": 2
}
