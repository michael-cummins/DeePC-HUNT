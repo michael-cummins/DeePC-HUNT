{
 "cells": [
  {
   "cell_type": "code",
   "execution_count": 3,
   "metadata": {},
   "outputs": [
    {
     "name": "stdout",
     "output_type": "stream",
     "text": [
      "The autoreload extension is already loaded. To reload it, use:\n",
      "  %reload_ext autoreload\n"
     ]
    }
   ],
   "source": [
    "%load_ext autoreload\n",
    "# %reload_ext autoreload\n",
    "%autoreload 2\n",
    "from IPython.display import HTML\n",
    "import numpy as np\n",
    "from numpy import loadtxt\n",
    "import matplotlib.pyplot as plt\n",
    "from deepc_hunt.utils import CartpoleDx, Projection, episode_loss\n",
    "from tqdm import tqdm\n",
    "import torch\n",
    "import torch.optim as optim\n",
    "import tempfile\n",
    "from deepc_hunt.controllers import DDeePC\n",
    "import os\n",
    "import io\n",
    "import base64\n",
    "torch.manual_seed(0)\n",
    "\n",
    "%matplotlib inline\n"
   ]
  },
  {
   "attachments": {},
   "cell_type": "markdown",
   "metadata": {},
   "source": [
    "## Initialise controller parameters and data\n"
   ]
  },
  {
   "cell_type": "code",
   "execution_count": 4,
   "metadata": {},
   "outputs": [
    {
     "name": "stdout",
     "output_type": "stream",
     "text": [
      "cuda\n"
     ]
    }
   ],
   "source": [
    "##################################\n",
    "# Do Not Change #\n",
    "Tini = 4\n",
    "m = 1\n",
    "p = 4\n",
    "Tf = 25\n",
    "T = (m+1)*(Tini + Tf + p) + 4\n",
    "##################################\n",
    "\n",
    "n_batch = 20\n",
    "\n",
    "device = 'cuda' if torch.cuda.is_available() else 'cpu'\n",
    "# device = 'cpu'\n",
    "print(device)\n",
    "\n",
    "ud = loadtxt('data/cartpole_ud.csv', delimiter=',')\n",
    "yd = loadtxt('data/cartpole_yd.csv', delimiter=',')\n",
    "yd = yd.reshape(T*p,)\n",
    "\n",
    "noise =  np.random.randn(*yd.shape)*0.001\n",
    "noiseu =  np.random.randn(*ud.shape)*0.01\n",
    "yd = yd + noise\n",
    "ud = ud + noiseu\n",
    "\n",
    "dx = CartpoleDx().to(device)\n",
    "projection = Projection()\n",
    "\n",
    "def uniform(shape, low, high):\n",
    "    r = high-low\n",
    "    return torch.rand(shape)*r+low"
   ]
  },
  {
   "cell_type": "markdown",
   "metadata": {},
   "source": [
    "## Initialise Controller"
   ]
  },
  {
   "cell_type": "code",
   "execution_count": 5,
   "metadata": {},
   "outputs": [
    {
     "name": "stderr",
     "output_type": "stream",
     "text": [
      "/home/michaelc/anaconda3/envs/deepc-hunt/lib/python3.9/site-packages/cvxpy/reductions/solvers/solving_chain.py:222: UserWarning: Your problem has too many parameters for efficient DPP compilation. We suggest setting 'ignore_dpp = True'.\n",
      "  warnings.warn(\n"
     ]
    },
    {
     "name": "stdout",
     "output_type": "stream",
     "text": [
      "Parameter containing:\n",
      "tensor([200.0015], device='cuda:0', requires_grad=True)\n",
      "Parameter containing:\n",
      "tensor([199.9971], device='cuda:0', requires_grad=True)\n",
      "Parameter containing:\n",
      "tensor([199.9998], device='cuda:0', requires_grad=True)\n",
      "Parameter containing:\n",
      "tensor([200.0006], device='cuda:0', requires_grad=True)\n"
     ]
    }
   ],
   "source": [
    "u_constraints = np.ones(Tf)*4\n",
    "y_constraints = np.kron(np.ones(Tf), np.array([0.25, 0.2, 0.15, 0.2]))\n",
    "r = torch.ones(m)*0.01\n",
    "q = torch.ones(p)*100 \n",
    "q = torch.Tensor([100,10,100,10])\n",
    "\n",
    "lam_g1 = torch.Tensor([500.409]).to(device) \n",
    "lam_g2 = torch.Tensor([0.01]).to(device) \n",
    "lam_y = torch.Tensor([250.258]).to(device) \n",
    "lam_u = torch.Tensor([250.258]).to(device) \n",
    "\n",
    "controller = DDeePC(\n",
    "    ud=ud, yd=yd, u_constraints=u_constraints, y_constraints=y_constraints,\n",
    "    Tini=Tini, N=Tf, m=m, p=p, n_batch=n_batch, device=device,\n",
    "    linear=False, stochastic_y=True, stochastic_u=True, q=q, r=r\n",
    ").to(device)\n",
    "\n",
    "for param in controller.parameters():\n",
    "    print(param)"
   ]
  },
  {
   "cell_type": "markdown",
   "metadata": {},
   "source": [
    "## Training"
   ]
  },
  {
   "cell_type": "code",
   "execution_count": 6,
   "metadata": {},
   "outputs": [
    {
     "name": "stderr",
     "output_type": "stream",
     "text": [
      "loss=40.911, ly=375.958,l1=200.059, l2=24.044, lu=200.056: 100%|██████████| 70/70 [20:35<00:00, 17.65s/it]   \n"
     ]
    }
   ],
   "source": [
    "t_dir = tempfile.mkdtemp()\n",
    "\n",
    "opt = optim.Rprop(controller.parameters(), lr=0.01, step_sizes=(1e-4,50))\n",
    "epochs = 70\n",
    "pbar = tqdm(range(epochs))\n",
    "\n",
    "Q, R = torch.diag(controller.q).to(controller.device), torch.diag(controller.r).to(controller.device)\n",
    "Q = torch.kron(torch.eye(controller.N).to(controller.device), Q)\n",
    "R = torch.kron(torch.eye(controller.N).to(controller.device), R)\n",
    "\n",
    "for j in pbar:\n",
    "                                                                                                                                        \n",
    "    uini = (torch.zeros(size=(n_batch, Tini*m)) + torch.randn(n_batch, Tini*m)*0.001).to(device)\n",
    "    uini += torch.randn(uini.shape).to(device)*0.01\n",
    "    \n",
    "    zero = torch.zeros(n_batch)\n",
    "    th = uniform((n_batch), -0.01, 0.01)\n",
    "    \n",
    "    yini = torch.stack((zero, zero, th, zero), dim=1).repeat(1,Tini)\n",
    "    y = yini[:,-p:].to(device)\n",
    "    yini += torch.randn(yini.shape)*0.001\n",
    "    yini = yini.to(device)\n",
    "    traj = yini\n",
    "    \n",
    "    Y, U = torch.Tensor().to(device), torch.Tensor().to(device)\n",
    "    # G, Ey, Eu = torch.Tensor().to(device), torch.Tensor().to(device), torch.Tensor().to(device)\n",
    "\n",
    "    for i in range(controller.N):\n",
    "\n",
    "        g, u_pred, _, sig_y, sig_u = controller(ref=None, uref=None, y_ini=yini, u_ini=uini)\n",
    "        \n",
    "        # G, Ey, Eu = torch.cat((G, g.unsqueeze(1)), axis=1), torch.cat((Ey, sig_y.unsqueeze(1)), axis=1), torch.cat((Eu, sig_u.unsqueeze(1)), axis=1)\n",
    "        input = u_pred[:,:m] + torch.randn(u_pred[:,:m].shape).to(device)*0.01\n",
    "        y = dx(y, input)\n",
    "\n",
    "        U = torch.cat((U, input.unsqueeze(1)), axis=1)\n",
    "        Y = torch.cat((Y, y.unsqueeze(1)), axis=1)\n",
    "       \n",
    "        noise = torch.randn(y.shape).to(device)*0.001\n",
    "        y += noise\n",
    "       \n",
    "        yini = torch.cat((yini[:, p:], y), axis=1)\n",
    "        uini = torch.cat((uini[:, m:], input), axis=1)\n",
    " \n",
    "    # loss = episode_loss(G=G, U=U, Y=Y, Ey=Ey, Eu=Eu, controller=controller, PI=PI)\n",
    "    Y = Y.reshape((Y.shape[0], Y.shape[1]*Y.shape[2],1))\n",
    "    loss = torch.sum(Y.mT @ Q @ Y + U.mT @ R @ U)\n",
    "    opt.zero_grad()   \n",
    "    loss.backward()\n",
    "    opt.step()\n",
    "    controller.apply(projection)\n",
    "\n",
    "    pbar.set_description(f'loss={loss.item():.3f}, ly={controller.lam_y.data.item():.3f},\\\n",
    " l1={controller.lam_g1.data.item():.3f}, l2={controller.lam_g2.data.item():.3f}, lu={controller.lam_u.data.item():.3f}')"
   ]
  },
  {
   "cell_type": "markdown",
   "metadata": {},
   "source": [
    "## Demo new parameters"
   ]
  },
  {
   "cell_type": "code",
   "execution_count": 7,
   "metadata": {},
   "outputs": [],
   "source": [
    "# Demo learned parameters\n",
    "learned_params = [param for param in controller.parameters()]\n",
    "# learned_params = [torch.Tensor([420]).to(device), torch.Tensor([200]).to(device), torch.Tensor([200]).to(device), torch.Tensor([2.5]).to(device)]\n",
    "demo_controller = DDeePC(\n",
    "    ud=ud, yd=yd, u_constraints=u_constraints, y_constraints=y_constraints,\n",
    "    Tini=Tini, N=Tf, m=m, p=p, n_batch=4, device=device,\n",
    "    linear=False, stochastic_y=True, stochastic_u=True, q=q, r=r,\n",
    "    lam_y=learned_params[0], lam_g1=learned_params[1], lam_g2=learned_params[3], lam_u=learned_params[2]\n",
    ").to(device)\n",
    "\n",
    "# Demo parameters we initialised with\n",
    "initial_param = torch.Tensor([200]).to(device)\n",
    "initial_controller = DDeePC(\n",
    "    ud=ud, yd=yd, u_constraints=u_constraints, y_constraints=y_constraints,\n",
    "    Tini=Tini, N=Tf, m=m, p=p, n_batch=4, device=device,\n",
    "    linear=False, stochastic_y=True, stochastic_u=True, q=q, r=r,\n",
    "    lam_y=initial_param, lam_g1=initial_param, lam_g2=initial_param, lam_u=initial_param\n",
    ").to(device)"
   ]
  },
  {
   "cell_type": "code",
   "execution_count": 8,
   "metadata": {},
   "outputs": [
    {
     "name": "stdout",
     "output_type": "stream",
     "text": [
      "Tmp dir: /tmp/tmp6emea3mz\n"
     ]
    },
    {
     "name": "stderr",
     "output_type": "stream",
     "text": [
      "100%|██████████| 100/100 [00:15<00:00,  6.43it/s]\n",
      "ffmpeg version 4.4.2-0ubuntu0.22.04.1 Copyright (c) 2000-2021 the FFmpeg developers\n",
      "  built with gcc 11 (Ubuntu 11.2.0-19ubuntu1)\n",
      "  configuration: --prefix=/usr --extra-version=0ubuntu0.22.04.1 --toolchain=hardened --libdir=/usr/lib/x86_64-linux-gnu --incdir=/usr/include/x86_64-linux-gnu --arch=amd64 --enable-gpl --disable-stripping --enable-gnutls --enable-ladspa --enable-libaom --enable-libass --enable-libbluray --enable-libbs2b --enable-libcaca --enable-libcdio --enable-libcodec2 --enable-libdav1d --enable-libflite --enable-libfontconfig --enable-libfreetype --enable-libfribidi --enable-libgme --enable-libgsm --enable-libjack --enable-libmp3lame --enable-libmysofa --enable-libopenjpeg --enable-libopenmpt --enable-libopus --enable-libpulse --enable-librabbitmq --enable-librubberband --enable-libshine --enable-libsnappy --enable-libsoxr --enable-libspeex --enable-libsrt --enable-libssh --enable-libtheora --enable-libtwolame --enable-libvidstab --enable-libvorbis --enable-libvpx --enable-libwebp --enable-libx265 --enable-libxml2 --enable-libxvid --enable-libzimg --enable-libzmq --enable-libzvbi --enable-lv2 --enable-omx --enable-openal --enable-opencl --enable-opengl --enable-sdl2 --enable-pocketsphinx --enable-librsvg --enable-libmfx --enable-libdc1394 --enable-libdrm --enable-libiec61883 --enable-chromaprint --enable-frei0r --enable-libx264 --enable-shared\n",
      "  libavutil      56. 70.100 / 56. 70.100\n",
      "  libavcodec     58.134.100 / 58.134.100\n",
      "  libavformat    58. 76.100 / 58. 76.100\n",
      "  libavdevice    58. 13.100 / 58. 13.100\n",
      "  libavfilter     7.110.100 /  7.110.100\n",
      "  libswscale      5.  9.100 /  5.  9.100\n",
      "  libswresample   3.  9.100 /  3.  9.100\n",
      "  libpostproc    55.  9.100 / 55.  9.100\n",
      "Input #0, image2, from '/tmp/tmp6emea3mz/%03d.png':\n",
      "  Duration: 00:00:06.25, start: 0.000000, bitrate: N/A\n",
      "  Stream #0:0: Video: png, rgba(pc), 600x600 [SAR 3937:3937 DAR 1:1], 16 fps, 16 tbr, 16 tbn, 16 tbc\n",
      "Stream mapping:\n",
      "  Stream #0:0 -> #0:0 (png (native) -> h264 (libx264))\n",
      "Press [q] to stop, [?] for help\n",
      "[libx264 @ 0x563b0f92d940] using SAR=1/1\n",
      "[libx264 @ 0x563b0f92d940] using cpu capabilities: MMX2 SSE2Fast SSSE3 SSE4.2 AVX FMA3 BMI2 AVX2\n",
      "[libx264 @ 0x563b0f92d940] profile High, level 3.0, 4:2:0, 8-bit\n",
      "[libx264 @ 0x563b0f92d940] 264 - core 163 r3060 5db6aa6 - H.264/MPEG-4 AVC codec - Copyleft 2003-2021 - http://www.videolan.org/x264.html - options: cabac=1 ref=3 deblock=1:0:0 analyse=0x3:0x113 me=hex subme=7 psy=1 psy_rd=1.00:0.00 mixed_ref=1 me_range=16 chroma_me=1 trellis=1 8x8dct=1 cqm=0 deadzone=21,11 fast_pskip=1 chroma_qp_offset=-2 threads=19 lookahead_threads=3 sliced_threads=0 nr=0 decimate=1 interlaced=0 bluray_compat=0 constrained_intra=0 bframes=3 b_pyramid=2 b_adapt=1 b_bias=0 direct=1 weightb=1 open_gop=0 weightp=2 keyint=250 keyint_min=16 scenecut=40 intra_refresh=0 rc_lookahead=40 rc=crf mbtree=1 crf=25.0 qcomp=0.60 qpmin=0 qpmax=69 qpstep=4 ip_ratio=1.40 aq=1:1.00\n",
      "Output #0, mp4, to '../videos/cartpole_init.mp4':\n",
      "  Metadata:\n",
      "    encoder         : Lavf58.76.100\n",
      "  Stream #0:0: Video: h264 (avc1 / 0x31637661), yuv420p(tv, progressive), 600x600 [SAR 1:1 DAR 1:1], q=2-31, 16 fps, 16384 tbn\n",
      "    Metadata:\n",
      "      encoder         : Lavc58.134.100 libx264\n",
      "    Side data:\n",
      "      cpb: bitrate max/min/avg: 0/0/0 buffer size: 0 vbv_delay: N/A\n",
      "frame=  100 fps=0.0 q=-1.0 Lsize=      52kB time=00:00:06.06 bitrate=  70.5kbits/s speed=24.2x    \n",
      "video:50kB audio:0kB subtitle:0kB other streams:0kB global headers:0kB muxing overhead: 3.497384%\n",
      "[libx264 @ 0x563b0f92d940] frame I:1     Avg QP:14.16  size:   809\n",
      "[libx264 @ 0x563b0f92d940] frame P:57    Avg QP:27.65  size:   565\n",
      "[libx264 @ 0x563b0f92d940] frame B:42    Avg QP:32.39  size:   427\n",
      "[libx264 @ 0x563b0f92d940] consecutive B-frames: 36.0% 16.0% 24.0% 24.0%\n",
      "[libx264 @ 0x563b0f92d940] mb I  I16..4: 71.1% 25.9%  3.0%\n",
      "[libx264 @ 0x563b0f92d940] mb P  I16..4:  0.2%  1.3%  1.4%  P16..4:  0.4%  0.2%  0.0%  0.0%  0.0%    skip:96.6%\n",
      "[libx264 @ 0x563b0f92d940] mb B  I16..4:  0.0%  0.1%  0.7%  B16..8:  2.3%  0.4%  0.1%  direct: 0.1%  skip:96.4%  L0:54.3% L1:35.5% BI:10.2%\n",
      "[libx264 @ 0x563b0f92d940] 8x8 transform intra:35.5% inter:11.1%\n",
      "[libx264 @ 0x563b0f92d940] coded y,uvDC,uvAC intra: 20.4% 0.0% 0.0% inter: 0.2% 0.0% 0.0%\n",
      "[libx264 @ 0x563b0f92d940] i16 v,h,dc,p: 79% 20%  0%  0%\n",
      "[libx264 @ 0x563b0f92d940] i8 v,h,dc,ddl,ddr,vr,hd,vl,hu: 24% 12% 63%  1%  0%  0%  0%  0%  0%\n",
      "[libx264 @ 0x563b0f92d940] i4 v,h,dc,ddl,ddr,vr,hd,vl,hu: 16% 14% 47%  5%  4%  4%  4%  3%  3%\n",
      "[libx264 @ 0x563b0f92d940] i8c dc,h,v,p: 100%  0%  0%  0%\n",
      "[libx264 @ 0x563b0f92d940] Weighted P-Frames: Y:0.0% UV:0.0%\n",
      "[libx264 @ 0x563b0f92d940] ref P L0: 74.9%  3.0% 17.4%  4.7%\n",
      "[libx264 @ 0x563b0f92d940] ref B L0: 81.4% 15.7%  3.0%\n",
      "[libx264 @ 0x563b0f92d940] ref B L1: 97.3%  2.7%\n",
      "[libx264 @ 0x563b0f92d940] kb/s:65.18\n"
     ]
    },
    {
     "name": "stdout",
     "output_type": "stream",
     "text": [
      "Tmp dir: /tmp/tmppwe438l6\n"
     ]
    },
    {
     "name": "stderr",
     "output_type": "stream",
     "text": [
      "100%|██████████| 100/100 [00:30<00:00,  3.31it/s]\n",
      "ffmpeg version 4.4.2-0ubuntu0.22.04.1 Copyright (c) 2000-2021 the FFmpeg developers\n",
      "  built with gcc 11 (Ubuntu 11.2.0-19ubuntu1)\n",
      "  configuration: --prefix=/usr --extra-version=0ubuntu0.22.04.1 --toolchain=hardened --libdir=/usr/lib/x86_64-linux-gnu --incdir=/usr/include/x86_64-linux-gnu --arch=amd64 --enable-gpl --disable-stripping --enable-gnutls --enable-ladspa --enable-libaom --enable-libass --enable-libbluray --enable-libbs2b --enable-libcaca --enable-libcdio --enable-libcodec2 --enable-libdav1d --enable-libflite --enable-libfontconfig --enable-libfreetype --enable-libfribidi --enable-libgme --enable-libgsm --enable-libjack --enable-libmp3lame --enable-libmysofa --enable-libopenjpeg --enable-libopenmpt --enable-libopus --enable-libpulse --enable-librabbitmq --enable-librubberband --enable-libshine --enable-libsnappy --enable-libsoxr --enable-libspeex --enable-libsrt --enable-libssh --enable-libtheora --enable-libtwolame --enable-libvidstab --enable-libvorbis --enable-libvpx --enable-libwebp --enable-libx265 --enable-libxml2 --enable-libxvid --enable-libzimg --enable-libzmq --enable-libzvbi --enable-lv2 --enable-omx --enable-openal --enable-opencl --enable-opengl --enable-sdl2 --enable-pocketsphinx --enable-librsvg --enable-libmfx --enable-libdc1394 --enable-libdrm --enable-libiec61883 --enable-chromaprint --enable-frei0r --enable-libx264 --enable-shared\n",
      "  libavutil      56. 70.100 / 56. 70.100\n",
      "  libavcodec     58.134.100 / 58.134.100\n",
      "  libavformat    58. 76.100 / 58. 76.100\n",
      "  libavdevice    58. 13.100 / 58. 13.100\n",
      "  libavfilter     7.110.100 /  7.110.100\n",
      "  libswscale      5.  9.100 /  5.  9.100\n",
      "  libswresample   3.  9.100 /  3.  9.100\n",
      "  libpostproc    55.  9.100 / 55.  9.100\n",
      "Input #0, image2, from '/tmp/tmppwe438l6/%03d.png':\n",
      "  Duration: 00:00:06.25, start: 0.000000, bitrate: N/A\n",
      "  Stream #0:0: Video: png, rgba(pc), 600x600 [SAR 3937:3937 DAR 1:1], 16 fps, 16 tbr, 16 tbn, 16 tbc\n",
      "Stream mapping:\n",
      "  Stream #0:0 -> #0:0 (png (native) -> h264 (libx264))\n",
      "Press [q] to stop, [?] for help\n",
      "[libx264 @ 0x56503bc2f3c0] using SAR=1/1\n",
      "[libx264 @ 0x56503bc2f3c0] using cpu capabilities: MMX2 SSE2Fast SSSE3 SSE4.2 AVX FMA3 BMI2 AVX2\n",
      "[libx264 @ 0x56503bc2f3c0] profile High, level 3.0, 4:2:0, 8-bit\n",
      "[libx264 @ 0x56503bc2f3c0] 264 - core 163 r3060 5db6aa6 - H.264/MPEG-4 AVC codec - Copyleft 2003-2021 - http://www.videolan.org/x264.html - options: cabac=1 ref=3 deblock=1:0:0 analyse=0x3:0x113 me=hex subme=7 psy=1 psy_rd=1.00:0.00 mixed_ref=1 me_range=16 chroma_me=1 trellis=1 8x8dct=1 cqm=0 deadzone=21,11 fast_pskip=1 chroma_qp_offset=-2 threads=19 lookahead_threads=3 sliced_threads=0 nr=0 decimate=1 interlaced=0 bluray_compat=0 constrained_intra=0 bframes=3 b_pyramid=2 b_adapt=1 b_bias=0 direct=1 weightb=1 open_gop=0 weightp=2 keyint=250 keyint_min=16 scenecut=40 intra_refresh=0 rc_lookahead=40 rc=crf mbtree=1 crf=25.0 qcomp=0.60 qpmin=0 qpmax=69 qpstep=4 ip_ratio=1.40 aq=1:1.00\n",
      "Output #0, mp4, to '../videos/cartpole_demo.mp4':\n",
      "  Metadata:\n",
      "    encoder         : Lavf58.76.100\n",
      "  Stream #0:0: Video: h264 (avc1 / 0x31637661), yuv420p(tv, progressive), 600x600 [SAR 1:1 DAR 1:1], q=2-31, 16 fps, 16384 tbn\n",
      "    Metadata:\n",
      "      encoder         : Lavc58.134.100 libx264\n",
      "    Side data:\n",
      "      cpb: bitrate max/min/avg: 0/0/0 buffer size: 0 vbv_delay: N/A\n",
      "frame=  100 fps=0.0 q=-1.0 Lsize=      15kB time=00:00:06.06 bitrate=  20.2kbits/s speed=19.8x    \n",
      "video:13kB audio:0kB subtitle:0kB other streams:0kB global headers:0kB muxing overhead: 15.578231%\n",
      "[libx264 @ 0x56503bc2f3c0] frame I:1     Avg QP:15.03  size:   792\n",
      "[libx264 @ 0x56503bc2f3c0] frame P:27    Avg QP:25.53  size:   172\n",
      "[libx264 @ 0x56503bc2f3c0] frame B:72    Avg QP:32.74  size:    99\n",
      "[libx264 @ 0x56503bc2f3c0] consecutive B-frames:  2.0%  4.0%  6.0% 88.0%\n",
      "[libx264 @ 0x56503bc2f3c0] mb I  I16..4: 69.6% 27.8%  2.6%\n",
      "[libx264 @ 0x56503bc2f3c0] mb P  I16..4:  0.4%  0.4%  0.1%  P16..4:  0.7%  0.4%  0.1%  0.0%  0.0%    skip:98.0%\n",
      "[libx264 @ 0x56503bc2f3c0] mb B  I16..4:  0.1%  0.0%  0.0%  B16..8:  1.7%  0.3%  0.0%  direct: 0.0%  skip:97.8%  L0:53.5% L1:39.9% BI: 6.6%\n",
      "[libx264 @ 0x56503bc2f3c0] 8x8 transform intra:29.6% inter:55.1%\n",
      "[libx264 @ 0x56503bc2f3c0] coded y,uvDC,uvAC intra: 6.0% 0.0% 0.0% inter: 0.2% 0.0% 0.0%\n",
      "[libx264 @ 0x56503bc2f3c0] i16 v,h,dc,p: 85% 15%  0%  0%\n",
      "[libx264 @ 0x56503bc2f3c0] i8 v,h,dc,ddl,ddr,vr,hd,vl,hu: 41%  8% 51%  1%  0%  0%  0%  0%  0%\n",
      "[libx264 @ 0x56503bc2f3c0] i4 v,h,dc,ddl,ddr,vr,hd,vl,hu: 60%  6% 33%  0%  0%  0%  0%  0%  0%\n",
      "[libx264 @ 0x56503bc2f3c0] i8c dc,h,v,p: 100%  0%  0%  0%\n",
      "[libx264 @ 0x56503bc2f3c0] Weighted P-Frames: Y:0.0% UV:0.0%\n",
      "[libx264 @ 0x56503bc2f3c0] ref P L0: 57.4%  2.2% 24.0% 16.4%\n",
      "[libx264 @ 0x56503bc2f3c0] ref B L0: 67.5% 25.8%  6.7%\n",
      "[libx264 @ 0x56503bc2f3c0] ref B L1: 88.0% 12.0%\n",
      "[libx264 @ 0x56503bc2f3c0] kb/s:16.05\n"
     ]
    }
   ],
   "source": [
    "episodes = 100\n",
    "controllers = [initial_controller, demo_controller]\n",
    "n_batch = 4\n",
    "\n",
    "for i, controller in enumerate(controllers):\n",
    "\n",
    "    t_dir = tempfile.mkdtemp()\n",
    "    print('Tmp dir: {}'.format(t_dir))\n",
    "    dx = CartpoleDx().to(device)\n",
    "    uini = (torch.zeros(size=(n_batch, Tini*m)) + torch.randn(n_batch, Tini*m)*0.001).to(device)\n",
    "    uini += torch.randn(uini.shape).to(device)*0.01\n",
    "    zero = torch.zeros(n_batch)\n",
    "    th = uniform((n_batch), -0.01, 0.01)\n",
    "    yini = torch.stack((zero, zero, th, zero), dim=1).repeat(1,Tini)\n",
    "    y = yini[:,-p:].to(device)\n",
    "    yini += torch.randn(yini.shape)*0.001\n",
    "    yini = yini.to(device)\n",
    "    traj = yini\n",
    "\n",
    "    for j in tqdm(range(episodes)):\n",
    "        g, u_pred, _, sig_y, sig_u = controller(ref=None, uref=None, y_ini=yini, u_ini=uini)\n",
    "        input = u_pred[:,:m] + torch.randn(u_pred[:,:m].shape).to(device)*0.01\n",
    "        y = dx(y, input)\n",
    "        noise = torch.randn(y.shape).to(device)*0.001\n",
    "        y += noise\n",
    "       \n",
    "        yini = torch.cat((yini[:, p:], y), axis=1)\n",
    "\n",
    "        uini = torch.cat((uini[:, m:], input), axis=1)\n",
    "        n_row, n_col = 2, 2\n",
    "        fig, axs = plt.subplots(n_row, n_col, figsize=(3*n_col,3*n_row))\n",
    "        axs = axs.reshape(-1)\n",
    "        \n",
    "        for n in range(n_batch):\n",
    "            dx.get_frame(y[n], ax=axs[n])\n",
    "            axs[n].get_xaxis().set_visible(False)\n",
    "            axs[n].get_yaxis().set_visible(False)\n",
    "        fig.tight_layout()\n",
    "        fig.savefig(os.path.join(t_dir, '{:03d}.png'.format(j)))\n",
    "        plt.close(fig)\n",
    "\n",
    "    vid_fname = '../videos/cartpole_demo.mp4' if i==1 else '../videos/cartpole_init.mp4'\n",
    "    if os.path.exists(vid_fname):\n",
    "        os.remove(vid_fname)\n",
    "    cmd = 'ffmpeg -r 16 -f image2 -i {}/%03d.png -vcodec libx264 -crf 25 -vf \"pad=ceil(iw/2)*2:ceil(ih/2)*2\" -pix_fmt yuv420p {}'.format(\n",
    "        t_dir, vid_fname\n",
    "    )\n",
    "    os.system(cmd)\n",
    "    # print('Saving video to: {}'.format(vid_fname))\n",
    "\n",
    "    video = io.open(vid_fname, 'r+b').read()\n",
    "    encoded = base64.b64encode(video)\n",
    "    HTML(data='''<video alt=\"test\" controls>\n",
    "                    <source src=\"data:video/mp4;base64,{0}\" type=\"video/mp4\" />\n",
    "                </video>'''.format(encoded.decode('ascii')))"
   ]
  }
 ],
 "metadata": {
  "kernelspec": {
   "display_name": "base",
   "language": "python",
   "name": "python3"
  },
  "language_info": {
   "codemirror_mode": {
    "name": "ipython",
    "version": 3
   },
   "file_extension": ".py",
   "mimetype": "text/x-python",
   "name": "python",
   "nbconvert_exporter": "python",
   "pygments_lexer": "ipython3",
   "version": "3.9.12"
  },
  "orig_nbformat": 4
 },
 "nbformat": 4,
 "nbformat_minor": 2
}
