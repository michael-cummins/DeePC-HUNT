{
 "cells": [
  {
   "cell_type": "code",
   "execution_count": 1,
   "metadata": {},
   "outputs": [],
   "source": [
    "%reload_ext autoreload\n",
    "%autoreload 2\n",
    "\n",
    "import numpy as np\n",
    "import torch\n",
    "from numpy import genfromtxt\n",
    "import torch\n",
    "from deepc_hunt.dynamics import AffineDynamics\n",
    "from deepc_hunt import DeePC, Trainer\n",
    "from deepc_hunt.utils import tensor2np\n",
    "\n",
    "device = 'cuda' if torch.cuda.is_available() else 'cpu'"
   ]
  },
  {
   "cell_type": "code",
   "execution_count": 2,
   "metadata": {},
   "outputs": [],
   "source": [
    "A = torch.Tensor([[1, 0.01], # A - State-space matrix\n",
    "                  [0, 1]])\n",
    "B = torch.Tensor([[0],[0.01]])\n",
    "env = AffineDynamics(A=A, B=B).to(device)"
   ]
  },
  {
   "cell_type": "code",
   "execution_count": 3,
   "metadata": {},
   "outputs": [],
   "source": [
    "n = 2 # n = number of states\n",
    "m = 1 # m = number of inputs\n",
    "p = 2 # p = number of output\n",
    "q = m+p # q = number of i/o variables\n",
    "Tini = 4 # Past time horizon\n",
    "Tf = 10 # Future time horizon         \n",
    "T = (m+1)*(Tini + Tf + n) - 1    "
   ]
  },
  {
   "cell_type": "markdown",
   "metadata": {},
   "source": [
    "### Data Collection"
   ]
  },
  {
   "cell_type": "code",
   "execution_count": 4,
   "metadata": {},
   "outputs": [
    {
     "name": "stdout",
     "output_type": "stream",
     "text": [
      "T : 31, yT : (62,), uT : (31,)\n"
     ]
    }
   ],
   "source": [
    "x = torch.randn(2,)*0.1\n",
    "yT = np.array([])\n",
    "uT = np.array([])\n",
    "\n",
    "for i in range(T):\n",
    "    u = torch.rand((1,))*0.1\n",
    "    uT = np.append(uT, tensor2np(u))\n",
    "    x = A@x + B@u\n",
    "    yT = np.append(yT, tensor2np(x))\n",
    "\n",
    "print(f'T : {T}, yT : {yT.shape}, uT : {uT.shape}')\n",
    "np.savetxt('data/integrator_ud.csv', uT, delimiter=',')\n",
    "np.savetxt('data/integrator_yd.csv', yT, delimiter=',')"
   ]
  },
  {
   "cell_type": "markdown",
   "metadata": {},
   "source": [
    "### Load Data"
   ]
  },
  {
   "cell_type": "code",
   "execution_count": 5,
   "metadata": {},
   "outputs": [
    {
     "data": {
      "image/png": "[encoded data removed]",
      "text/plain": [
       "<Figure size 640x480 with 1 Axes>"
      ]
     },
     "metadata": {},
     "output_type": "display_data"
    }
   ],
   "source": [
    "ud = genfromtxt('data/integrator_ud.csv', delimiter=',')\n",
    "yd = genfromtxt('data/integrator_yd.csv', delimiter=',')\n",
    "ud = ud.reshape(T,m)\n",
    "yd = yd.reshape(T,p)\n",
    "\n",
    "import matplotlib.pyplot as plt\n",
    "plt.plot(range(T), yd)\n",
    "plt.show()\n",
    "# Add noise to simulate uncertainty in data\n",
    "noise_std = 0.1              \n",
    "yd += np.random.rand(*yd.shape)*noise_std\n",
    "# ud += np.random.rand(*ud.shape)*noise_std"
   ]
  },
  {
   "cell_type": "markdown",
   "metadata": {},
   "source": [
    "### Initialise Controller"
   ]
  },
  {
   "cell_type": "code",
   "execution_count": 6,
   "metadata": {},
   "outputs": [
    {
     "data": {
      "text/plain": [
       "DeePC(\n",
       "  (QP_layer): CvxpyLayer()\n",
       ")"
      ]
     },
     "execution_count": 6,
     "metadata": {},
     "output_type": "execute_result"
    }
   ],
   "source": [
    "y_constraints = np.kron(np.ones(Tf), np.array([10,10]))\n",
    "u_constraints = np.kron(np.ones(Tf), np.array([5]))\n",
    "q = torch.ones(p)*50\n",
    "r = torch.ones(m)*2\n",
    "n_batch = 20\n",
    "\n",
    "controller = DeePC(\n",
    "    ud=ud, yd=yd, N=Tf, Tini=Tini, p=p, m=m, n_batch=n_batch, device=device,\n",
    "    y_constraints=y_constraints, u_constraints=u_constraints,\n",
    "    stochastic_y=True, q=q, r=r\n",
    ")\n",
    "controller.initialise(lam_y=1e-7)\n",
    "controller.to(device)"
   ]
  },
  {
   "cell_type": "markdown",
   "metadata": {},
   "source": [
    "### Run DeePC-HUNT"
   ]
  },
  {
   "cell_type": "code",
   "execution_count": 8,
   "metadata": {},
   "outputs": [
    {
     "name": "stderr",
     "output_type": "stream",
     "text": [
      "  0%|                                                                       | 0/100 [00:00<?, ?it/s]/Users/michaelcummins/DeePC-HUNT/deepc_hunt/utils.py:27: UserWarning: The use of `x.T` on tensors of dimension other than 2 to reverse their shape is deprecated and it will throw an error in a future release. Consider `x.mT` to transpose batches of matrices or `x.permute(*torch.arange(x.ndim - 1, -1, -1))` to reverse the dimensions of a tensor. (Triggered internally at /Users/runner/work/pytorch/pytorch/pytorch/aten/src/ATen/native/TensorShape.cpp:3618.)\n",
      "  Ct += (Y[i,j,:].T @ Q @ Y[i,j,:] + U[i,j,:].T @ R @ U[i,j,:]).reshape(1)\n",
      "Loss = 90.4371, lam_y : 0.518, :  35%|██████████▏                  | 35/100 [00:44<01:23,  1.28s/it]"
     ]
    }
   ],
   "source": [
    "epochs = 100\n",
    "time_steps = 10\n",
    "\n",
    "# Tune regularization params\n",
    "deepc_tuner = Trainer(controller=controller, env=env)\n",
    "deepc_tuner.projection.lower = 1e-7\n",
    "deepc_tuner.projection.upper = 1e6\n",
    "final_params = deepc_tuner.run(epochs=epochs, time_steps=time_steps)"
   ]
  },
  {
   "cell_type": "markdown",
   "metadata": {},
   "source": []
  },
  {
   "cell_type": "markdown",
   "metadata": {},
   "source": [
    "### Test Controller"
   ]
  },
  {
   "cell_type": "code",
   "execution_count": 23,
   "metadata": {},
   "outputs": [
    {
     "name": "stdout",
     "output_type": "stream",
     "text": [
      "tensor([[ 0.0315,  0.0874, -0.0231,  0.0115, -0.0472,  0.0321, -0.0355,  0.0564],\n",
      "        [ 0.0308,  0.0097, -0.0312,  0.0319,  0.0315,  0.0874, -0.0231,  0.0115],\n",
      "        [ 0.0086,  0.0043, -0.0364,  0.0847,  0.0355,  0.0231,  0.0006,  0.0107],\n",
      "        [-0.0162,  0.0273,  0.0308,  0.0097, -0.0312,  0.0319,  0.0315,  0.0874],\n",
      "        [-0.0135,  0.0838, -0.0348,  0.0225,  0.0274,  0.0842,  0.0353,  0.0433]])\n"
     ]
    }
   ],
   "source": [
    "from deepc_hunt.utils import sample_initial_signal\n",
    "\n",
    "u_ini, y_ini = sample_initial_signal(\n",
    "    Tini=Tini,\n",
    "    p=p,\n",
    "    m=m,\n",
    "    batch=1,\n",
    "    ud=controller.ud,\n",
    "    yd=controller.yd\n",
    ")\n",
    "\n",
    "controller.initialise(lam_y=1e-6)\n",
    "print(y_ini)\n",
    "yT = [y_ini[:,-p:]]\n",
    "for i in range(40):\n",
    "    u = controller(y_ini=y_ini, u_ini=u_ini)\n",
    "    y = env(yT[i], u)"
   ]
  }
 ],
 "metadata": {
  "kernelspec": {
   "display_name": "deepc-dev",
   "language": "python",
   "name": "python3"
  },
  "language_info": {
   "codemirror_mode": {
    "name": "ipython",
    "version": 3
   },
   "file_extension": ".py",
   "mimetype": "text/x-python",
   "name": "python",
   "nbconvert_exporter": "python",
   "pygments_lexer": "ipython3",
   "version": "3.10.12"
  },
  "orig_nbformat": 4
 },
 "nbformat": 4,
 "nbformat_minor": 2
}
