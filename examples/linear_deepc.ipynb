{
 "cells": [
  {
   "cell_type": "code",
   "execution_count": 20,
   "metadata": {},
   "outputs": [],
   "source": [
    "%reload_ext autoreload\n",
    "%autoreload 2\n",
    "\n",
    "import numpy as np\n",
    "import torch\n",
    "from numpy import genfromtxt\n",
    "import torch\n",
    "from deepc_hunt.dynamics import AffineDynamics\n",
    "from deepc_hunt import DeePC, Trainer"
   ]
  },
  {
   "cell_type": "markdown",
   "metadata": {},
   "source": [
    "# Temperature Control System"
   ]
  },
  {
   "cell_type": "markdown",
   "metadata": {},
   "source": [
    "### Load in data"
   ]
  },
  {
   "cell_type": "code",
   "execution_count": 21,
   "metadata": {},
   "outputs": [],
   "source": [
    "ud = genfromtxt('data/recht_ud.csv', delimiter=',')\n",
    "yd = genfromtxt('data/recht_yd.csv', delimiter=',')\n",
    "\n",
    "# Add noise to simulate uncertainty in data\n",
    "noise_std = 0.1              \n",
    "yd += np.random.rand(*yd.shape)*noise_std\n",
    "ud += np.random.rand(*ud.shape)*noise_std"
   ]
  },
  {
   "cell_type": "markdown",
   "metadata": {},
   "source": [
    "### Initialitse DeePC controller"
   ]
  },
  {
   "cell_type": "code",
   "execution_count": 22,
   "metadata": {},
   "outputs": [
    {
     "data": {
      "text/plain": [
       "DeePC(\n",
       "  (QP_layer): CvxpyLayer()\n",
       ")"
      ]
     },
     "execution_count": 22,
     "metadata": {},
     "output_type": "execute_result"
    }
   ],
   "source": [
    "device = 'cuda' if torch.cuda.is_available() else 'cpu'\n",
    "\n",
    "n = 3 # n = number of states\n",
    "m = 3 # m = number of inputs\n",
    "p = 3 # p = number of output\n",
    "q = m+p # q = number of i/o variables\n",
    "Tini = 4 # Past time horizon                                           \n",
    "Tf = 10 # Future time horizon         \n",
    "T = (m+1)*(Tini + Tf + n) - 1    \n",
    "\n",
    "y_constraints = np.kron(np.ones(Tf), np.array([10,10,10]))\n",
    "u_constraints = np.kron(np.ones(Tf), np.array([5,5,5]))\n",
    "q = torch.ones(3)*50\n",
    "r = torch.ones(3)*2\n",
    "n_batch = 20\n",
    "\n",
    "controller = DeePC(\n",
    "    ud=ud, yd=yd, N=Tf, Tini=Tini, p=3, m=3, n_batch=n_batch, device=device,\n",
    "    y_constraints=y_constraints, u_constraints=u_constraints,\n",
    "    stochastic_y=True, stochastic_u=True, linear=True, q=q, r=r\n",
    ")\n",
    "\n",
    "controller.initialise(lam_y=1e-3, lam_u=1e-3)\n",
    "controller.to(device)"
   ]
  },
  {
   "cell_type": "markdown",
   "metadata": {},
   "source": [
    "### Get dynamics"
   ]
  },
  {
   "cell_type": "code",
   "execution_count": 23,
   "metadata": {},
   "outputs": [],
   "source": [
    "A = torch.Tensor([[1.01, 0.01, 0.00], # A - State-space matrix\n",
    "                  [0.01, 1.01, 0.01], \n",
    "                  [0.00, 0.01, 1.01]])\n",
    "\n",
    "dx = AffineDynamics(A=A, B=torch.eye(3)).to(device)"
   ]
  },
  {
   "cell_type": "markdown",
   "metadata": {},
   "source": [
    "### Run DeePC-HUNT"
   ]
  },
  {
   "cell_type": "code",
   "execution_count": 24,
   "metadata": {},
   "outputs": [
    {
     "name": "stderr",
     "output_type": "stream",
     "text": [
      "Loss = 239.8458: 100%|██████████████████████████████████████████████| 70/70 [05:33<00:00,  4.76s/it]"
     ]
    },
    {
     "name": "stdout",
     "output_type": "stream",
     "text": [
      "Name : lam_y, Value : tensor([17.2389])\n",
      "Name : lam_u, Value : tensor([22.8674])\n"
     ]
    },
    {
     "name": "stderr",
     "output_type": "stream",
     "text": [
      "\n"
     ]
    }
   ],
   "source": [
    "epochs = 70\n",
    "time_steps = 10\n",
    "\n",
    "# Tune regularization params\n",
    "deepc_tuner = Trainer(controller=controller, env=dx)\n",
    "final_params = deepc_tuner.run(epochs=epochs, time_steps=time_steps)"
   ]
  }
 ],
 "metadata": {
  "kernelspec": {
   "display_name": "base",
   "language": "python",
   "name": "python3"
  },
  "language_info": {
   "codemirror_mode": {
    "name": "ipython",
    "version": 3
   },
   "file_extension": ".py",
   "mimetype": "text/x-python",
   "name": "python",
   "nbconvert_exporter": "python",
   "pygments_lexer": "ipython3",
   "version": "3.10.12"
  },
  "orig_nbformat": 4,
  "vscode": {
   "interpreter": {
    "hash": "c6e4e9f98eb68ad3b7c296f83d20e6de614cb42e90992a65aa266555a3137d0d"
   }
  }
 },
 "nbformat": 4,
 "nbformat_minor": 2
}
