{
 "cells": [
  {
   "cell_type": "code",
   "execution_count": 4,
   "metadata": {},
   "outputs": [
    {
     "name": "stdout",
     "output_type": "stream",
     "text": [
      "The autoreload extension is already loaded. To reload it, use:\n",
      "  %reload_ext autoreload\n"
     ]
    }
   ],
   "source": [
    "%load_ext autoreload\n",
    "%autoreload 2\n",
    "\n",
    "import numpy as np\n",
    "import seaborn as sns\n",
    "import torch\n",
    "import torch.optim as optim\n",
    "\n",
    "import matplotlib.pyplot as plt\n",
    "from tqdm import tqdm\n",
    "from numpy import genfromtxt\n",
    "\n",
    "from deepc_hunt.utils import sample_initial_signal, episode_loss, AffineDynamics, Projection\n",
    "from deepc_hunt.controllers import DDeePC\n",
    "\n",
    "%matplotlib inline\n",
    "plt.rcParams[\"figure.figsize\"] = (15,5)\n",
    "sns.set_theme()"
   ]
  },
  {
   "cell_type": "code",
   "execution_count": 5,
   "metadata": {},
   "outputs": [],
   "source": [
    "ud = genfromtxt('data/recht_ud.csv', delimiter=',')\n",
    "yd = genfromtxt('data/recht_yd.csv', delimiter=',')\n",
    "device = 'cuda' if torch.cuda.is_available() else 'cpu'\n",
    "projection = Projection()\n",
    "\n",
    "n = 3 # n = number of states\n",
    "m = 3 # m = number of inputs\n",
    "p = 3 # p = number of output\n",
    "q = m+p # q = number of i/o variables\n",
    "Tini = 4 # Past time horizon                                           \n",
    "Tf = 10 # Future time horizon         \n",
    "T = (m+1)*(Tini + Tf + n) - 1    \n",
    "noise_std = 0.1              \n",
    "\n",
    "A = torch.Tensor([[1.01, 0.01, 0.00], # A - State-space matrix\n",
    "                  [0.01, 1.01, 0.01], \n",
    "                  [0.00, 0.01, 1.01]])\n",
    "\n",
    "dx = AffineDynamics(A=A, B=torch.eye(3)).to(device)\n",
    "\n",
    "yd += np.random.rand(T,p)*noise_std\n",
    "u_ini = ud[:Tini,:].reshape((Tini*m,))\n",
    "y_ini = yd[:Tini,:].reshape((Tini*p,))\n",
    "\n",
    "y_constraints = np.kron(np.ones(Tf), np.array([10,10,10]))\n",
    "u_constraints = np.kron(np.ones(Tf), np.array([5,5,5]))\n",
    "\n",
    "q = torch.ones(3)*50\n",
    "r = torch.ones(3)*2\n",
    "lam_y = torch.Tensor([20])"
   ]
  },
  {
   "attachments": {},
   "cell_type": "markdown",
   "metadata": {},
   "source": [
    "## Training "
   ]
  },
  {
   "cell_type": "code",
   "execution_count": 6,
   "metadata": {},
   "outputs": [
    {
     "name": "stdout",
     "output_type": "stream",
     "text": [
      "Parameter containing:\n",
      "tensor([0.0010], requires_grad=True)\n",
      "Starting batch size : 10\n"
     ]
    },
    {
     "name": "stderr",
     "output_type": "stream",
     "text": [
      "Loss = 402.2260, lam_y = 17.407: 100%|██████████████████████████████████████████████████████████████████████████████████████████████████████████████| 50/50 [02:02<00:00,  2.44s/it]\n"
     ]
    }
   ],
   "source": [
    "q = torch.ones(3)*50\n",
    "r = torch.ones(3)*2\n",
    "lam_y = torch.Tensor([20])\n",
    "epochs = 50\n",
    "n_batch = 10\n",
    "\n",
    "\n",
    "controller = DDeePC(\n",
    "    ud=ud, yd=yd, N=Tf, Tini=Tini, p=3, m=3, n_batch=n_batch, device=device,\n",
    "    y_constraints=y_constraints, u_constraints=u_constraints,\n",
    "    stochastic_y=True, stochastic_u=False, linear=True, q=q, r=r\n",
    ")\n",
    "    \n",
    "controller.lam_y = torch.nn.Parameter(torch.Tensor([0.001]))\n",
    "controller.to(device)\n",
    "for param in controller.parameters(): print(param)\n",
    "\n",
    "opt = optim.Rprop(controller.parameters(), lr=0.01, step_sizes=(1e-3,1e2))\n",
    "print(f'Starting batch size : {n_batch}')\n",
    "pbar = tqdm(range(epochs), ncols=180)\n",
    "criterion = torch.nn.HuberLoss()\n",
    "I, PI = controller.get_PI()\n",
    "\n",
    "for i, count in enumerate(pbar):\n",
    "    \n",
    "    # Get random step response\n",
    "    ref = torch.Tensor(np.random.uniform(size=(n_batch,p), low=-10.0, high=10.0))\n",
    "    target_ref = torch.kron(torch.ones(T), ref)\n",
    "    ref = torch.kron(torch.ones(Tf), ref).to(device)\n",
    "    ref = torch.zeros(Tf*p).to(device)\n",
    "    \n",
    "    # Get random initial condition from data\n",
    "    u_ini, y_ini = sample_initial_signal(Tini=Tini, m=m, p=p, batch=n_batch, ud=ud, yd=yd)\n",
    "    u_ini, y_ini = u_ini.to(device), y_ini.to(device)\n",
    "    uT, yT = u_ini, y_ini\n",
    "\n",
    "    G, E, Y, U = torch.Tensor().to(device), torch.Tensor().to(device), torch.Tensor().to(device), torch.Tensor().to(device)\n",
    "\n",
    "    for j in range(10):\n",
    "        noise = torch.randn(y_ini.shape).to(device)*noise_std\n",
    "        [g, u_pred, y_pred, sig_y] = controller(ref=None, uref=None, u_ini=u_ini, y_ini=y_ini)\n",
    "        G, E = torch.cat((G, g.unsqueeze(1)), axis=1), torch.cat((E, sig_y.unsqueeze(1)), axis=1) \n",
    "        action = u_pred[:,:m]\n",
    "        U = torch.cat((U, action.unsqueeze(1)), axis=1)\n",
    "        obs = dx(action, y_ini[:,-p:])\n",
    "        Y = torch.cat((Y, obs.unsqueeze(1)), axis=1)\n",
    "        uT = torch.cat((uT, action), 1)\n",
    "        yT = torch.cat((yT, obs), 1)\n",
    "        y_ini, u_ini = yT[:,-p*Tini:], uT[:,-m*Tini:]\n",
    "\n",
    "    loss = episode_loss(Y=Y, G=G, U=U, Ey=E, controller=controller, PI=(I-PI))\n",
    "    opt.zero_grad()\n",
    "    loss.backward(retain_graph=True)\n",
    "    opt.step()\n",
    "    controller.apply(projection)\n",
    "    pbar.set_description(f'Loss = {loss.item():.4f}, lam_y = {controller.lam_y.data.item():.3f}')"
   ]
  },
  {
   "attachments": {},
   "cell_type": "markdown",
   "metadata": {},
   "source": [
    "## Results"
   ]
  },
  {
   "cell_type": "code",
   "execution_count": 7,
   "metadata": {},
   "outputs": [
    {
     "ename": "NameError",
     "evalue": "name 'batches' is not defined",
     "output_type": "error",
     "traceback": [
      "\u001b[0;31m---------------------------------------------------------------------------\u001b[0m",
      "\u001b[0;31mNameError\u001b[0m                                 Traceback (most recent call last)",
      "\u001b[1;32m/Users/michaelcummins/DeePC-HUNT/examples/linear_ddeepc.ipynb Cell 6\u001b[0m line \u001b[0;36m2\n\u001b[1;32m      <a href='vscode-notebook-cell:/Users/michaelcummins/DeePC-HUNT/examples/linear_ddeepc.ipynb#W5sZmlsZQ%3D%3D?line=0'>1</a>\u001b[0m plt\u001b[39m.\u001b[39msubplot(\u001b[39m1\u001b[39m,\u001b[39m2\u001b[39m,\u001b[39m1\u001b[39m)\n\u001b[0;32m----> <a href='vscode-notebook-cell:/Users/michaelcummins/DeePC-HUNT/examples/linear_ddeepc.ipynb#W5sZmlsZQ%3D%3D?line=1'>2</a>\u001b[0m \u001b[39mfor\u001b[39;00m i \u001b[39min\u001b[39;00m \u001b[39mrange\u001b[39m(\u001b[39mlen\u001b[39m(batches)):\n\u001b[1;32m      <a href='vscode-notebook-cell:/Users/michaelcummins/DeePC-HUNT/examples/linear_ddeepc.ipynb#W5sZmlsZQ%3D%3D?line=2'>3</a>\u001b[0m     plt\u001b[39m.\u001b[39mplot(\u001b[39mrange\u001b[39m(\u001b[39mlen\u001b[39m(losses[i,:])), losses[i,:], label\u001b[39m=\u001b[39m\u001b[39mf\u001b[39m\u001b[39m'\u001b[39m\u001b[39mbatch size \u001b[39m\u001b[39m{\u001b[39;00mbatches[i]\u001b[39m}\u001b[39;00m\u001b[39m'\u001b[39m)\n\u001b[1;32m      <a href='vscode-notebook-cell:/Users/michaelcummins/DeePC-HUNT/examples/linear_ddeepc.ipynb#W5sZmlsZQ%3D%3D?line=3'>4</a>\u001b[0m plt\u001b[39m.\u001b[39mgrid(\u001b[39m'\u001b[39m\u001b[39mon\u001b[39m\u001b[39m'\u001b[39m)\n",
      "\u001b[0;31mNameError\u001b[0m: name 'batches' is not defined"
     ]
    },
    {
     "data": {
      "image/png": "[encoded data removed]",
      "text/plain": [
       "<Figure size 1500x500 with 1 Axes>"
      ]
     },
     "metadata": {},
     "output_type": "display_data"
    }
   ],
   "source": [
    "plt.subplot(1,2,1)\n",
    "for i in range(len(batches)):\n",
    "    plt.plot(range(len(losses[i,:])), losses[i,:], label=f'batch size {batches[i]}')\n",
    "plt.grid('on')\n",
    "plt.title(f'Training loss with batch size - T = 10')\n",
    "plt.xlabel('Epoch')\n",
    "plt.ylabel('Loss')\n",
    "plt.legend()\n",
    "plt.subplot(1,2,2)\n",
    "for i in range(len(batches)):\n",
    "    plt.plot(range(len(regularizers[i,:])), regularizers[i,:], label=f'lambda y = {regularizers[i, -1]:.2f}')\n",
    "plt.grid('on')\n",
    "plt.title(f'Evolution of lam_y')\n",
    "plt.xlabel('Epoch')\n",
    "plt.ylabel('lam_y')\n",
    "plt.legend()\n",
    "plt.show()"
   ]
  }
 ],
 "metadata": {
  "kernelspec": {
   "display_name": "base",
   "language": "python",
   "name": "python3"
  },
  "language_info": {
   "codemirror_mode": {
    "name": "ipython",
    "version": 3
   },
   "file_extension": ".py",
   "mimetype": "text/x-python",
   "name": "python",
   "nbconvert_exporter": "python",
   "pygments_lexer": "ipython3",
   "version": "3.10.0"
  },
  "orig_nbformat": 4,
  "vscode": {
   "interpreter": {
    "hash": "c6e4e9f98eb68ad3b7c296f83d20e6de614cb42e90992a65aa266555a3137d0d"
   }
  }
 },
 "nbformat": 4,
 "nbformat_minor": 2
}
