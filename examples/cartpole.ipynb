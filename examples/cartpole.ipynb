{
 "cells": [
  {
   "cell_type": "code",
   "execution_count": 7,
   "metadata": {},
   "outputs": [],
   "source": [
    "%reload_ext autoreload\n",
    "%autoreload 2\n",
    "\n",
    "import numpy as np\n",
    "import torch\n",
    "from numpy import genfromtxt\n",
    "import torch\n",
    "from deepc_hunt.dynamics import CartpoleDx\n",
    "from deepc_hunt import DeePC, Trainer"
   ]
  },
  {
   "cell_type": "markdown",
   "metadata": {},
   "source": [
    "# Cartpole system"
   ]
  },
  {
   "cell_type": "markdown",
   "metadata": {},
   "source": [
    "### Load in data"
   ]
  },
  {
   "cell_type": "code",
   "execution_count": 8,
   "metadata": {},
   "outputs": [],
   "source": [
    "##################################\n",
    "# Do Not Change #\n",
    "Tini = 4\n",
    "m = 1\n",
    "p = 4\n",
    "Tf = 25\n",
    "T = (m+1)*(Tini + Tf + p) + 4\n",
    "##################################\n",
    "\n",
    "device = 'cuda' if torch.cuda.is_available() else 'cpu'"
   ]
  },
  {
   "cell_type": "code",
   "execution_count": 9,
   "metadata": {},
   "outputs": [],
   "source": [
    "ud = genfromtxt('data/cartpole_ud.csv', delimiter=',')\n",
    "yd = genfromtxt('data/cartpole_yd.csv', delimiter=',')\n",
    "yd = yd.reshape(T*p,)\n",
    "\n",
    "noise_y =  np.random.randn(*yd.shape)*0.001\n",
    "noise_u =  np.random.randn(*ud.shape)*0.01\n",
    "yd += noise_y\n",
    "ud += noise_u"
   ]
  },
  {
   "cell_type": "markdown",
   "metadata": {},
   "source": [
    "### Initialise DeePC controller"
   ]
  },
  {
   "cell_type": "code",
   "execution_count": 10,
   "metadata": {},
   "outputs": [
    {
     "name": "stderr",
     "output_type": "stream",
     "text": [
      "/opt/homebrew/Caskroom/miniforge/base/envs/deepc-dev/lib/python3.10/site-packages/cvxpy/reductions/solvers/solving_chain.py:222: UserWarning: Your problem has too many parameters for efficient DPP compilation. We suggest setting 'ignore_dpp = True'.\n",
      "  warnings.warn(\n"
     ]
    }
   ],
   "source": [
    "u_constraints = np.ones(Tf)*4\n",
    "y_constraints = np.kron(np.ones(Tf), np.array([0.25, 0.2, 0.15, 0.2]))\n",
    "r = torch.ones(m)*0.01\n",
    "q = torch.ones(p)*100 \n",
    "n_batch = 20\n",
    "\n",
    "controller = DeePC(\n",
    "    ud=ud, yd=yd, u_constraints=u_constraints, y_constraints=y_constraints,\n",
    "    Tini=Tini, N=Tf, m=m, p=p, n_batch=n_batch, device=device,\n",
    "    linear=False, stochastic_y=True, stochastic_u=True, q=q, r=r\n",
    ").to(device)\n",
    "\n",
    "controller.initialise(lam_g1=200, lam_g2=200, lam_u=200, lam_y=200)"
   ]
  },
  {
   "cell_type": "markdown",
   "metadata": {},
   "source": [
    "### Run DeePC-HUNT"
   ]
  },
  {
   "cell_type": "code",
   "execution_count": 11,
   "metadata": {},
   "outputs": [
    {
     "name": "stderr",
     "output_type": "stream",
     "text": [
      "Loss = 24600.4199, lam_y : 200.165, lam_u : 199.835, lam_g1 : 199.835, lam_g2 : 199.835, :  11%| | 8"
     ]
    }
   ],
   "source": [
    "epochs = 70\n",
    "time_steps = controller.N\n",
    "\n",
    "# Tune regularization params\n",
    "deepc_tuner = Trainer(controller=controller, env=CartpoleDx())\n",
    "final_params = deepc_tuner.run(epochs=epochs, time_steps=time_steps)"
   ]
  }
 ],
 "metadata": {
  "kernelspec": {
   "display_name": "deepc-dev",
   "language": "python",
   "name": "python3"
  },
  "language_info": {
   "codemirror_mode": {
    "name": "ipython",
    "version": 3
   },
   "file_extension": ".py",
   "mimetype": "text/x-python",
   "name": "python",
   "nbconvert_exporter": "python",
   "pygments_lexer": "ipython3",
   "version": "3.10.12"
  },
  "orig_nbformat": 4
 },
 "nbformat": 4,
 "nbformat_minor": 2
}
