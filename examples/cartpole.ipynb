{
 "cells": [
  {
   "cell_type": "code",
   "execution_count": 1,
   "metadata": {},
   "outputs": [],
   "source": [
    "%reload_ext autoreload\n",
    "%autoreload 2\n",
    "\n",
    "import numpy as np\n",
    "import torch\n",
    "from numpy import genfromtxt\n",
    "import torch\n",
    "from deepc_hunt.dynamics import CartpoleDx\n",
    "from deepc_hunt import DeePC, Trainer"
   ]
  },
  {
   "cell_type": "markdown",
   "metadata": {},
   "source": [
    "# Cartpole system"
   ]
  },
  {
   "cell_type": "markdown",
   "metadata": {},
   "source": [
    "### Load in data"
   ]
  },
  {
   "cell_type": "code",
   "execution_count": 2,
   "metadata": {},
   "outputs": [],
   "source": [
    "##################################\n",
    "# Do Not Change #\n",
    "Tini = 4\n",
    "m = 1\n",
    "p = 4\n",
    "Tf = 25\n",
    "T = (m+1)*(Tini + Tf + p) + 4\n",
    "##################################\n",
    "\n",
    "device = 'cuda' if torch.cuda.is_available() else 'cpu'"
   ]
  },
  {
   "cell_type": "code",
   "execution_count": 3,
   "metadata": {},
   "outputs": [],
   "source": [
    "ud = genfromtxt('data/cartpole_ud.csv', delimiter=',')\n",
    "yd = genfromtxt('data/cartpole_yd.csv', delimiter=',')\n",
    "yd = yd.reshape(T*p,)\n",
    "\n",
    "noise_y =  np.random.randn(*yd.shape)*0.001\n",
    "noise_u =  np.random.randn(*ud.shape)*0.01\n",
    "yd += noise_y\n",
    "ud += noise_u"
   ]
  },
  {
   "cell_type": "markdown",
   "metadata": {},
   "source": [
    "### Initialise DeePC controller"
   ]
  },
  {
   "cell_type": "code",
   "execution_count": 4,
   "metadata": {},
   "outputs": [
    {
     "name": "stderr",
     "output_type": "stream",
     "text": [
      "/opt/homebrew/Caskroom/miniforge/base/envs/deepc-dev/lib/python3.10/site-packages/cvxpy/reductions/solvers/solving_chain.py:222: UserWarning: Your problem has too many parameters for efficient DPP compilation. We suggest setting 'ignore_dpp = True'.\n",
      "  warnings.warn(\n"
     ]
    }
   ],
   "source": [
    "u_constraints = np.ones(Tf)*4\n",
    "y_constraints = np.kron(np.ones(Tf), np.array([0.25, 0.2, 0.15, 0.2]))\n",
    "r = torch.ones(m)*0.01\n",
    "q = torch.ones(p)*100 \n",
    "n_batch = 20\n",
    "\n",
    "controller = DeePC(\n",
    "    ud=ud, yd=yd, u_constraints=u_constraints, y_constraints=y_constraints,\n",
    "    Tini=Tini, N=Tf, m=m, p=p, n_batch=n_batch, device=device,\n",
    "    linear=False, stochastic_y=True, stochastic_u=True, q=q, r=r\n",
    ").to(device)\n",
    "\n",
    "controller.initialise(lam_g1=200, lam_g2=200, lam_u=200, lam_y=200)"
   ]
  },
  {
   "cell_type": "markdown",
   "metadata": {},
   "source": [
    "### Run DeePC-HUNT"
   ]
  },
  {
   "cell_type": "code",
   "execution_count": 5,
   "metadata": {},
   "outputs": [
    {
     "name": "stderr",
     "output_type": "stream",
     "text": [
      "  0%|                                                                        | 0/70 [00:00<?, ?it/s]\n"
     ]
    },
    {
     "ename": "ValueError",
     "evalue": "cannot reshape array of size 0 into shape (4,)",
     "output_type": "error",
     "traceback": [
      "\u001b[0;31m---------------------------------------------------------------------------\u001b[0m",
      "\u001b[0;31mValueError\u001b[0m                                Traceback (most recent call last)",
      "\u001b[1;32m/Users/michaelcummins/DeePC-HUNT/examples/cartpole.ipynb Cell 9\u001b[0m line \u001b[0;36m6\n\u001b[1;32m      <a href='vscode-notebook-cell:/Users/michaelcummins/DeePC-HUNT/examples/cartpole.ipynb#X11sZmlsZQ%3D%3D?line=3'>4</a>\u001b[0m \u001b[39m# Tune regularization params\u001b[39;00m\n\u001b[1;32m      <a href='vscode-notebook-cell:/Users/michaelcummins/DeePC-HUNT/examples/cartpole.ipynb#X11sZmlsZQ%3D%3D?line=4'>5</a>\u001b[0m deepc_tuner \u001b[39m=\u001b[39m Trainer(controller\u001b[39m=\u001b[39mcontroller, env\u001b[39m=\u001b[39mCartpoleDx())\n\u001b[0;32m----> <a href='vscode-notebook-cell:/Users/michaelcummins/DeePC-HUNT/examples/cartpole.ipynb#X11sZmlsZQ%3D%3D?line=5'>6</a>\u001b[0m final_params \u001b[39m=\u001b[39m deepc_tuner\u001b[39m.\u001b[39;49mrun(epochs\u001b[39m=\u001b[39;49mepochs, time_steps\u001b[39m=\u001b[39;49mtime_steps)\n",
      "File \u001b[0;32m~/DeePC-HUNT/deepc_hunt/trainer.py:21\u001b[0m, in \u001b[0;36mTrainer.run\u001b[0;34m(self, epochs, time_steps)\u001b[0m\n\u001b[1;32m     16\u001b[0m pbar \u001b[39m=\u001b[39m tqdm(\u001b[39mrange\u001b[39m(epochs), ncols\u001b[39m=\u001b[39m\u001b[39m100\u001b[39m)\n\u001b[1;32m     18\u001b[0m \u001b[39mfor\u001b[39;00m _ \u001b[39min\u001b[39;00m pbar:\n\u001b[1;32m     19\u001b[0m     \n\u001b[1;32m     20\u001b[0m     \u001b[39m# Get random initial signal from data\u001b[39;00m\n\u001b[0;32m---> 21\u001b[0m     u_ini, y_ini \u001b[39m=\u001b[39m sample_initial_signal(\n\u001b[1;32m     22\u001b[0m         Tini\u001b[39m=\u001b[39;49m\u001b[39mself\u001b[39;49m\u001b[39m.\u001b[39;49mcontroller\u001b[39m.\u001b[39;49mTini, \n\u001b[1;32m     23\u001b[0m         m\u001b[39m=\u001b[39;49m\u001b[39mself\u001b[39;49m\u001b[39m.\u001b[39;49mcontroller\u001b[39m.\u001b[39;49mm, p\u001b[39m=\u001b[39;49m\u001b[39mself\u001b[39;49m\u001b[39m.\u001b[39;49mcontroller\u001b[39m.\u001b[39;49mp, \n\u001b[1;32m     24\u001b[0m         batch\u001b[39m=\u001b[39;49m\u001b[39mself\u001b[39;49m\u001b[39m.\u001b[39;49mcontroller\u001b[39m.\u001b[39;49mn_batch, \n\u001b[1;32m     25\u001b[0m         ud\u001b[39m=\u001b[39;49m\u001b[39mself\u001b[39;49m\u001b[39m.\u001b[39;49mcontroller\u001b[39m.\u001b[39;49mud, \n\u001b[1;32m     26\u001b[0m         yd\u001b[39m=\u001b[39;49m\u001b[39mself\u001b[39;49m\u001b[39m.\u001b[39;49mcontroller\u001b[39m.\u001b[39;49myd\n\u001b[1;32m     27\u001b[0m     )\n\u001b[1;32m     28\u001b[0m     u_ini \u001b[39m=\u001b[39m u_ini\u001b[39m.\u001b[39mto(\u001b[39mself\u001b[39m\u001b[39m.\u001b[39mcontroller\u001b[39m.\u001b[39mdevice)\n\u001b[1;32m     29\u001b[0m     y_ini \u001b[39m=\u001b[39m y_ini\u001b[39m.\u001b[39mto(\u001b[39mself\u001b[39m\u001b[39m.\u001b[39mcontroller\u001b[39m.\u001b[39mdevice)\n",
      "File \u001b[0;32m~/DeePC-HUNT/deepc_hunt/utils.py:60\u001b[0m, in \u001b[0;36msample_initial_signal\u001b[0;34m(Tini, p, m, batch, ud, yd)\u001b[0m\n\u001b[1;32m     58\u001b[0m     sampled_uini \u001b[39m=\u001b[39m np\u001b[39m.\u001b[39marray([ud[ind:Tini \u001b[39m+\u001b[39m ind, :]\u001b[39m.\u001b[39mreshape((Tini\u001b[39m*\u001b[39mm,)) \u001b[39mfor\u001b[39;00m ind \u001b[39min\u001b[39;00m index])\n\u001b[1;32m     59\u001b[0m \u001b[39melse\u001b[39;00m:\n\u001b[0;32m---> 60\u001b[0m     sampled_uini \u001b[39m=\u001b[39m np\u001b[39m.\u001b[39marray([ud[ind:Tini\u001b[39m*\u001b[39mm \u001b[39m+\u001b[39m ind]\u001b[39m.\u001b[39mreshape((Tini\u001b[39m*\u001b[39mm,)) \u001b[39mfor\u001b[39;00m ind \u001b[39min\u001b[39;00m index])\n\u001b[1;32m     61\u001b[0m \u001b[39mif\u001b[39;00m yd\u001b[39m.\u001b[39mndim \u001b[39m>\u001b[39m \u001b[39m1\u001b[39m:\n\u001b[1;32m     62\u001b[0m     sampled_yini \u001b[39m=\u001b[39m np\u001b[39m.\u001b[39marray([yd[ind:Tini \u001b[39m+\u001b[39m ind, :]\u001b[39m.\u001b[39mreshape((Tini\u001b[39m*\u001b[39mp,)) \u001b[39mfor\u001b[39;00m ind \u001b[39min\u001b[39;00m index])\n",
      "File \u001b[0;32m~/DeePC-HUNT/deepc_hunt/utils.py:60\u001b[0m, in \u001b[0;36m<listcomp>\u001b[0;34m(.0)\u001b[0m\n\u001b[1;32m     58\u001b[0m     sampled_uini \u001b[39m=\u001b[39m np\u001b[39m.\u001b[39marray([ud[ind:Tini \u001b[39m+\u001b[39m ind, :]\u001b[39m.\u001b[39mreshape((Tini\u001b[39m*\u001b[39mm,)) \u001b[39mfor\u001b[39;00m ind \u001b[39min\u001b[39;00m index])\n\u001b[1;32m     59\u001b[0m \u001b[39melse\u001b[39;00m:\n\u001b[0;32m---> 60\u001b[0m     sampled_uini \u001b[39m=\u001b[39m np\u001b[39m.\u001b[39marray([ud[ind:Tini\u001b[39m*\u001b[39;49mm \u001b[39m+\u001b[39;49m ind]\u001b[39m.\u001b[39;49mreshape((Tini\u001b[39m*\u001b[39;49mm,)) \u001b[39mfor\u001b[39;00m ind \u001b[39min\u001b[39;00m index])\n\u001b[1;32m     61\u001b[0m \u001b[39mif\u001b[39;00m yd\u001b[39m.\u001b[39mndim \u001b[39m>\u001b[39m \u001b[39m1\u001b[39m:\n\u001b[1;32m     62\u001b[0m     sampled_yini \u001b[39m=\u001b[39m np\u001b[39m.\u001b[39marray([yd[ind:Tini \u001b[39m+\u001b[39m ind, :]\u001b[39m.\u001b[39mreshape((Tini\u001b[39m*\u001b[39mp,)) \u001b[39mfor\u001b[39;00m ind \u001b[39min\u001b[39;00m index])\n",
      "\u001b[0;31mValueError\u001b[0m: cannot reshape array of size 0 into shape (4,)"
     ]
    }
   ],
   "source": [
    "epochs = 70\n",
    "time_steps = controller.N\n",
    "\n",
    "# Tune regularization params\n",
    "deepc_tuner = Trainer(controller=controller, env=CartpoleDx())\n",
    "final_params = deepc_tuner.run(epochs=epochs, time_steps=time_steps)"
   ]
  }
 ],
 "metadata": {
  "kernelspec": {
   "display_name": "deepc-dev",
   "language": "python",
   "name": "python3"
  },
  "language_info": {
   "codemirror_mode": {
    "name": "ipython",
    "version": 3
   },
   "file_extension": ".py",
   "mimetype": "text/x-python",
   "name": "python",
   "nbconvert_exporter": "python",
   "pygments_lexer": "ipython3",
   "version": "3.10.12"
  },
  "orig_nbformat": 4
 },
 "nbformat": 4,
 "nbformat_minor": 2
}
