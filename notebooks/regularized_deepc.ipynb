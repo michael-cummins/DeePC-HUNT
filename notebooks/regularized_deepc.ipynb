{
 "cells": [
  {
   "cell_type": "code",
   "execution_count": 1,
   "metadata": {},
   "outputs": [],
   "source": [
    "import osqp\n",
    "import cvxpy as cp\n",
    "import numpy as np\n",
    "\n",
    "import scipy as sp\n",
    "from scipy import sparse\n",
    "\n",
    "import matplotlib.pyplot as plt\n",
    "from scipy.linalg import hankel\n",
    "\n",
    "import gym\n",
    "import mujoco_py\n",
    "from gym import wrappers\n",
    "from IPython import display\n",
    "\n",
    "%matplotlib inline"
   ]
  },
  {
   "cell_type": "code",
   "execution_count": 2,
   "metadata": {},
   "outputs": [
    {
     "name": "stderr",
     "output_type": "stream",
     "text": [
      "/opt/homebrew/Caskroom/miniforge/base/lib/python3.10/site-packages/gym/utils/passive_env_checker.py:233: DeprecationWarning: `np.bool8` is a deprecated alias for `np.bool_`.  (Deprecated NumPy 1.24)\n",
      "  if not isinstance(terminated, (bool, np.bool8)):\n"
     ]
    }
   ],
   "source": [
    "env = gym.make('InvertedPendulum-v4', render_mode='rgb_array')\n",
    "obs = env.reset()\n",
    "\n",
    "ud = []\n",
    "yd = []\n",
    "done = False\n",
    "for i in range(27):\n",
    "    action = env.action_space.sample()\n",
    "    obs, rew, done, info, _ = env.step(action)\n",
    "    ud.append(action)\n",
    "    yd.append(obs)\n",
    "\n",
    "env.close()\n",
    "\n",
    "ud = np.array(ud)\n",
    "yd = np.array(yd)"
   ]
  },
  {
   "cell_type": "code",
   "execution_count": 3,
   "metadata": {},
   "outputs": [
    {
     "name": "stdout",
     "output_type": "stream",
     "text": [
      "yd shape : (27, 4)   ud shape : (27, 1)\n",
      "H has rank 13 and shape (13, 14)\n"
     ]
    }
   ],
   "source": [
    "T_ini = 4\n",
    "n = 4\n",
    "N = 5\n",
    "env.close()\n",
    "T = len(ud)\n",
    "\n",
    "print(f'yd shape : {yd.shape}   ud shape : {ud.shape}')\n",
    "\n",
    "L = T_ini + N + n\n",
    "H = hankel(ud[0:L], ud[L:])\n",
    "print(f'H has rank {np.linalg.matrix_rank(H)} and shape {H.shape}')"
   ]
  },
  {
   "cell_type": "code",
   "execution_count": 4,
   "metadata": {},
   "outputs": [
    {
     "name": "stdout",
     "output_type": "stream",
     "text": [
      "U = (9, 18), Up = (4, 18), Uf = (5, 18)\n",
      "Y = (36, 19), Yp = (16, 19), Yf = (20, 19)\n"
     ]
    }
   ],
   "source": [
    "L = T_ini + N\n",
    "yd = yd.reshape((27*4,))\n",
    "\n",
    "U = hankel(ud[0:L], ud[L:])\n",
    "Y = np.zeros((L*4, 27-L+1))\n",
    "\n",
    "for i in range(0,T-L+1):\n",
    "    Y[:,i] = yd[4*i:4*(L+i)]\n",
    "\n",
    "Up = U[0:T_ini, :]\n",
    "Uf = U[T_ini:, :]\n",
    "print(f'U = {U.shape}, Up = {Up.shape}, Uf = {Uf.shape}')\n",
    "\n",
    "Yp = Y[0:4*T_ini, :]\n",
    "Yf = Y[4*T_ini:, :]\n",
    "print(f'Y = {Y.shape}, Yp = {Yp.shape}, Yf = {Yf.shape}')\n",
    "\n",
    "u_ini = ud[3:3+T_ini].reshape((T_ini,))\n",
    "y_ini = yd[12:12+4*T_ini].reshape((4*T_ini,))\n"
   ]
  },
  {
   "cell_type": "code",
   "execution_count": 5,
   "metadata": {},
   "outputs": [
    {
     "ename": "ValueError",
     "evalue": "Incompatible dimensions (16, 19) (18, 1)",
     "output_type": "error",
     "traceback": [
      "\u001b[0;31m---------------------------------------------------------------------------\u001b[0m",
      "\u001b[0;31mValueError\u001b[0m                                Traceback (most recent call last)",
      "Cell \u001b[0;32mIn[5], line 26\u001b[0m\n\u001b[1;32m     20\u001b[0m \u001b[39m# print(yT)\u001b[39;00m\n\u001b[1;32m     22\u001b[0m \u001b[39mfor\u001b[39;00m i \u001b[39min\u001b[39;00m \u001b[39mrange\u001b[39m(\u001b[39m30\u001b[39m):\n\u001b[1;32m     24\u001b[0m   constraints \u001b[39m=\u001b[39m [\n\u001b[1;32m     25\u001b[0m     Up \u001b[39m@\u001b[39m g \u001b[39m==\u001b[39m u_ini,\n\u001b[0;32m---> 26\u001b[0m     Yp \u001b[39m@\u001b[39;49m g \u001b[39m==\u001b[39m y_ini \u001b[39m+\u001b[39m sig_y,\n\u001b[1;32m     27\u001b[0m     Uf \u001b[39m@\u001b[39m g \u001b[39m==\u001b[39m u,\n\u001b[1;32m     28\u001b[0m     Yf \u001b[39m@\u001b[39m g \u001b[39m==\u001b[39m y,\n\u001b[1;32m     29\u001b[0m     \u001b[39m# A@g == b,\u001b[39;00m\n\u001b[1;32m     30\u001b[0m     cp\u001b[39m.\u001b[39mabs(u) \u001b[39m<\u001b[39m\u001b[39m=\u001b[39m u_constraint\n\u001b[1;32m     31\u001b[0m     \u001b[39m# cp.abs(u[1::2]) <= steer_constraint,\u001b[39;00m\n\u001b[1;32m     32\u001b[0m     \u001b[39m# y <= x_upper,\u001b[39;00m\n\u001b[1;32m     33\u001b[0m     \u001b[39m# y >= x_lower\u001b[39;00m\n\u001b[1;32m     34\u001b[0m   ]\n\u001b[1;32m     36\u001b[0m   prob \u001b[39m=\u001b[39m cp\u001b[39m.\u001b[39mProblem(cp\u001b[39m.\u001b[39mMinimize(cost), constraints)\n\u001b[1;32m     37\u001b[0m   prob\u001b[39m.\u001b[39msolve(solver\u001b[39m=\u001b[39mcp\u001b[39m.\u001b[39mOSQP, verbose\u001b[39m=\u001b[39m\u001b[39mFalse\u001b[39;00m)\n",
      "File \u001b[0;32m/opt/homebrew/Caskroom/miniforge/base/lib/python3.10/site-packages/cvxpy/expressions/expression.py:745\u001b[0m, in \u001b[0;36mExpression.__array_ufunc__\u001b[0;34m(self, ufunc, method, *args, **kwargs)\u001b[0m\n\u001b[1;32m    741\u001b[0m     ufunc_handler \u001b[39m=\u001b[39m __BINARY_EXPRESSION_UFUNCS__[ufunc]\n\u001b[1;32m    742\u001b[0m     \u001b[39mif\u001b[39;00m kwargs \u001b[39m==\u001b[39m {} \u001b[39mand\u001b[39;00m \\\n\u001b[1;32m    743\u001b[0m             \u001b[39mlen\u001b[39m(args) \u001b[39m==\u001b[39m \u001b[39m2\u001b[39m \u001b[39mand\u001b[39;00m \\\n\u001b[1;32m    744\u001b[0m             args[\u001b[39m1\u001b[39m] \u001b[39mis\u001b[39;00m \u001b[39mself\u001b[39m:\n\u001b[0;32m--> 745\u001b[0m         \u001b[39mreturn\u001b[39;00m ufunc_handler(\u001b[39mself\u001b[39;49m, args[\u001b[39m0\u001b[39;49m])\n\u001b[1;32m    746\u001b[0m \u001b[39mexcept\u001b[39;00m \u001b[39mKeyError\u001b[39;00m:\n\u001b[1;32m    747\u001b[0m     \u001b[39mpass\u001b[39;00m\n",
      "File \u001b[0;32m/opt/homebrew/Caskroom/miniforge/base/lib/python3.10/site-packages/cvxpy/expressions/expression.py:75\u001b[0m, in \u001b[0;36m<lambda>\u001b[0;34m(self, a)\u001b[0m\n\u001b[1;32m     56\u001b[0m __STAR_MATMUL_WARNING__ \u001b[39m=\u001b[39m \u001b[39m\"\"\"\u001b[39m\n\u001b[1;32m     57\u001b[0m \u001b[39mThis use of ``*`` has resulted in matrix multiplication.\u001b[39m\n\u001b[1;32m     58\u001b[0m \u001b[39mUsing ``*`` for matrix multiplication has been deprecated since CVXPY 1.1.\u001b[39m\n\u001b[0;32m   (...)\u001b[0m\n\u001b[1;32m     62\u001b[0m \u001b[39mThis code path has been hit \u001b[39m\u001b[39m%s\u001b[39;00m\u001b[39m times so far.\u001b[39m\n\u001b[1;32m     63\u001b[0m \u001b[39m\"\"\"\u001b[39m\n\u001b[1;32m     65\u001b[0m __NUMPY_UFUNC_ERROR__ \u001b[39m=\u001b[39m \u001b[39m\"\"\"\u001b[39m\n\u001b[1;32m     66\u001b[0m \u001b[39mYou\u001b[39m\u001b[39m'\u001b[39m\u001b[39mre calling a NumPy function on a CVXPY expression. This is prone to causing\u001b[39m\n\u001b[1;32m     67\u001b[0m \u001b[39merrors or code that doesn\u001b[39m\u001b[39m'\u001b[39m\u001b[39mt behave as expected. Consider using one of the\u001b[39m\n\u001b[1;32m     68\u001b[0m \u001b[39mfunctions documented here: https://www.cvxpy.org/tutorial/functions/index.html\u001b[39m\n\u001b[1;32m     69\u001b[0m \u001b[39m\"\"\"\u001b[39m\n\u001b[1;32m     70\u001b[0m __BINARY_EXPRESSION_UFUNCS__ \u001b[39m=\u001b[39m {\n\u001b[1;32m     71\u001b[0m         np\u001b[39m.\u001b[39madd: \u001b[39mlambda\u001b[39;00m \u001b[39mself\u001b[39m, a: \u001b[39mself\u001b[39m\u001b[39m.\u001b[39m\u001b[39m__radd__\u001b[39m(a),\n\u001b[1;32m     72\u001b[0m         np\u001b[39m.\u001b[39msubtract: \u001b[39mlambda\u001b[39;00m \u001b[39mself\u001b[39m, a: \u001b[39mself\u001b[39m\u001b[39m.\u001b[39m\u001b[39m__rsub__\u001b[39m(a),\n\u001b[1;32m     73\u001b[0m         np\u001b[39m.\u001b[39mmultiply: \u001b[39mlambda\u001b[39;00m \u001b[39mself\u001b[39m, a: \u001b[39mself\u001b[39m\u001b[39m.\u001b[39m\u001b[39m__rmul__\u001b[39m(a),\n\u001b[1;32m     74\u001b[0m         np\u001b[39m.\u001b[39mdivide: \u001b[39mlambda\u001b[39;00m \u001b[39mself\u001b[39m, a: \u001b[39mself\u001b[39m\u001b[39m.\u001b[39m__rdiv__(a),\n\u001b[0;32m---> 75\u001b[0m         np\u001b[39m.\u001b[39mmatmul: \u001b[39mlambda\u001b[39;00m \u001b[39mself\u001b[39m, a: \u001b[39mself\u001b[39;49m\u001b[39m.\u001b[39;49m\u001b[39m__rmatmul__\u001b[39;49m(a),\n\u001b[1;32m     76\u001b[0m         np\u001b[39m.\u001b[39mpower: \u001b[39mlambda\u001b[39;00m \u001b[39mself\u001b[39m, a: \u001b[39mself\u001b[39m\u001b[39m.\u001b[39m\u001b[39m__rpow__\u001b[39m(a),\n\u001b[1;32m     77\u001b[0m         np\u001b[39m.\u001b[39mleft_shift: \u001b[39mlambda\u001b[39;00m \u001b[39mself\u001b[39m, a: \u001b[39mself\u001b[39m\u001b[39m.\u001b[39m\u001b[39m__rlshift__\u001b[39m(a),\n\u001b[1;32m     78\u001b[0m         np\u001b[39m.\u001b[39mright_shift: \u001b[39mlambda\u001b[39;00m \u001b[39mself\u001b[39m, a: \u001b[39mself\u001b[39m\u001b[39m.\u001b[39m\u001b[39m__rrshift__\u001b[39m(a),\n\u001b[1;32m     79\u001b[0m         np\u001b[39m.\u001b[39mequal: \u001b[39mlambda\u001b[39;00m \u001b[39mself\u001b[39m, a: \u001b[39mself\u001b[39m\u001b[39m.\u001b[39m\u001b[39m__eq__\u001b[39m(a),\n\u001b[1;32m     80\u001b[0m         \u001b[39m# <= and >= are backwards because this is only called for code of the\u001b[39;00m\n\u001b[1;32m     81\u001b[0m         \u001b[39m# form ndarray <= Expression\u001b[39;00m\n\u001b[1;32m     82\u001b[0m         np\u001b[39m.\u001b[39mless_equal: \u001b[39mlambda\u001b[39;00m \u001b[39mself\u001b[39m, a: \u001b[39mself\u001b[39m\u001b[39m.\u001b[39m\u001b[39m__ge__\u001b[39m(a),\n\u001b[1;32m     83\u001b[0m         np\u001b[39m.\u001b[39mgreater_equal: \u001b[39mlambda\u001b[39;00m \u001b[39mself\u001b[39m, a: \u001b[39mself\u001b[39m\u001b[39m.\u001b[39m\u001b[39m__le__\u001b[39m(a),\n\u001b[1;32m     84\u001b[0m         np\u001b[39m.\u001b[39mless: \u001b[39mlambda\u001b[39;00m \u001b[39mself\u001b[39m, a: \u001b[39mself\u001b[39m\u001b[39m.\u001b[39m\u001b[39m__gt__\u001b[39m(a),\n\u001b[1;32m     85\u001b[0m         np\u001b[39m.\u001b[39mgreater: \u001b[39mlambda\u001b[39;00m \u001b[39mself\u001b[39m, a: \u001b[39mself\u001b[39m\u001b[39m.\u001b[39m\u001b[39m__lt__\u001b[39m(a),\n\u001b[1;32m     86\u001b[0m }\n\u001b[1;32m     89\u001b[0m \u001b[39mclass\u001b[39;00m \u001b[39mExpression\u001b[39;00m(u\u001b[39m.\u001b[39mCanonical):\n\u001b[1;32m     90\u001b[0m \u001b[39m    \u001b[39m\u001b[39m\"\"\"A mathematical expression in a convex optimization problem.\u001b[39;00m\n\u001b[1;32m     91\u001b[0m \n\u001b[1;32m     92\u001b[0m \u001b[39m    Overloads many operators to allow for convenient creation of compound\u001b[39;00m\n\u001b[1;32m     93\u001b[0m \u001b[39m    expressions (e.g., the sum of two expressions) and constraints.\u001b[39;00m\n\u001b[1;32m     94\u001b[0m \u001b[39m    \"\"\"\u001b[39;00m\n",
      "File \u001b[0;32m/opt/homebrew/Caskroom/miniforge/base/lib/python3.10/site-packages/cvxpy/expressions/expression.py:50\u001b[0m, in \u001b[0;36m_cast_other.<locals>.cast_op\u001b[0;34m(self, other)\u001b[0m\n\u001b[1;32m     47\u001b[0m \u001b[39m\u001b[39m\u001b[39m\"\"\"A wrapped binary operator that can handle non-Expression arguments.\u001b[39;00m\n\u001b[1;32m     48\u001b[0m \u001b[39m\"\"\"\u001b[39;00m\n\u001b[1;32m     49\u001b[0m other \u001b[39m=\u001b[39m \u001b[39mself\u001b[39m\u001b[39m.\u001b[39mcast_to_const(other)\n\u001b[0;32m---> 50\u001b[0m \u001b[39mreturn\u001b[39;00m binary_op(\u001b[39mself\u001b[39;49m, other)\n",
      "File \u001b[0;32m/opt/homebrew/Caskroom/miniforge/base/lib/python3.10/site-packages/cvxpy/expressions/expression.py:675\u001b[0m, in \u001b[0;36mExpression.__rmatmul__\u001b[0;34m(self, other)\u001b[0m\n\u001b[1;32m    673\u001b[0m \u001b[39mif\u001b[39;00m \u001b[39mself\u001b[39m\u001b[39m.\u001b[39mshape \u001b[39m==\u001b[39m () \u001b[39mor\u001b[39;00m other\u001b[39m.\u001b[39mshape \u001b[39m==\u001b[39m ():\n\u001b[1;32m    674\u001b[0m     \u001b[39mraise\u001b[39;00m \u001b[39mValueError\u001b[39;00m(\u001b[39m\"\u001b[39m\u001b[39mScalar operands are not allowed, use \u001b[39m\u001b[39m'\u001b[39m\u001b[39m*\u001b[39m\u001b[39m'\u001b[39m\u001b[39m instead\u001b[39m\u001b[39m\"\u001b[39m)\n\u001b[0;32m--> 675\u001b[0m \u001b[39mreturn\u001b[39;00m cvxtypes\u001b[39m.\u001b[39;49mmatmul_expr()(other, \u001b[39mself\u001b[39;49m)\n",
      "File \u001b[0;32m/opt/homebrew/Caskroom/miniforge/base/lib/python3.10/site-packages/cvxpy/atoms/affine/binary_operators.py:50\u001b[0m, in \u001b[0;36mBinaryOperator.__init__\u001b[0;34m(self, lh_exp, rh_exp)\u001b[0m\n\u001b[1;32m     49\u001b[0m \u001b[39mdef\u001b[39;00m \u001b[39m__init__\u001b[39m(\u001b[39mself\u001b[39m, lh_exp, rh_exp) \u001b[39m-\u001b[39m\u001b[39m>\u001b[39m \u001b[39mNone\u001b[39;00m:\n\u001b[0;32m---> 50\u001b[0m     \u001b[39msuper\u001b[39;49m(BinaryOperator, \u001b[39mself\u001b[39;49m)\u001b[39m.\u001b[39;49m\u001b[39m__init__\u001b[39;49m(lh_exp, rh_exp)\n",
      "File \u001b[0;32m/opt/homebrew/Caskroom/miniforge/base/lib/python3.10/site-packages/cvxpy/atoms/atom.py:51\u001b[0m, in \u001b[0;36mAtom.__init__\u001b[0;34m(self, *args)\u001b[0m\n\u001b[1;32m     49\u001b[0m \u001b[39mself\u001b[39m\u001b[39m.\u001b[39margs \u001b[39m=\u001b[39m [Atom\u001b[39m.\u001b[39mcast_to_const(arg) \u001b[39mfor\u001b[39;00m arg \u001b[39min\u001b[39;00m args]\n\u001b[1;32m     50\u001b[0m \u001b[39mself\u001b[39m\u001b[39m.\u001b[39mvalidate_arguments()\n\u001b[0;32m---> 51\u001b[0m \u001b[39mself\u001b[39m\u001b[39m.\u001b[39m_shape \u001b[39m=\u001b[39m \u001b[39mself\u001b[39;49m\u001b[39m.\u001b[39;49mshape_from_args()\n\u001b[1;32m     52\u001b[0m \u001b[39mif\u001b[39;00m \u001b[39mlen\u001b[39m(\u001b[39mself\u001b[39m\u001b[39m.\u001b[39m_shape) \u001b[39m>\u001b[39m \u001b[39m2\u001b[39m:\n\u001b[1;32m     53\u001b[0m     \u001b[39mraise\u001b[39;00m \u001b[39mValueError\u001b[39;00m(\u001b[39m\"\u001b[39m\u001b[39mAtoms must be at most 2D.\u001b[39m\u001b[39m\"\u001b[39m)\n",
      "File \u001b[0;32m/opt/homebrew/Caskroom/miniforge/base/lib/python3.10/site-packages/cvxpy/atoms/affine/binary_operators.py:120\u001b[0m, in \u001b[0;36mMulExpression.shape_from_args\u001b[0;34m(self)\u001b[0m\n\u001b[1;32m    117\u001b[0m \u001b[39mdef\u001b[39;00m \u001b[39mshape_from_args\u001b[39m(\u001b[39mself\u001b[39m) \u001b[39m-\u001b[39m\u001b[39m>\u001b[39m Tuple[\u001b[39mint\u001b[39m, \u001b[39m.\u001b[39m\u001b[39m.\u001b[39m\u001b[39m.\u001b[39m]:\n\u001b[1;32m    118\u001b[0m \u001b[39m    \u001b[39m\u001b[39m\"\"\"Returns the (row, col) shape of the expression.\u001b[39;00m\n\u001b[1;32m    119\u001b[0m \u001b[39m    \"\"\"\u001b[39;00m\n\u001b[0;32m--> 120\u001b[0m     \u001b[39mreturn\u001b[39;00m u\u001b[39m.\u001b[39;49mshape\u001b[39m.\u001b[39;49mmul_shapes(\u001b[39mself\u001b[39;49m\u001b[39m.\u001b[39;49margs[\u001b[39m0\u001b[39;49m]\u001b[39m.\u001b[39;49mshape, \u001b[39mself\u001b[39;49m\u001b[39m.\u001b[39;49margs[\u001b[39m1\u001b[39;49m]\u001b[39m.\u001b[39;49mshape)\n",
      "File \u001b[0;32m/opt/homebrew/Caskroom/miniforge/base/lib/python3.10/site-packages/cvxpy/utilities/shape.py:144\u001b[0m, in \u001b[0;36mmul_shapes\u001b[0;34m(lh_shape, rh_shape)\u001b[0m\n\u001b[1;32m    142\u001b[0m lh_old \u001b[39m=\u001b[39m lh_shape\n\u001b[1;32m    143\u001b[0m rh_old \u001b[39m=\u001b[39m rh_shape\n\u001b[0;32m--> 144\u001b[0m lh_shape, rh_shape, shape \u001b[39m=\u001b[39m mul_shapes_promote(lh_shape, rh_shape)\n\u001b[1;32m    145\u001b[0m \u001b[39mif\u001b[39;00m lh_shape \u001b[39m!=\u001b[39m lh_old:\n\u001b[1;32m    146\u001b[0m     shape \u001b[39m=\u001b[39m shape[\u001b[39m1\u001b[39m:]\n",
      "File \u001b[0;32m/opt/homebrew/Caskroom/miniforge/base/lib/python3.10/site-packages/cvxpy/utilities/shape.py:110\u001b[0m, in \u001b[0;36mmul_shapes_promote\u001b[0;34m(lh_shape, rh_shape)\u001b[0m\n\u001b[1;32m    108\u001b[0m rh_mat_shape \u001b[39m=\u001b[39m rh_shape[\u001b[39m-\u001b[39m\u001b[39m2\u001b[39m:]\n\u001b[1;32m    109\u001b[0m \u001b[39mif\u001b[39;00m lh_mat_shape[\u001b[39m1\u001b[39m] \u001b[39m!=\u001b[39m rh_mat_shape[\u001b[39m0\u001b[39m]:\n\u001b[0;32m--> 110\u001b[0m     \u001b[39mraise\u001b[39;00m \u001b[39mValueError\u001b[39;00m(\u001b[39m\"\u001b[39m\u001b[39mIncompatible dimensions \u001b[39m\u001b[39m%s\u001b[39;00m\u001b[39m \u001b[39m\u001b[39m%s\u001b[39;00m\u001b[39m\"\u001b[39m \u001b[39m%\u001b[39m (\n\u001b[1;32m    111\u001b[0m         lh_shape, rh_shape))\n\u001b[1;32m    112\u001b[0m \u001b[39mif\u001b[39;00m lh_shape[:\u001b[39m-\u001b[39m\u001b[39m2\u001b[39m] \u001b[39m!=\u001b[39m rh_shape[:\u001b[39m-\u001b[39m\u001b[39m2\u001b[39m]:\n\u001b[1;32m    113\u001b[0m     \u001b[39mraise\u001b[39;00m \u001b[39mValueError\u001b[39;00m(\u001b[39m\"\u001b[39m\u001b[39mIncompatible dimensions \u001b[39m\u001b[39m%s\u001b[39;00m\u001b[39m \u001b[39m\u001b[39m%s\u001b[39;00m\u001b[39m\"\u001b[39m \u001b[39m%\u001b[39m (\n\u001b[1;32m    114\u001b[0m         lh_shape, rh_shape))\n",
      "\u001b[0;31mValueError\u001b[0m: Incompatible dimensions (16, 19) (18, 1)"
     ]
    }
   ],
   "source": [
    "g = cp.Variable(T - T_ini - N)\n",
    "u = cp.Variable(N)\n",
    "y = cp.Variable(N*4)\n",
    "sig_y = cp.Variable(4*T_ini)\n",
    "\n",
    "Q = np.eye(N*4)\n",
    "R = np.eye(N)*0.01\n",
    "x_lower = np.ones(N)*0\n",
    "x_upper = np.ones(N)*3\n",
    "\n",
    "u_constraint = np.ones(N)*3\n",
    "\n",
    "cost = cp.quad_form(y, Q) + cp.quad_form(u,R) + cp.norm1(g)*10 + cp.norm1(sig_y)*0.01\n",
    "\n",
    "env = gym.make('InvertedPendulum-v4', render_mode='rgb_array')\n",
    "obs = env.reset()\n",
    "done = False\n",
    "yT = [*y_ini]\n",
    "uT = [*u_ini]\n",
    "# print(yT)\n",
    "\n",
    "for i in range(30):\n",
    "\n",
    "  constraints = [\n",
    "    Up @ g == u_ini,\n",
    "    Yp @ g == y_ini + sig_y,\n",
    "    Uf @ g == u,\n",
    "    Yf @ g == y,\n",
    "    # A@g == b,\n",
    "    cp.abs(u) <= u_constraint\n",
    "    # cp.abs(u[1::2]) <= steer_constraint,\n",
    "    # y <= x_upper,\n",
    "    # y >= x_lower\n",
    "  ]\n",
    "\n",
    "  prob = cp.Problem(cp.Minimize(cost), constraints)\n",
    "  prob.solve(solver=cp.OSQP, verbose=False)\n",
    "\n",
    "  # for i in range(T_ini):\n",
    "  plt.imshow(env.render())\n",
    "  display.display(plt.gcf())    \n",
    "  display.clear_output(wait=True)\n",
    "  action = prob.variables()[1].value[0]\n",
    "  # print(action)\n",
    "  obs,_,_,_,_ = env.step([action])\n",
    "  uT.append(action)\n",
    "  for o in obs:\n",
    "    yT.append(o) \n",
    "    \n",
    "  # print(yT)\n",
    "  u_ini = np.array(uT[-4:]).reshape(4,)\n",
    "  y_ini = np.array(yT[-16:]).reshape(16,)\n",
    "\n",
    "\n",
    "\n"
   ]
  },
  {
   "cell_type": "code",
   "execution_count": null,
   "metadata": {},
   "outputs": [],
   "source": [
    "# time = np.array(list(range(0,N)))\n",
    "# y = prob.variables()[0].value\n",
    "# u = prob.variables()[1].value\n",
    "yT = np.array(yT)\n",
    "print(yT.shape)\n",
    "yT = yT.reshape((34,4))\n",
    "plt.subplot(1,2,1)\n",
    "plt.plot(range(0,34), yT, label=['x-pos', 'angle', 'vel-x', 'ang-vel'])\n",
    "plt.legend(loc=\"upper right\")\n",
    "plt.xlabel('Time (s)')\n",
    "plt.title(\"X - Pos Prediction\")\n",
    "# plt.ylim((-3,7))\n",
    "plt.grid('on')\n",
    "plt.tight_layout()\n",
    "\n",
    "plt.subplot(1,2,2)\n",
    "plt.plot(range(0,34), uT)\n",
    "plt.legend(loc=\"upper left\")\n",
    "plt.xlabel('Time (s)')\n",
    "plt.title(\"Actuation\")\n",
    "plt.ylim((-3,7))\n",
    "plt.grid('on')\n",
    "plt.tight_layout()\n",
    "\n",
    "plt.show()"
   ]
  }
 ],
 "metadata": {
  "kernelspec": {
   "display_name": "base",
   "language": "python",
   "name": "python3"
  },
  "language_info": {
   "codemirror_mode": {
    "name": "ipython",
    "version": 3
   },
   "file_extension": ".py",
   "mimetype": "text/x-python",
   "name": "python",
   "nbconvert_exporter": "python",
   "pygments_lexer": "ipython3",
   "version": "3.10.9"
  },
  "orig_nbformat": 4
 },
 "nbformat": 4,
 "nbformat_minor": 2
}
