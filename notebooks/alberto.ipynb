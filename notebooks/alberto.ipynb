{
 "cells": [
  {
   "cell_type": "code",
   "execution_count": 5,
   "metadata": {},
   "outputs": [],
   "source": [
    "import osqp\n",
    "import cvxpy as cp\n",
    "import numpy as np\n",
    "\n",
    "import scipy as sp\n",
    "from scipy import sparse\n",
    "\n",
    "import matplotlib.pyplot as plt\n",
    "from scipy.linalg import hankel\n",
    "%matplotlib inline"
   ]
  },
  {
   "cell_type": "code",
   "execution_count": 6,
   "metadata": {},
   "outputs": [],
   "source": [
    "A = np.array([[1.01, 0.01, 0.00], # A - State-space matrix\n",
    "                [0.01, 1.01, 0.01], #\n",
    "                [0.00, 0.01, 1.01]]) #\n",
    "B = np.eye(3) # B - State-space matrix\n",
    "C = np.eye(3) # C - State-space matrix\n",
    "D = np.zeros([3,3]) # D - State-space matrix\n",
    "n = A.shape[0] # n = number of states\n",
    "m = B.shape[1] # m = number of inputs\n",
    "p = C.shape[0] # p = number of output\n",
    "q = m+p # q = number of i/o variables\n",
    "# Tini = 3\n",
    "data = []\n",
    "T = range(20)\n",
    "for Ti in T:\n",
    "    uData = np.empty((m,Ti)) # Initialize input data matrix\n",
    "    yData = np.empty((p,Ti)) # Initialize output data matrix\n",
    "    x = np.random.rand(n,1) # Initial condition (random)\n",
    "    for t in range(Ti):\n",
    "        u = np.random.rand(m,1) # Random input\n",
    "        x = A@x+B@u # State update\n",
    "        y = C@x+D@u # Compute output\n",
    "        uData[:,[t]] = u # Save input data\n",
    "        yData[:,[t]] = y # Save output data\n",
    "        data.append({'yData': yData,'uData': uData}) # Save i/o data"
   ]
  },
  {
   "cell_type": "code",
   "execution_count": 8,
   "metadata": {},
   "outputs": [
    {
     "name": "stdout",
     "output_type": "stream",
     "text": [
      "1\n"
     ]
    },
    {
     "ename": "ValueError",
     "evalue": "negative dimensions are not allowed",
     "output_type": "error",
     "traceback": [
      "\u001b[0;31m---------------------------------------------------------------------------\u001b[0m",
      "\u001b[0;31mValueError\u001b[0m                                Traceback (most recent call last)",
      "Cell \u001b[0;32mIn[8], line 6\u001b[0m\n\u001b[1;32m      4\u001b[0m Ti \u001b[39m=\u001b[39m wData[\u001b[39m'\u001b[39m\u001b[39muData\u001b[39m\u001b[39m'\u001b[39m]\u001b[39m.\u001b[39mshape[\u001b[39m1\u001b[39m] \u001b[39m# Number of data points\u001b[39;00m\n\u001b[1;32m      5\u001b[0m \u001b[39mprint\u001b[39m(Ti)\n\u001b[0;32m----> 6\u001b[0m Hi \u001b[39m=\u001b[39m np\u001b[39m.\u001b[39;49mempty((L\u001b[39m*\u001b[39;49mq,Ti\u001b[39m-\u001b[39;49mL\u001b[39m+\u001b[39;49m\u001b[39m1\u001b[39;49m))\n\u001b[1;32m      7\u001b[0m \u001b[39m# Create Hankel matrix using the O/I partition (y,u)\u001b[39;00m\n\u001b[1;32m      8\u001b[0m yData \u001b[39m=\u001b[39m wData[\u001b[39m'\u001b[39m\u001b[39myData\u001b[39m\u001b[39m'\u001b[39m] \u001b[39m# Output data\u001b[39;00m\n",
      "\u001b[0;31mValueError\u001b[0m: negative dimensions are not allowed"
     ]
    }
   ],
   "source": [
    "H = []\n",
    "L = 3+5\n",
    "for wData in data:\n",
    "    Ti = wData['uData'].shape[1] # Number of data points\n",
    "    print(Ti)\n",
    "    Hi = np.empty((L*q,Ti-L+1))\n",
    "    # Create Hankel matrix using the O/I partition (y,u)\n",
    "    yData = wData['yData'] # Output data\n",
    "    uData = wData['uData'] # Input data\n",
    "    for i in range(L):\n",
    "        Hi[q*i:q*(i+1),:] = np.block(\n",
    "            [[yData[:,i:Ti-L+i+1]],\n",
    "            [uData[:,i:Ti-L+i+1]]]\n",
    "        )\n",
    "        H = np.append(H, Hi)\n",
    "        H = np.concatenate(H, axis=1)"
   ]
  }
 ],
 "metadata": {
  "kernelspec": {
   "display_name": "base",
   "language": "python",
   "name": "python3"
  },
  "language_info": {
   "codemirror_mode": {
    "name": "ipython",
    "version": 3
   },
   "file_extension": ".py",
   "mimetype": "text/x-python",
   "name": "python",
   "nbconvert_exporter": "python",
   "pygments_lexer": "ipython3",
   "version": "3.10.9"
  },
  "orig_nbformat": 4
 },
 "nbformat": 4,
 "nbformat_minor": 2
}
