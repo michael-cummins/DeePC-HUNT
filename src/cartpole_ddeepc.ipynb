{
 "cells": [
  {
   "cell_type": "code",
   "execution_count": 158,
   "metadata": {},
   "outputs": [
    {
     "name": "stdout",
     "output_type": "stream",
     "text": [
      "The autoreload extension is already loaded. To reload it, use:\n",
      "  %reload_ext autoreload\n"
     ]
    }
   ],
   "source": [
    "%load_ext autoreload\n",
    "# %reload_ext autoreload\n",
    "%autoreload 2\n",
    "\n",
    "import numpy as np\n",
    "import matplotlib.pyplot as plt\n",
    "from IPython import display\n",
    "import os\n",
    "import io\n",
    "import base64\n",
    "import tempfile\n",
    "from IPython.display import HTML\n",
    "from numpy import loadtxt\n",
    "\n",
    "from controllers import DDeePC\n",
    "from controller_utils import CartpoleDx\n",
    "from tqdm import tqdm\n",
    "import torch\n",
    "import torch.optim as optim\n",
    "import torch.optim.lr_scheduler as lr_scheduler\n",
    "\n",
    "from mpc import mpc\n",
    "from mpc.mpc import GradMethods, QuadCost\n",
    "import mpc.util as eutil\n",
    "\n",
    "\n",
    "%matplotlib inline\n"
   ]
  },
  {
   "attachments": {},
   "cell_type": "markdown",
   "metadata": {},
   "source": [
    "## Data Collection\n"
   ]
  },
  {
   "cell_type": "code",
   "execution_count": 159,
   "metadata": {},
   "outputs": [],
   "source": [
    "dx = CartpoleDx().to(device='mps')\n",
    "\n",
    "Tini = 4\n",
    "m = 1\n",
    "p = 4\n",
    "Tf = 20\n",
    "T = (m+1)*(Tini + Tf + p) + 14\n",
    "\n",
    "ud = loadtxt('../badcartpole_ud.csv', delimiter=',')\n",
    "yd = loadtxt('../badcartpole_yd.csv', delimiter=',')\n",
    "yd = yd.reshape(T*p,)\n",
    "noise = np.diag(np.kron(np.ones(T), np.array([0.01, 0.01, 0.005, 0.01]))) @ np.random.randn(*yd.shape)\n",
    "yd = yd + noise\n",
    "\n",
    "def uniform(shape, low, high):\n",
    "    r = high-low\n",
    "    return torch.rand(shape)*r+low"
   ]
  },
  {
   "cell_type": "code",
   "execution_count": 160,
   "metadata": {},
   "outputs": [
    {
     "data": {
      "text/plain": [
       "(280,)"
      ]
     },
     "execution_count": 160,
     "metadata": {},
     "output_type": "execute_result"
    }
   ],
   "source": [
    "yd.shape"
   ]
  },
  {
   "cell_type": "code",
   "execution_count": 161,
   "metadata": {},
   "outputs": [],
   "source": [
    "u_constraints = np.ones(Tf)*dx.upper\n",
    "y_constraints = np.kron(np.ones(Tf), np.array([1, 1, 0.1, 1]))\n",
    "r = torch.ones(m)*0.1\n",
    "q = torch.ones(p)*10\n",
    "lam_g1 = torch.Tensor([20])\n",
    "lam_g2 = torch.Tensor([20])\n",
    "\n",
    "controller = DDeePC(\n",
    "    ud=ud, yd=yd, u_constraints=u_constraints, y_constraints=y_constraints,\n",
    "    Tini=Tini, T=T, N=Tf, m=m, p=p, n_batch=1,\n",
    "    linear=False, stochastic=True, q=q, r=r\n",
    ")"
   ]
  },
  {
   "cell_type": "code",
   "execution_count": 162,
   "metadata": {},
   "outputs": [
    {
     "name": "stdout",
     "output_type": "stream",
     "text": [
      "Parameter containing:\n",
      "tensor([10.1841], requires_grad=True)\n",
      "Parameter containing:\n",
      "tensor([8.5967], requires_grad=True)\n",
      "Parameter containing:\n",
      "tensor([9.6316], requires_grad=True)\n"
     ]
    }
   ],
   "source": [
    "for param in controller.parameters():\n",
    "    print(param)"
   ]
  },
  {
   "cell_type": "code",
   "execution_count": 163,
   "metadata": {},
   "outputs": [
    {
     "name": "stderr",
     "output_type": "stream",
     "text": [
      "loss = 4.6828, lam_y = 1052.2860, lam_g1 = 7.40, lam_g2 = 45.8210, episode = 48:  26%|██▌       | 78/300 [35:19<1:40:33, 27.18s/it]"
     ]
    },
    {
     "name": "stdout",
     "output_type": "stream",
     "text": [
      "Failure:interrupted\n",
      "Please consider re-formulating your problem so that it is always solvable or increasing the number of solver iterations.\n"
     ]
    },
    {
     "name": "stderr",
     "output_type": "stream",
     "text": [
      "\n"
     ]
    },
    {
     "ename": "SolverError",
     "evalue": "Solver scs returned status interrupted",
     "output_type": "error",
     "traceback": [
      "\u001b[0;31m---------------------------------------------------------------------------\u001b[0m",
      "\u001b[0;31mSolverError\u001b[0m                               Traceback (most recent call last)",
      "Cell \u001b[0;32mIn[163], line 33\u001b[0m\n\u001b[1;32m     31\u001b[0m yini \u001b[39m=\u001b[39m traj[\u001b[39m0\u001b[39m,\u001b[39m-\u001b[39mp\u001b[39m*\u001b[39mTini:]\n\u001b[1;32m     32\u001b[0m noise \u001b[39m=\u001b[39m torch\u001b[39m.\u001b[39mdiag(torch\u001b[39m.\u001b[39mkron(torch\u001b[39m.\u001b[39mones(Tini), torch\u001b[39m.\u001b[39mTensor([\u001b[39m0.01\u001b[39m, \u001b[39m0.01\u001b[39m, \u001b[39m0.005\u001b[39m, \u001b[39m0.01\u001b[39m])))\u001b[39m@torch\u001b[39m\u001b[39m.\u001b[39mrandn(yini\u001b[39m.\u001b[39mshape)\n\u001b[0;32m---> 33\u001b[0m actions, _ \u001b[39m=\u001b[39m controller(ref\u001b[39m=\u001b[39;49mref, y_ini\u001b[39m=\u001b[39;49myini\u001b[39m+\u001b[39;49mnoise, u_ini\u001b[39m=\u001b[39;49muini)\n\u001b[1;32m     34\u001b[0m \u001b[39minput\u001b[39m \u001b[39m=\u001b[39m actions[:m]\n\u001b[1;32m     35\u001b[0m y \u001b[39m=\u001b[39m dx(yini[\u001b[39m-\u001b[39mp:], \u001b[39minput\u001b[39m)\n",
      "File \u001b[0;32m/opt/homebrew/Caskroom/miniforge/base/lib/python3.10/site-packages/torch/nn/modules/module.py:1501\u001b[0m, in \u001b[0;36mModule._call_impl\u001b[0;34m(self, *args, **kwargs)\u001b[0m\n\u001b[1;32m   1496\u001b[0m \u001b[39m# If we don't have any hooks, we want to skip the rest of the logic in\u001b[39;00m\n\u001b[1;32m   1497\u001b[0m \u001b[39m# this function, and just call forward.\u001b[39;00m\n\u001b[1;32m   1498\u001b[0m \u001b[39mif\u001b[39;00m \u001b[39mnot\u001b[39;00m (\u001b[39mself\u001b[39m\u001b[39m.\u001b[39m_backward_hooks \u001b[39mor\u001b[39;00m \u001b[39mself\u001b[39m\u001b[39m.\u001b[39m_backward_pre_hooks \u001b[39mor\u001b[39;00m \u001b[39mself\u001b[39m\u001b[39m.\u001b[39m_forward_hooks \u001b[39mor\u001b[39;00m \u001b[39mself\u001b[39m\u001b[39m.\u001b[39m_forward_pre_hooks\n\u001b[1;32m   1499\u001b[0m         \u001b[39mor\u001b[39;00m _global_backward_pre_hooks \u001b[39mor\u001b[39;00m _global_backward_hooks\n\u001b[1;32m   1500\u001b[0m         \u001b[39mor\u001b[39;00m _global_forward_hooks \u001b[39mor\u001b[39;00m _global_forward_pre_hooks):\n\u001b[0;32m-> 1501\u001b[0m     \u001b[39mreturn\u001b[39;00m forward_call(\u001b[39m*\u001b[39;49margs, \u001b[39m*\u001b[39;49m\u001b[39m*\u001b[39;49mkwargs)\n\u001b[1;32m   1502\u001b[0m \u001b[39m# Do not call functions when jit is used\u001b[39;00m\n\u001b[1;32m   1503\u001b[0m full_backward_hooks, non_full_backward_hooks \u001b[39m=\u001b[39m [], []\n",
      "File \u001b[0;32m~/differentiable-deepc/src/controllers.py:555\u001b[0m, in \u001b[0;36mDDeePC.forward\u001b[0;34m(self, ref, u_ini, y_ini)\u001b[0m\n\u001b[1;32m    552\u001b[0m \u001b[39mif\u001b[39;00m \u001b[39mself\u001b[39m\u001b[39m.\u001b[39mstochastic:\n\u001b[1;32m    553\u001b[0m     params\u001b[39m.\u001b[39mappend(\u001b[39mself\u001b[39m\u001b[39m.\u001b[39mlam_y)\n\u001b[0;32m--> 555\u001b[0m out \u001b[39m=\u001b[39m \u001b[39mself\u001b[39;49m\u001b[39m.\u001b[39;49mQP_layer(\u001b[39m*\u001b[39;49mparams)\n\u001b[1;32m    556\u001b[0m \u001b[39minput\u001b[39m, output \u001b[39m=\u001b[39m out[\u001b[39m2\u001b[39m], out[\u001b[39m3\u001b[39m]\n\u001b[1;32m    558\u001b[0m \u001b[39m# traj_cost = input.T @ R @ input + (output - ref).T @ Q @ (output - ref)\u001b[39;00m\n",
      "File \u001b[0;32m/opt/homebrew/Caskroom/miniforge/base/lib/python3.10/site-packages/torch/nn/modules/module.py:1501\u001b[0m, in \u001b[0;36mModule._call_impl\u001b[0;34m(self, *args, **kwargs)\u001b[0m\n\u001b[1;32m   1496\u001b[0m \u001b[39m# If we don't have any hooks, we want to skip the rest of the logic in\u001b[39;00m\n\u001b[1;32m   1497\u001b[0m \u001b[39m# this function, and just call forward.\u001b[39;00m\n\u001b[1;32m   1498\u001b[0m \u001b[39mif\u001b[39;00m \u001b[39mnot\u001b[39;00m (\u001b[39mself\u001b[39m\u001b[39m.\u001b[39m_backward_hooks \u001b[39mor\u001b[39;00m \u001b[39mself\u001b[39m\u001b[39m.\u001b[39m_backward_pre_hooks \u001b[39mor\u001b[39;00m \u001b[39mself\u001b[39m\u001b[39m.\u001b[39m_forward_hooks \u001b[39mor\u001b[39;00m \u001b[39mself\u001b[39m\u001b[39m.\u001b[39m_forward_pre_hooks\n\u001b[1;32m   1499\u001b[0m         \u001b[39mor\u001b[39;00m _global_backward_pre_hooks \u001b[39mor\u001b[39;00m _global_backward_hooks\n\u001b[1;32m   1500\u001b[0m         \u001b[39mor\u001b[39;00m _global_forward_hooks \u001b[39mor\u001b[39;00m _global_forward_pre_hooks):\n\u001b[0;32m-> 1501\u001b[0m     \u001b[39mreturn\u001b[39;00m forward_call(\u001b[39m*\u001b[39;49margs, \u001b[39m*\u001b[39;49m\u001b[39m*\u001b[39;49mkwargs)\n\u001b[1;32m   1502\u001b[0m \u001b[39m# Do not call functions when jit is used\u001b[39;00m\n\u001b[1;32m   1503\u001b[0m full_backward_hooks, non_full_backward_hooks \u001b[39m=\u001b[39m [], []\n",
      "File \u001b[0;32m/opt/homebrew/Caskroom/miniforge/base/lib/python3.10/site-packages/cvxpylayers-0.1.5-py3.10.egg/cvxpylayers/torch/cvxpylayer.py:153\u001b[0m, in \u001b[0;36mCvxpyLayer.forward\u001b[0;34m(self, solver_args, *params)\u001b[0m\n\u001b[1;32m    140\u001b[0m info \u001b[39m=\u001b[39m {}\n\u001b[1;32m    141\u001b[0m f \u001b[39m=\u001b[39m _CvxpyLayerFn(\n\u001b[1;32m    142\u001b[0m     param_order\u001b[39m=\u001b[39m\u001b[39mself\u001b[39m\u001b[39m.\u001b[39mparam_order,\n\u001b[1;32m    143\u001b[0m     param_ids\u001b[39m=\u001b[39m\u001b[39mself\u001b[39m\u001b[39m.\u001b[39mparam_ids,\n\u001b[0;32m   (...)\u001b[0m\n\u001b[1;32m    151\u001b[0m     info\u001b[39m=\u001b[39minfo,\n\u001b[1;32m    152\u001b[0m )\n\u001b[0;32m--> 153\u001b[0m sol \u001b[39m=\u001b[39m f(\u001b[39m*\u001b[39;49mparams)\n\u001b[1;32m    154\u001b[0m \u001b[39mself\u001b[39m\u001b[39m.\u001b[39minfo \u001b[39m=\u001b[39m info\n\u001b[1;32m    155\u001b[0m \u001b[39mreturn\u001b[39;00m sol\n",
      "File \u001b[0;32m/opt/homebrew/Caskroom/miniforge/base/lib/python3.10/site-packages/torch/autograd/function.py:506\u001b[0m, in \u001b[0;36mFunction.apply\u001b[0;34m(cls, *args, **kwargs)\u001b[0m\n\u001b[1;32m    503\u001b[0m \u001b[39mif\u001b[39;00m \u001b[39mnot\u001b[39;00m torch\u001b[39m.\u001b[39m_C\u001b[39m.\u001b[39m_are_functorch_transforms_active():\n\u001b[1;32m    504\u001b[0m     \u001b[39m# See NOTE: [functorch vjp and autograd interaction]\u001b[39;00m\n\u001b[1;32m    505\u001b[0m     args \u001b[39m=\u001b[39m _functorch\u001b[39m.\u001b[39mutils\u001b[39m.\u001b[39munwrap_dead_wrappers(args)\n\u001b[0;32m--> 506\u001b[0m     \u001b[39mreturn\u001b[39;00m \u001b[39msuper\u001b[39;49m()\u001b[39m.\u001b[39;49mapply(\u001b[39m*\u001b[39;49margs, \u001b[39m*\u001b[39;49m\u001b[39m*\u001b[39;49mkwargs)  \u001b[39m# type: ignore[misc]\u001b[39;00m\n\u001b[1;32m    508\u001b[0m \u001b[39mif\u001b[39;00m \u001b[39mcls\u001b[39m\u001b[39m.\u001b[39msetup_context \u001b[39m==\u001b[39m _SingleLevelFunction\u001b[39m.\u001b[39msetup_context:\n\u001b[1;32m    509\u001b[0m     \u001b[39mraise\u001b[39;00m \u001b[39mRuntimeError\u001b[39;00m(\n\u001b[1;32m    510\u001b[0m         \u001b[39m'\u001b[39m\u001b[39mIn order to use an autograd.Function with functorch transforms \u001b[39m\u001b[39m'\u001b[39m\n\u001b[1;32m    511\u001b[0m         \u001b[39m'\u001b[39m\u001b[39m(vmap, grad, jvp, jacrev, ...), it must override the setup_context \u001b[39m\u001b[39m'\u001b[39m\n\u001b[1;32m    512\u001b[0m         \u001b[39m'\u001b[39m\u001b[39mstaticmethod. For more details, please see \u001b[39m\u001b[39m'\u001b[39m\n\u001b[1;32m    513\u001b[0m         \u001b[39m'\u001b[39m\u001b[39mhttps://pytorch.org/docs/master/notes/extending.func.html\u001b[39m\u001b[39m'\u001b[39m)\n",
      "File \u001b[0;32m/opt/homebrew/Caskroom/miniforge/base/lib/python3.10/site-packages/cvxpylayers-0.1.5-py3.10.egg/cvxpylayers/torch/cvxpylayer.py:296\u001b[0m, in \u001b[0;36m_CvxpyLayerFn.<locals>._CvxpyLayerFnFn.forward\u001b[0;34m(ctx, *params)\u001b[0m\n\u001b[1;32m    291\u001b[0m \u001b[39mexcept\u001b[39;00m diffcp\u001b[39m.\u001b[39mSolverError \u001b[39mas\u001b[39;00m e:\n\u001b[1;32m    292\u001b[0m     \u001b[39mprint\u001b[39m(\n\u001b[1;32m    293\u001b[0m         \u001b[39m\"\u001b[39m\u001b[39mPlease consider re-formulating your problem so that \u001b[39m\u001b[39m\"\u001b[39m\n\u001b[1;32m    294\u001b[0m         \u001b[39m\"\u001b[39m\u001b[39mit is always solvable or increasing the number of \u001b[39m\u001b[39m\"\u001b[39m\n\u001b[1;32m    295\u001b[0m         \u001b[39m\"\u001b[39m\u001b[39msolver iterations.\u001b[39m\u001b[39m\"\u001b[39m)\n\u001b[0;32m--> 296\u001b[0m     \u001b[39mraise\u001b[39;00m e\n\u001b[1;32m    297\u001b[0m info[\u001b[39m'\u001b[39m\u001b[39msolve_time\u001b[39m\u001b[39m'\u001b[39m] \u001b[39m=\u001b[39m time\u001b[39m.\u001b[39mtime() \u001b[39m-\u001b[39m start\n\u001b[1;32m    299\u001b[0m \u001b[39m# extract solutions and append along batch dimension\u001b[39;00m\n",
      "File \u001b[0;32m/opt/homebrew/Caskroom/miniforge/base/lib/python3.10/site-packages/cvxpylayers-0.1.5-py3.10.egg/cvxpylayers/torch/cvxpylayer.py:289\u001b[0m, in \u001b[0;36m_CvxpyLayerFn.<locals>._CvxpyLayerFnFn.forward\u001b[0;34m(ctx, *params)\u001b[0m\n\u001b[1;32m    287\u001b[0m start \u001b[39m=\u001b[39m time\u001b[39m.\u001b[39mtime()\n\u001b[1;32m    288\u001b[0m \u001b[39mtry\u001b[39;00m:\n\u001b[0;32m--> 289\u001b[0m     xs, _, _, _, ctx\u001b[39m.\u001b[39mDT_batch \u001b[39m=\u001b[39m diffcp\u001b[39m.\u001b[39;49msolve_and_derivative_batch(\n\u001b[1;32m    290\u001b[0m         As, bs, cs, cone_dicts, \u001b[39m*\u001b[39;49m\u001b[39m*\u001b[39;49msolver_args)\n\u001b[1;32m    291\u001b[0m \u001b[39mexcept\u001b[39;00m diffcp\u001b[39m.\u001b[39mSolverError \u001b[39mas\u001b[39;00m e:\n\u001b[1;32m    292\u001b[0m     \u001b[39mprint\u001b[39m(\n\u001b[1;32m    293\u001b[0m         \u001b[39m\"\u001b[39m\u001b[39mPlease consider re-formulating your problem so that \u001b[39m\u001b[39m\"\u001b[39m\n\u001b[1;32m    294\u001b[0m         \u001b[39m\"\u001b[39m\u001b[39mit is always solvable or increasing the number of \u001b[39m\u001b[39m\"\u001b[39m\n\u001b[1;32m    295\u001b[0m         \u001b[39m\"\u001b[39m\u001b[39msolver iterations.\u001b[39m\u001b[39m\"\u001b[39m)\n",
      "File \u001b[0;32m/opt/homebrew/Caskroom/miniforge/base/lib/python3.10/site-packages/diffcp/cone_program.py:80\u001b[0m, in \u001b[0;36msolve_and_derivative_batch\u001b[0;34m(As, bs, cs, cone_dicts, n_jobs_forward, n_jobs_backward, mode, warm_starts, **kwargs)\u001b[0m\n\u001b[1;32m     78\u001b[0m xs, ys, ss, Ds, DTs \u001b[39m=\u001b[39m [], [], [], [], []\n\u001b[1;32m     79\u001b[0m \u001b[39mfor\u001b[39;00m i \u001b[39min\u001b[39;00m \u001b[39mrange\u001b[39m(batch_size):\n\u001b[0;32m---> 80\u001b[0m     x, y, s, D, DT \u001b[39m=\u001b[39m solve_and_derivative(As[i], bs[i], cs[i],\n\u001b[1;32m     81\u001b[0m                                           cone_dicts[i], warm_starts[i], mode\u001b[39m=\u001b[39;49mmode, \u001b[39m*\u001b[39;49m\u001b[39m*\u001b[39;49mkwargs)\n\u001b[1;32m     82\u001b[0m     xs \u001b[39m+\u001b[39m\u001b[39m=\u001b[39m [x]\n\u001b[1;32m     83\u001b[0m     ys \u001b[39m+\u001b[39m\u001b[39m=\u001b[39m [y]\n",
      "File \u001b[0;32m/opt/homebrew/Caskroom/miniforge/base/lib/python3.10/site-packages/diffcp/cone_program.py:216\u001b[0m, in \u001b[0;36msolve_and_derivative\u001b[0;34m(A, b, c, cone_dict, warm_start, mode, solve_method, **kwargs)\u001b[0m\n\u001b[1;32m    152\u001b[0m \u001b[39mdef\u001b[39;00m \u001b[39msolve_and_derivative\u001b[39m(A, b, c, cone_dict, warm_start\u001b[39m=\u001b[39m\u001b[39mNone\u001b[39;00m, mode\u001b[39m=\u001b[39m\u001b[39m'\u001b[39m\u001b[39mlsqr\u001b[39m\u001b[39m'\u001b[39m,\n\u001b[1;32m    153\u001b[0m                          solve_method\u001b[39m=\u001b[39m\u001b[39m'\u001b[39m\u001b[39mSCS\u001b[39m\u001b[39m'\u001b[39m, \u001b[39m*\u001b[39m\u001b[39m*\u001b[39mkwargs):\n\u001b[1;32m    154\u001b[0m \u001b[39m    \u001b[39m\u001b[39m\"\"\"Solves a cone program, returns its derivative as an abstract linear map.\u001b[39;00m\n\u001b[1;32m    155\u001b[0m \n\u001b[1;32m    156\u001b[0m \u001b[39m    This function solves a convex cone program, with primal-dual problems\u001b[39;00m\n\u001b[0;32m   (...)\u001b[0m\n\u001b[1;32m    214\u001b[0m \u001b[39m        SolverError: if the cone program is infeasible or unbounded.\u001b[39;00m\n\u001b[1;32m    215\u001b[0m \u001b[39m    \"\"\"\u001b[39;00m\n\u001b[0;32m--> 216\u001b[0m     result \u001b[39m=\u001b[39m solve_and_derivative_internal(\n\u001b[1;32m    217\u001b[0m         A, b, c, cone_dict, warm_start\u001b[39m=\u001b[39;49mwarm_start, mode\u001b[39m=\u001b[39;49mmode,\n\u001b[1;32m    218\u001b[0m         solve_method\u001b[39m=\u001b[39;49msolve_method, \u001b[39m*\u001b[39;49m\u001b[39m*\u001b[39;49mkwargs)\n\u001b[1;32m    219\u001b[0m     x \u001b[39m=\u001b[39m result[\u001b[39m\"\u001b[39m\u001b[39mx\u001b[39m\u001b[39m\"\u001b[39m]\n\u001b[1;32m    220\u001b[0m     y \u001b[39m=\u001b[39m result[\u001b[39m\"\u001b[39m\u001b[39my\u001b[39m\u001b[39m\"\u001b[39m]\n",
      "File \u001b[0;32m/opt/homebrew/Caskroom/miniforge/base/lib/python3.10/site-packages/diffcp/cone_program.py:298\u001b[0m, in \u001b[0;36msolve_and_derivative_internal\u001b[0;34m(A, b, c, cone_dict, solve_method, warm_start, mode, raise_on_error, **kwargs)\u001b[0m\n\u001b[1;32m    296\u001b[0m \u001b[39melif\u001b[39;00m status\u001b[39m.\u001b[39mlower() \u001b[39m!=\u001b[39m \u001b[39m\"\u001b[39m\u001b[39msolved\u001b[39m\u001b[39m\"\u001b[39m:\n\u001b[1;32m    297\u001b[0m     \u001b[39mif\u001b[39;00m raise_on_error:\n\u001b[0;32m--> 298\u001b[0m         \u001b[39mraise\u001b[39;00m SolverError(\u001b[39m\"\u001b[39m\u001b[39mSolver scs returned status \u001b[39m\u001b[39m%s\u001b[39;00m\u001b[39m\"\u001b[39m \u001b[39m%\u001b[39m status)\n\u001b[1;32m    299\u001b[0m     \u001b[39melse\u001b[39;00m:\n\u001b[1;32m    300\u001b[0m         result[\u001b[39m\"\u001b[39m\u001b[39mD\u001b[39m\u001b[39m\"\u001b[39m] \u001b[39m=\u001b[39m \u001b[39mNone\u001b[39;00m\n",
      "\u001b[0;31mSolverError\u001b[0m: Solver scs returned status interrupted"
     ]
    }
   ],
   "source": [
    "ref = torch.kron(torch.ones(Tf), torch.Tensor([0,0,0,0]))\n",
    "episodes = 100\n",
    "n_batch = 1\n",
    "perfect = torch.kron(torch.ones(episodes+Tini), torch.Tensor([0,0,0,0]))\n",
    "perfect = perfect.unsqueeze(0)\n",
    "\n",
    "opt = torch.optim.Rprop(controller.parameters())\n",
    "# scheduler = lr_scheduler.LinearLR(opt, start_factor=1.0, end_factor=0.0001, total_iters=100)\n",
    "criterion = torch.nn.HuberLoss()\n",
    "epochs = 300\n",
    "pbar = tqdm(range(epochs))\n",
    "cum_loss = []\n",
    "done = False\n",
    "for j in pbar:\n",
    "\n",
    "    th = uniform(n_batch, -0.01, 0.01)\n",
    "    thdot = torch.Tensor([0])\n",
    "    x = torch.Tensor([0])\n",
    "    xdot = torch.Tensor([0])\n",
    "    yini = torch.Tensor(yd[:Tini*p])\n",
    "    uini = torch.Tensor(ud[:Tini*m])\n",
    "    traj = yini.unsqueeze(0)\n",
    "    count = 0\n",
    "\n",
    "    if j > 200:\n",
    "        t_dir = tempfile.mkdtemp()\n",
    "        # print('Tmp dir: {}'.format(t_dir))\n",
    "\n",
    "    for i in range(episodes):\n",
    "        count = i\n",
    "        yini = traj[0,-p*Tini:]\n",
    "        noise = torch.diag(torch.kron(torch.ones(Tini), torch.Tensor([0.01, 0.01, 0.005, 0.01])))@torch.randn(yini.shape)\n",
    "        actions, _ = controller(ref=ref, y_ini=yini+noise, u_ini=uini)\n",
    "        input = actions[:m]\n",
    "        y = dx(yini[-p:], input)\n",
    "\n",
    "        traj = torch.cat((traj, y), axis=1)\n",
    "        if j > 200:\n",
    "            fig, axs = plt.subplots(1, 1, figsize=(5,5))\n",
    "            dx.get_frame(y, ax=axs)\n",
    "            axs.get_xaxis().set_visible(False)\n",
    "            axs.get_yaxis().set_visible(False)\n",
    "            fig.tight_layout()\n",
    "            fig.savefig(os.path.join(t_dir, '{:03d}.png'.format(i)))\n",
    "            plt.close(fig)\n",
    "\n",
    "        if torch.abs(yini[-2]) >= 0.2:\n",
    "            break\n",
    "\n",
    "        if i >= episodes -1 : \n",
    "            done = True\n",
    "\n",
    "    if count < episodes-1:\n",
    "        remainder = torch.ones((episodes-count-1)*p)*10\n",
    "        traj = torch.cat((traj, remainder.unsqueeze(0)), axis=1)\n",
    "\n",
    "    loss = criterion(target=perfect, input=traj)\n",
    "    cum_loss.append(loss.item())\n",
    "    # print(loss.item())\n",
    "    opt.zero_grad()\n",
    "    loss.backward()\n",
    "    opt.step()\n",
    "    # scheduler.step()\n",
    "    pbar.set_description(f'loss = {loss.item():.4f}, lam_y = {controller.lam_y.item():.4f},\\\n",
    " lam_g1 = {controller.lam_g1.item():.2f}, lam_g2 = {controller.lam_g2.item():.4f}, episode = {count}')"
   ]
  },
  {
   "cell_type": "code",
   "execution_count": null,
   "metadata": {},
   "outputs": [
    {
     "data": {
      "image/png": "[encoded data removed]",
      "text/plain": [
       "<Figure size 640x480 with 1 Axes>"
      ]
     },
     "metadata": {},
     "output_type": "display_data"
    }
   ],
   "source": [
    "plt.plot(range(len(cum_loss)), cum_loss)\n",
    "plt.ylabel(\"Loss\")\n",
    "plt.xlabel(\"epoch\")\n",
    "plt.grid('on')\n",
    "plt.show()"
   ]
  },
  {
   "cell_type": "code",
   "execution_count": null,
   "metadata": {},
   "outputs": [
    {
     "data": {
      "text/plain": [
       "torch.Size([1, 4])"
      ]
     },
     "execution_count": 74,
     "metadata": {},
     "output_type": "execute_result"
    }
   ],
   "source": [
    "yini.shape\n",
    "remainder = remainder.unsqueeze(0)\n",
    "remainder.shape"
   ]
  },
  {
   "cell_type": "code",
   "execution_count": null,
   "metadata": {},
   "outputs": [
    {
     "name": "stdout",
     "output_type": "stream",
     "text": [
      "Parameter containing:\n",
      "tensor([717.1511], requires_grad=True)\n",
      "Parameter containing:\n",
      "tensor([0.0010], requires_grad=True)\n",
      "Parameter containing:\n",
      "tensor([0.0153], requires_grad=True)\n"
     ]
    }
   ],
   "source": [
    "for param in controller.parameters():\n",
    "    print(param)"
   ]
  },
  {
   "cell_type": "code",
   "execution_count": null,
   "metadata": {},
   "outputs": [
    {
     "name": "stdout",
     "output_type": "stream",
     "text": [
      "Saving video to: cartpole_initial.mp4\n"
     ]
    },
    {
     "name": "stderr",
     "output_type": "stream",
     "text": [
      "ffmpeg version 5.1.2 Copyright (c) 2000-2022 the FFmpeg developers\n",
      "  built with clang version 14.0.6\n",
      "  configuration: --prefix=/Users/runner/miniforge3/conda-bld/ffmpeg_1674566267822/_h_env_placehold_placehold_placehold_placehold_placehold_placehold_placehold_placehold_placehold_placehold_placehold_placehold_placehold_placehold_placehold_placehold_placehold_placehold_placehold_pl --cc=arm64-apple-darwin20.0.0-clang --cxx=arm64-apple-darwin20.0.0-clang++ --nm=arm64-apple-darwin20.0.0-nm --ar=arm64-apple-darwin20.0.0-ar --disable-doc --disable-openssl --enable-demuxer=dash --enable-hardcoded-tables --enable-libfreetype --enable-libfontconfig --enable-libopenh264 --enable-cross-compile --arch=arm64 --target-os=darwin --cross-prefix=arm64-apple-darwin20.0.0- --host-cc=/Users/runner/miniforge3/conda-bld/ffmpeg_1674566267822/_build_env/bin/x86_64-apple-darwin13.4.0-clang --enable-neon --enable-gnutls --enable-libmp3lame --enable-libvpx --enable-pthreads --enable-gpl --enable-libx264 --enable-libx265 --enable-libaom --enable-libsvtav1 --enable-libxml2 --enable-pic --enable-shared --disable-static --enable-version3 --enable-zlib --enable-libopus --pkg-config=/Users/runner/miniforge3/conda-bld/ffmpeg_1674566267822/_build_env/bin/pkg-config\n",
      "  libavutil      57. 28.100 / 57. 28.100\n",
      "  libavcodec     59. 37.100 / 59. 37.100\n",
      "  libavformat    59. 27.100 / 59. 27.100\n",
      "  libavdevice    59.  7.100 / 59.  7.100\n",
      "  libavfilter     8. 44.100 /  8. 44.100\n",
      "  libswscale      6.  7.100 /  6.  7.100\n",
      "  libswresample   4.  7.100 /  4.  7.100\n",
      "  libpostproc    56.  6.100 / 56.  6.100\n",
      "Input #0, image2, from '/var/folders/bv/3kttr09s6dsg653szk2tbhlh0000gn/T/tmpo1j2l4ga/%03d.png':\n",
      "  Duration: 00:00:03.94, start: 0.000000, bitrate: N/A\n",
      "  Stream #0:0: Video: png, rgba(pc), 500x500 [SAR 3937:3937 DAR 1:1], 16 fps, 16 tbr, 16 tbn\n",
      "Stream mapping:\n",
      "  Stream #0:0 -> #0:0 (png (native) -> h264 (libx264))\n",
      "Press [q] to stop, [?] for help\n",
      "[libx264 @ 0x12cf2de30] using SAR=1/1\n",
      "[libx264 @ 0x12cf2de30] using cpu capabilities: ARMv8 NEON\n",
      "[libx264 @ 0x12cf2de30] profile High, level 2.2, 4:2:0, 8-bit\n",
      "[libx264 @ 0x12cf2de30] 264 - core 164 r3095 baee400 - H.264/MPEG-4 AVC codec - Copyleft 2003-2022 - http://www.videolan.org/x264.html - options: cabac=1 ref=3 deblock=1:0:0 analyse=0x3:0x113 me=hex subme=7 psy=1 psy_rd=1.00:0.00 mixed_ref=1 me_range=16 chroma_me=1 trellis=1 8x8dct=1 cqm=0 deadzone=21,11 fast_pskip=1 chroma_qp_offset=-2 threads=12 lookahead_threads=2 sliced_threads=0 nr=0 decimate=1 interlaced=0 bluray_compat=0 constrained_intra=0 bframes=3 b_pyramid=2 b_adapt=1 b_bias=0 direct=1 weightb=1 open_gop=0 weightp=2 keyint=250 keyint_min=16 scenecut=40 intra_refresh=0 rc_lookahead=40 rc=crf mbtree=1 crf=25.0 qcomp=0.60 qpmin=0 qpmax=69 qpstep=4 ip_ratio=1.40 aq=1:1.00\n",
      "Output #0, mp4, to 'cartpole_initial.mp4':\n",
      "  Metadata:\n",
      "    encoder         : Lavf59.27.100\n",
      "  Stream #0:0: Video: h264 (avc1 / 0x31637661), yuv420p(tv, progressive), 500x500 [SAR 1:1 DAR 1:1], q=2-31, 16 fps, 16384 tbn\n",
      "    Metadata:\n",
      "      encoder         : Lavc59.37.100 libx264\n",
      "    Side data:\n",
      "      cpb: bitrate max/min/avg: 0/0/0 buffer size: 0 vbv_delay: N/A\n",
      "frame=   63 fps=0.0 q=-1.0 Lsize=       6kB time=00:00:03.75 bitrate=  13.9kbits/s speed=27.1x    \n",
      "video:5kB audio:0kB subtitle:0kB other streams:0kB global headers:0kB muxing overhead: 31.807180%\n",
      "[libx264 @ 0x12cf2de30] frame I:1     Avg QP:13.16  size:   335\n",
      "[libx264 @ 0x12cf2de30] frame P:22    Avg QP:28.38  size:    82\n",
      "[libx264 @ 0x12cf2de30] frame B:40    Avg QP:31.29  size:    53\n",
      "[libx264 @ 0x12cf2de30] consecutive B-frames:  4.8% 22.2% 28.6% 44.4%\n",
      "[libx264 @ 0x12cf2de30] mb I  I16..4: 71.3% 27.1%  1.7%\n",
      "[libx264 @ 0x12cf2de30] mb P  I16..4:  0.3%  0.4%  0.1%  P16..4:  0.5%  0.2%  0.0%  0.0%  0.0%    skip:98.5%\n",
      "[libx264 @ 0x12cf2de30] mb B  I16..4:  0.1%  0.0%  0.0%  B16..8:  1.2%  0.2%  0.0%  direct: 0.0%  skip:98.5%  L0:52.6% L1:43.1% BI: 4.3%\n",
      "[libx264 @ 0x12cf2de30] 8x8 transform intra:29.7% inter:66.4%\n",
      "[libx264 @ 0x12cf2de30] coded y,uvDC,uvAC intra: 3.0% 0.0% 0.0% inter: 0.1% 0.0% 0.0%\n",
      "[libx264 @ 0x12cf2de30] i16 v,h,dc,p: 90% 10%  0%  0%\n",
      "[libx264 @ 0x12cf2de30] i8 v,h,dc,ddl,ddr,vr,hd,vl,hu:  4%  9% 87%  0%  0%  0%  0%  0%  0%\n",
      "[libx264 @ 0x12cf2de30] i4 v,h,dc,ddl,ddr,vr,hd,vl,hu: 54%  4% 40%  1%  0%  0%  0%  0%  0%\n",
      "[libx264 @ 0x12cf2de30] i8c dc,h,v,p: 100%  0%  0%  0%\n",
      "[libx264 @ 0x12cf2de30] Weighted P-Frames: Y:0.0% UV:0.0%\n",
      "[libx264 @ 0x12cf2de30] ref P L0: 63.8%  3.2% 15.3% 17.7%\n",
      "[libx264 @ 0x12cf2de30] ref B L0: 75.0% 20.2%  4.8%\n",
      "[libx264 @ 0x12cf2de30] ref B L1: 89.7% 10.3%\n",
      "[libx264 @ 0x12cf2de30] kb/s:8.67\n"
     ]
    },
    {
     "data": {
      "text/html": [
       "<video alt=\"test\" controls>\n",
       "                <source src=\"data:video/mp4;base64,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\" type=\"video/mp4\" />\n",
       "             </video>"
      ],
      "text/plain": [
       "<IPython.core.display.HTML object>"
      ]
     },
     "execution_count": 127,
     "metadata": {},
     "output_type": "execute_result"
    }
   ],
   "source": [
    "vid_fname = 'cartpole_initial.mp4'\n",
    "if os.path.exists(vid_fname):\n",
    "    os.remove(vid_fname)\n",
    "cmd = 'ffmpeg -r 16 -f image2 -i {}/%03d.png -vcodec libx264 -crf 25 -vf \"pad=ceil(iw/2)*2:ceil(ih/2)*2\" -pix_fmt yuv420p {}'.format(\n",
    "    t_dir, vid_fname\n",
    ")\n",
    "os.system(cmd)\n",
    "print('Saving video to: {}'.format(vid_fname))\n",
    "\n",
    "video = io.open(vid_fname, 'r+b').read()\n",
    "encoded = base64.b64encode(video)\n",
    "HTML(data='''<video alt=\"test\" controls>\n",
    "                <source src=\"data:video/mp4;base64,{0}\" type=\"video/mp4\" />\n",
    "             </video>'''.format(encoded.decode('ascii')))"
   ]
  }
 ],
 "metadata": {
  "kernelspec": {
   "display_name": "base",
   "language": "python",
   "name": "python3"
  },
  "language_info": {
   "codemirror_mode": {
    "name": "ipython",
    "version": 3
   },
   "file_extension": ".py",
   "mimetype": "text/x-python",
   "name": "python",
   "nbconvert_exporter": "python",
   "pygments_lexer": "ipython3",
   "version": "3.10.9"
  },
  "orig_nbformat": 4
 },
 "nbformat": 4,
 "nbformat_minor": 2
}
