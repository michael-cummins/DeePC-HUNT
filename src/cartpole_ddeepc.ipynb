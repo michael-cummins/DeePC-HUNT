{
 "cells": [
  {
   "cell_type": "code",
   "execution_count": 1,
   "metadata": {},
   "outputs": [
    {
     "name": "stderr",
     "output_type": "stream",
     "text": [
      "/opt/conda/envs/deepc/lib/python3.9/site-packages/tqdm/auto.py:21: TqdmWarning: IProgress not found. Please update jupyter and ipywidgets. See https://ipywidgets.readthedocs.io/en/stable/user_install.html\n",
      "  from .autonotebook import tqdm as notebook_tqdm\n"
     ]
    }
   ],
   "source": [
    "%load_ext autoreload\n",
    "# %reload_ext autoreload\n",
    "%autoreload 2\n",
    "import torch\n",
    "import torch.optim as optim\n",
    "import torch.optim.lr_scheduler as lr_scheduler\n",
    "\n",
    "import numpy as np\n",
    "import matplotlib.pyplot as plt\n",
    "from IPython import display\n",
    "import os\n",
    "import io\n",
    "import base64\n",
    "import tempfile\n",
    "from IPython.display import HTML\n",
    "from numpy import loadtxt\n",
    "\n",
    "from controllers import DDeePC\n",
    "from controller_utils import CartpoleDx, sample_initial_signal\n",
    "from tqdm import tqdm\n",
    "\n",
    "from mpc import mpc\n",
    "from mpc.mpc import GradMethods, QuadCost\n",
    "import mpc.util as eutil\n",
    "\n",
    "\n",
    "%matplotlib inline\n"
   ]
  },
  {
   "cell_type": "code",
   "execution_count": 2,
   "metadata": {},
   "outputs": [],
   "source": [
    "# torch.set_num_threads(8)"
   ]
  },
  {
   "attachments": {},
   "cell_type": "markdown",
   "metadata": {},
   "source": [
    "## Data Collection\n"
   ]
  },
  {
   "cell_type": "code",
   "execution_count": 3,
   "metadata": {},
   "outputs": [
    {
     "name": "stdout",
     "output_type": "stream",
     "text": [
      "cuda\n"
     ]
    }
   ],
   "source": [
    "Tini = 4\n",
    "m = 1\n",
    "p = 4\n",
    "Tf = 20\n",
    "T = (m+1)*(Tini + Tf + p) + 14\n",
    "n_batch = 16\n",
    "# torch.manual_seed(0)\n",
    "device = 'cuda' if torch.cuda.is_available() else 'mps'\n",
    "print(device)\n",
    "ud = loadtxt('../badcartpole_ud.csv', delimiter=',')\n",
    "yd = loadtxt('../badcartpole_yd.csv', delimiter=',')\n",
    "yd = yd.reshape(T*p,)\n",
    "noise = np.diag(np.kron(np.ones(T), np.array([0.01, 0.01, 0.005, 0.01]))) @ np.random.randn(*yd.shape)\n",
    "yd = yd + noise\n",
    "dx = CartpoleDx().to(device)\n",
    "def uniform(shape, low, high):\n",
    "    r = high-low\n",
    "    return torch.rand(shape)*r+low"
   ]
  },
  {
   "cell_type": "code",
   "execution_count": 4,
   "metadata": {},
   "outputs": [
    {
     "name": "stdout",
     "output_type": "stream",
     "text": [
      "Parameter containing:\n",
      "tensor([51.9858], device='cuda:0', requires_grad=True)\n",
      "Parameter containing:\n",
      "tensor([0.0009], device='cuda:0', requires_grad=True)\n",
      "Parameter containing:\n",
      "tensor([0.4251], device='cuda:0', requires_grad=True)\n"
     ]
    }
   ],
   "source": [
    "u_constraints = np.ones(Tf)*dx.upper\n",
    "y_constraints = np.kron(np.ones(Tf), np.array([0.25, 1, 0.1, 1]))\n",
    "r = torch.ones(m)*0.01\n",
    "q = torch.ones(p)*100\n",
    "lam_g1 = torch.Tensor([20])\n",
    "lam_g2 = torch.Tensor([20])\n",
    "\n",
    "controller = DDeePC(\n",
    "    ud=ud, yd=yd, u_constraints=u_constraints, y_constraints=y_constraints,\n",
    "    Tini=Tini, T=T, N=Tf, m=m, p=p, n_batch=n_batch, device=device,\n",
    "    linear=False, stochastic=True, q=q, r=r\n",
    ").to(device)\n",
    "\n",
    "for param in controller.parameters():\n",
    "    print(param)"
   ]
  },
  {
   "cell_type": "code",
   "execution_count": 5,
   "metadata": {},
   "outputs": [
    {
     "name": "stderr",
     "output_type": "stream",
     "text": [
      "l=1.584, ly=52.578, lg1=0.038, lg2=0.066, ep=40 q=tensor([10., 10., 10., 10.], device='cuda:0'), r=0.100:  14%|█▍        | 14/100 [04:20<24:37, 17.18s/it] /opt/conda/envs/deepc/lib/python3.9/site-packages/diffcp/cone_program.py:371: UserWarning: Solved/Inaccurate.\n",
      "  warnings.warn(\"Solved/Inaccurate.\")\n",
      "l=1.760, ly=4097.963, lg1=-32.707, lg2=0.021, ep=39 q=tensor([10., 10., 10., 10.], device='cuda:0'), r=0.100:  86%|████████▌ | 86/100 [25:08<02:51, 12.22s/it]"
     ]
    }
   ],
   "source": [
    "episodes = 50\n",
    "ref = torch.zeros(size=(n_batch,p))\n",
    "perfect = torch.kron(torch.ones(episodes+Tini), ref).to(device)\n",
    "ref = torch.kron(torch.ones(Tf), ref).to(device)\n",
    "n_row = np.sqrt(n_batch)\n",
    "n_col = n_row\n",
    "opt = torch.optim.Rprop(controller.parameters(), lr=0.01, step_sizes=(1e-3,1e2))\n",
    "criterion = torch.nn.HuberLoss()\n",
    "\n",
    "epochs = 100\n",
    "pbar = tqdm(range(epochs))\n",
    "cum_loss = []\n",
    "done = False\n",
    "\n",
    "for j in pbar:\n",
    "\n",
    "    # uini, yini = sample_initial_signal(Tini=Tini, m=m, p=p, batch=n_batch, ud=ud, yd=yd)\n",
    "    uini = torch.zeros(size=(n_batch, Tini*m)).to(device)\n",
    "    th = uniform((n_batch), -0.01, 0.01)\n",
    "    # x = uniform((n_batch), -0.001, 0.001)\n",
    "    # thdot = uniform((n_batch), -0.001, 0.001)\n",
    "    # xdot = uniform((n_batch), -0.001, 0.001)\n",
    "    yini = torch.stack((torch.Tensor([0]), torch.Tensor([0]), th, torch.Tensor([0])), dim=1).repeat(1,Tini).to(device)\n",
    "    traj = yini\n",
    "    count = 0\n",
    "\n",
    "    t_dir = tempfile.mkdtemp()\n",
    "\n",
    "    for i in range(episodes):\n",
    "        count = i\n",
    "        yini = traj[:,-p*Tini:]\n",
    "        \n",
    "        noise_weight = torch.diag(torch.kron(torch.ones(Tini), torch.Tensor([0.01, 0.01, 0.005, 0.01]))).repeat(n_batch, 1, 1)\n",
    "        noise = torch.randn(n_batch,p*Tini,1)\n",
    "        noise = torch.bmm(noise_weight, noise).squeeze(-1).to(device)\n",
    "\n",
    "        u_pred, _ = controller(ref=ref, y_ini=yini+noise, u_ini=uini)\n",
    "        input = u_pred[:,:m]\n",
    "        y = dx(yini[:,-p:], input)\n",
    "\n",
    "        traj = torch.cat((traj, y), axis=1)\n",
    "        \n",
    "        if torch.any(torch.abs(yini[:,-2]) >= 0.2) or torch.any(torch.abs(yini[:,1]) >= 0.25):\n",
    "            break\n",
    "\n",
    "        if i >= episodes -1 : \n",
    "            done = True\n",
    "\n",
    "    # if count < episodes-1:\n",
    "    #     remainder = torch.ones(n_batch, (episodes-count-1)*p).to(device)\n",
    "    #     traj = torch.cat((traj, remainder), axis=1)\n",
    "\n",
    "    # loss = criterion(target=perfect, input=traj)\n",
    "    cum_loss.append(loss.item())\n",
    "    opt.zero_grad()\n",
    "    loss.backward()\n",
    "    opt.step()\n",
    "\n",
    "    pbar.set_description(f'l={loss.item():.3f}, ly={controller.lam_y.data.item():.3f},\\\n",
    " lg1={controller.lam_g1.data.item():.3f}, lg2={controller.lam_g2.data.item():.3f}, ep={count}\\\n",
    " q={controller.q.data}, r={controller.r.data.item():.3f}')"
   ]
  },
  {
   "cell_type": "code",
   "execution_count": 1,
   "metadata": {},
   "outputs": [
    {
     "ename": "NameError",
     "evalue": "name 'plt' is not defined",
     "output_type": "error",
     "traceback": [
      "\u001b[0;31m---------------------------------------------------------------------------\u001b[0m",
      "\u001b[0;31mNameError\u001b[0m                                 Traceback (most recent call last)",
      "Cell \u001b[0;32mIn[1], line 1\u001b[0m\n\u001b[0;32m----> 1\u001b[0m plt\u001b[39m.\u001b[39mplot(\u001b[39mrange\u001b[39m(\u001b[39mlen\u001b[39m(cum_loss)), cum_loss)\n\u001b[1;32m      2\u001b[0m plt\u001b[39m.\u001b[39mylabel(\u001b[39m\"\u001b[39m\u001b[39mLoss\u001b[39m\u001b[39m\"\u001b[39m)\n\u001b[1;32m      3\u001b[0m plt\u001b[39m.\u001b[39mxlabel(\u001b[39m\"\u001b[39m\u001b[39mepoch\u001b[39m\u001b[39m\"\u001b[39m)\n",
      "\u001b[0;31mNameError\u001b[0m: name 'plt' is not defined"
     ]
    }
   ],
   "source": [
    "plt.plot(range(len(cum_loss)), cum_loss)\n",
    "plt.ylabel(\"Loss\")\n",
    "plt.xlabel(\"epoch\")\n",
    "plt.grid('on')\n",
    "plt.show()"
   ]
  },
  {
   "cell_type": "code",
   "execution_count": null,
   "metadata": {},
   "outputs": [
    {
     "name": "stdout",
     "output_type": "stream",
     "text": [
      "Parameter containing:\n",
      "tensor([12.0913], device='cuda:0', requires_grad=True)\n",
      "Parameter containing:\n",
      "tensor([-99.9990], device='cuda:0', requires_grad=True)\n",
      "Parameter containing:\n",
      "tensor([0.5743], device='cuda:0', requires_grad=True)\n"
     ]
    }
   ],
   "source": [
    "for param in controller.parameters():\n",
    "    print(param)"
   ]
  },
  {
   "cell_type": "code",
   "execution_count": null,
   "metadata": {},
   "outputs": [
    {
     "name": "stderr",
     "output_type": "stream",
     "text": [
      "ffmpeg version 4.3 Copyright (c) 2000-2020 the FFmpeg developers\n",
      "  built with gcc 7.3.0 (crosstool-NG 1.23.0.449-a04d0)\n",
      "  configuration: --prefix=/opt/conda/conda-bld/ffmpeg_1597178665428/_h_env_placehold_placehold_placehold_placehold_placehold_placehold_placehold_placehold_placehold_placehold_placehold_placehold_placehold_placehold_placehold_placehold_placehold_placehold_placehold_placehold_placeh --cc=/opt/conda/conda-bld/ffmpeg_1597178665428/_build_env/bin/x86_64-conda_cos6-linux-gnu-cc --disable-doc --disable-openssl --enable-avresample --enable-gnutls --enable-hardcoded-tables --enable-libfreetype --enable-libopenh264 --enable-pic --enable-pthreads --enable-shared --disable-static --enable-version3 --enable-zlib --enable-libmp3lame\n",
      "  libavutil      56. 51.100 / 56. 51.100\n",
      "  libavcodec     58. 91.100 / 58. 91.100\n",
      "  libavformat    58. 45.100 / 58. 45.100\n",
      "  libavdevice    58. 10.100 / 58. 10.100\n",
      "  libavfilter     7. 85.100 /  7. 85.100\n",
      "  libavresample   4.  0.  0 /  4.  0.  0\n",
      "  libswscale      5.  7.100 /  5.  7.100\n",
      "  libswresample   3.  7.100 /  3.  7.100\n",
      "Unrecognized option 'crf'.\n",
      "Error splitting the argument list: Option not found\n"
     ]
    },
    {
     "ename": "FileNotFoundError",
     "evalue": "[Errno 2] No such file or directory: 'cartpole_initial.mp4'",
     "output_type": "error",
     "traceback": [
      "\u001b[0;31m---------------------------------------------------------------------------\u001b[0m",
      "\u001b[0;31mFileNotFoundError\u001b[0m                         Traceback (most recent call last)",
      "Cell \u001b[0;32mIn[8], line 10\u001b[0m\n\u001b[1;32m      7\u001b[0m os\u001b[39m.\u001b[39msystem(cmd)\n\u001b[1;32m      8\u001b[0m \u001b[39m# print('Saving video to: {}'.format(vid_fname))\u001b[39;00m\n\u001b[0;32m---> 10\u001b[0m video \u001b[39m=\u001b[39m io\u001b[39m.\u001b[39;49mopen(vid_fname, \u001b[39m'\u001b[39;49m\u001b[39mr+b\u001b[39;49m\u001b[39m'\u001b[39;49m)\u001b[39m.\u001b[39mread()\n\u001b[1;32m     11\u001b[0m encoded \u001b[39m=\u001b[39m base64\u001b[39m.\u001b[39mb64encode(video)\n\u001b[1;32m     12\u001b[0m HTML(data\u001b[39m=\u001b[39m\u001b[39m'''\u001b[39m\u001b[39m<video alt=\u001b[39m\u001b[39m\"\u001b[39m\u001b[39mtest\u001b[39m\u001b[39m\"\u001b[39m\u001b[39m controls>\u001b[39m\n\u001b[1;32m     13\u001b[0m \u001b[39m                <source src=\u001b[39m\u001b[39m\"\u001b[39m\u001b[39mdata:video/mp4;base64,\u001b[39m\u001b[39m{0}\u001b[39;00m\u001b[39m\"\u001b[39m\u001b[39m type=\u001b[39m\u001b[39m\"\u001b[39m\u001b[39mvideo/mp4\u001b[39m\u001b[39m\"\u001b[39m\u001b[39m />\u001b[39m\n\u001b[1;32m     14\u001b[0m \u001b[39m             </video>\u001b[39m\u001b[39m'''\u001b[39m\u001b[39m.\u001b[39mformat(encoded\u001b[39m.\u001b[39mdecode(\u001b[39m'\u001b[39m\u001b[39mascii\u001b[39m\u001b[39m'\u001b[39m)))\n",
      "\u001b[0;31mFileNotFoundError\u001b[0m: [Errno 2] No such file or directory: 'cartpole_initial.mp4'"
     ]
    }
   ],
   "source": [
    "vid_fname = 'cartpole_initial.mp4'\n",
    "if os.path.exists(vid_fname):\n",
    "    os.remove(vid_fname)\n",
    "cmd = 'ffmpeg -r 16 -f image2 -i {}/%03d.png -vcodec libx264 -crf 25 -vf \"pad=ceil(iw/2)*2:ceil(ih/2)*2\" -pix_fmt yuv420p {}'.format(\n",
    "    t_dir, vid_fname\n",
    ")\n",
    "os.system(cmd)\n",
    "# print('Saving video to: {}'.format(vid_fname))\n",
    "\n",
    "video = io.open(vid_fname, 'r+b').read()\n",
    "encoded = base64.b64encode(video)\n",
    "HTML(data='''<video alt=\"test\" controls>\n",
    "                <source src=\"data:video/mp4;base64,{0}\" type=\"video/mp4\" />\n",
    "             </video>'''.format(encoded.decode('ascii')))"
   ]
  }
 ],
 "metadata": {
  "kernelspec": {
   "display_name": "base",
   "language": "python",
   "name": "python3"
  },
  "language_info": {
   "codemirror_mode": {
    "name": "ipython",
    "version": 3
   },
   "file_extension": ".py",
   "mimetype": "text/x-python",
   "name": "python",
   "nbconvert_exporter": "python",
   "pygments_lexer": "ipython3",
   "version": "3.9.16"
  },
  "orig_nbformat": 4
 },
 "nbformat": 4,
 "nbformat_minor": 2
}
