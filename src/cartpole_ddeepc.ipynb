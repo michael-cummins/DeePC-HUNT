{
 "cells": [
  {
   "cell_type": "code",
   "execution_count": 119,
   "metadata": {},
   "outputs": [
    {
     "name": "stdout",
     "output_type": "stream",
     "text": [
      "The autoreload extension is already loaded. To reload it, use:\n",
      "  %reload_ext autoreload\n"
     ]
    }
   ],
   "source": [
    "%load_ext autoreload\n",
    "# %reload_ext autoreload\n",
    "%autoreload 2\n",
    "\n",
    "import numpy as np\n",
    "import matplotlib.pyplot as plt\n",
    "from IPython import display\n",
    "import os\n",
    "import io\n",
    "import base64\n",
    "import tempfile\n",
    "from IPython.display import HTML\n",
    "from numpy import loadtxt\n",
    "\n",
    "from controllers import DDeePC\n",
    "from controller_utils import CartpoleDx\n",
    "from tqdm import tqdm\n",
    "import torch\n",
    "import torch.optim as optim\n",
    "import torch.optim.lr_scheduler as lr_scheduler\n",
    "\n",
    "from mpc import mpc\n",
    "from mpc.mpc import GradMethods, QuadCost\n",
    "import mpc.util as eutil\n",
    "\n",
    "\n",
    "%matplotlib inline\n"
   ]
  },
  {
   "attachments": {},
   "cell_type": "markdown",
   "metadata": {},
   "source": [
    "## Data Collection\n"
   ]
  },
  {
   "cell_type": "code",
   "execution_count": 120,
   "metadata": {},
   "outputs": [],
   "source": [
    "dx = CartpoleDx().to(device='mps')\n",
    "\n",
    "Tini = 4\n",
    "m = 1\n",
    "p = 4\n",
    "Tf = 20\n",
    "T = (m+1)*(Tini + Tf + p) + 14\n",
    "\n",
    "ud = loadtxt('../badcartpole_ud.csv', delimiter=',')\n",
    "yd = loadtxt('../badcartpole_yd.csv', delimiter=',')\n",
    "yd = yd.reshape(T*p,)\n",
    "noise = np.diag(np.kron(np.ones(T), np.array([0.01, 0.01, 0.005, 0.01]))) @ np.random.randn(*yd.shape)\n",
    "yd = yd + noise\n",
    "\n",
    "def uniform(shape, low, high):\n",
    "    r = high-low\n",
    "    return torch.rand(shape)*r+low"
   ]
  },
  {
   "cell_type": "code",
   "execution_count": 121,
   "metadata": {},
   "outputs": [
    {
     "data": {
      "text/plain": [
       "(280,)"
      ]
     },
     "execution_count": 121,
     "metadata": {},
     "output_type": "execute_result"
    }
   ],
   "source": [
    "yd.shape"
   ]
  },
  {
   "cell_type": "code",
   "execution_count": 122,
   "metadata": {},
   "outputs": [],
   "source": [
    "u_constraints = np.ones(Tf)*dx.upper\n",
    "y_constraints = np.kron(np.ones(Tf), np.array([1, 1, 0.1, 1]))\n",
    "r = torch.ones(m)*0.1\n",
    "q = torch.ones(p)*10\n",
    "lam_g1 = torch.Tensor([20])\n",
    "lam_g2 = torch.Tensor([20])\n",
    "\n",
    "controller = DDeePC(\n",
    "    ud=ud, yd=yd, u_constraints=u_constraints, y_constraints=y_constraints,\n",
    "    Tini=Tini, T=T, N=Tf, m=m, p=p, n_batch=1,\n",
    "    linear=False, stochastic=True, q=q, r=r\n",
    ")"
   ]
  },
  {
   "cell_type": "code",
   "execution_count": 123,
   "metadata": {},
   "outputs": [
    {
     "name": "stdout",
     "output_type": "stream",
     "text": [
      "Parameter containing:\n",
      "tensor([9.9502], requires_grad=True)\n",
      "Parameter containing:\n",
      "tensor([10.0297], requires_grad=True)\n",
      "Parameter containing:\n",
      "tensor([9.3773], requires_grad=True)\n"
     ]
    }
   ],
   "source": [
    "for param in controller.parameters():\n",
    "    print(param)"
   ]
  },
  {
   "cell_type": "code",
   "execution_count": 124,
   "metadata": {},
   "outputs": [
    {
     "name": "stderr",
     "output_type": "stream",
     "text": [
      "loss = 0.2006, lam_y = 501.24, lam_g1 = -2.12, lam_g2 = 0.30:  24%|██▎       | 71/300 [33:39<4:55:27, 77.41s/it]  "
     ]
    }
   ],
   "source": [
    "ref = torch.kron(torch.ones(Tf), torch.Tensor([0,0,0,0]))\n",
    "episodes = 100\n",
    "n_batch = 1\n",
    "perfect = torch.kron(torch.ones(episodes+Tini), torch.Tensor([0,0,0,0]))\n",
    "perfect = perfect.unsqueeze(0)\n",
    "\n",
    "opt = torch.optim.Rprop(controller.parameters())\n",
    "# scheduler = lr_scheduler.LinearLR(opt, start_factor=1.0, end_factor=0.0001, total_iters=100)\n",
    "criterion = torch.nn.MSELoss()\n",
    "epochs = 300\n",
    "pbar = tqdm(range(epochs))\n",
    "cum_loss = []\n",
    "done = False\n",
    "for i in pbar:\n",
    "\n",
    "    th = uniform(n_batch, -0.01, 0.01)\n",
    "    thdot = torch.Tensor([0])\n",
    "    x = torch.Tensor([0])\n",
    "    xdot = torch.Tensor([0])\n",
    "    yini = torch.Tensor(yd[:Tini*p])\n",
    "    uini = torch.Tensor(ud[:Tini*m])\n",
    "    traj = yini.unsqueeze(0)\n",
    "    count = 0\n",
    "\n",
    "    t_dir = tempfile.mkdtemp()\n",
    "    # print('Tmp dir: {}'.format(t_dir))\n",
    "\n",
    "    for i in range(episodes):\n",
    "        count = i\n",
    "        yini = traj[0,-p*Tini:]\n",
    "        noise = torch.diag(torch.kron(torch.ones(Tini), torch.Tensor([0.01, 0.01, 0.005, 0.01])))@torch.randn(yini.shape)\n",
    "        actions, _ = controller(ref=ref, y_ini=yini+noise, u_ini=uini)\n",
    "        input = actions[:m]\n",
    "        y = dx(yini[-p:], input)\n",
    "\n",
    "        traj = torch.cat((traj, y), axis=1)\n",
    "        fig, axs = plt.subplots(1, 1, figsize=(5,5))\n",
    "        dx.get_frame(y, ax=axs)\n",
    "        axs.get_xaxis().set_visible(False)\n",
    "        axs.get_yaxis().set_visible(False)\n",
    "        fig.tight_layout()\n",
    "        fig.savefig(os.path.join(t_dir, '{:03d}.png'.format(i)))\n",
    "        plt.close(fig)\n",
    "\n",
    "        if torch.abs(yini[-2]) >= 0.2:\n",
    "            break\n",
    "\n",
    "        if i >= episodes -1 : \n",
    "            done = True\n",
    "\n",
    "    if count < episodes-1:\n",
    "        remainder = torch.ones((episodes-count-1)*p)*10\n",
    "        traj = torch.cat((traj, remainder.unsqueeze(0)), axis=1)\n",
    "\n",
    "    loss = criterion(target=perfect, input=traj)\n",
    "    cum_loss.append(loss.item())\n",
    "    # print(loss.item())\n",
    "    opt.zero_grad()\n",
    "    loss.backward()\n",
    "    opt.step()\n",
    "    # scheduler.step()\n",
    "    pbar.set_description(f'loss = {loss.item():.4f}, lam_y = {controller.lam_y.item():.4f},\\\n",
    " lam_g1 = {controller.lam_g1.item():.2f}, lam_g2 = {controller.lam_g2.item():.4f}')"
   ]
  },
  {
   "cell_type": "code",
   "execution_count": null,
   "metadata": {},
   "outputs": [
    {
     "name": "stderr",
     "output_type": "stream",
     "text": [
      "[autoreload of controller_utils failed: Traceback (most recent call last):\n",
      "  File \"/opt/homebrew/Caskroom/miniforge/base/lib/python3.10/site-packages/IPython/extensions/autoreload.py\", line 273, in check\n",
      "    superreload(m, reload, self.old_objects)\n",
      "  File \"/opt/homebrew/Caskroom/miniforge/base/lib/python3.10/site-packages/IPython/extensions/autoreload.py\", line 496, in superreload\n",
      "    update_generic(old_obj, new_obj)\n",
      "  File \"/opt/homebrew/Caskroom/miniforge/base/lib/python3.10/site-packages/IPython/extensions/autoreload.py\", line 393, in update_generic\n",
      "    update(a, b)\n",
      "  File \"/opt/homebrew/Caskroom/miniforge/base/lib/python3.10/site-packages/IPython/extensions/autoreload.py\", line 345, in update_class\n",
      "    if update_generic(old_obj, new_obj):\n",
      "  File \"/opt/homebrew/Caskroom/miniforge/base/lib/python3.10/site-packages/IPython/extensions/autoreload.py\", line 393, in update_generic\n",
      "    update(a, b)\n",
      "  File \"/opt/homebrew/Caskroom/miniforge/base/lib/python3.10/site-packages/IPython/extensions/autoreload.py\", line 345, in update_class\n",
      "    if update_generic(old_obj, new_obj):\n",
      "  File \"/opt/homebrew/Caskroom/miniforge/base/lib/python3.10/site-packages/IPython/extensions/autoreload.py\", line 393, in update_generic\n",
      "    update(a, b)\n",
      "  File \"/opt/homebrew/Caskroom/miniforge/base/lib/python3.10/site-packages/IPython/extensions/autoreload.py\", line 345, in update_class\n",
      "    if update_generic(old_obj, new_obj):\n",
      "  File \"/opt/homebrew/Caskroom/miniforge/base/lib/python3.10/site-packages/IPython/extensions/autoreload.py\", line 393, in update_generic\n",
      "    update(a, b)\n",
      "  File \"/opt/homebrew/Caskroom/miniforge/base/lib/python3.10/site-packages/IPython/extensions/autoreload.py\", line 345, in update_class\n",
      "    if update_generic(old_obj, new_obj):\n",
      "RecursionError: maximum recursion depth exceeded\n",
      "]\n"
     ]
    },
    {
     "name": "stdout",
     "output_type": "stream",
     "text": [
      "tensor([0.3726, 0.8894, 0.1859, 0.0519, 0.4170, 0.9508, 0.1885, 0.0973, 0.4646,\n",
      "        0.9451, 0.1933, 0.2433, 0.5118, 0.8736, 0.2055, 0.4898],\n",
      "       grad_fn=<SliceBackward0>)\n",
      "tensor([-1.4764], grad_fn=<SliceBackward0>)\n"
     ]
    }
   ],
   "source": [
    "plt.plot(range(len(cum_loss)), cum_loss)\n",
    "plt.ylabel(\"Loss\")\n",
    "plt.xlabel(\"epoch\")\n",
    "plt.grid('on')\n",
    "plt.show()"
   ]
  },
  {
   "cell_type": "code",
   "execution_count": null,
   "metadata": {},
   "outputs": [
    {
     "data": {
      "text/plain": [
       "torch.Size([1, 4])"
      ]
     },
     "execution_count": 74,
     "metadata": {},
     "output_type": "execute_result"
    }
   ],
   "source": [
    "yini.shape\n",
    "remainder = remainder.unsqueeze(0)\n",
    "remainder.shape"
   ]
  },
  {
   "cell_type": "code",
   "execution_count": null,
   "metadata": {},
   "outputs": [
    {
     "name": "stdout",
     "output_type": "stream",
     "text": [
      "Parameter containing:\n",
      "tensor([64.6469], requires_grad=True)\n",
      "Parameter containing:\n",
      "tensor([12.0966], requires_grad=True)\n",
      "Parameter containing:\n",
      "tensor([2.1675], requires_grad=True)\n"
     ]
    }
   ],
   "source": [
    "for param in controller.parameters():\n",
    "    print(param)"
   ]
  },
  {
   "cell_type": "code",
   "execution_count": null,
   "metadata": {},
   "outputs": [
    {
     "name": "stdout",
     "output_type": "stream",
     "text": [
      "Saving video to: cartpole_initial.mp4\n"
     ]
    },
    {
     "name": "stderr",
     "output_type": "stream",
     "text": [
      "ffmpeg version 5.1.2 Copyright (c) 2000-2022 the FFmpeg developers\n",
      "  built with clang version 14.0.6\n",
      "  configuration: --prefix=/Users/runner/miniforge3/conda-bld/ffmpeg_1674566267822/_h_env_placehold_placehold_placehold_placehold_placehold_placehold_placehold_placehold_placehold_placehold_placehold_placehold_placehold_placehold_placehold_placehold_placehold_placehold_placehold_pl --cc=arm64-apple-darwin20.0.0-clang --cxx=arm64-apple-darwin20.0.0-clang++ --nm=arm64-apple-darwin20.0.0-nm --ar=arm64-apple-darwin20.0.0-ar --disable-doc --disable-openssl --enable-demuxer=dash --enable-hardcoded-tables --enable-libfreetype --enable-libfontconfig --enable-libopenh264 --enable-cross-compile --arch=arm64 --target-os=darwin --cross-prefix=arm64-apple-darwin20.0.0- --host-cc=/Users/runner/miniforge3/conda-bld/ffmpeg_1674566267822/_build_env/bin/x86_64-apple-darwin13.4.0-clang --enable-neon --enable-gnutls --enable-libmp3lame --enable-libvpx --enable-pthreads --enable-gpl --enable-libx264 --enable-libx265 --enable-libaom --enable-libsvtav1 --enable-libxml2 --enable-pic --enable-shared --disable-static --enable-version3 --enable-zlib --enable-libopus --pkg-config=/Users/runner/miniforge3/conda-bld/ffmpeg_1674566267822/_build_env/bin/pkg-config\n",
      "  libavutil      57. 28.100 / 57. 28.100\n",
      "  libavcodec     59. 37.100 / 59. 37.100\n",
      "  libavformat    59. 27.100 / 59. 27.100\n",
      "  libavdevice    59.  7.100 / 59.  7.100\n",
      "  libavfilter     8. 44.100 /  8. 44.100\n",
      "  libswscale      6.  7.100 /  6.  7.100\n",
      "  libswresample   4.  7.100 /  4.  7.100\n",
      "  libpostproc    56.  6.100 / 56.  6.100\n",
      "Input #0, image2, from '/var/folders/bv/3kttr09s6dsg653szk2tbhlh0000gn/T/tmpxe2ja2d2/%03d.png':\n",
      "  Duration: 00:00:03.06, start: 0.000000, bitrate: N/A\n",
      "  Stream #0:0: Video: png, rgba(pc), 500x500 [SAR 3937:3937 DAR 1:1], 16 fps, 16 tbr, 16 tbn\n",
      "Stream mapping:\n",
      "  Stream #0:0 -> #0:0 (png (native) -> h264 (libx264))\n",
      "Press [q] to stop, [?] for help\n",
      "[libx264 @ 0x10ee053e0] using SAR=1/1\n",
      "[libx264 @ 0x10ee053e0] using cpu capabilities: ARMv8 NEON\n",
      "[libx264 @ 0x10ee053e0] profile High, level 2.2, 4:2:0, 8-bit\n",
      "[libx264 @ 0x10ee053e0] 264 - core 164 r3095 baee400 - H.264/MPEG-4 AVC codec - Copyleft 2003-2022 - http://www.videolan.org/x264.html - options: cabac=1 ref=3 deblock=1:0:0 analyse=0x3:0x113 me=hex subme=7 psy=1 psy_rd=1.00:0.00 mixed_ref=1 me_range=16 chroma_me=1 trellis=1 8x8dct=1 cqm=0 deadzone=21,11 fast_pskip=1 chroma_qp_offset=-2 threads=12 lookahead_threads=2 sliced_threads=0 nr=0 decimate=1 interlaced=0 bluray_compat=0 constrained_intra=0 bframes=3 b_pyramid=2 b_adapt=1 b_bias=0 direct=1 weightb=1 open_gop=0 weightp=2 keyint=250 keyint_min=16 scenecut=40 intra_refresh=0 rc_lookahead=40 rc=crf mbtree=1 crf=25.0 qcomp=0.60 qpmin=0 qpmax=69 qpstep=4 ip_ratio=1.40 aq=1:1.00\n",
      "Output #0, mp4, to 'cartpole_initial.mp4':\n",
      "  Metadata:\n",
      "    encoder         : Lavf59.27.100\n",
      "  Stream #0:0: Video: h264 (avc1 / 0x31637661), yuv420p(tv, progressive), 500x500 [SAR 1:1 DAR 1:1], q=2-31, 16 fps, 16384 tbn\n",
      "    Metadata:\n",
      "      encoder         : Lavc59.37.100 libx264\n",
      "    Side data:\n",
      "      cpb: bitrate max/min/avg: 0/0/0 buffer size: 0 vbv_delay: N/A\n",
      "frame=   49 fps=0.0 q=-1.0 Lsize=       6kB time=00:00:02.87 bitrate=  17.8kbits/s speed=37.2x    \n",
      "video:5kB audio:0kB subtitle:0kB other streams:0kB global headers:0kB muxing overhead: 28.138180%\n",
      "[libx264 @ 0x10ee053e0] frame I:1     Avg QP:11.77  size:   343\n",
      "[libx264 @ 0x10ee053e0] frame P:20    Avg QP:27.32  size:   106\n",
      "[libx264 @ 0x10ee053e0] frame B:28    Avg QP:31.61  size:    65\n",
      "[libx264 @ 0x10ee053e0] consecutive B-frames: 18.4% 12.2% 12.2% 57.1%\n",
      "[libx264 @ 0x10ee053e0] mb I  I16..4: 72.6% 25.8%  1.7%\n",
      "[libx264 @ 0x10ee053e0] mb P  I16..4:  0.0%  0.4%  0.1%  P16..4:  0.5%  0.3%  0.1%  0.0%  0.0%    skip:98.6%\n",
      "[libx264 @ 0x10ee053e0] mb B  I16..4:  0.0%  0.0%  0.0%  B16..8:  1.2%  0.3%  0.0%  direct: 0.0%  skip:98.3%  L0:49.7% L1:46.2% BI: 4.1%\n",
      "[libx264 @ 0x10ee053e0] 8x8 transform intra:31.3% inter:30.3%\n",
      "[libx264 @ 0x10ee053e0] coded y,uvDC,uvAC intra: 2.1% 0.0% 0.0% inter: 0.1% 0.0% 0.0%\n",
      "[libx264 @ 0x10ee053e0] i16 v,h,dc,p: 89% 11%  0%  0%\n",
      "[libx264 @ 0x10ee053e0] i8 v,h,dc,ddl,ddr,vr,hd,vl,hu: 10%  8% 81%  0%  0%  0%  0%  0%  0%\n",
      "[libx264 @ 0x10ee053e0] i4 v,h,dc,ddl,ddr,vr,hd,vl,hu: 37%  4% 51%  1%  0%  0%  0%  6%  0%\n",
      "[libx264 @ 0x10ee053e0] i8c dc,h,v,p: 100%  0%  0%  0%\n",
      "[libx264 @ 0x10ee053e0] Weighted P-Frames: Y:0.0% UV:0.0%\n",
      "[libx264 @ 0x10ee053e0] ref P L0: 73.5%  3.1% 12.6% 10.7%\n",
      "[libx264 @ 0x10ee053e0] ref B L0: 78.6% 14.7%  6.6%\n",
      "[libx264 @ 0x10ee053e0] ref B L1: 92.0%  8.0%\n",
      "[libx264 @ 0x10ee053e0] kb/s:11.20\n"
     ]
    },
    {
     "data": {
      "text/html": [
       "<video alt=\"test\" controls>\n",
       "                <source src=\"data:video/mp4;base64,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\" type=\"video/mp4\" />\n",
       "             </video>"
      ],
      "text/plain": [
       "<IPython.core.display.HTML object>"
      ]
     },
     "execution_count": 76,
     "metadata": {},
     "output_type": "execute_result"
    }
   ],
   "source": [
    "vid_fname = 'cartpole_initial.mp4'\n",
    "if os.path.exists(vid_fname):\n",
    "    os.remove(vid_fname)\n",
    "cmd = 'ffmpeg -r 16 -f image2 -i {}/%03d.png -vcodec libx264 -crf 25 -vf \"pad=ceil(iw/2)*2:ceil(ih/2)*2\" -pix_fmt yuv420p {}'.format(\n",
    "    t_dir, vid_fname\n",
    ")\n",
    "os.system(cmd)\n",
    "print('Saving video to: {}'.format(vid_fname))\n",
    "\n",
    "video = io.open(vid_fname, 'r+b').read()\n",
    "encoded = base64.b64encode(video)\n",
    "HTML(data='''<video alt=\"test\" controls>\n",
    "                <source src=\"data:video/mp4;base64,{0}\" type=\"video/mp4\" />\n",
    "             </video>'''.format(encoded.decode('ascii')))"
   ]
  }
 ],
 "metadata": {
  "kernelspec": {
   "display_name": "base",
   "language": "python",
   "name": "python3"
  },
  "language_info": {
   "codemirror_mode": {
    "name": "ipython",
    "version": 3
   },
   "file_extension": ".py",
   "mimetype": "text/x-python",
   "name": "python",
   "nbconvert_exporter": "python",
   "pygments_lexer": "ipython3",
   "version": "3.10.9"
  },
  "orig_nbformat": 4
 },
 "nbformat": 4,
 "nbformat_minor": 2
}
