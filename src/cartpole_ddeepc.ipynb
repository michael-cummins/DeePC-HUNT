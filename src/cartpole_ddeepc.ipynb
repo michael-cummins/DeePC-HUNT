{
 "cells": [
  {
   "cell_type": "code",
   "execution_count": 22,
   "metadata": {},
   "outputs": [
    {
     "name": "stdout",
     "output_type": "stream",
     "text": [
      "The autoreload extension is already loaded. To reload it, use:\n",
      "  %reload_ext autoreload\n"
     ]
    }
   ],
   "source": [
    "%load_ext autoreload\n",
    "# %reload_ext autoreload\n",
    "%autoreload 2\n",
    "\n",
    "import numpy as np\n",
    "import matplotlib.pyplot as plt\n",
    "from IPython import display\n",
    "import os\n",
    "import io\n",
    "import base64\n",
    "import tempfile\n",
    "from IPython.display import HTML\n",
    "from numpy import loadtxt\n",
    "\n",
    "from controllers import DDeePC\n",
    "from controller_utils import CartpoleDx, sample_initial_signal\n",
    "from tqdm import tqdm\n",
    "import torch\n",
    "import torch.optim as optim\n",
    "import torch.optim.lr_scheduler as lr_scheduler\n",
    "\n",
    "from mpc import mpc\n",
    "from mpc.mpc import GradMethods, QuadCost\n",
    "import mpc.util as eutil\n",
    "\n",
    "\n",
    "%matplotlib inline\n"
   ]
  },
  {
   "attachments": {},
   "cell_type": "markdown",
   "metadata": {},
   "source": [
    "## Data Collection\n"
   ]
  },
  {
   "cell_type": "code",
   "execution_count": 23,
   "metadata": {},
   "outputs": [
    {
     "name": "stdout",
     "output_type": "stream",
     "text": [
      "mps\n"
     ]
    }
   ],
   "source": [
    "Tini = 4\n",
    "m = 1\n",
    "p = 4\n",
    "Tf = 20\n",
    "T = (m+1)*(Tini + Tf + p) + 14\n",
    "n_batch = 32\n",
    "device = 'cuda' if torch.cuda.is_available() else 'mps'\n",
    "print(device)\n",
    "ud = loadtxt('../badcartpole_ud.csv', delimiter=',')\n",
    "yd = loadtxt('../badcartpole_yd.csv', delimiter=',')\n",
    "yd = yd.reshape(T*p,)\n",
    "noise = np.diag(np.kron(np.ones(T), np.array([0.01, 0.01, 0.005, 0.01]))) @ np.random.randn(*yd.shape)\n",
    "yd = yd + noise\n",
    "dx = CartpoleDx().to(device)\n",
    "def uniform(shape, low, high):\n",
    "    r = high-low\n",
    "    return torch.rand(shape)*r+low"
   ]
  },
  {
   "cell_type": "code",
   "execution_count": 24,
   "metadata": {},
   "outputs": [],
   "source": [
    "u_constraints = np.ones(Tf)*dx.upper\n",
    "y_constraints = np.kron(np.ones(Tf), np.array([1, 1, 0.1, 1]))\n",
    "r = torch.ones(m)*0.1\n",
    "q = torch.ones(p)*10\n",
    "lam_g1 = torch.Tensor([20])\n",
    "lam_g2 = torch.Tensor([20])\n",
    "\n",
    "controller = DDeePC(\n",
    "    ud=ud, yd=yd, u_constraints=u_constraints, y_constraints=y_constraints,\n",
    "    Tini=Tini, T=T, N=Tf, m=m, p=p, n_batch=n_batch, device=device,\n",
    "    linear=False, stochastic=True, q=q, r=r\n",
    ").to(device)"
   ]
  },
  {
   "cell_type": "code",
   "execution_count": 25,
   "metadata": {},
   "outputs": [
    {
     "name": "stdout",
     "output_type": "stream",
     "text": [
      "Parameter containing:\n",
      "tensor([9.9973], device='mps:0', requires_grad=True)\n",
      "Parameter containing:\n",
      "tensor([0.9911], device='mps:0', requires_grad=True)\n",
      "Parameter containing:\n",
      "tensor([0.9887], device='mps:0', requires_grad=True)\n"
     ]
    }
   ],
   "source": [
    "for param in controller.parameters():\n",
    "    print(param)"
   ]
  },
  {
   "cell_type": "code",
   "execution_count": 26,
   "metadata": {},
   "outputs": [
    {
     "name": "stderr",
     "output_type": "stream",
     "text": [
      "l=5.116, ly=100.775, lg1=0.040, lg2=0.398, ep=43 q=tensor([10., 10., 10., 10.], device='mps:0'), r=0.100:  98%|█████████▊| 98/100 [1:59:07<02:27, 73.73s/it]  "
     ]
    }
   ],
   "source": [
    "episodes = 100\n",
    "ref = torch.zeros(size=(n_batch,p))\n",
    "perfect = torch.kron(torch.ones(episodes+Tini), ref).to(device)\n",
    "ref = torch.kron(torch.ones(Tf), ref).to(device)\n",
    "n_row = np.sqrt(n_batch)\n",
    "n_col = n_row\n",
    "opt = torch.optim.Rprop(controller.parameters(), lr=0.01, step_sizes=(1e-3,1e2))\n",
    "criterion = torch.nn.HuberLoss()\n",
    "\n",
    "epochs = 100\n",
    "pbar = tqdm(range(epochs))\n",
    "cum_loss = []\n",
    "done = False\n",
    "\n",
    "for j in pbar:\n",
    "\n",
    "    # uini, yini = sample_initial_signal(Tini=Tini, m=m, p=p, batch=n_batch, ud=ud, yd=yd)\n",
    "    uini = torch.zeros(size=(n_batch, Tini*m)).to(device)\n",
    "    th = uniform((n_batch), -0.01, 0.01)\n",
    "    x = uniform((n_batch), -0.001, 0.001)\n",
    "    thdot = uniform((n_batch), -0.001, 0.001)\n",
    "    xdot = uniform((n_batch), -0.001, 0.001)\n",
    "    yini = torch.stack((x, xdot, th, thdot), dim=1).repeat(1,Tini).to(device)\n",
    "    traj = yini\n",
    "    count = 0\n",
    "\n",
    "    t_dir = tempfile.mkdtemp()\n",
    "\n",
    "    for i in range(episodes):\n",
    "        count = i\n",
    "        yini = traj[:,-p*Tini:]\n",
    "        \n",
    "        # TODO: Give different noise vectors to each yini instead of just repeating the same one\n",
    "        noise = torch.diag(torch.kron(torch.ones(Tini), torch.Tensor([0.01, 0.01, 0.005, 0.01])))@torch.randn(p*Tini,)\n",
    "        noise = noise.repeat(n_batch, 1).to(device)\n",
    "\n",
    "        u_pred, _ = controller(ref=ref, y_ini=yini+noise, u_ini=uini)\n",
    "        input = u_pred[:,:m]\n",
    "        y = dx(yini[:,-p:], input)\n",
    "\n",
    "        traj = torch.cat((traj, y), axis=1)\n",
    "        # fig, axs = plt.subplots(n_row, n_col, figsize=(3*n_col,3*n_row), gridspec_kw = {'wspace':0, 'hspace':0})\n",
    "        # axs = axs.reshape(-1)\n",
    "        # for i in range(n_batch):\n",
    "        #     dx.get_frame(x[i], ax=axs)\n",
    "        #     axs.get_xaxis().set_visible(True)\n",
    "        #     axs.get_yaxis().set_visible(True)\n",
    "        # fig.tight_layout()\n",
    "        # fig.savefig(os.path.join(t_dir, 'frame_{:03d}.png'.format(i)))\n",
    "        # plt.close(fig)\n",
    "        \n",
    "        if torch.any(torch.abs(yini[:,-2]) >= 0.2) or torch.any(torch.abs(yini[:,1]) >= 0.25):\n",
    "            break\n",
    "\n",
    "        if i >= episodes -1 : \n",
    "            done = True\n",
    "\n",
    "    if count < episodes-1:\n",
    "        remainder = torch.ones(n_batch, (episodes-count-1)*p).to(device)*10\n",
    "        traj = torch.cat((traj, remainder), axis=1)\n",
    "\n",
    "    loss = criterion(target=perfect, input=traj)\n",
    "    cum_loss.append(loss.item())\n",
    "    opt.zero_grad()\n",
    "    loss.backward()\n",
    "    opt.step()\n",
    "\n",
    "    pbar.set_description(f'l={loss.item():.3f}, ly={controller.lam_y.data.item():.3f},\\\n",
    " lg1={controller.lam_g1.data.item():.3f}, lg2={controller.lam_g2.data.item():.3f}, ep={count}\\\n",
    " q={controller.q.data}, r={controller.r.data.item():.3f}')"
   ]
  },
  {
   "cell_type": "code",
   "execution_count": null,
   "metadata": {},
   "outputs": [
    {
     "data": {
      "image/png": "[encoded data removed]",
      "text/plain": [
       "<Figure size 640x480 with 1 Axes>"
      ]
     },
     "metadata": {},
     "output_type": "display_data"
    }
   ],
   "source": [
    "plt.plot(range(len(cum_loss)), cum_loss)\n",
    "plt.ylabel(\"Loss\")\n",
    "plt.xlabel(\"epoch\")\n",
    "plt.grid('on')\n",
    "plt.show()"
   ]
  },
  {
   "cell_type": "code",
   "execution_count": null,
   "metadata": {},
   "outputs": [
    {
     "name": "stdout",
     "output_type": "stream",
     "text": [
      "Parameter containing:\n",
      "tensor([0.8974], requires_grad=True)\n",
      "Parameter containing:\n",
      "tensor([0.9907], requires_grad=True)\n",
      "Parameter containing:\n",
      "tensor([0.9896], requires_grad=True)\n"
     ]
    }
   ],
   "source": [
    "for param in controller.parameters():\n",
    "    print(param)"
   ]
  },
  {
   "cell_type": "code",
   "execution_count": null,
   "metadata": {},
   "outputs": [
    {
     "name": "stderr",
     "output_type": "stream",
     "text": [
      "ffmpeg version 5.1.2 Copyright (c) 2000-2022 the FFmpeg developers\n",
      "  built with clang version 14.0.6\n",
      "  configuration: --prefix=/Users/runner/miniforge3/conda-bld/ffmpeg_1674566267822/_h_env_placehold_placehold_placehold_placehold_placehold_placehold_placehold_placehold_placehold_placehold_placehold_placehold_placehold_placehold_placehold_placehold_placehold_placehold_placehold_pl --cc=arm64-apple-darwin20.0.0-clang --cxx=arm64-apple-darwin20.0.0-clang++ --nm=arm64-apple-darwin20.0.0-nm --ar=arm64-apple-darwin20.0.0-ar --disable-doc --disable-openssl --enable-demuxer=dash --enable-hardcoded-tables --enable-libfreetype --enable-libfontconfig --enable-libopenh264 --enable-cross-compile --arch=arm64 --target-os=darwin --cross-prefix=arm64-apple-darwin20.0.0- --host-cc=/Users/runner/miniforge3/conda-bld/ffmpeg_1674566267822/_build_env/bin/x86_64-apple-darwin13.4.0-clang --enable-neon --enable-gnutls --enable-libmp3lame --enable-libvpx --enable-pthreads --enable-gpl --enable-libx264 --enable-libx265 --enable-libaom --enable-libsvtav1 --enable-libxml2 --enable-pic --enable-shared --disable-static --enable-version3 --enable-zlib --enable-libopus --pkg-config=/Users/runner/miniforge3/conda-bld/ffmpeg_1674566267822/_build_env/bin/pkg-config\n",
      "  libavutil      57. 28.100 / 57. 28.100\n",
      "  libavcodec     59. 37.100 / 59. 37.100\n",
      "  libavformat    59. 27.100 / 59. 27.100\n",
      "  libavdevice    59.  7.100 / 59.  7.100\n",
      "  libavfilter     8. 44.100 /  8. 44.100\n",
      "  libswscale      6.  7.100 /  6.  7.100\n",
      "  libswresample   4.  7.100 /  4.  7.100\n",
      "  libpostproc    56.  6.100 / 56.  6.100\n",
      "Input #0, image2, from '/var/folders/bv/3kttr09s6dsg653szk2tbhlh0000gn/T/tmpuy10qv6j/%03d.png':\n",
      "  Duration: 00:00:06.25, start: 0.000000, bitrate: N/A\n",
      "  Stream #0:0: Video: png, rgba(pc), 500x500 [SAR 3937:3937 DAR 1:1], 16 fps, 16 tbr, 16 tbn\n",
      "Stream mapping:\n",
      "  Stream #0:0 -> #0:0 (png (native) -> h264 (libx264))\n",
      "Press [q] to stop, [?] for help\n",
      "[libx264 @ 0x12ce2b4d0] using SAR=1/1\n",
      "[libx264 @ 0x12ce2b4d0] using cpu capabilities: ARMv8 NEON\n",
      "[libx264 @ 0x12ce2b4d0] profile High, level 2.2, 4:2:0, 8-bit\n",
      "[libx264 @ 0x12ce2b4d0] 264 - core 164 r3095 baee400 - H.264/MPEG-4 AVC codec - Copyleft 2003-2022 - http://www.videolan.org/x264.html - options: cabac=1 ref=3 deblock=1:0:0 analyse=0x3:0x113 me=hex subme=7 psy=1 psy_rd=1.00:0.00 mixed_ref=1 me_range=16 chroma_me=1 trellis=1 8x8dct=1 cqm=0 deadzone=21,11 fast_pskip=1 chroma_qp_offset=-2 threads=12 lookahead_threads=2 sliced_threads=0 nr=0 decimate=1 interlaced=0 bluray_compat=0 constrained_intra=0 bframes=3 b_pyramid=2 b_adapt=1 b_bias=0 direct=1 weightb=1 open_gop=0 weightp=2 keyint=250 keyint_min=16 scenecut=40 intra_refresh=0 rc_lookahead=40 rc=crf mbtree=1 crf=25.0 qcomp=0.60 qpmin=0 qpmax=69 qpstep=4 ip_ratio=1.40 aq=1:1.00\n",
      "Output #0, mp4, to 'cartpole_initial.mp4':\n",
      "  Metadata:\n",
      "    encoder         : Lavf59.27.100\n",
      "  Stream #0:0: Video: h264 (avc1 / 0x31637661), yuv420p(tv, progressive), 500x500 [SAR 1:1 DAR 1:1], q=2-31, 16 fps, 16384 tbn\n",
      "    Metadata:\n",
      "      encoder         : Lavc59.37.100 libx264\n",
      "    Side data:\n",
      "      cpb: bitrate max/min/avg: 0/0/0 buffer size: 0 vbv_delay: N/A\n",
      "frame=    1 fps=0.0 q=0.0 size=       0kB time=00:00:00.00 bitrate=N/A speed=   0x    \r"
     ]
    },
    {
     "name": "stdout",
     "output_type": "stream",
     "text": [
      "Saving video to: cartpole_initial.mp4\n"
     ]
    },
    {
     "name": "stderr",
     "output_type": "stream",
     "text": [
      "frame=  100 fps=0.0 q=-1.0 Lsize=      18kB time=00:00:06.06 bitrate=  25.0kbits/s speed=31.3x    \n",
      "video:16kB audio:0kB subtitle:0kB other streams:0kB global headers:0kB muxing overhead: 11.966369%\n",
      "[libx264 @ 0x12ce2b4d0] frame I:1     Avg QP:22.38  size:   347\n",
      "[libx264 @ 0x12ce2b4d0] frame P:39    Avg QP:25.99  size:   193\n",
      "[libx264 @ 0x12ce2b4d0] frame B:60    Avg QP:30.92  size:   138\n",
      "[libx264 @ 0x12ce2b4d0] consecutive B-frames: 10.0% 26.0% 12.0% 52.0%\n",
      "[libx264 @ 0x12ce2b4d0] mb I  I16..4: 16.6% 81.9%  1.5%\n",
      "[libx264 @ 0x12ce2b4d0] mb P  I16..4:  0.0%  0.7%  0.6%  P16..4:  0.2%  0.1%  0.0%  0.0%  0.0%    skip:98.4%\n",
      "[libx264 @ 0x12ce2b4d0] mb B  I16..4:  0.0%  0.0%  0.2%  B16..8:  1.1%  0.2%  0.0%  direct: 0.0%  skip:98.4%  L0:53.2% L1:36.0% BI:10.7%\n",
      "[libx264 @ 0x12ce2b4d0] 8x8 transform intra:65.6% inter:15.9%\n",
      "[libx264 @ 0x12ce2b4d0] coded y,uvDC,uvAC intra: 13.4% 0.0% 0.0% inter: 0.1% 0.0% 0.0%\n",
      "[libx264 @ 0x12ce2b4d0] i16 v,h,dc,p: 54% 45%  1%  0%\n",
      "[libx264 @ 0x12ce2b4d0] i8 v,h,dc,ddl,ddr,vr,hd,vl,hu: 36%  6% 58%  1%  0%  0%  0%  0%  0%\n",
      "[libx264 @ 0x12ce2b4d0] i4 v,h,dc,ddl,ddr,vr,hd,vl,hu: 19% 15% 42%  4%  4%  4%  4%  4%  4%\n",
      "[libx264 @ 0x12ce2b4d0] i8c dc,h,v,p: 100%  0%  0%  0%\n",
      "[libx264 @ 0x12ce2b4d0] Weighted P-Frames: Y:0.0% UV:0.0%\n",
      "[libx264 @ 0x12ce2b4d0] ref P L0: 74.8%  6.4% 15.0%  3.9%\n",
      "[libx264 @ 0x12ce2b4d0] ref B L0: 75.5% 20.4%  4.1%\n",
      "[libx264 @ 0x12ce2b4d0] ref B L1: 98.6%  1.4%\n",
      "[libx264 @ 0x12ce2b4d0] kb/s:20.73\n"
     ]
    },
    {
     "data": {
      "text/html": [
       "<video alt=\"test\" controls>\n",
       "                <source src=\"data:video/mp4;base64,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\" type=\"video/mp4\" />\n",
       "             </video>"
      ],
      "text/plain": [
       "<IPython.core.display.HTML object>"
      ]
     },
     "execution_count": 217,
     "metadata": {},
     "output_type": "execute_result"
    }
   ],
   "source": [
    "vid_fname = 'cartpole_initial.mp4'\n",
    "if os.path.exists(vid_fname):\n",
    "    os.remove(vid_fname)\n",
    "cmd = 'ffmpeg -r 16 -f image2 -i {}/%03d.png -vcodec libx264 -crf 25 -vf \"pad=ceil(iw/2)*2:ceil(ih/2)*2\" -pix_fmt yuv420p {}'.format(\n",
    "    t_dir, vid_fname\n",
    ")\n",
    "os.system(cmd)\n",
    "# print('Saving video to: {}'.format(vid_fname))\n",
    "\n",
    "video = io.open(vid_fname, 'r+b').read()\n",
    "encoded = base64.b64encode(video)\n",
    "HTML(data='''<video alt=\"test\" controls>\n",
    "                <source src=\"data:video/mp4;base64,{0}\" type=\"video/mp4\" />\n",
    "             </video>'''.format(encoded.decode('ascii')))"
   ]
  }
 ],
 "metadata": {
  "kernelspec": {
   "display_name": "base",
   "language": "python",
   "name": "python3"
  },
  "language_info": {
   "codemirror_mode": {
    "name": "ipython",
    "version": 3
   },
   "file_extension": ".py",
   "mimetype": "text/x-python",
   "name": "python",
   "nbconvert_exporter": "python",
   "pygments_lexer": "ipython3",
   "version": "3.10.9"
  },
  "orig_nbformat": 4
 },
 "nbformat": 4,
 "nbformat_minor": 2
}
