{
 "cells": [
  {
   "cell_type": "code",
   "execution_count": 46,
   "metadata": {},
   "outputs": [
    {
     "name": "stdout",
     "output_type": "stream",
     "text": [
      "The autoreload extension is already loaded. To reload it, use:\n",
      "  %reload_ext autoreload\n"
     ]
    }
   ],
   "source": [
    "%load_ext autoreload\n",
    "# %reload_ext autoreload\n",
    "%autoreload 2\n",
    "\n",
    "import numpy as np\n",
    "import matplotlib.pyplot as plt\n",
    "from IPython import display\n",
    "import os\n",
    "import io\n",
    "import base64\n",
    "import tempfile\n",
    "from IPython.display import HTML\n",
    "from numpy import loadtxt\n",
    "\n",
    "from controller_utils import CartpoleDx, sample_initial_signal, Clamp, episode_loss\n",
    "from tqdm import tqdm\n",
    "import torch\n",
    "import torch.optim as optim\n",
    "import torch.optim.lr_scheduler as lr_scheduler\n",
    "\n",
    "from mpc import mpc\n",
    "from mpc.mpc import GradMethods, QuadCost\n",
    "import mpc.util as eutil\n",
    "from controllers import DDeePC\n",
    "\n",
    "%matplotlib inline\n"
   ]
  },
  {
   "cell_type": "code",
   "execution_count": 47,
   "metadata": {},
   "outputs": [],
   "source": [
    "class WeightClipper(object):\n",
    "\n",
    "    def __init__(self, frequency=1):\n",
    "        self.frequency = frequency\n",
    "\n",
    "    def __call__(self, module):\n",
    "        # filter the variables to get the ones you want\n",
    "        # if hasattr(module, 'weight'):\n",
    "        for param in module.parameters():\n",
    "            w = param.data\n",
    "            w = w.clamp(10e-3,10e4)\n",
    "            param.data = w\n",
    "clipper = WeightClipper()"
   ]
  },
  {
   "attachments": {},
   "cell_type": "markdown",
   "metadata": {},
   "source": [
    "## Data Collection\n"
   ]
  },
  {
   "cell_type": "code",
   "execution_count": 48,
   "metadata": {},
   "outputs": [
    {
     "name": "stdout",
     "output_type": "stream",
     "text": [
      "cpu\n"
     ]
    }
   ],
   "source": [
    "Tini = 4\n",
    "m = 1\n",
    "p = 4\n",
    "Tf = 20\n",
    "T = (m+1)*(Tini + Tf + p) + 14\n",
    "n_batch = 1\n",
    "device = 'cuda' if torch.cuda.is_available() else 'mps'\n",
    "device = 'cpu'\n",
    "print(device)\n",
    "ud = loadtxt('../badcartpole_ud.csv', delimiter=',')\n",
    "yd = loadtxt('../badcartpole_yd.csv', delimiter=',')\n",
    "yd = yd.reshape(T*p,)\n",
    "noise = np.diag(np.kron(np.ones(T), np.array([0.01, 0.01, 0.005, 0.01]))) @ np.random.randn(*yd.shape)\n",
    "yd = yd + noise\n",
    "dx = CartpoleDx().to(device)\n",
    "def uniform(shape, low, high):\n",
    "    r = high-low\n",
    "    return torch.rand(shape)*r+low"
   ]
  },
  {
   "cell_type": "code",
   "execution_count": 49,
   "metadata": {},
   "outputs": [],
   "source": [
    "u_constraints = np.ones(Tf)*dx.upper\n",
    "y_constraints = np.kron(np.ones(Tf), np.array([0.25, 0.5, 0.1, 0.5]))\n",
    "r = torch.ones(m)*0.01\n",
    "q = torch.ones(p)*100\n",
    "lam_g1 = torch.Tensor([513.409]).to(device)\n",
    "lam_g2 = torch.Tensor([0.315]).to(device)\n",
    "lam_y = torch.Tensor([541.258]).to(device)\n",
    "\n",
    "controller = DDeePC(\n",
    "    ud=ud, yd=yd, u_constraints=u_constraints, y_constraints=y_constraints,\n",
    "    Tini=Tini, T=T, N=Tf, m=m, p=p, n_batch=n_batch, device=device,\n",
    "    linear=False, stochastic=True, q=q, r=r, lam_g1=lam_g1, lam_g2=lam_g2, lam_y=lam_y\n",
    ").to(device)"
   ]
  },
  {
   "cell_type": "code",
   "execution_count": 50,
   "metadata": {},
   "outputs": [],
   "source": [
    "for param in controller.parameters():\n",
    "    print(param)"
   ]
  },
  {
   "cell_type": "code",
   "execution_count": 51,
   "metadata": {},
   "outputs": [
    {
     "name": "stderr",
     "output_type": "stream",
     "text": [
      "100%|██████████| 1/1 [00:09<00:00,  9.07s/it]\n"
     ]
    }
   ],
   "source": [
    "episodes = 100\n",
    "ref = torch.zeros(size=(n_batch,p))\n",
    "perfect = torch.kron(torch.ones(episodes+Tini), ref).to(device)\n",
    "ref = torch.kron(torch.ones(Tf), ref).to(device)\n",
    "n_row = np.sqrt(n_batch).astype(np.uint8)\n",
    "n_col = n_row\n",
    "# opt = torch.optim.Rprop(controller.parameters(), lr=0.01, step_sizes=(1e-3,100))\n",
    "\n",
    "epochs = 1\n",
    "pbar = tqdm(range(epochs))\n",
    "cum_loss = []\n",
    "done = False\n",
    "I, PI = controller.get_PI()\n",
    "PI = torch.Tensor(I-PI).to(device)\n",
    "\n",
    "for j in pbar:\n",
    "\n",
    "    uini = torch.zeros(size=(n_batch, Tini*m)).to(device)\n",
    "    zero = torch.zeros(n_batch)\n",
    "    th = uniform((n_batch), -0.01, 0.01)\n",
    "    yini = torch.stack((zero, zero, th, zero), dim=1).repeat(1,Tini).to(device)\n",
    "    traj = yini\n",
    "    G, E, Y, U = torch.Tensor().to(device), torch.Tensor().to(device), torch.Tensor().to(device), torch.Tensor().to(device)\n",
    "    t_dir = tempfile.mkdtemp()\n",
    "    for i in range(episodes):\n",
    "        \n",
    "        noise = torch.diag(torch.kron(torch.ones(Tini), torch.Tensor([0.01, 0.01, 0.005, 0.01])))@torch.randn(p*Tini,)\n",
    "        noise = noise.repeat(n_batch, 1).to(device)\n",
    "\n",
    "        g, u_pred, y_pred, sig_y = controller(ref=ref, y_ini=yini+noise, u_ini=uini)\n",
    "        G, E = torch.cat((G, g.unsqueeze(1)), axis=1), torch.cat((E, sig_y.unsqueeze(1)), axis=1) \n",
    "        input = u_pred[:,:m]\n",
    "        U = torch.cat((U, input.unsqueeze(1)), axis=1)\n",
    "        y = dx(yini[:,-p:], input)\n",
    "        Y = torch.cat((Y, y.unsqueeze(1)), axis=1)\n",
    "        yini = torch.cat((yini[:, p:], y), axis=1)\n",
    "        fig, axs = plt.subplots(n_row, n_col, figsize=(3*n_col,3*n_row), gridspec_kw = {'wspace':0, 'hspace':0})\n",
    "        # axs = axs.reshape(-1)\n",
    "        for i in range(n_batch):\n",
    "            dx.get_frame(y[i], ax=axs)\n",
    "            axs.get_xaxis().set_visible(True)\n",
    "            axs.get_yaxis().set_visible(True)\n",
    "        fig.tight_layout()\n",
    "        fig.savefig(os.path.join(t_dir, 'frame_{:03d}.png'.format(i)))\n",
    "        plt.close(fig)\n",
    "#     loss = episode_loss(G=G, U=U, Y=Y, E=E, controller=controller, PI=PI)\n",
    "#     cum_loss.append(loss.item())\n",
    "#     opt.zero_grad()\n",
    "#     loss.backward()\n",
    "#     opt.step()\n",
    "#     controller.apply(clipper)\n",
    "#     pbar.set_description(f'l={loss.item():.3f}, ly={controller.lam_y.data.item():.3f},\\\n",
    "#  lg1={controller.lam_g1.data.item():.3f}, lg2={controller.lam_g2.data.item():.3f}, q = {controller.q.data}, r = {controller.r.data}')"
   ]
  },
  {
   "cell_type": "code",
   "execution_count": 52,
   "metadata": {},
   "outputs": [
    {
     "data": {
      "image/png": "[encoded data removed]",
      "text/plain": [
       "<Figure size 1500x500 with 2 Axes>"
      ]
     },
     "metadata": {},
     "output_type": "display_data"
    }
   ],
   "source": [
    "plt.rcParams[\"figure.figsize\"] = (15,5)\n",
    "plt.subplot(1,2,1)\n",
    "plt.title('Evolution of loss | Params initialised to (200, 50, 50)')\n",
    "plt.plot(range(len(cum_loss)), cum_loss, label=f'lam_y : {controller.lam_y.data.item():.2f}\\nlam_g1 : {controller.lam_g1.data.item():.2f}\\nlam_g2 : {controller.lam_g2.data.item():.2f}')\n",
    "plt.ylabel(\"Loss\")\n",
    "plt.xlabel(\"epoch\")\n",
    "plt.grid('on')\n",
    "plt.legend()\n",
    "plt.subplot(1,2,2)\n",
    "plt.title('Evolution of loss magnified from epoch 47 - 200')\n",
    "plt.plot(range(len(cum_loss[37:])), cum_loss[37:])\n",
    "plt.ylabel(\"Loss\")\n",
    "plt.xlabel(\"epoch\")\n",
    "plt.grid('on')\n",
    "plt.show()"
   ]
  },
  {
   "cell_type": "code",
   "execution_count": 53,
   "metadata": {},
   "outputs": [],
   "source": [
    "for param in controller.parameters():\n",
    "    print(param)"
   ]
  },
  {
   "cell_type": "code",
   "execution_count": 56,
   "metadata": {},
   "outputs": [
    {
     "name": "stderr",
     "output_type": "stream",
     "text": [
      "ffmpeg version 4.3 Copyright (c) 2000-2020 the FFmpeg developers\n",
      "  built with gcc 7.3.0 (crosstool-NG 1.23.0.449-a04d0)\n",
      "  configuration: --prefix=/opt/conda/conda-bld/ffmpeg_1597178665428/_h_env_placehold_placehold_placehold_placehold_placehold_placehold_placehold_placehold_placehold_placehold_placehold_placehold_placehold_placehold_placehold_placehold_placehold_placehold_placehold_placehold_placeh --cc=/opt/conda/conda-bld/ffmpeg_1597178665428/_build_env/bin/x86_64-conda_cos6-linux-gnu-cc --disable-doc --disable-openssl --enable-avresample --enable-gnutls --enable-hardcoded-tables --enable-libfreetype --enable-libopenh264 --enable-pic --enable-pthreads --enable-shared --disable-static --enable-version3 --enable-zlib --enable-libmp3lame\n",
      "  libavutil      56. 51.100 / 56. 51.100\n",
      "  libavcodec     58. 91.100 / 58. 91.100\n",
      "  libavformat    58. 45.100 / 58. 45.100\n",
      "  libavdevice    58. 10.100 / 58. 10.100\n",
      "  libavfilter     7. 85.100 /  7. 85.100\n",
      "  libavresample   4.  0.  0 /  4.  0.  0\n",
      "  libswscale      5.  7.100 /  5.  7.100\n",
      "  libswresample   3.  7.100 /  3.  7.100\n",
      "Unrecognized option 'crf'.\n",
      "Error splitting the argument list: Option not found\n"
     ]
    },
    {
     "ename": "FileNotFoundError",
     "evalue": "[Errno 2] No such file or directory: 'cartpole.mp4'",
     "output_type": "error",
     "traceback": [
      "\u001b[0;31m---------------------------------------------------------------------------\u001b[0m",
      "\u001b[0;31mFileNotFoundError\u001b[0m                         Traceback (most recent call last)",
      "Cell \u001b[0;32mIn[56], line 10\u001b[0m\n\u001b[1;32m      7\u001b[0m os\u001b[39m.\u001b[39msystem(cmd)\n\u001b[1;32m      8\u001b[0m \u001b[39m# print('Saving video to: {}'.format(vid_fname))\u001b[39;00m\n\u001b[0;32m---> 10\u001b[0m video \u001b[39m=\u001b[39m io\u001b[39m.\u001b[39;49mopen(vid_fname, \u001b[39m'\u001b[39;49m\u001b[39mr+b\u001b[39;49m\u001b[39m'\u001b[39;49m)\u001b[39m.\u001b[39mread()\n\u001b[1;32m     11\u001b[0m encoded \u001b[39m=\u001b[39m base64\u001b[39m.\u001b[39mb64encode(video)\n\u001b[1;32m     12\u001b[0m HTML(data\u001b[39m=\u001b[39m\u001b[39m'''\u001b[39m\u001b[39m<video alt=\u001b[39m\u001b[39m\"\u001b[39m\u001b[39mtest\u001b[39m\u001b[39m\"\u001b[39m\u001b[39m controls>\u001b[39m\n\u001b[1;32m     13\u001b[0m \u001b[39m                <source src=\u001b[39m\u001b[39m\"\u001b[39m\u001b[39mdata:video/mp4;base64,\u001b[39m\u001b[39m{0}\u001b[39;00m\u001b[39m\"\u001b[39m\u001b[39m type=\u001b[39m\u001b[39m\"\u001b[39m\u001b[39mvideo/mp4\u001b[39m\u001b[39m\"\u001b[39m\u001b[39m />\u001b[39m\n\u001b[1;32m     14\u001b[0m \u001b[39m             </video>\u001b[39m\u001b[39m'''\u001b[39m\u001b[39m.\u001b[39mformat(encoded\u001b[39m.\u001b[39mdecode(\u001b[39m'\u001b[39m\u001b[39mascii\u001b[39m\u001b[39m'\u001b[39m)))\n",
      "\u001b[0;31mFileNotFoundError\u001b[0m: [Errno 2] No such file or directory: 'cartpole.mp4'"
     ]
    }
   ],
   "source": [
    "vid_fname = 'cartpole.mp4'\n",
    "if os.path.exists(vid_fname):\n",
    "    os.remove(vid_fname)\n",
    "cmd = 'ffmpeg -r 16 -f image2 -i {}/%03d.png -vcodec libx264 -crf 25 -vf \"pad=ceil(iw/2)*2:ceil(ih/2)*2\" -pix_fmt yuv420p {}'.format(\n",
    "    t_dir, vid_fname\n",
    ")\n",
    "os.system(cmd)\n",
    "# print('Saving video to: {}'.format(vid_fname))\n",
    "\n",
    "video = io.open(vid_fname, 'r+b').read()\n",
    "encoded = base64.b64encode(video)\n",
    "HTML(data='''<video alt=\"test\" controls>\n",
    "                <source src=\"data:video/mp4;base64,{0}\" type=\"video/mp4\" />\n",
    "             </video>'''.format(encoded.decode('ascii')))"
   ]
  }
 ],
 "metadata": {
  "kernelspec": {
   "display_name": "base",
   "language": "python",
   "name": "python3"
  },
  "language_info": {
   "codemirror_mode": {
    "name": "ipython",
    "version": 3
   },
   "file_extension": ".py",
   "mimetype": "text/x-python",
   "name": "python",
   "nbconvert_exporter": "python",
   "pygments_lexer": "ipython3",
   "version": "3.9.16"
  },
  "orig_nbformat": 4
 },
 "nbformat": 4,
 "nbformat_minor": 2
}
