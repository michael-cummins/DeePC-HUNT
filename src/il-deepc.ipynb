{
 "cells": [
  {
   "cell_type": "code",
   "execution_count": 257,
   "metadata": {},
   "outputs": [
    {
     "name": "stdout",
     "output_type": "stream",
     "text": [
      "The autoreload extension is already loaded. To reload it, use:\n",
      "  %reload_ext autoreload\n"
     ]
    }
   ],
   "source": [
    "%load_ext autoreload\n",
    "%autoreload 2\n",
    "\n",
    "import cvxpy as cp\n",
    "import numpy as np\n",
    "\n",
    "import torch\n",
    "from torch.nn.parameter import Parameter\n",
    "import torch.optim as optim\n",
    "\n",
    "import matplotlib.pyplot as plt\n",
    "from tqdm import tqdm\n",
    "from numpy import genfromtxt\n",
    "\n",
    "%matplotlib inline\n",
    "\n",
    "from controllers import DeePC, DDeePC\n",
    "plt.rcParams[\"figure.figsize\"] = (15,5)\n"
   ]
  },
  {
   "cell_type": "code",
   "execution_count": 258,
   "metadata": {},
   "outputs": [],
   "source": [
    "ud = genfromtxt('recht_ud.csv', delimiter=',')\n",
    "yd = genfromtxt('recht_yd.csv', delimiter=',')"
   ]
  },
  {
   "cell_type": "code",
   "execution_count": 259,
   "metadata": {},
   "outputs": [],
   "source": [
    "A = np.array([[1.01, 0.01, 0.00], # A - State-space matrix\n",
    "              [0.01, 1.01, 0.01], \n",
    "              [0.00, 0.01, 1.01]]) \n",
    "B = np.eye(3) # B - State-space matrix\n",
    "C = np.eye(3) # C - State-space matrix\n",
    "D = np.zeros([3,3]) # D - State-space matrix\n",
    "n = A.shape[0] # n = number of states\n",
    "m = B.shape[1] # m = number of inputs\n",
    "p = C.shape[0] # p = number of output\n",
    "q = m+p # q = number of i/o variables\n",
    "\n",
    "Tini = 4                                   # Past time horizon                                           \n",
    "Tf = 10                                     # Future time horizon         \n",
    "T = (m+1)*(Tini + Tf + n) - 1    \n",
    "noise_std = 0.1                       "
   ]
  },
  {
   "cell_type": "code",
   "execution_count": 260,
   "metadata": {},
   "outputs": [],
   "source": [
    "# yd += np.random.rand(T,p)*noise_std\n",
    "u_ini = ud[:Tini,:].reshape((Tini*m,))\n",
    "y_ini = yd[:Tini,:].reshape((Tini*p,))\n",
    "y_constraints = np.kron(np.ones(Tf), np.array([10,10,10]))\n",
    "u_constraonts = np.kron(np.ones(Tf), np.array([2,2,2]))"
   ]
  },
  {
   "cell_type": "code",
   "execution_count": 261,
   "metadata": {},
   "outputs": [],
   "source": [
    "q = torch.ones(3)*1.8\n",
    "r = torch.ones(3)*0.018\n",
    "lam_y = torch.Tensor([0.125])\n",
    "\n",
    "expert = DDeePC(\n",
    "    ud=ud, yd=yd, N=Tf, Tini=Tini, T=T, p=3, m=3,\n",
    "    y_constraints=y_constraints, u_constraints=u_constraonts,\n",
    "    stochastic=True, linear=True, q=q, r=r, lam_y=lam_y\n",
    ")\n",
    "\n",
    "learner = DDeePC(\n",
    "    ud=ud, yd=yd, N=Tf, Tini=Tini, T=T, p=3, m=3,\n",
    "    y_constraints=y_constraints, u_constraints=u_constraonts,\n",
    "    stochastic=True, linear=True\n",
    ")"
   ]
  },
  {
   "cell_type": "code",
   "execution_count": 262,
   "metadata": {},
   "outputs": [
    {
     "name": "stdout",
     "output_type": "stream",
     "text": [
      "Parameter containing:\n",
      "tensor([0.9844, 1.0980, 1.1239], requires_grad=True)\n",
      "Parameter containing:\n",
      "tensor([1.0305, 1.2779, 1.1560], requires_grad=True)\n",
      "Parameter containing:\n",
      "tensor([1.0418], requires_grad=True)\n"
     ]
    }
   ],
   "source": [
    "for param in learner.parameters():\n",
    "    print(param)"
   ]
  },
  {
   "cell_type": "code",
   "execution_count": 263,
   "metadata": {},
   "outputs": [
    {
     "name": "stderr",
     "output_type": "stream",
     "text": [
      "Loss = 0.0000001235: 100%|████████████████████████████████████████████████████████████| 300/300 [00:17<00:00, 17.23it/s]\n"
     ]
    }
   ],
   "source": [
    "optim = torch.optim.RMSprop(learner.parameters(), lr=1e-2)\n",
    "pbar = tqdm(range(500), ncols=120)\n",
    "criterion = torch.nn.MSELoss()\n",
    "\n",
    "for i in pbar:\n",
    "    ref = torch.Tensor(np.random.uniform(size=(3,), low=-2.0, high=2.0))\n",
    "    ref = torch.kron(torch.ones(Tf), ref)\n",
    "    # ref = ref.repeat(24, 1, 1)\n",
    "    # ref += torch.Tensor(np.random.randn(Tf*p,)*noise_std)\n",
    "\n",
    "    u_pred, _ = learner(ref=ref, u_ini=torch.Tensor(u_ini), y_ini=torch.Tensor(y_ini))\n",
    "    u, _ = expert(ref=ref, u_ini=torch.Tensor(u_ini), y_ini=torch.Tensor(y_ini))\n",
    "\n",
    "    loss = criterion(input=u_pred, target=u)\n",
    "    optim.zero_grad()\n",
    "    loss.backward()\n",
    "    optim.step()\n",
    "    \n",
    "    pbar.set_description(f'Loss = {loss.item():.10f}')"
   ]
  },
  {
   "cell_type": "code",
   "execution_count": 264,
   "metadata": {},
   "outputs": [
    {
     "name": "stdout",
     "output_type": "stream",
     "text": [
      "Parameter containing:\n",
      "tensor([1.9765, 1.8386, 1.9103], requires_grad=True)\n",
      "Parameter containing:\n",
      "tensor([0.0196, 0.0184, 0.0192], requires_grad=True)\n",
      "Parameter containing:\n",
      "tensor([0.1359], requires_grad=True)\n"
     ]
    }
   ],
   "source": [
    "for param in learner.parameters():\n",
    "    print(param)"
   ]
  }
 ],
 "metadata": {
  "kernelspec": {
   "display_name": "base",
   "language": "python",
   "name": "python3"
  },
  "language_info": {
   "codemirror_mode": {
    "name": "ipython",
    "version": 3
   },
   "file_extension": ".py",
   "mimetype": "text/x-python",
   "name": "python",
   "nbconvert_exporter": "python",
   "pygments_lexer": "ipython3",
   "version": "3.10.9"
  },
  "orig_nbformat": 4,
  "vscode": {
   "interpreter": {
    "hash": "c6e4e9f98eb68ad3b7c296f83d20e6de614cb42e90992a65aa266555a3137d0d"
   }
  }
 },
 "nbformat": 4,
 "nbformat_minor": 2
}
