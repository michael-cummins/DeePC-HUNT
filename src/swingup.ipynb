{
 "cells": [
  {
   "attachments": {},
   "cell_type": "markdown",
   "metadata": {},
   "source": [
    "## Target ref = (1,0,0)"
   ]
  },
  {
   "cell_type": "code",
   "execution_count": 1,
   "metadata": {},
   "outputs": [],
   "source": [
    "%load_ext autoreload\n",
    "%autoreload 2\n",
    "\n",
    "import torch\n",
    "import torch.optim as optim\n",
    "import numpy as np\n",
    "import matplotlib.pyplot as plt\n",
    "from IPython import display\n",
    "from controllers import DHDeePC as DDeePC\n",
    "from tqdm import tqdm\n",
    "\n",
    "import os\n",
    "import io\n",
    "import base64\n",
    "import tempfile\n",
    "from IPython.display import HTML\n",
    "\n",
    "from mpc import mpc\n",
    "from mpc.mpc import GradMethods, QuadCost\n",
    "import mpc.util as eutil\n",
    "from mpc.env_dx import pendulum, cartpole\n",
    "\n",
    "%matplotlib inline\n",
    "%reload_ext autoreload"
   ]
  },
  {
   "attachments": {},
   "cell_type": "markdown",
   "metadata": {},
   "source": [
    "# Data collection"
   ]
  },
  {
   "cell_type": "code",
   "execution_count": 2,
   "metadata": {},
   "outputs": [
    {
     "name": "stdout",
     "output_type": "stream",
     "text": [
      "Tmp dir: /var/folders/bv/3kttr09s6dsg653szk2tbhlh0000gn/T/tmp3ixihd9i\n"
     ]
    }
   ],
   "source": [
    "params = torch.tensor((10., 1., 1.))\n",
    "dx = pendulum.PendulumDx(params, simple=True).to(device='mps')\n",
    "th = torch.tensor([np.pi])\n",
    "thdot = torch.tensor([0])\n",
    "xinit = torch.stack((torch.cos(th), torch.sin(th), thdot), dim=1)\n",
    "x = xinit\n",
    "u_init = None\n",
    "\n",
    "ud = []\n",
    "yd = []\n",
    "T = 100\n",
    "\n",
    "t_dir = tempfile.mkdtemp()\n",
    "print('Tmp dir: {}'.format(t_dir))\n",
    "\n",
    "for i in range(T):\n",
    "    u = torch.randn((1,))*0.1\n",
    "    x = dx(x,u.unsqueeze(0))\n",
    "    ud = np.append(ud, u)\n",
    "    yd = np.append(yd, x)\n",
    "\n",
    "    fig, axs = plt.subplots(1, 1, figsize=(5,5))\n",
    "    # axs = axs.reshape(-1)\n",
    "    dx.get_frame(x, ax=axs)\n",
    "    axs.get_xaxis().set_visible(False)\n",
    "    axs.get_yaxis().set_visible(False)\n",
    "    fig.tight_layout()\n",
    "    fig.savefig(os.path.join(t_dir, '{:03d}.png'.format(i)))\n",
    "    plt.close(fig)"
   ]
  },
  {
   "cell_type": "code",
   "execution_count": 3,
   "metadata": {},
   "outputs": [
    {
     "name": "stderr",
     "output_type": "stream",
     "text": [
      "ffmpeg version 5.1.2 Copyright (c) 2000-2022 the FFmpeg developers\n",
      "  built with clang version 14.0.6\n",
      "  configuration: --prefix=/Users/runner/miniforge3/conda-bld/ffmpeg_1674566267822/_h_env_placehold_placehold_placehold_placehold_placehold_placehold_placehold_placehold_placehold_placehold_placehold_placehold_placehold_placehold_placehold_placehold_placehold_placehold_placehold_pl --cc=arm64-apple-darwin20.0.0-clang --cxx=arm64-apple-darwin20.0.0-clang++ --nm=arm64-apple-darwin20.0.0-nm --ar=arm64-apple-darwin20.0.0-ar --disable-doc --disable-openssl --enable-demuxer=dash --enable-hardcoded-tables --enable-libfreetype --enable-libfontconfig --enable-libopenh264 --enable-cross-compile --arch=arm64 --target-os=darwin --cross-prefix=arm64-apple-darwin20.0.0- --host-cc=/Users/runner/miniforge3/conda-bld/ffmpeg_1674566267822/_build_env/bin/x86_64-apple-darwin13.4.0-clang --enable-neon --enable-gnutls --enable-libmp3lame --enable-libvpx --enable-pthreads --enable-gpl --enable-libx264 --enable-libx265 --enable-libaom --enable-libsvtav1 --enable-libxml2 --enable-pic --enable-shared --disable-static --enable-version3 --enable-zlib --enable-libopus --pkg-config=/Users/runner/miniforge3/conda-bld/ffmpeg_1674566267822/_build_env/bin/pkg-config\n",
      "  libavutil      57. 28.100 / 57. 28.100\n",
      "  libavcodec     59. 37.100 / 59. 37.100\n",
      "  libavformat    59. 27.100 / 59. 27.100\n",
      "  libavdevice    59.  7.100 / 59.  7.100\n",
      "  libavfilter     8. 44.100 /  8. 44.100\n",
      "  libswscale      6.  7.100 /  6.  7.100\n",
      "  libswresample   4.  7.100 /  4.  7.100\n",
      "  libpostproc    56.  6.100 / 56.  6.100\n",
      "Input #0, image2, from '/var/folders/bv/3kttr09s6dsg653szk2tbhlh0000gn/T/tmp3ixihd9i/%03d.png':\n",
      "  Duration: 00:00:06.25, start: 0.000000, bitrate: N/A\n",
      "  Stream #0:0: Video: png, rgba(pc), 500x500 [SAR 3937:3937 DAR 1:1], 16 fps, 16 tbr, 16 tbn\n",
      "Stream mapping:\n",
      "  Stream #0:0 -> #0:0 (png (native) -> h264 (libx264))\n",
      "Press [q] to stop, [?] for help\n",
      "[libx264 @ 0x127e36600] using SAR=1/1\n",
      "[libx264 @ 0x127e36600] using cpu capabilities: ARMv8 NEON\n",
      "[libx264 @ 0x127e36600] profile High, level 2.2, 4:2:0, 8-bit\n",
      "[libx264 @ 0x127e36600] 264 - core 164 r3095 baee400 - H.264/MPEG-4 AVC codec - Copyleft 2003-2022 - http://www.videolan.org/x264.html - options: cabac=1 ref=3 deblock=1:0:0 analyse=0x3:0x113 me=hex subme=7 psy=1 psy_rd=1.00:0.00 mixed_ref=1 me_range=16 chroma_me=1 trellis=1 8x8dct=1 cqm=0 deadzone=21,11 fast_pskip=1 chroma_qp_offset=-2 threads=12 lookahead_threads=2 sliced_threads=0 nr=0 decimate=1 interlaced=0 bluray_compat=0 constrained_intra=0 bframes=3 b_pyramid=2 b_adapt=1 b_bias=0 direct=1 weightb=1 open_gop=0 weightp=2 keyint=250 keyint_min=16 scenecut=40 intra_refresh=0 rc_lookahead=40 rc=crf mbtree=1 crf=25.0 qcomp=0.60 qpmin=0 qpmax=69 qpstep=4 ip_ratio=1.40 aq=1:1.00\n",
      "Output #0, mp4, to 'pendulum-collection.mp4':\n",
      "  Metadata:\n",
      "    encoder         : Lavf59.27.100\n",
      "  Stream #0:0: Video: h264 (avc1 / 0x31637661), yuv420p(tv, progressive), 500x500 [SAR 1:1 DAR 1:1], q=2-31, 16 fps, 16384 tbn\n",
      "    Metadata:\n",
      "      encoder         : Lavc59.37.100 libx264\n",
      "    Side data:\n",
      "      cpb: bitrate max/min/avg: 0/0/0 buffer size: 0 vbv_delay: N/A\n",
      "frame=    1 fps=0.0 q=0.0 size=       0kB time=00:00:00.00 bitrate=N/A speed=   0x    \r"
     ]
    },
    {
     "name": "stdout",
     "output_type": "stream",
     "text": [
      "Saving video to: pendulum-collection.mp4\n"
     ]
    },
    {
     "name": "stderr",
     "output_type": "stream",
     "text": [
      "frame=  100 fps=0.0 q=-1.0 Lsize=       8kB time=00:00:06.06 bitrate=  11.4kbits/s speed=28.4x    \n",
      "video:6kB audio:0kB subtitle:0kB other streams:0kB global headers:0kB muxing overhead: 30.942654%\n",
      "[libx264 @ 0x127e36600] frame I:1     Avg QP:11.00  size:   252\n",
      "[libx264 @ 0x127e36600] frame P:32    Avg QP:22.36  size:    93\n",
      "[libx264 @ 0x127e36600] frame B:67    Avg QP:26.46  size:    40\n",
      "[libx264 @ 0x127e36600] consecutive B-frames:  4.0% 16.0% 12.0% 68.0%\n",
      "[libx264 @ 0x127e36600] mb I  I16..4: 95.6%  3.4%  1.0%\n",
      "[libx264 @ 0x127e36600] mb P  I16..4:  0.5%  0.1%  0.2%  P16..4:  0.4%  0.2%  0.1%  0.0%  0.0%    skip:98.6%\n",
      "[libx264 @ 0x127e36600] mb B  I16..4:  0.1%  0.0%  0.0%  B16..8:  0.7%  0.1%  0.0%  direct: 0.0%  skip:99.0%  L0:49.7% L1:47.1% BI: 3.2%\n",
      "[libx264 @ 0x127e36600] 8x8 transform intra:6.0% inter:57.8%\n",
      "[libx264 @ 0x127e36600] coded y,uvDC,uvAC intra: 10.5% 0.0% 0.0% inter: 0.1% 0.0% 0.0%\n",
      "[libx264 @ 0x127e36600] i16 v,h,dc,p: 93%  7%  0%  0%\n",
      "[libx264 @ 0x127e36600] i8 v,h,dc,ddl,ddr,vr,hd,vl,hu: 12% 47% 40%  0%  0%  0%  0%  0%  0%\n",
      "[libx264 @ 0x127e36600] i4 v,h,dc,ddl,ddr,vr,hd,vl,hu: 53%  3% 44%  0%  0%  0%  0%  0%  0%\n",
      "[libx264 @ 0x127e36600] i8c dc,h,v,p: 100%  0%  0%  0%\n",
      "[libx264 @ 0x127e36600] Weighted P-Frames: Y:0.0% UV:0.0%\n",
      "[libx264 @ 0x127e36600] ref P L0: 56.3%  2.4% 28.1% 13.2%\n",
      "[libx264 @ 0x127e36600] ref B L0: 64.7% 29.3%  5.9%\n",
      "[libx264 @ 0x127e36600] ref B L1: 92.3%  7.7%\n",
      "[libx264 @ 0x127e36600] kb/s:7.58\n"
     ]
    },
    {
     "data": {
      "text/html": [
       "<video alt=\"test\" controls>\n",
       "                <source src=\"data:video/mp4;base64,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\" type=\"video/mp4\" />\n",
       "             </video>"
      ],
      "text/plain": [
       "<IPython.core.display.HTML object>"
      ]
     },
     "execution_count": 3,
     "metadata": {},
     "output_type": "execute_result"
    }
   ],
   "source": [
    "vid_fname = 'pendulum-collection.mp4'\n",
    "\n",
    "if os.path.exists(vid_fname):\n",
    "    os.remove(vid_fname)\n",
    "    \n",
    "cmd = 'ffmpeg -r 16 -f image2 -i {}/%03d.png -vcodec libx264 -crf 25  -pix_fmt yuv420p {}'.format(\n",
    "    t_dir, vid_fname\n",
    ")\n",
    "\n",
    "os.system(cmd)\n",
    "print('Saving video to: {}'.format(vid_fname))\n",
    "\n",
    "video = io.open(vid_fname, 'r+b').read()\n",
    "encoded = base64.b64encode(video)\n",
    "HTML(data='''<video alt=\"test\" controls>\n",
    "                <source src=\"data:video/mp4;base64,{0}\" type=\"video/mp4\" />\n",
    "             </video>'''.format(encoded.decode('ascii')))"
   ]
  },
  {
   "cell_type": "code",
   "execution_count": 4,
   "metadata": {},
   "outputs": [],
   "source": [
    "ref = torch.Tensor(\n",
    "    [[-4.3711e-08,  1.0000e+00,  1.0000e+00],\n",
    "        [-1.0232e-01,  9.9475e-01,  2.0500e+00],\n",
    "        [-2.5447e-01,  9.6708e-01,  3.0961e+00],\n",
    "        [-4.4697e-01,  8.9455e-01,  4.1214e+00],\n",
    "        [-6.5787e-01,  7.5313e-01,  5.0923e+00],\n",
    "        [-8.4651e-01,  5.3237e-01,  5.8282e+00],\n",
    "        [-9.6845e-01,  2.4921e-01,  6.1907e+00],\n",
    "        [-9.9787e-01, -6.5240e-02,  6.3430e+00],\n",
    "        [-9.2823e-01, -3.7200e-01,  6.3176e+00],\n",
    "        [-7.7268e-01, -6.3479e-01,  6.1314e+00],\n",
    "        [-5.5847e-01, -8.2953e-01,  5.8105e+00],\n",
    "        [-3.1748e-01, -9.4826e-01,  5.3893e+00],\n",
    "        [-7.7469e-02, -9.9699e-01,  4.9106e+00],\n",
    "        [ 1.4233e-01, -9.8982e-01,  4.4071e+00],\n",
    "        [ 3.3179e-01, -9.4335e-01,  3.9078e+00],\n",
    "        [ 4.8803e-01, -8.7283e-01,  3.4325e+00],\n",
    "        [ 6.1270e-01, -7.9032e-01,  2.9928e+00],\n",
    "        [ 7.0983e-01, -7.0437e-01,  2.5959e+00],\n",
    "        [ 7.8417e-01, -6.2054e-01,  2.2421e+00],\n",
    "        [ 8.4033e-01, -5.4207e-01,  1.9306e+00],\n",
    "        [ 8.8234e-01, -4.7061e-01,  1.6585e+00],\n",
    "        [ 9.1356e-01, -4.0672e-01,  1.4224e+00],\n",
    "        [ 9.3662e-01, -3.5034e-01,  1.2185e+00],\n",
    "        [ 9.4961e-01, -3.1345e-01,  7.8225e-01],\n",
    "        [ 9.6203e-01, -2.7295e-01,  8.4716e-01],\n",
    "        [ 9.7201e-01, -2.3492e-01,  7.8642e-01],\n",
    "        [ 9.7951e-01, -2.0138e-01,  6.8744e-01],\n",
    "        [ 9.8504e-01, -1.7235e-01,  5.9112e-01],\n",
    "        [ 9.8908e-01, -1.4738e-01,  5.0590e-01],\n",
    "        [ 9.9203e-01, -1.2597e-01,  4.3232e-01],\n",
    "        [ 9.9419e-01, -1.0763e-01,  3.6925e-01],\n",
    "        [ 9.9576e-01, -9.1943e-02,  3.1533e-01],\n",
    "        [ 9.9691e-01, -7.8529e-02,  2.6926e-01],\n",
    "        [ 9.9775e-01, -6.7064e-02,  2.2991e-01],\n",
    "        [ 9.9836e-01, -5.7268e-02,  1.9630e-01],\n",
    "        [ 9.9880e-01, -4.8900e-02,  1.6760e-01],\n",
    "        [ 9.9913e-01, -4.1754e-02,  1.4308e-01],\n",
    "        [ 9.9936e-01, -3.5651e-02,  1.2215e-01],\n",
    "        [ 9.9954e-01, -3.0439e-02,  1.0429e-01],\n",
    "        [ 9.9966e-01, -2.5989e-02,  8.9035e-02],\n",
    "        [ 9.9975e-01, -2.2189e-02,  7.6027e-02],\n",
    "        [ 9.9982e-01, -1.8944e-02,  6.4911e-02],\n",
    "        [ 9.9987e-01, -1.6174e-02,  5.5418e-02],\n",
    "        [ 9.9990e-01, -1.3809e-02,  4.7302e-02],\n",
    "        [ 9.9993e-01, -1.1789e-02,  4.0392e-02],\n",
    "        [ 9.9995e-01, -1.0065e-02,  3.4479e-02],\n",
    "        [ 9.9996e-01, -8.5938e-03,  2.9435e-02],\n",
    "        [ 9.9997e-01, -7.3370e-03,  2.5137e-02],\n",
    "        [ 9.9998e-01, -6.2639e-03,  2.1462e-02],\n",
    "        [ 9.9999e-01, -5.3478e-03,  1.8323e-02],\n",
    "        [ 9.9999e-01, -4.5656e-03,  1.5643e-02],\n",
    "        [1.,0.,0.],\n",
    "        [1.,0.,0.],\n",
    "        [1.,0.,0.],\n",
    "        [1.,0.,0.],\n",
    "        [1.,0.,0.],\n",
    "        [1.,0.,0.],\n",
    "        [1.,0.,0.],\n",
    "        [1.,0.,0.],\n",
    "        [1.,0.,0.],\n",
    "        [1.,0.,0.],\n",
    "        [1.,0.,0.],\n",
    "        [1.,0.,0.],\n",
    "        [1.,0.,0.],\n",
    "        [1.,0.,0.],\n",
    "        [1.,0.,0.],\n",
    "        [1.,0.,0.],\n",
    "        [1.,0.,0.],\n",
    "        [1.,0.,0.],\n",
    "        [1.,0.,0.],\n",
    "        [1.,0.,0.],\n",
    "        [1.,0.,0.],\n",
    "        [1.,0.,0.],\n",
    "        [1.,0.,0.],\n",
    "        [1.,0.,0.],\n",
    "        [1.,0.,0.],\n",
    "        [1.,0.,0.],\n",
    "        [1.,0.,0.],\n",
    "        [1.,0.,0.],\n",
    "        [1.,0.,0.],\n",
    "        [1.,0.,0.],\n",
    "        [1.,0.,0.],\n",
    "        [1.,0.,0.],\n",
    "        [1.,0.,0.],\n",
    "        [1.,0.,0.],\n",
    "        [1.,0.,0.],\n",
    "        [1.,0.,0.],\n",
    "        [1.,0.,0.],\n",
    "        [1.,0.,0.],\n",
    "        [1.,0.,0.],\n",
    "        [1.,0.,0.],\n",
    "        [1.,0.,0.],\n",
    "        [1.,0.,0.],\n",
    "        [1.,0.,0.],\n",
    "        [1.,0.,0.],\n",
    "        [1.,0.,0.],\n",
    "        [1.,0.,0.],\n",
    "        [1.,0.,0.],\n",
    "        [1.,0.,0.],\n",
    "        [1.,0.,0.],\n",
    "        [1.,0.,0.],\n",
    "        [1.,0.,0.],\n",
    "        [1.,0.,0.],\n",
    "        [1.,0.,0.],\n",
    "        [1.,0.,0.],\n",
    "        [1.,0.,0.],\n",
    "        [1.,0.,0.],\n",
    "        [1.,0.,0.],\n",
    "        [1.,0.,0.],\n",
    "        [1.,0.,0.],\n",
    "        [1.,0.,0.],\n",
    "        [1.,0.,0.],\n",
    "        [1.,0.,0.],\n",
    "        [1.,0.,0.],\n",
    "        [1.,0.,0.],\n",
    "        [1.,0.,0.],\n",
    "        [1.,0.,0.],\n",
    "        [1.,0.,0.],\n",
    "        [1.,0.,0.],\n",
    "        [1.,0.,0.],\n",
    "        [1.,0.,0.],\n",
    "        [1.,0.,0.],\n",
    "        [1.,0.,0.],\n",
    "        [1.,0.,0.],\n",
    "        [1.,0.,0.],\n",
    "        [1.,0.,0.],\n",
    "        [1.,0.,0.],\n",
    "        [1.,0.,0.],\n",
    "        [1.,0.,0.],\n",
    "        [1.,0.,0.],\n",
    "        [1.,0.,0.],\n",
    "        [1.,0.,0.],\n",
    "        [1.,0.,0.],\n",
    "        [1.,0.,0.],\n",
    "        [1.,0.,0.],\n",
    "        [1.,0.,0.]]\n",
    ")"
   ]
  },
  {
   "cell_type": "code",
   "execution_count": 5,
   "metadata": {},
   "outputs": [
    {
     "name": "stderr",
     "output_type": "stream",
     "text": [
      "/opt/homebrew/Caskroom/miniforge/base/lib/python3.10/site-packages/cvxpy/reductions/solvers/solving_chain.py:209: UserWarning: Your problem has too many parameters for efficient DPP compilation. We suggest setting 'ignore_dpp = True'.\n",
      "  warnings.warn(\n"
     ]
    }
   ],
   "source": [
    "Tini = 1\n",
    "m = 1\n",
    "p = 3\n",
    "Tf = 30\n",
    "\n",
    "u_constraints = np.ones(Tf)*dx.upper\n",
    "y_constraints = np.kron(np.ones(Tf), np.array([1,1,20]))\n",
    "r = torch.kron(torch.ones(Tf), torch.Tensor([0.001]))\n",
    "q = torch.kron(torch.ones(Tf), torch.Tensor([1,1,0.1]))\n",
    "\n",
    "controller = DDeePC(\n",
    "    ud=ud, yd=yd, u_constraints=u_constraints, y_constraints=y_constraints, n_batch=1,\n",
    "    T=T, N=Tf, m=m, p=p, Tini=Tini, linear=False, stochastic=False, r=r, q=q, lam_g1=torch.Tensor([100]), lam_g2=torch.Tensor([100])\n",
    ")"
   ]
  },
  {
   "cell_type": "code",
   "execution_count": 6,
   "metadata": {},
   "outputs": [
    {
     "data": {
      "text/plain": [
       "[Parameter containing:\n",
       " tensor([[ 0.0759,  0.0435,  0.0093,  ..., -0.0143, -0.1849,  0.0445],\n",
       "         [ 0.0435,  0.0093,  0.1614,  ..., -0.1849,  0.0445,  0.0021],\n",
       "         [ 0.0093,  0.1614,  0.0460,  ...,  0.0445,  0.0021, -0.1937],\n",
       "         ...,\n",
       "         [-0.0247, -0.0116,  0.0126,  ...,  0.0366, -0.0149,  0.0078],\n",
       "         [-0.0116,  0.0126,  0.0679,  ..., -0.0149,  0.0078, -0.0932],\n",
       "         [ 0.0126,  0.0679, -0.1162,  ...,  0.0078, -0.0932,  0.0909]],\n",
       "        requires_grad=True),\n",
       " Parameter containing:\n",
       " tensor([[-1.0000e+00, -1.0000e+00, -1.0000e+00,  ..., -9.9988e-01,\n",
       "          -9.9987e-01, -9.9985e-01],\n",
       "         [-5.6949e-04, -1.4440e-03, -2.3345e-03,  ..., -1.5323e-02,\n",
       "          -1.6338e-02, -1.7074e-02],\n",
       "         [ 1.1388e-02,  1.7490e-02,  1.7810e-02,  ...,  5.9526e-02,\n",
       "           2.0301e-02,  1.4719e-02],\n",
       "         ...,\n",
       "         [-9.9993e-01, -9.9994e-01, -9.9995e-01,  ..., -9.9999e-01,\n",
       "          -9.9997e-01, -9.9995e-01],\n",
       "         [ 1.1749e-02,  1.0814e-02,  1.0344e-02,  ...,  4.4059e-03,\n",
       "           7.8316e-03,  1.0282e-02],\n",
       "         [-2.8247e-04,  1.8717e-02,  9.3923e-03,  ..., -5.7832e-02,\n",
       "          -6.8515e-02, -4.9003e-02]], requires_grad=True)]"
      ]
     },
     "execution_count": 6,
     "metadata": {},
     "output_type": "execute_result"
    }
   ],
   "source": [
    "params = [param for param in controller.parameters()]\n",
    "params"
   ]
  },
  {
   "cell_type": "code",
   "execution_count": 7,
   "metadata": {},
   "outputs": [],
   "source": [
    "def save_frame(t_dir, x, i):\n",
    "    fig, axs = plt.subplots(1, 1, figsize=(5,5))\n",
    "    # axs = axs.reshape(-1)\n",
    "    dx.get_frame(x, ax=axs)\n",
    "    axs.get_xaxis().set_visible(False)\n",
    "    axs.get_yaxis().set_visible(False)\n",
    "    fig.tight_layout()\n",
    "    fig.savefig(os.path.join(t_dir, '{:03d}.png'.format(i)))\n",
    "    plt.close(fig)"
   ]
  },
  {
   "cell_type": "code",
   "execution_count": 8,
   "metadata": {},
   "outputs": [
    {
     "name": "stdout",
     "output_type": "stream",
     "text": [
      "Tmp dir: /var/folders/bv/3kttr09s6dsg653szk2tbhlh0000gn/T/tmphc0ni5td\n"
     ]
    },
    {
     "name": "stderr",
     "output_type": "stream",
     "text": [
      "  0%|          | 0/100 [00:00<?, ?it/s]/opt/homebrew/Caskroom/miniforge/base/lib/python3.10/site-packages/diffcp/cone_program.py:295: UserWarning: Solved/Inaccurate.\n",
      "  warnings.warn(\"Solved/Inaccurate.\")\n",
      "100%|██████████| 100/100 [20:25<00:00, 12.26s/it]\n",
      "loss = 1.74716, episode = 1, time to backprop = 7.65: 100%|██████████| 100/100 [00:46<00:00,  2.16it/s]\n",
      "loss = 3.56840, episode = 2, time to backprop = 18.00: 100%|██████████| 100/100 [00:29<00:00,  3.39it/s]\n",
      "loss = 1.78794, episode = 3, time to backprop = 17.86: 100%|██████████| 100/100 [00:16<00:00,  5.94it/s]\n",
      "loss = 1.69619, episode = 4, time to backprop = 20.10: 100%|██████████| 100/100 [00:13<00:00,  7.16it/s]\n",
      "loss = 1.66724, episode = 5, time to backprop = 21.26: 100%|██████████| 100/100 [00:14<00:00,  6.73it/s]\n",
      "loss = 1.63396, episode = 6, time to backprop = 23.39: 100%|██████████| 100/100 [00:14<00:00,  6.84it/s]\n",
      "loss = 1.61152, episode = 7, time to backprop = 23.57: 100%|██████████| 100/100 [00:17<00:00,  5.61it/s]\n",
      "loss = 1.59208, episode = 8, time to backprop = 25.60: 100%|██████████| 100/100 [00:18<00:00,  5.27it/s]\n"
     ]
    },
    {
     "ename": "KeyboardInterrupt",
     "evalue": "",
     "output_type": "error",
     "traceback": [
      "\u001b[0;31m---------------------------------------------------------------------------\u001b[0m",
      "\u001b[0;31mKeyboardInterrupt\u001b[0m                         Traceback (most recent call last)",
      "Cell \u001b[0;32mIn[8], line 34\u001b[0m\n\u001b[1;32m     32\u001b[0m loss \u001b[39m=\u001b[39m criterion(target\u001b[39m=\u001b[39mref[:traj_len\u001b[39m*\u001b[39mp], \u001b[39minput\u001b[39m\u001b[39m=\u001b[39mtraj[\u001b[39m0\u001b[39m][:traj_len\u001b[39m*\u001b[39mp])\n\u001b[1;32m     33\u001b[0m opt\u001b[39m.\u001b[39mzero_grad()\n\u001b[0;32m---> 34\u001b[0m loss\u001b[39m.\u001b[39;49mbackward()\n\u001b[1;32m     35\u001b[0m opt\u001b[39m.\u001b[39mstep()\n\u001b[1;32m     36\u001b[0m tl \u001b[39m=\u001b[39m time\u001b[39m.\u001b[39mtime() \u001b[39m-\u001b[39m tl\n",
      "File \u001b[0;32m/opt/homebrew/Caskroom/miniforge/base/lib/python3.10/site-packages/torch/_tensor.py:487\u001b[0m, in \u001b[0;36mTensor.backward\u001b[0;34m(self, gradient, retain_graph, create_graph, inputs)\u001b[0m\n\u001b[1;32m    477\u001b[0m \u001b[39mif\u001b[39;00m has_torch_function_unary(\u001b[39mself\u001b[39m):\n\u001b[1;32m    478\u001b[0m     \u001b[39mreturn\u001b[39;00m handle_torch_function(\n\u001b[1;32m    479\u001b[0m         Tensor\u001b[39m.\u001b[39mbackward,\n\u001b[1;32m    480\u001b[0m         (\u001b[39mself\u001b[39m,),\n\u001b[0;32m   (...)\u001b[0m\n\u001b[1;32m    485\u001b[0m         inputs\u001b[39m=\u001b[39minputs,\n\u001b[1;32m    486\u001b[0m     )\n\u001b[0;32m--> 487\u001b[0m torch\u001b[39m.\u001b[39;49mautograd\u001b[39m.\u001b[39;49mbackward(\n\u001b[1;32m    488\u001b[0m     \u001b[39mself\u001b[39;49m, gradient, retain_graph, create_graph, inputs\u001b[39m=\u001b[39;49minputs\n\u001b[1;32m    489\u001b[0m )\n",
      "File \u001b[0;32m/opt/homebrew/Caskroom/miniforge/base/lib/python3.10/site-packages/torch/autograd/__init__.py:200\u001b[0m, in \u001b[0;36mbackward\u001b[0;34m(tensors, grad_tensors, retain_graph, create_graph, grad_variables, inputs)\u001b[0m\n\u001b[1;32m    195\u001b[0m     retain_graph \u001b[39m=\u001b[39m create_graph\n\u001b[1;32m    197\u001b[0m \u001b[39m# The reason we repeat same the comment below is that\u001b[39;00m\n\u001b[1;32m    198\u001b[0m \u001b[39m# some Python versions print out the first line of a multi-line function\u001b[39;00m\n\u001b[1;32m    199\u001b[0m \u001b[39m# calls in the traceback and some print out the last line\u001b[39;00m\n\u001b[0;32m--> 200\u001b[0m Variable\u001b[39m.\u001b[39;49m_execution_engine\u001b[39m.\u001b[39;49mrun_backward(  \u001b[39m# Calls into the C++ engine to run the backward pass\u001b[39;49;00m\n\u001b[1;32m    201\u001b[0m     tensors, grad_tensors_, retain_graph, create_graph, inputs,\n\u001b[1;32m    202\u001b[0m     allow_unreachable\u001b[39m=\u001b[39;49m\u001b[39mTrue\u001b[39;49;00m, accumulate_grad\u001b[39m=\u001b[39;49m\u001b[39mTrue\u001b[39;49;00m)\n",
      "File \u001b[0;32m/opt/homebrew/Caskroom/miniforge/base/lib/python3.10/site-packages/torch/autograd/function.py:274\u001b[0m, in \u001b[0;36mBackwardCFunction.apply\u001b[0;34m(self, *args)\u001b[0m\n\u001b[1;32m    270\u001b[0m     \u001b[39mraise\u001b[39;00m \u001b[39mRuntimeError\u001b[39;00m(\u001b[39m\"\u001b[39m\u001b[39mImplementing both \u001b[39m\u001b[39m'\u001b[39m\u001b[39mbackward\u001b[39m\u001b[39m'\u001b[39m\u001b[39m and \u001b[39m\u001b[39m'\u001b[39m\u001b[39mvjp\u001b[39m\u001b[39m'\u001b[39m\u001b[39m for a custom \u001b[39m\u001b[39m\"\u001b[39m\n\u001b[1;32m    271\u001b[0m                        \u001b[39m\"\u001b[39m\u001b[39mFunction is not allowed. You should only implement one \u001b[39m\u001b[39m\"\u001b[39m\n\u001b[1;32m    272\u001b[0m                        \u001b[39m\"\u001b[39m\u001b[39mof them.\u001b[39m\u001b[39m\"\u001b[39m)\n\u001b[1;32m    273\u001b[0m user_fn \u001b[39m=\u001b[39m vjp_fn \u001b[39mif\u001b[39;00m vjp_fn \u001b[39mis\u001b[39;00m \u001b[39mnot\u001b[39;00m Function\u001b[39m.\u001b[39mvjp \u001b[39melse\u001b[39;00m backward_fn\n\u001b[0;32m--> 274\u001b[0m \u001b[39mreturn\u001b[39;00m user_fn(\u001b[39mself\u001b[39;49m, \u001b[39m*\u001b[39;49margs)\n",
      "File \u001b[0;32m/opt/homebrew/Caskroom/miniforge/base/lib/python3.10/site-packages/cvxpylayers-0.1.5-py3.10.egg/cvxpylayers/torch/cvxpylayer.py:339\u001b[0m, in \u001b[0;36m_CvxpyLayerFn.<locals>._CvxpyLayerFnFn.backward\u001b[0;34m(ctx, *dvars)\u001b[0m\n\u001b[1;32m    336\u001b[0m     dys\u001b[39m.\u001b[39mappend(np\u001b[39m.\u001b[39mzeros(ctx\u001b[39m.\u001b[39mshapes[i][\u001b[39m0\u001b[39m]))\n\u001b[1;32m    337\u001b[0m     dss\u001b[39m.\u001b[39mappend(np\u001b[39m.\u001b[39mzeros(ctx\u001b[39m.\u001b[39mshapes[i][\u001b[39m0\u001b[39m]))\n\u001b[0;32m--> 339\u001b[0m dAs, dbs, dcs \u001b[39m=\u001b[39m ctx\u001b[39m.\u001b[39;49mDT_batch(dxs, dys, dss)\n\u001b[1;32m    341\u001b[0m \u001b[39m# differentiate from cone problem data to cvxpy parameters\u001b[39;00m\n\u001b[1;32m    342\u001b[0m start \u001b[39m=\u001b[39m time\u001b[39m.\u001b[39mtime()\n",
      "File \u001b[0;32m/opt/homebrew/Caskroom/miniforge/base/lib/python3.10/site-packages/diffcp/cone_program.py:114\u001b[0m, in \u001b[0;36msolve_and_derivative_batch.<locals>.DT_batch\u001b[0;34m(dxs, dys, dss, **kwargs)\u001b[0m\n\u001b[1;32m    112\u001b[0m dAs, dbs, dcs \u001b[39m=\u001b[39m [], [], []\n\u001b[1;32m    113\u001b[0m \u001b[39mfor\u001b[39;00m i \u001b[39min\u001b[39;00m \u001b[39mrange\u001b[39m(batch_size):\n\u001b[0;32m--> 114\u001b[0m     dA, db, dc \u001b[39m=\u001b[39m DTs[i](dxs[i], dys[i], dss[i], \u001b[39m*\u001b[39;49m\u001b[39m*\u001b[39;49mkwargs)\n\u001b[1;32m    115\u001b[0m     dAs \u001b[39m+\u001b[39m\u001b[39m=\u001b[39m [dA]\n\u001b[1;32m    116\u001b[0m     dbs \u001b[39m+\u001b[39m\u001b[39m=\u001b[39m [db]\n",
      "File \u001b[0;32m/opt/homebrew/Caskroom/miniforge/base/lib/python3.10/site-packages/diffcp/cone_program.py:471\u001b[0m, in \u001b[0;36msolve_and_derivative_internal.<locals>.adjoint_derivative\u001b[0;34m(dx, dy, ds, **kwargs)\u001b[0m\n\u001b[1;32m    469\u001b[0m     r \u001b[39m=\u001b[39m _diffcp\u001b[39m.\u001b[39m_solve_adjoint_derivative_dense(M, MT, dz)\n\u001b[1;32m    470\u001b[0m \u001b[39melif\u001b[39;00m mode \u001b[39m==\u001b[39m \u001b[39m\"\u001b[39m\u001b[39mlsqr\u001b[39m\u001b[39m\"\u001b[39m:\n\u001b[0;32m--> 471\u001b[0m     r \u001b[39m=\u001b[39m _diffcp\u001b[39m.\u001b[39;49mlsqr(MT, dz)\u001b[39m.\u001b[39msolution\n\u001b[1;32m    472\u001b[0m \u001b[39melif\u001b[39;00m mode \u001b[39m==\u001b[39m \u001b[39m\"\u001b[39m\u001b[39mlsmr\u001b[39m\u001b[39m\"\u001b[39m:\n\u001b[1;32m    473\u001b[0m     MT_sp \u001b[39m=\u001b[39m sparse\u001b[39m.\u001b[39mlinalg\u001b[39m.\u001b[39mLinearOperator(dz\u001b[39m.\u001b[39mshape\u001b[39m*\u001b[39m\u001b[39m2\u001b[39m, matvec\u001b[39m=\u001b[39mMT\u001b[39m.\u001b[39mmatvec, rmatvec\u001b[39m=\u001b[39mMT\u001b[39m.\u001b[39mrmatvec)\n",
      "\u001b[0;31mKeyboardInterrupt\u001b[0m: "
     ]
    }
   ],
   "source": [
    "import time\n",
    "epochs = 100\n",
    "traj_len = 100\n",
    "th = torch.tensor([np.pi/2])\n",
    "thdot = torch.tensor([1])\n",
    "ref = torch.reshape(ref, (-1,))\n",
    "\n",
    "opt = optim.Adam(controller.parameters(), lr=0.1)\n",
    "criterion = torch.nn.MSELoss()\n",
    "\n",
    "t_dir = tempfile.mkdtemp()\n",
    "print('Tmp dir: {}'.format(t_dir))\n",
    "\n",
    "for j in range(epochs):\n",
    "\n",
    "    yini = torch.stack((torch.cos(th), torch.sin(th), thdot), dim=1)\n",
    "    uini = torch.Tensor([1.])\n",
    "    traj = yini\n",
    "    pbar = tqdm(range(traj_len))\n",
    "    \n",
    "    for i in pbar:\n",
    "        input, output , t = controller(ref=ref[p*i:p*(Tf+i)], y_ini=yini, u_ini=uini)\n",
    "        uini = input[0,:m]\n",
    "        yini = dx(yini, uini.unsqueeze(0))\n",
    "        traj = torch.cat((traj, yini), axis=1)\n",
    "        \n",
    "        if j > 0 : pbar.set_description(f'loss = {loss.item():.5f}, episode = {j}, time to backprop = {tl:.2f}')\n",
    "        if j == epochs-1:\n",
    "            save_frame(t_dir, yini, i)\n",
    "    \n",
    "    tl = time.time()\n",
    "    loss = criterion(target=ref[:traj_len*p], input=traj[0][:traj_len*p])\n",
    "    opt.zero_grad()\n",
    "    loss.backward()\n",
    "    opt.step()\n",
    "    tl = time.time() - tl"
   ]
  },
  {
   "cell_type": "code",
   "execution_count": null,
   "metadata": {},
   "outputs": [
    {
     "data": {
      "text/plain": [
       "[Parameter containing:\n",
       " tensor([[-0.4128, -0.0045, -0.3667,  ...,  0.2694,  0.5155,  0.4483],\n",
       "         [-0.0601,  0.3409,  0.6240,  ..., -0.3258, -0.5235, -0.5920],\n",
       "         [ 0.6157,  0.5936,  0.4500,  ..., -0.4773, -0.5751, -0.6719],\n",
       "         ...,\n",
       "         [ 0.3386,  0.6559,  0.4238,  ..., -0.6103, -0.5911, -0.3220],\n",
       "         [ 0.2538,  0.3372,  0.5954,  ..., -0.7194, -0.2946, -0.3509],\n",
       "         [ 0.7486,  0.4213,  0.2401,  ..., -0.2905, -0.5166, -0.7060]],\n",
       "        requires_grad=True),\n",
       " Parameter containing:\n",
       " tensor([[-1.6033, -1.6030, -1.5999,  ..., -0.3980, -0.3991, -0.3994],\n",
       "         [ 0.5862,  0.5321,  0.6140,  ..., -0.5871, -0.5615, -0.6064],\n",
       "         [ 0.9484,  0.7414,  0.5909,  ..., -0.8734, -0.6218, -0.5908],\n",
       "         ...,\n",
       "         [-0.4006, -0.4008, -0.3994,  ..., -1.5994, -1.6003, -1.6006],\n",
       "         [-0.3770, -0.4464, -0.6447,  ...,  0.4444,  0.5665,  0.5609],\n",
       "         [-0.3528, -0.5836, -0.6529,  ...,  0.4131,  0.5431,  0.5214]],\n",
       "        requires_grad=True)]"
      ]
     },
     "execution_count": 344,
     "metadata": {},
     "output_type": "execute_result"
    }
   ],
   "source": [
    "params = [param for param in controller.parameters()]\n",
    "params"
   ]
  },
  {
   "cell_type": "code",
   "execution_count": null,
   "metadata": {},
   "outputs": [
    {
     "name": "stderr",
     "output_type": "stream",
     "text": [
      "ffmpeg version 5.1.2 Copyright (c) 2000-2022 the FFmpeg developers\n",
      "  built with clang version 14.0.6\n",
      "  configuration: --prefix=/Users/runner/miniforge3/conda-bld/ffmpeg_1674566267822/_h_env_placehold_placehold_placehold_placehold_placehold_placehold_placehold_placehold_placehold_placehold_placehold_placehold_placehold_placehold_placehold_placehold_placehold_placehold_placehold_pl --cc=arm64-apple-darwin20.0.0-clang --cxx=arm64-apple-darwin20.0.0-clang++ --nm=arm64-apple-darwin20.0.0-nm --ar=arm64-apple-darwin20.0.0-ar --disable-doc --disable-openssl --enable-demuxer=dash --enable-hardcoded-tables --enable-libfreetype --enable-libfontconfig --enable-libopenh264 --enable-cross-compile --arch=arm64 --target-os=darwin --cross-prefix=arm64-apple-darwin20.0.0- --host-cc=/Users/runner/miniforge3/conda-bld/ffmpeg_1674566267822/_build_env/bin/x86_64-apple-darwin13.4.0-clang --enable-neon --enable-gnutls --enable-libmp3lame --enable-libvpx --enable-pthreads --enable-gpl --enable-libx264 --enable-libx265 --enable-libaom --enable-libsvtav1 --enable-libxml2 --enable-pic --enable-shared --disable-static --enable-version3 --enable-zlib --enable-libopus --pkg-config=/Users/runner/miniforge3/conda-bld/ffmpeg_1674566267822/_build_env/bin/pkg-config\n",
      "  libavutil      57. 28.100 / 57. 28.100\n",
      "  libavcodec     59. 37.100 / 59. 37.100\n",
      "  libavformat    59. 27.100 / 59. 27.100\n",
      "  libavdevice    59.  7.100 / 59.  7.100\n",
      "  libavfilter     8. 44.100 /  8. 44.100\n",
      "  libswscale      6.  7.100 /  6.  7.100\n",
      "  libswresample   4.  7.100 /  4.  7.100\n",
      "  libpostproc    56.  6.100 / 56.  6.100\n",
      "Input #0, image2, from '/var/folders/bv/3kttr09s6dsg653szk2tbhlh0000gn/T/tmpevns3xm_/%03d.png':\n",
      "  Duration: 00:00:06.25, start: 0.000000, bitrate: N/A\n",
      "  Stream #0:0: Video: png, rgba(pc), 500x500 [SAR 3937:3937 DAR 1:1], 16 fps, 16 tbr, 16 tbn\n",
      "Stream mapping:\n",
      "  Stream #0:0 -> #0:0 (png (native) -> h264 (libx264))\n",
      "Press [q] to stop, [?] for help\n",
      "[libx264 @ 0x153632d60] using SAR=1/1\n",
      "[libx264 @ 0x153632d60] using cpu capabilities: ARMv8 NEON\n",
      "[libx264 @ 0x153632d60] profile High, level 2.2, 4:2:0, 8-bit\n",
      "[libx264 @ 0x153632d60] 264 - core 164 r3095 baee400 - H.264/MPEG-4 AVC codec - Copyleft 2003-2022 - http://www.videolan.org/x264.html - options: cabac=1 ref=3 deblock=1:0:0 analyse=0x3:0x113 me=hex subme=7 psy=1 psy_rd=1.00:0.00 mixed_ref=1 me_range=16 chroma_me=1 trellis=1 8x8dct=1 cqm=0 deadzone=21,11 fast_pskip=1 chroma_qp_offset=-2 threads=12 lookahead_threads=2 sliced_threads=0 nr=0 decimate=1 interlaced=0 bluray_compat=0 constrained_intra=0 bframes=3 b_pyramid=2 b_adapt=1 b_bias=0 direct=1 weightb=1 open_gop=0 weightp=2 keyint=250 keyint_min=16 scenecut=40 intra_refresh=0 rc_lookahead=40 rc=crf mbtree=1 crf=25.0 qcomp=0.60 qpmin=0 qpmax=69 qpstep=4 ip_ratio=1.40 aq=1:1.00\n",
      "Output #0, mp4, to 'pendulum-notrain.mp4':\n",
      "  Metadata:\n",
      "    encoder         : Lavf59.27.100\n",
      "  Stream #0:0: Video: h264 (avc1 / 0x31637661), yuv420p(tv, progressive), 500x500 [SAR 1:1 DAR 1:1], q=2-31, 16 fps, 16384 tbn\n",
      "    Metadata:\n",
      "      encoder         : Lavc59.37.100 libx264\n",
      "    Side data:\n",
      "      cpb: bitrate max/min/avg: 0/0/0 buffer size: 0 vbv_delay: N/A\n",
      "frame=    1 fps=0.0 q=0.0 size=       0kB time=00:00:00.00 bitrate=N/A speed=   0x    \r"
     ]
    },
    {
     "name": "stdout",
     "output_type": "stream",
     "text": [
      "Saving video to: pendulum-notrain.mp4\n"
     ]
    },
    {
     "name": "stderr",
     "output_type": "stream",
     "text": [
      "frame=  100 fps=0.0 q=-1.0 Lsize=      19kB time=00:00:06.06 bitrate=  25.5kbits/s speed=31.9x    \n",
      "video:17kB audio:0kB subtitle:0kB other streams:0kB global headers:0kB muxing overhead: 11.194715%\n",
      "[libx264 @ 0x153632d60] frame I:1     Avg QP:16.27  size:   538\n",
      "[libx264 @ 0x153632d60] frame P:46    Avg QP:22.12  size:   246\n",
      "[libx264 @ 0x153632d60] frame B:53    Avg QP:26.19  size:    92\n",
      "[libx264 @ 0x153632d60] consecutive B-frames: 23.0% 16.0%  9.0% 52.0%\n",
      "[libx264 @ 0x153632d60] mb I  I16..4: 53.7% 45.1%  1.2%\n",
      "[libx264 @ 0x153632d60] mb P  I16..4:  0.1%  0.5%  0.3%  P16..4:  0.9%  0.7%  0.3%  0.0%  0.0%    skip:97.2%\n",
      "[libx264 @ 0x153632d60] mb B  I16..4:  0.0%  0.1%  0.0%  B16..8:  1.8%  0.5%  0.0%  direct: 0.0%  skip:97.6%  L0:41.7% L1:43.2% BI:15.1%\n",
      "[libx264 @ 0x153632d60] 8x8 transform intra:49.0% inter:17.1%\n",
      "[libx264 @ 0x153632d60] coded y,uvDC,uvAC intra: 6.1% 0.0% 0.0% inter: 0.2% 0.0% 0.0%\n",
      "[libx264 @ 0x153632d60] i16 v,h,dc,p: 79% 19%  2%  0%\n",
      "[libx264 @ 0x153632d60] i8 v,h,dc,ddl,ddr,vr,hd,vl,hu: 13%  6% 81%  0%  0%  0%  0%  0%  0%\n",
      "[libx264 @ 0x153632d60] i4 v,h,dc,ddl,ddr,vr,hd,vl,hu: 28%  8% 40%  2%  5%  6%  5%  5%  0%\n",
      "[libx264 @ 0x153632d60] i8c dc,h,v,p: 100%  0%  0%  0%\n",
      "[libx264 @ 0x153632d60] Weighted P-Frames: Y:0.0% UV:0.0%\n",
      "[libx264 @ 0x153632d60] ref P L0: 84.7%  1.2%  9.2%  4.9%\n",
      "[libx264 @ 0x153632d60] ref B L0: 83.0% 15.2%  1.8%\n",
      "[libx264 @ 0x153632d60] ref B L1: 95.8%  4.2%\n",
      "[libx264 @ 0x153632d60] kb/s:21.40\n"
     ]
    },
    {
     "data": {
      "text/html": [
       "<video alt=\"test\" controls>\n",
       "                <source src=\"data:video/mp4;base64,AAAAIGZ0eXBpc29tAAACAGlzb21pc28yYXZjMW1wNDEAAAAIZnJlZQAARAttZGF0AAACrwYF//+r3EXpvebZSLeWLNgg2SPu73gyNjQgLSBjb3JlIDE2NCByMzA5NSBiYWVlNDAwIC0gSC4yNjQvTVBFRy00IEFWQyBjb2RlYyAtIENvcHlsZWZ0IDIwMDMtMjAyMiAtIGh0dHA6Ly93d3cudmlkZW9sYW4ub3JnL3gyNjQuaHRtbCAtIG9wdGlvbnM6IGNhYmFjPTEgcmVmPTMgZGVibG9jaz0xOjA6MCBhbmFseXNlPTB4MzoweDExMyBtZT1oZXggc3VibWU9NyBwc3k9MSBwc3lfcmQ9MS4wMDowLjAwIG1peGVkX3JlZj0xIG1lX3JhbmdlPTE2IGNocm9tYV9tZT0xIHRyZWxsaXM9MSA4eDhkY3Q9MSBjcW09MCBkZWFkem9uZT0yMSwxMSBmYXN0X3Bza2lwPTEgY2hyb21hX3FwX29mZnNldD0tMiB0aHJlYWRzPTEyIGxvb2thaGVhZF90aHJlYWRzPTIgc2xpY2VkX3RocmVhZHM9MCBucj0wIGRlY2ltYXRlPTEgaW50ZXJsYWNlZD0wIGJsdXJheV9jb21wYXQ9MCBjb25zdHJhaW5lZF9pbnRyYT0wIGJmcmFtZXM9MyBiX3B5cmFtaWQ9MiBiX2FkYXB0PTEgYl9iaWFzPTAgZGlyZWN0PTEgd2VpZ2h0Yj0xIG9wZW5fZ29wPTAgd2VpZ2h0cD0yIGtleWludD0yNTAga2V5aW50X21pbj0xNiBzY2VuZWN1dD00MCBpbnRyYV9yZWZyZXNoPTAgcmNfbG9va2FoZWFkPTQwIHJjPWNyZiBtYnRyZWU9MSBjcmY9MjUuMCBxY29tcD0wLjYwIHFwbWluPTAgcXBtYXg9NjkgcXBzdGVwPTQgaXBfcmF0aW89MS40MCBhcT0xOjEuMDAAgAAAAhZliIQAJ/+1QGuSUcBLlIXwBLUQjkIiwAUgcn0eum2aZi95X/FpfOTDAYNB8qofb3AAAAMAAAMALd3voXoNn15VXKcPNlHzg2vRYhcCGW8qxG7gKDLg6koYAJ3AvRdRqrk9OTyb5cmKRqG5XIgAAAMC94oC3T9AAAAlOiEEooEFp3QQk+BmOAnFgO9EJbgIDkJ6sMZwW1p7UyVxN7Xd/ZDnRAfVuJeboHDdZuO3vYYS3Q3fRwC4YsuPNiPWKDH1ev20RwkRnwpOLpZ7rRADZtxXyn1tM7Pd/AQETAsuNN+XS6qthpsJn9OekjrgGCXAC1gzFlHxmLvXQHDopT5PRxhQTF0PYgjyxmgD4xlm6H4V+HCNc+38kQjsNspCtvFiTrU0Bux++VQo82u61i4KL2w8YUlHDGhRFjz7pjF/f8COTezMfdWGx0fNT3knJULlrVtqkN7ae65H5fl4V8qFbjiVQBTos14V9hSZtoj6HDmxXBauPukvhuFpFkejLcdiuzkSVY11/cILE/H4g/zaPZb4BWswky7WDPQPBezsuNEr+N35ukvigpxYs+KEjAjsx9q5zDzoURvKpWyAyX14nti9E+BAvShxI0l/GX4gAD0tt5AAAAMAAAMAAAMAAAMAAAMAAAMANyGQBR6f1AXLLiFdaOaNlRHAwWwIcdVV8j1LTyEB3ZZvC5VitG7t2tw/C4XxjsUAGvEAAAFQQZohbEJ//IQAAAMBWRapgEhtxjSsmUIqCiD/XvR6ff/pzl09Z39iczQFwaOiGS96w3dBQjqPDabUpxdP2mkqBrcfyZCcWD5WUZAw5TW4dMHPxWdpVSwMQW9xBTAsiUX1XAbXadON/L4CGriMsDM7hiinjKJoh56TWmkCAi8O3u7uSAjfGsBSzy2qDzx19+/XPgeNN/o6tQATYJPrxtSgan9GSQLd0WKfAV3dTYKggpBvAIoVvXTAfWgb1CuTQHxCa9gsvXf7PjOES9R81QNiJqZuj3LVSHvQOIb9B3dHmVT1obt8axX9s8Pt15Mc030wppoottiwtXwd6mHWtx1AqhMluRCpRm5FQER5TLLLPxacBXHDTi+4SCCfUCTp2eC568UZptVYgDf2KurtRFrAeNyQd3va6Wa65LyUHgdc9e3j+9wGFXaDcIsNf22j6FqAAAABWEGaQzwhkymEJ//8hAAAAwFYuDmAAT/+JGch4QTugJ/GkZN4xy3CVDKJ81zY0sqGcc+El3h2Q29KHZdjUOJXyuNzdV0TeMH2ZREYsIx+kwT/0NYBxVjUKKcfE+y0XeYEgbYxKkphhNr0AhVxhM4v7GQ96GFIxEK1bgfKZyxYqtZgm7ijyuFO8WajU2WyTRiidrh1TMWOyyPa1hbGoqtItlGBPqA9/ZEdmurwRXfdlOYGJLV5kdprjS1CBVL1EetCEAT9Rn/brLJtLawPg2fuCWt1x7pobU2+MnQIrpNJEXYBkDymBXf7AGowBom2QdsC+I0+JshkDw6mlM4c3Lq/QIah7/BnMIwFASRDsglsxKsvgG7LpDK644kZpF/8mVD+8nGBAJRQ/zcOdLHeEM8zKYkd/0U1U3rOXAxueW3xIBvants4DQJm4f0k3w0SYvWEV6gSdojPqBUxAAABQAGeYmpXAAAPPxzgmSa31YHWkxjL+U3nEXiZmv0EmGKXmjb5ItHl5/NQGkxCDsjqMTzZ+Nd8oBVfni/KaUDiIgqpxnuzGgRuYUWhZM7loAc8ZP+zn1TRUridwYMo7RlvanOOnxhZZJbtiavrVExjlvbFv90HAABPBbHQKisltGHdsyhDYE2qKzU/RgWv9ZabXgZ/j/SjwFGCfpFIaljRmHDl4SirqNBohH6RXim1unMz6wf/EyCBemHrrd0E46e7i4jGMg/kiPoxTNc5KQAjOz3J0znZ7UA9hxAzS7XzOqZxzI+14r+8tHW/dvjUjHG97JbT9ywdR6/PH0jKk7mfu0ozy+FzBU+1AtH1dmy6HX6D7SU7tpBdW9JjjPe4mS899zkPp6e9V0GiuQtepQGL9LJ2yFjzFWK4Ymt2/i4AAAg4AAABykGaZEnhDyZTAhP//IQAAAMBWVfO8QAo3GoyRVZ5mR3zdLZVzJZ0aM3KHLhPIcVL8kXVrFJisz7/Wezguemu5FXxhHKpOI3K2SQ59QCxUUrsNJwNo2ifEclTvw6mXv2hJB/16Ri318gMA+aN/v8GUvfF7L1LJFbxHxFAP9d3F86r6ZLv3ivOXmcFjr1h3F2YRPPjOA1JCetiVPpSrcjSyZFFTFrg9KwlVARWA6tleQU/YwUBBxQCcb0CyrknI7uWm5xZLCSG72TXIzbtkDWjtUjZiZW6dtW0dV179l4wCOTAutIrnw02uoOn2w5f0WIfOajsuDmPTdBY2TzKUuISDdu6itfzYN4c8ArODjAvAa1LUxycwdGFS7YiKS+HcD/Vt8q1OwY9bDf9yAchR7St5nQFb4q483XLEA7IUXAU8JojTcF+a7vSOsKXcG+wMb24JtzJY4il0tN1HkX1BBfZGAHeZJHxFa4+8EzdrX1bCYnM9YmO/9t49pPZrecLgf9vcrcsPSXp1iMpWy1eCn3XdjztAmVqysETJ/cQeNxjwmC+5PgEZM9AIf1HaE604GE3lvm8k+sfECxfIJmNHO7glSlIPl/uJn4d51uBAAABYEGahUnhDyZTAhP//IQAAAMBWVfPRkAU9oBRVo158WD+Jbt6kW1MIn/XhS46MlgdoK21AMgMdqdTfmBThyBrLQw0h4sNo4AKoEJnSJhs710D5j/mV5Aw8xIphjGImQ1kv6pAv0QrP6t3vrEAjMDRezd38lnobg9V69sfU8hXzUAIIavKY6ugE6y6w6ggbsWjlEuZb1wNn7tossqsDg+YwF0/sO3I2C/ESTzw7XxPmQbR++H5/CHrIdcafxT+BOtepcp4ztjPYocLnlVM0I+e8csquCv/MX1rk08iZxy4hqnI/+okmCa7phQEp+CgJDPkM1UJ2xzUsOFmR841ju31ot4eUW6JgDqajsbMTq3WFPDPsPGv+O31SkkICAiriIo2ck3xBRoJ8+fA3+R3fGPcMa3q6KwUdsFHm7sP4ceYRjSzgaiEGV4W9B7MpV4HdOs5UwtpbhpAoGt9ste8ths6yoEAAAFbQZqnSeEPJlMFETwn//yEAAADAVrbKC70bcARIOK/nte4Z/xYaiufzTlCALpAYzttGEKnjtcbCCdgQKE2QSoCn4afkneuLARpd6nedqcgtgABt7dcUoS8m0Jrp+Px3URCHtAE1i+hE8HUhWCVvX4s+ykqLxdTHofoYi6bBk/bf4qw4cIgb5I4TNqzmwtoZ495xyUDFW65DlgHkjYbkqjBZzYdkl4Ra4HJXm+D3KfmcZLYSckg73XLSaB4LtPBPmRlZHXUaMCwh/GHvU6KtapjkrXiC5gxY6h7r79wl0AONwZ12iPGv09s/B9F7qdqoAScyxTwIWHAiUvZ5fTjIDnhRVPpaLuex3en46vhok3Xc9udjf0ifekl1gTDePKouP4Y0KmZeA8dZEXSBNVQxhK1jER8Lnt3TxqlaMTrRqQg0DrYWXwlAmNnf+gtbMnFKfRgOD93PoOjP9//49kAAAHJAZ7GalcAAA8q0WTO/+V4QFr9fAQyc8eW+DqpypsHOamHHXXt9zbVtkjC5P32q6Kh2xVrwRIA+TUQPVX0uVRaASeo9QmqCceE97PPrNwqqcTeRBr21NasF/HJZWEca5Dgzag/pulfi8xty5fFR6be+XPtdKC4YYMh1v9Po1R9xC122Cfv0LLPnpRjVvwoSrpQImZs/qzkg//xrVQQ0fFjnCDxHOtm3xEF7p3+pPifRImybFTXPlBhDsym/ccvqvF+ryviK66t6blAstuRPHRBIokCoe4uocst80bqyDEwaXg3E1/OAfQwuoQYI2LysU8JTgo8ZjnnmXZjI1jenxdS9eVBWHXUAoz3D/fYI0GH6ULmxo3P3717BTk5ocQ5WU1pe659IniIVup5+7cu1Y1FzgqUHWgDKO/WHqLDP0d2Unq81a1kSZ6/FO5GbueU+DTQQNpHRBPwTQ7vEDL/x3qaR7AkSnfvs9fF3nk2E7b2mjO2BsvI6kA39BfsZoo6zFzR7RcEOVdQ8h2ZeBB0KwXEWoo9vDN75s1ipxOX1YZZSh1xf8kb3FfRys98rK4HAZ3o9tKnWFD8lFaR6kzuS3cwD6dIF+xjiQL1bQAAAOpBmslJ4Q8mUwU8J//8hAAAAwFa2ygsZyfAXwMxSDy14YOOjai5uo3mekBqSDKs3xBSxbZyR1DkUB6WIdIqd8V9C5V6iQ4cnPNLHP7rJrNF3mBRkX+TjzOSEr91HoMxXR1yaIvbhZtl9ECEKlQNQGaumtq3ywScpK5r/aj596GsLNSyCKeqD1CciPHQZjljJZK+SXSzLq/a6qZv9zT7lp9yAfVMgk0VTCJDku09VOGOaocaQNUT9KZHM3VYqpCCdIrdEdRlZjA+OOHtaLZf6i0JE3LCnn5NXezZc3CssMur0uXFrza6RFcJuEEAAAGtAZ7oalcAAA8/HOCcipTJ7GNgiqbCgedlghd7rUldzJ5lwt2WAtkmwce/AOuIrL0owmMBhIE+cc9c2ZMm9cqi/rSb7BBOsZMfyqgDV3AqfhvTgbzh5SG6ONcfu2HsF/vcX0UvEXQg7CtAsPOxmHLyQnG2Obr2mxSsmLbQifamyflxeJ5PQo7M3hxKqyuws3AuSxF0f7wTG3GwFeWKyxATZI7dDbOKcY6cyX3vT6cn4FfbniMrmQPmpiKGSXkbCRB9AyHR4Uq/5Gy2xU31TK9fEc7raxc44/WwdSNMlQ+i/uJaa7xXdEFTwyGfVeI6C+6tvutTN4o/Q7EixEQ8mpErTW1noYbp05dj9EbEkZ4wIH2dWgTc3RUVHfxAw80VHysrH1n3qqm8bW4Kk848FIDFl40FSGXZuqhD/OXV8OUk3Y7Z11aNzN5M7ufaF2/nRgu7i30BQK9GcthXm63yJtQUXERSqJaZK+9tiZGH5lTQXYmTa6sopqsm9NRpk1hsDzrWP/ZIG/b0IeEgieifqq7Eh7VRfp6hEuV/+9J5SZUlHXfonH+HQQSjSNMrq4djAAABZ0Ga6knhDyZTAhP//IQAAAMBWBt5gOcy9d5MOwo43WC7swweyzmWBb3e1+z1UyMmOlNdbmkBSNvbd63/f9y+At11IDU6VGv6/8KPK5YGU/aMcnjttU9dyWMsDD8SBCLpTuLvzQ3LBBdPEaip1j2u8vnXG47ApYmFEMEvF8RM/clQ0eCDn3BivyO5hqYmXaAV+v3S7N9cWXUuia2VResAHlzXGjEXXcf9ziyNRQs/MCKpcVdIALXPgD7r2h4DHz855VDCAcPqcvY5+KvBJdSZnT3szk62FyyDSiIdMvXsSg///X/IUcw8w9AOAFoHKwF1AJ3RAg+4uoUyDzOpmhQM+5UT9YCB3p6x31Xiu1wTC+A9hTNlQ7+IM18fSJ3e88JgJI8qwKF+Rl6BFD1zQ2MgyQAE5KqpRXUAhkZ/jA5usosX6WHEqKXgy/7AjBM1jpH0kynMLkOo6VTpM/d4fZzTlfDsk8lys0jHAAABx0GbC0nhDyZTAhP//IQAAAMBV5nUm2oOADN6F5bXM3Y8JciJWfJCQXBXtbp5vtfQFjEkGn5Be0mAp6L6c7mS3RJV+lIEBjaxO28acJKu0Mzx4DB2IWi5QkHG+kEwwMbtNWmUeGR/DFcm9sL8/uezAF3T7gW3XHqU/I334VoHORFj1VnSLH40ln9Gqcmla3ZSbmHVwHGBc18D+QWxvZ0Pt4FxTj3WmE8ZB3/a0rUisyU2G+PsfiyZRHIetH+Z8cW5e/vtBdNB9Prti3xEaXnuihawBbN838SaJyu75t8ynjKX4mUWDgPUVRHEs+UE/hyEvHHv8kcrVCjf5lIfmLObdUuCN8Wf3zWQKcMjey8CwNkjxO6z1qqnxBlEh2h9kFA6QZOAtR1DUX97TxwSix1y0UZdoOUA4jSuopbR3yUYcK3rte0MfgLk+NXav0H9RTAGxwxWAPvMMCiHUK8oLNjipIg9IHP/Wp/q2oFR3sZpE0RI17Hjm0tBWPbJQWGnB8lPPsgzb1RzGlu29dX8nqrjcUXk6I3euBivO35hUPHJ2KhzCYIvRiiKt6581QWc86pz0Azsl5woFjzlO1ZP8x9rP8/D0VgWn6D4AAACE0GbLUnhDyZTBRE8J//8hAAAAwFZSewzRVAPnoWl/VYz5UE6tyRNb9QYOr9HxgB+tH3ChNREfqjwqluQBR9q5IF8ubdZM5HOSmr0xg6bYtSTXiBlI1GTuaRIuOcPUqWXaDncwYDphhpilNfoUyIXsf4F52Ezeyr46WtNpyxZT/8dhKTQnSm2JrXkZaoFDmI+w4yjNB9ABg5rCRN3K0A3H/QWTZ2M3ORzD4oLdi0WYCQEvx3/ahwiZxVji9yrkGeQjeu2gjzB8NC4H7o7c4XgIfaG/vieZZEZDZrfEtWygGOLEwiSmM8n1ahh4DTZEeCc9ch5V+sKxeaiZFFCNHn4vXH3Z6NjEWZ0ic1jX2wWT6JaVrUlSRlQG1Rnx3YN75VB9c1niUId+nlVN9GItV+3o1gIQdaF5U92n8CuLoJR4iLMo1KYq5HrnDxF+UDi9+hNEHtNVhaCR1FMoBZGnOl3NqzCMQsthePqc0XzD0CsHQLl4uD/ELQQsppl3Ob9y7a8f51hHJIZWQ/p2oI8gx3ZRkz6e8s9Rs0mTQlj9jW7C/J5jQT2y6OeyasP9ucbiU7qbVvixOGBINMdXzt+dF63hXfwzOM8Z8nkUw1Hm+Ldw8Aox+eaaByjGE/TB1wqutCt58wfsHbbJjWNnTQGsdI9CpLNkoZ2mNVpPUgpV7vI7wMwAcp+N3RzeMmP51aamNDTIpztwAAAANwBn0xqVwAADz9hkFBfPcqYxHr3pmfICzfLjAp52I5TBxMOdcVOqESAC+ouvEe579Us08p+ZiN1YMqDIfCTQU3O/IHFOtbJedbajSpQmW1XJnPQtBcV9EG5dBwZwUbSDoFdG+DhE6ZTgqcfn/Wyf7BNTQsNGnG0vGUD17TDfGCW/IBqeyyXgiHdgW/PcxNHB3lzKWPRGNw0m+AqvrGAYzwo9W/Nlc4gmoScyWhmma61m2f5Mv5LmdEb97qOAuhNwGBRmGAEESIYt5e1HX2E3ZiTp1xDENrbgI4F10MrAAACIkGbTknhDyZTAhP//IQAAAMBWTnsjgPd37upVKYQWN6PvnokE08LQR2NGG2tUSAHyFZILJThknuUg80mFVgQLrflbHO+bAgeWySIKkOBtCN/1FyLsRhmODBzCWcSRcUUDCtw7ZDgKrC8CzvZLVaLTNQaY2XmhHwqqciO6DfaBZcI5HJqn5nilLNgq26P1Znx/+Xd+Gp/Gp3WjoCzJDAnfrfeJjqYSJ/6Ch0G17f9pclfvyDzrj8XYI+b7arlWxUdpbhiuFvoYgSu+6/SiGvOscG25ECwAUdGPtsXiyOinbkyxchqfvqO4IZY4vpLR1gow17wk3jEKmG48VN+ILo0PyLULmL2yP3uhiV/6b8Sny9UDlE+4mwXgW64yrqmJG4Qzjg+oV1GG85R97XXwJMBzruW+cytEINFXp5HbnjqWAFem+qqtk81WmY/sZjz7llgVItI0k9c+W4zan3Elpv+doTyr0hgyoEh0m48dJZabtTr8z7xjGRWGJjBXvOrf0bC4sRu3oznJcRVUO07+K0VHJm1XA7paWYeuchbcy8nbAxLlnt5YWLTr3mg/bybuvnoW0u/lECHiFr+79Tvqeb+z1oLwwrqPfH3mzMo9lADWZbn0r0jZxVWN7l3JPVWf79siT4efzIZ7N2yxncyy3XX/PidnlUuFBJNcJwLNCFoINNesMbC22vfgW0Px+bkVLXKluYT/USNPYRggB2VFzDcDVxXUQAAAelBm3BJ4Q8mUwURPCf//IQAAAMBV5nV/4cgAGQ7unUne7YTehXf9kKNzrfMVgGYaSz/3jsd164oImX8JmtJDK6JZAzCmFd1j/IR9o67jZhYa+D1JjrHSDQTd7Q9ROKenFUWuVOgiy7ImP/Q/cpwsRXD3Zx9Lbwlh5X0XYDdpoxPjFZxgyCVsPT/J+uSUTD+9gx0zolSHsp5II1VDZgi4RRUSBkhxaWEpL0F15+gguocTnizlHcwAbJmlGf7dyOSlf/y6K8FzFQH5OIFS8nSMwg0letCMLFBEGl9NNHpsHJYbN/Rer8SA+gwGLWC5erPYwoJw5cG41vykCk5xUUcgUiEdOTeUEHpYecEN9O6Cr+PhXXnpIyd5OF/nI5ZJvKGW8zZP59mfUrWOpRLk+BlVco4xfOdd//HnmhckosgAOiG4HOFwOzNU+k71zPTLcxXyrpNTKhygetJyyPLOaUrq6CyZoUOaPBiyPKXebScrPB5DRVv4onSYEuNVjIL254IdpvBjdn1v1Y+ZXsjGa7BA8kobpTmXmNsGBJ5nwgUbc8lPaLKHVIgw3ZQyPESik8R6HOOqZ3rEcpMLlT193B6Yrt9ke3WA9DRwVe4JUQJM568yKQj655vFHhdtjMfy0c9SEtF0y3aNB+lU0EAAAB5AZ+PalcAAA97inroLnk5Bx2YPqvGaXqNtr6BwU4NvdQDRH5sVhCULXK3cMWCihZo5JfG/RIlYMalafczDDGOkFVZWkdTMlr6M12InZG4Q0POwSpR2FH0Am7EQkKZSSAinediEz8zWvrt3al/rSoMUfQwHykCSJ7cVAAAAH1Bm5RJ4Q8mUwIT//yEAAADAVemZ6GrFsd0qAPIF85EfzkJYCnJOmkMACIHzsmBSjDiJ9/+ucfbP/3oupXzHGk5EtE3X0k3r9/PpAXl94KvbVhZW+NWqFMAU10RTfg1spgejwNJdZy8R77QhtFH0oRD/PsCJXIL1iSD9BgC8QAAAHpBn7JFET3/AAAM01FMdFL2MmsTnZlEH+Fud9r0tXcF9hZxtjbCX2+37ZBRiCdxfujzAj3guh1qfeLelqom9Y9dxXEL/l51n+Lx51R4yHNyus1rzvmIsZqG00PFr/P0nrrIr2FKvnMESpYgM2VzWhbzsnxVVv71FaxLKQAAAFMBn9F0VwAAD1yIP5bSIV+F6veV/a6jhUk3uYKfD4eoGISoR2TJUHgjYZacbzp7EZst9YSxQPgq1EoudOCy7/xJYACiaN1tdDKIC+Rl7D/fRHkjqAAAAE0Bn9NqVwAAD3RFxNTjFqc/qe0zIRbuUqPFFvuC0U3bjmAFx7AD8GE5LMqxFazBKyrWkvkUC5tqxIp8upEvMx47lO+SDTKytSL/k6A+vgAAAItBm9VJqEFomUwIT//8hAAAAwFY6cgQD5V0/uUCN6sCjj+GBc/ctYvpIBrs/75Y+vUTeZgv6tsGhcrbWFavf+V/zpPHirUw1qyC9YNVHZK9d3w/PI6OJeobk7ylko4PiZ5Xltgnju4TriDBbbR+7UIJIimhM4DDaHQ/gu+DSv7/tOcw455MbcJiLYQJAAAAwkGb9knhClJlMCE//IQAAAMBWW6c8A/iRSedr2UssfXvYo2RrW1UIdt6vBrlcJV+MDk+6w0vX4eFSjM5pB9+41Kqsge09+tehE/2Y49i0al13ItsssbQEjBo1Vo9gBevz5kHXpnD5No384L8y9c4H4op/8LHVNhYFaC7O3Bp7U+W6mEZPsnyRKevfyf01IrvUTFh4983zIWbd2AxTz30L9/kVCeARqemx3aqosTrFUaFk7Hp4UZ1oVV3BLrMg7YIbJgoAAAAwUGaF0nhDomUwIT//IQAAAMBWU2ksJOAmumA9YFKq4FIXqNp7uXdNQeuwMQGv1LeR40vohMwwfL4qRt4M1RZf7gnnshQPQX61jU/10Uwnt57/z4OWfc3kZ51LW26B0etojhueI+xOrjrFfNeIbX9UoCI0WMsG/Qxa9+7lHs+NnFEABut45c8h9jqzdNmlb8f1zfqatb0mJ92+qzueGsWozDazgRPvCvwdb3N9eUdkok51AX/izZl9YAkpcU5IFaNFYEAAAGCQZo5SeEPJlMFETwn//yEAAADAVoyyqADJKXmc+y9Yf7XTPa1feRfnpw5dPr09zBjHaEvuZJPtkJyHODP/1SKVKdyecobWHj4/da6QapwO3U8qlgd/1Z5A6LwA95+vOm1fgl+O0+qzNz9msoXV+6YATv9iTkisMNdymrx16vYeAWt+z4C1wAXjBZXf9Av5pN5U/qEhhrHNyOguOuGe78FwY3By0Ndp/nR5hO7ILSmBVIfLP0h1VCj2gCfIwLnScR7CCBv1cZ5Yl7/6SZYo9TjktqaOcCDRuk2hhqZFSqcOqRf9KXNZnCCF1QnHZ662RVQlweRyt5ANFOCyAqUv2HTl5P/aNjdXXoM4iWfeccDmeqdJDgjBZp1UAWkC93za5l12C88ohCLLkjIYe47Dyk5sHVWEqYTQy6bXqF8LsRdnokExav60Ibwuei8ADtRE5WHKy8p8xLMuOGN0ehfc1Ho0prddiRxWVEjblwA3pQ4Md+4O4hWeSLZinv/f+Q4DiOz1Q0AAACFAZ5YalcAAA9hrDEqjQ/deVeNcDfbtIwE+MrKjpsaxftp9VijubqhuM/bR8i6MsoyrZfWRI8nZQ/t4SsJK3+QE2UeNrZJIg1IzR7SORhOyVO8QYOtOGwhAAvVKZRmNWzSrl8vLt2oLlN3ClNB2XayCnqH7gZAn+d4F6aEMsCoQBSEm0z3JwAAAO9BmlpJ4Q8mUwIT//yEAAADAVl0/uADD7j5VXs4y7nAzFED3TTBkNhOF6KU+OwR9GDz/whYIFZwheCo/qfJUydV/KWuGtPh3wD5UZ/LG/QyM1IdB8cDiF9DnNHq6/4lKFf97BYjltQi2Q0MXalifPyUKdLa4szpvJ0BxneKrS0mmE/19d17qDzq7cUcXyWcJldCctO0xIzzZSdDayAwZYOtjMTZjxGv5QtPn69OQgTg9k4RgvIAH5e630GSYLPYfvQgga9N6qbwbu7/CTdjPYuqV2a0TF01wZ/ohA/9kY0XG0StPKX5fbHia4IcwblJDwAAAflBmn1J4Q8mUwIT//yEAAADAVlNfJoAKnoXvpQqF3/+sLPKue1IjG1P86IkFC+zk9qidviH/oWLFCvX4CjlKR6LTf6pdhB+H6w/4PvzlAlCScgM3pgskK4qJ8GX5iYZSWz6qPC8orU+ve0gm/dolceU7qFrOQl47AM27FrFrAVJSz9ZI2fsR1w46Xu1Xlq9XG+MZZoOrqZmEqnA0zOXWHDUNY+U7hardDU8jr9gp0U6jluIeWLzp/1+Oou4bwGD2GqCjPjifOC59PS+YsiFXlABLuzM5Uma8ICiDJ/MqwiNOpscjOpY173csp87iFbVIpJ/qgJUwkRPYJ7donROEg+qCJ9mXw7bBBDyiSlSmohE0zH/3qhKY5pVf028nnbddXvDp3blBP61/oP7tKyq1E2m1EiMBWxn+ZL521zG8L/c5X5W7MWZY7H/hj3nY/5ajX/WaL5hcE7qf/lsZinAucaI9uhVEqaTk9FWypQT6XhBAFD4jTwTUaQQfwicnZyj9q9LO5PhkHeee3vvWTegGlPP/uR5/T36OtGZQHn2Va8fNvYT7xEsZZ9ZMG6eMGfgJOEP7ms1a7JhzflQujYPxDXdQGFUuVAQwYtpVnaNMIEFIpxJa1sUI5P3nBeoe9ZMPlkolK9PeqjjGDYm5Ov8+zdcsWrBprBUcl2AAAAAqkGem0URP/8AAA3GUBml2Yuhy0OVWglU7LXgqc6pQnuVYJosey6Q9iU/LW/Ecf7OftgrJZ45jp72/bZgFztBoLQak2FF/QSWklxSN01pS891oRSXi+LTA1lpac8Ht1GDlNa4z2Lt23NpI627aez7i+UClGqVAO+ndFqMxXj8NKk3ne8E7XHoiAO6ZTrMKEAdaaExOhaWRKPUVopZCJQn3HdJBdj0ywl1WUMDAAAAlgGevGpXAAAPYYSDBUJsPgwGt2g6VHpGw1n9QsskTf0KuSYI0K+s7P7+CdawsYGijrkU829KG9gwjbbDqW5u8aOfIcHzK1OZQz5pjl4dl6IXoEsaVODntZnOX1GyQG82SnYvTmy1gg0g+4jeeXujIKrEUcowDOp8srpoP64XBGEmmXnT2QQMwJzFlpmvRe7qoRtXqiG7gQAAAO1Bmr5JqEFomUwIT//8hAAAAwFZc37xAVB8nVlt3fVjpS+zk9vQbvjKfwX/t7DQXcRwPKp/RTSeCHocvGeBLHIzZmKogNYujMzNyUerOVzJAod+4oII+G83LauOwVMnvidbFgGE1Cc6Q++ixUMOFdZSGLo/L40IIzUf1DwOdecsNd8RLB23ZoU9B15IarrnmaLeW7I6/rUIVrjjwYyacvmBW0qKjdrcx0QgZpgTrX4RlO0afyjLrN/KoU2MvtcDyAxevZR3J95CqDKpLuEbNoBYjIQ1rjFqUZ4byS9BShIdxHKo1JJJ+woMjZnAqtEAAAGOQZrASeEKUmUwURLCf/yEAAADAVemY58unXAr5/k4iTTUBAZJTqqc1FJSdNhHxVXiATNoYWlP6Iw+eRMuJe1ufF4zX9k4ezEV7AYif5GQ6PW9dKWRF1fG3ueKIz6DsEB2nXnpeZajC5kr6Ods8R0vsl0bMqeM/syS+1pzp/1AwFTgDOe+FJRy39LNPQdAT69UUc/B1RKk0XwW4v7T27Jku1JId7tpQb2zXSeYuJxg4NXGQbVtlN/yaBvSjD2qRPPQ8Qklidr6jwclZpmhVt3BzzckIG39pdid8DMn+28FN84F2Rzgb7pgaa23/yU7cl0WGSjIIMHWuCNgpANoBPJYrl722pNpMgYE9AIhELFIyIO2ZKXgB3KM2I/Mv+ePWyEPi+QxVlMpSN6ARvdhxkkgB+9GKneOfI1ZUCXcjr+7qgmwdf5SkVamEghELhHBydN3WT5Z8CLXisRZDCFKLf7NZ1YgaunB1KqEwWnPnakj1jl2KNjjG42GezdUnqkon5Zcndxf/StoO0/43bjD7sAAAABmAZ7/alcAAAbrWqKgYsjh1KxzS3o0Vl1SUAyAP1SKrriCECaYhcxV8q+FgxjcPuIkd8C9ufnKr4k7gT+dJHIU/8eatYPpGLvP0e8X73Dt/LDjQJo57RYeQ7nElWGsyk+C/LJLdq1BAAAA0EGa4UnhDomUwIT//IQAAAMBWXOAk4Tel2MhqsZhSKfTIKfZwh9nl0NHswkblGfmqeRHxOwtODUbcNP5ppSPzyQIaZzyMWAc4DgZw8OuzICXKdOhcj0cyRNHuzcerFJoW60iKE6wkzRwI6RgZxrm2KNR6AeSX/sI4yKD1DsF9djVRLKnHWQ32zR+854EbhpUWIEPvCnicBZj4juAG9Kt7AE7J/GNiZLr+8Zig7oPTbIZjCqEI2GngwZMP5GAqcDVXmoLkm9cFpo3RBm3a6bpacAAAABPQZsFSeEPJlMCE//8hAAAAwCXKX8Ozh+DLOIcuXkyozcZWJmCLMUzMCdVXxgpiPAHf9f3oHT2h4i2C548s2i43BL48ouObLeDeyAGkoasXQAAAGJBnyNFET3/AAAMMWaqzuzIdTVuoSXrQwSPfd57jZvP1ZJ4g+hloxcI7kMGVY6UpjKp+s3vwk84sPAEoqPAwv38WPHz3uZESha2lOJAvHCCNBs8IQYDImZMtmA3DGrI3VUxgAAAADoBn0J0VwAADqyqa7kMchBRA+tMGeTEJTsrH2meOW24mMPwVsPehfSAydHX+D/En5Psj/9o6rNH97TBAAAAPAGfRGpXAAAOxGSQ6rAjRPJqwUwPGQnexC1vxMYQbe9FNz3H4KMWK9/QVSRRth/Wd60One3Vcp10pcciGQAAAIBBm0ZJqEFomUwIT//8hAAAAwFZdBLJU6tdwmb3IXjHfSvVUAX5C03myMI/UTsVKcwyUSQYsJ6lY6WsFyr/4sgwZWuxwAhcoXsxwYYo6379hpDbYQLF1B5ZF3jymbgSJXdXD4oU9i3bFms71i1b7CAHFzr2Rf/7nhzVg2VR3CDoVQAAAIZBm2dJ4QpSZTAhP/yEAAADAVlzCvEE/0UygQ81kDibwbT2uT4UabfvLgPnDWhTazDBTF5fUfXImHtnkoNXpVkcha4TPJKNgTe+ZFdn8TNh6oCBXYLPIj2x8ZdupGNGlsp6wOBgw1PXhx2mf7tDnKUKPiE930QWwzD2xN7jLgdcS4h3MFOHIQAAAK5Bm4hJ4Q6JlMCE//yEAAADAVowLnBOHmMro5P4j6gKuui0BZ0OoYVwSTlvv9Yom9qMdKfCrWWlVQ8QqrIeUedGMqeeZQ81toUvA9I1yEhP57Na1DsJwOsw2lcY8KYNNy+3etujbbGkqS4vYQMzw/GHp8hQjBF9Q2fjUndsL7JMBHdAXY+PlfPVtcaHA5yKcXvzvvOGZQYU5/0y0h5Xy5N9LVd4ibh/PT3ZRmPC0h8AAACpQZupSeEPJlMCE//8hAAAAwFZdB54EQEfYns06P9EwQ809zlav1hZsoTviXaIzDn4CiHlWA4ipXsYlufRxCXu6uHnm3eOiVyLWLsxJGWfpU9hDgYOhqv+pMyXXizNRYXamiOYsbfj5CxvK4ePR/1g9QtS4bIwgpFCn9hfg28nPkFj52AM+abMzzkmRQOV+uam3DUpbLDdKedmAl9zvvxNcMU3Qjrxy+aXgAAAALRBm8pJ4Q8mUwIT//yEAAADAVowLnBOLs5YIngOVhCK7etAWw1QjFrtu2yqqMBZvv/Od7THnzvJVD7BuocczqzsSQWiL+PHCNpL+0BOl7I49YqQceQ+XXNSGhsXP/QKC8eNHOAKIs9/+INrLfTz5EgDmMxXsSzkBeWh3zvzxa/FgASc90G+1FHsCNkFeDeZJ6y1Yg7Hav3lO1XcwCZmYE9MvKtElv2oKJJ7si08bVG+HAijUEUAAADDQZvrSeEPJlMCE//8hAAAAwFZdCLgERX59venRafuvzEBctz7NNjrEHucOigMyOXBDHA+ypZjZtp/UnFenQ4O6FwI7EoX9pCoQ0jElgIdEvPscVWhHRhqtlqXhOKQF9pNfOhDKjyakUbee2N8Kg0BMnRxpboaQBKnyTeMpfjAHLhmzMDsF81ipk1h60D4P4IIvsxmI9+Q3UeNRfu3qFoGrbMjEDvIQuK/cSPW9ueJSOTvTrQ3wCvM3iPzMVpIfUDsiLNpAAAA3UGaDEnhDyZTAhP//IQAAAMBWWo6mD+Q9nUf3oNNzSW59msYUJGZuTvJzJKpi3ImU4X/9XF9eHgZDmZQqmjxxYcEz2nZwOOPuIh7AfYPha7fqG93C1qrgSn9h8/RuykRTROslVsA+kEyhM09rELrjlTFzCs4J9iI/Oad3cH6qJpPRrKM8p8YJw/sZZA5tBnJzCglXd8CmhsEebNSXQmIf7vHjmRMy9/LUGcas/6LsROucXIYMDxgd+5Mg09op/BOovgashz7PlVR7Jm6Cgjp5KZyUd7c71S8Rt3YcXz8AAAAu0GaLUnhDyZTAhP//IQAAAMBWIfgESyMnrZmzz8tj2HQv5hSQK8jr0hwr/UsPEPDsVCsLrREHffOFIvCSj90FGAskMiBqHHSUOidGfsiB02a6VBGIR8YygwPklEnN1sZooy6St/Z3STTf2Fo7OfpjwqGGwXo88avXg5bnnCz1+70KTGsreWwubyXnRndemQxqxqN/YWjt2lNrkvtn7o7jiO8dPD9EMV2SL2RTfaIskatOaWpLMIH/MNqgakAAADNQZpOSeEPJlMCE//8hAAAAwFYh+ARLIj086QdagPe7jDNFH8vWS3FmBWaNOIRFRSqMGVU6/nmlPPMzhkuQHKFkHy/XgrzNumKPsvU9AL4daimk4J8Z4jP4MrviXjJp4iMojdPUiIrpx+Iv4DrpyYLHrKT19+TtKfK9GZ0AxunSgjhNXfk9bM07ZPdR8ecIWQZ+2NWJWJJiwXLvByg16Tv9lNhPfcljxcOuybmRve2U1XsSCxzZ0neRSWt+WcXK7MZ35oP/ZdOmsaUE/JjgQAAATJBmnFJ4Q8mUwIT//yEAAADAVowLnBOKVufUP2jtv5omnl3ZLwCaD7CJKpE6JRhPozM8vUkE2/gV0vzqglhd1sWKm5X6xrRuMLVKKRFzKEJrp3A/ty/qSBqfZukG0nAW9OZtQUg3Q8CNfwfJR8n6nvg+Vnjc/gbaw72kbl4/xx+ffMHmQrj8arenvVYOPOZfff53VipUr+UsXrrVP8FQPa/kTEbpLf5VJo7dyy2jYAzjytNqlgZz+zDH3QfOPi0ac6HS74WLMgVMZJ6a75M0yrZpFzi9ucGOf4jIhPTfpD8Fb2BFS3q4leXm4bcSXuKgdo8ISpuK+7I+qP/VgyF+LnDBi0Tbw1c6PBZI6OTgflpLCK2luVFJje+eNa9kTlbx1y9dlxXQ2k+7Yec4O3LNPywekEAAABYQZ6PRRE//wAABh6ueWsmne0d8zMxDX/r1bCnCSIwg8c3FOGdcHKjkEsx2nr2nVR//Ph0ThI++u396fR4y2VsY3kXFUkxv3qctPLvlvafHzVFetc5TONMuAAAAEUBnrBqVwAABtx3CiU0gCi1nMerM4/SZmWRhpbTR8+Bu8DniNwv8jS6FNNKOyWWW62xUY/VCtI4xw1WiPt3VEaUDjSdvWAAAAEGQZq1SahBaJlMCE///IQAAAMBWIfgES0KiWqQozyZsUZvo8JpYXWRBligrItW/9s2mXs5c0LtTYF17qELd6xEi+6NatLHw5oPJivBr7IUUslXXA5LK2RWYXq13nZQKyIlHaiNwzsakTiuRZaYHrpwwQkzScfLvb13Da6OnvzrHKiBNRoPs5oM5dKMv46mkFC1Sjz1KZqhRoH0xQpezF8P8qgYeCM4aqUroKmNvtiDrOdzV4WekyXGkZJZKSIOrIAv/m6++Ay8KZkjnIIYpsAvaXLtHAtOwv+psMXrF3p/36Ykh+UWBj/BCWt1zRjCxi4usJ7jMeu7ZLVbhTt20iiZy87CN2vL4QAAAF9BntNFES3/AAAFoP/smu7lyKIB633/1WODx7AhwuZhhhs+8cVRnU0aGmcg9+8jEpc04oKxP9PqZCQi7wpDFedHciBHAvZIXtAPeD14rWuW1KJts/860Jt9vye4WFRHwAAAAEgBnvJ0VwAABsUYAnEtWi8ZdG0Q0Dop7JHv7LrQ45WY6RqSXW5B2e0bAC6wZ203alLP3ek7DJ05YOX7rugg+IoHtZKdAaLtGFAAAAA5AZ70alcAAAMBX/ZqUhy63bGaa3kXbN6EmiQ9PLXvfuZ9/Nk62ISUcB4JfQIqAOdVSXH+KLKHWHKzAAAAeEGa+UmoQWyZTAhP//yEAAADAJpx0Ql+oG/AFADMrxB0YXj67Gd1LAcufzp9ywoiH+zlqWhpoKJ5+dzTtcRanad/VGBJO4u7Au6iLxPJQI5D62uX7KHizhuLvk4L60SE5td+u0ytZ1Usxp38ZA1WVQ8nYAvZmE9ccAAAAC5BnxdFFS3/AAAFnRsH1ghvCaL8TVUR/xNFAHZb2edL6TOpxcIeT8qdTHDj1Q1hAAAAIgGfNnRXAAADAwbLUe2QnIjbK3BCWI/sSweSFZAGnn24PiUAAAAaAZ84alcAAAMBTNWkvxj5MNgEElxO48M9Er4AAABkQZs7SahBbJlMFEwn//yEAAADAJsosiRfDJZN7A3UA/SCXJ10zKYKmlPQASSeA0V/rlciprGc//vm8QH9L1SZY6HlFdO/xXpP7yKjlDx6xLw5Xc4QqtkuUyNs0d4B6ZROc49Q1wAAACkBn1pqVwAAAwCZpD+12z2xm/yz0IRoKdZiOUmiANbtTmoO3FL3JH1FgAAAAGpBm1xJ4QpSZTAhP/yEAAADAJphIEo7VNrEdQBsBVg9t+KYNSScInYC+OBlAxfn+i9pn/soWZ3GFUcam8mmghMckQre0UV5KgEhCEVX7NbdrwpZwwFNXE0n9IiEVpBFcGCsZuDApdfVzYE1AAAA50GbYEnhDomUwIT//IQAAAMBWU2gj3iCf85gE5ndERpjPwGejGPHyTy30NeXdK4h73pplvKNcnymWx5rJABT7ceDbQGUEbOlcagevejGWOqluJ1wLVseZaH4WdihexV6QNU+Q+vYyVVPoF2uBGsyPyTVEhF9+CdjT7WRP1IYNrb+PilVK1jrBo2JXZO0DyWcyZ4hJRs6Jcmh2d6pXgvIh8MNTWMIWqURuI5ZT1WNrCx1rPYtWV6AK4ElSx6/jiJRPWzAVe38P7J/CEbIf6zvaRW3yEjA0B24IG630SfPMqekUauZD0J3gQAAAFVBn55FET3/AAADAn3HIwIPggB9ZB0ZREwiH2Ri7mvXTbiijOOB+gQ4odO+HuoxmKq6R9155pthfgLeISsnzRhqmk4pBNXCoP8dzVoI9avcMRQdmxdwAAAALgGfvXRXAAADAWBHV0/jciELAP8FwxOmyk7YyJpyZjPZVN2K0VENwttGkGxGLSoAAAAsAZ+/alcAAAbaraypxihDHkPVurH0wIJ/oRZZd1oG/jYPnPZVbg98T+qMNcEAAADgQZujSahBaJlMCE///IQAAAMBWjETGEdgRPEqxpa/MGL4p0jLqCFFAQRfkXaUfSXMqLW5o9STmVePCmAriN/W8PrUWY6FRRfPSgbyMs/qTV5/d3STxtq0Pq5MAanNP3tZJsLZIazxrE4OvyoClm6NUOiGEEClEBdGHwjkpdiZt8xkgEFwoV5IhFR3toKakiiKYlGB0oXFMQX+m9ybI6SyteIelZqV0NymiFT2TbAh7LOEBiANy0x39n15C+2mBN8ode/QMGfAeBNTR/AzwvbmpVRi3ch7WxM3nkHqcqoYhzgAAABIQZ/BRREv/wAAAwK7GgG8i9Ot8jCkcs1OSeg2jNNB9taJPcnddmpVrlf2YVgCG49wJdVKsIfVJ+D+VLdZcXXmBDBgEBlIhHirAAAANwGf4mpXAAADAxMT8jhD3Rf5N51AVqwCDCplSZPDMWGCQehnrFdtCA8UMS9TbiSGcFyCC9t7PIQAAADFQZvnSahBbJlMCEf/+lgAAAMCputK0SZ44dudneU7qbpN8dybTieqnO3EJVl3pDEPbSmAWEX21Qu8Iimdsrh7v1MQLg//6bxPIK52C8T/CBnbMjdygwOoDOqOVlMCLTFdjAccVG8436zRSBcJO//lvI1JAeuSge2FLZsUGb8M1bvh5m7ObIkPceoGOHuOPHX5IbHPItUz8Ux1gxAlwKK5PU0L5Vhr/UD4JwiFLWD3lBD9FRtUYmRAsZbQhrY7gcRM0LMZc50AAABPQZ4FRRUt/wAADG3/4vrHs+lQlQVVLFeTYtRLB+a52xMHyR2NOF7MAZd6K//IU9MUTjpYNk27NG3UK89FgArp1bt/Etlmbg832rZ4ZsTJmQAAADABniR0VwAADqyZTGaILPi8NiJu0vNcCNX+RMTn+i9jima7E+PbytOFvw5qenktKXEAAAAsAZ4malcAAA7ET/lKfBltfyHXYrya4yfT4CwxEd0SDYhO5AWrJrFH/mOlKpkAAABSQZorSahBbJlMCEf/+lgAAAMAOoujFu4Fj5zVM1cFadf/7DPWtz28FDtzv/f0q/0RQN+6+d7+DG592QWtiFgnaHjWDYPVrSTjSENO1NprNbhHhAAAADBBnklFFS3/AAAMMWMQsB257YiZNdro80LSplJD3+PoAxrLt7SRlPhkzc18s+CfX1gAAAAcAZ5odFcAAA6skb78EagRjJDW3wUc330RGKSrrQAAACMBnmpqVwAADsRP+a9sshWY9tE9rwzyO6kNchmW/b5m7ItbAgAAAKhBmm9JqEFsmUwI//pYAAADAqbim2iF/n5dQzjS8OHRzrrojARNaAUxJN3Ji9lQaDIOmqlHPpYW8qKXYNDemxX4oHkK5I4GfrWcZbYfElUIElePRhXivYTfZh/ltbIk9N/VZ39jKVxXgf1wSTgcg8hLY/si5Chp18yHPNnhcLRFVB9SotvagUyVz0xJrpvjJeosCsoSWttLe9t4GtKClegzYJ8ys6/l7FoAAABIQZ6NRRUt/wAADDFkJoNFRXNkYTE2mY1FsUuGRpgyaRV5HhbYMcHsAAPpGiXYt8JiM3EJCCixlHO9UTqb7lRK4O8qPaZnZkhBAAAAKgGerHRXAAAOyESeCBU7AqavGoZuK8BBdchwYFBIB6FZHtZZdFhfIMlZQQAAADcBnq5qVwAADtZvAyLWAXN6kAvb194yvor50HF4bD0sAZze8JwPf3DQVgHrRnYaZnvAF3MkanuXAAAAwEGas0moQWyZTAj/+lgAAAMCpMBkRaJphGtrV5OHf/wCbR5izPI4mfLKqnMi2n2+W2E4I8QxhX6ZkuzdYKaEFNkzwxuFeKiGU1ACKbKPddGtjeoNJ5rY+5Vnp2AcoRcru+L3+bl/1SHsxzQctCvufO5G7RdEmM9I8ociAm4InKjr93bR/EidK/ZBvMwtMV7iKN/Yvc+yr/d/4C5PFzCc+aKwdysVgtHOkaeHQ7gfM5H/G+3o/hn5mq1JbF4Jxu89+gAAAExBntFFFS3/AAAMzPIp3p+8C9c55rUX92BUGKta76ldW5xjhUYoPPRUWCt3ZRbrEMggwCnf8xCcVKz/Q5SLAjPeiNJZTa/5NXhVfMNUAAAANAGe8HRXAAAOrJjkZ1DCOo6oYn0WF+NuhiSCCbo1Th7SRQ1ZjWC8dLMiWasa0SAWgY5u0sEAAAA9AZ7yalcAAA908mFKym2XRuAH0YhRX2sWE/9CrG5oqW5isslWxgHRMxuKv1+obVdClYHAEEPQCkLYajaxgAAAAHdBmvdJqEFsmUwI3/MgAAADAuXnammBHE+RBiYwzAMVJfjhp5j+6//StwBcMs30vnqS7nBGjoz9yTWZRBzZavE2nhTVMlC4jwkWvLPJde/iPkCxPNnE4MS98MIzRPrHQbQoL+C7Jc1pzr/9yx4rlFm0IZ6X7sMF0AAAAEZBnxVFFS3/AAAM0YNf96eTAVDCg5HgT2zkv5i2eikBOOd6VvTbNaMU3Mx0a9Sf4wA9RncrhHc5gkLIB/naAVJEXWiPGDAhAAAANwGfNHRXAAAPXVAldtOcsPlq2wVpryMDsnaVysamKrG4DL4uyUqnLQkAudzBIc1yOzwrVQy2GHwAAAAyAZ82alcAAA908ll8509fAtDIOdQvmTezAT7vLpxnAlaqgWG+bonOniCqkdSUwp3IwIEAAABwQZs7SahBbJlMCL/kQAAAE+bPj5LG+lkoT3+CIJ9dHmOho2j4BrKAXXR0ejtD0LjYuacV/5Vfmu851MR8n8NIxC/5XPJN9J6OLaqvflQ5WbiyO9HRpYVieY9tqnivFt5BkNqTR5G6U6S8szUlpdQXgQAAADFBn1lFFS3/AAAM0YFeGJQnYDy5pFezDoSN7KcIx0N0pOB4RHyqM4ENrovnRTSyxFKAAAAAKAGfeHRXAAAPXVAYiebpn47XkUblM4dzM+tqoaxL6ek+RhAaibC2SgMAAAAfAZ96alcAAA90T7VlV+gZUmErlvaJ9WSYptz+tDRrQgAAAFFBm39JqEFsmUwJ/wAAAwAAP21AEhtzivXv1//T6PSYHDGvQ657gUVnzfCHhDecEiLXGJzg5Nqz98n0oDhzOS4jVyrrAK7kFL8OG3T3uNJe+lcAAAA1QZ+dRRUt/wAADNEnOeY3fkeLwy/f8FF8wZi7biQ8/7WOWdOTT7xHy8QCIsQuTtVlSQgLh8EAAAAcAZ+8dFcAAA9cjKq2Ef17hRivai0H7lVylIXCuAAAACsBn75qVwAAD3RPtWUjH5Hw9EXPKru7ZGglEwf3l7JD7Wnw+OqtadSNIgM0AAAAU0Gbo0moQWyZTAr/AAADAAczxwzg0ktGKNtjwOw6Q+CReL8TZ3Z5e2aGN3McoE1NOtA2bK+0L9fuuPEDI2yN3vQDw0V3/MCbTn93qYiowZgLq2tBAAAAQ0GfwUUVLf8AAAzRJ1M6TNGuhRdOfW3DbE20XaWeaeythEYAcmHBQO/Z05WcG6w9Z7TOmzsulGiXZi6nJ/+jCLcipkAAAAAyAZ/gdFcAAA9cjh4t+jfpYMQyxubRc7sC5dnoV6y7TnkMO+WydLVQCkVrOGT6IUXHl6EAAAAyAZ/ialcAAA9zOc17RQ0BNCIvB4M/GJyRmxO/7n3mBiH/2WYPgHrAUzh0pr04gyre9JQAAAdsbW9vdgAAAGxtdmhkAAAAAAAAAAAAAAAAAAAD6AAAGGoAAQAAAQAAAAAAAAAAAAAAAAEAAAAAAAAAAAAAAAAAAAABAAAAAAAAAAAAAAAAAABAAAAAAAAAAAAAAAAAAAAAAAAAAAAAAAAAAAAAAAAAAgAABpZ0cmFrAAAAXHRraGQAAAADAAAAAAAAAAAAAAABAAAAAAAAGGoAAAAAAAAAAAAAAAAAAAAAAAEAAAAAAAAAAAAAAAAAAAABAAAAAAAAAAAAAAAAAABAAAAAAfQAAAH0AAAAAAAkZWR0cwAAABxlbHN0AAAAAAAAAAEAABhqAAAIAAABAAAAAAYObWRpYQAAACBtZGhkAAAAAAAAAAAAAAAAAABAAAABkABVxAAAAAAALWhkbHIAAAAAAAAAAHZpZGUAAAAAAAAAAAAAAABWaWRlb0hhbmRsZXIAAAAFuW1pbmYAAAAUdm1oZAAAAAEAAAAAAAAAAAAAACRkaW5mAAAAHGRyZWYAAAAAAAAAAQAAAAx1cmwgAAAAAQAABXlzdGJsAAAAwXN0c2QAAAAAAAAAAQAAALFhdmMxAAAAAAAAAAEAAAAAAAAAAAAAAAAAAAAAAfQB9ABIAAAASAAAAAAAAAABFUxhdmM1OS4zNy4xMDAgbGlieDI2NAAAAAAAAAAAAAAAGP//AAAAN2F2Y0MBZAAW/+EAG2dkABas2UCAEHnnwEQAAAMABAAAAwCAPFi2WAEABWjr5yyL/fj4AAAAABBwYXNwAAAAAQAAAAEAAAAUYnRydAAAAAAAAFcOAABXDgAAABhzdHRzAAAAAAAAAAEAAABkAAAEAAAAABRzdHNzAAAAAAAAAAEAAAABAAACsGN0dHMAAAAAAAAAVAAAAAIAAAgAAAAAAQAADAAAAAABAAAEAAAAAAIAAAgAAAAAAQAADAAAAAABAAAEAAAAAAEAAAwAAAAAAQAABAAAAAACAAAIAAAAAAEAAAwAAAAAAQAABAAAAAABAAAIAAAAAAEAAAwAAAAAAQAABAAAAAABAAAUAAAAAAEAAAgAAAAAAQAAAAAAAAABAAAEAAAAAAMAAAgAAAAAAQAADAAAAAABAAAEAAAAAAEAAAgAAAAAAQAAEAAAAAACAAAEAAAAAAEAAAgAAAAAAQAADAAAAAABAAAEAAAAAAEAAAgAAAAAAQAAFAAAAAABAAAIAAAAAAEAAAAAAAAAAQAABAAAAAAJAAAIAAAAAAEAABAAAAAAAgAABAAAAAABAAAUAAAAAAEAAAgAAAAAAQAAAAAAAAABAAAEAAAAAAEAABQAAAAAAQAACAAAAAABAAAAAAAAAAEAAAQAAAAAAQAADAAAAAABAAAEAAAAAAEAAAgAAAAAAQAAFAAAAAABAAAIAAAAAAEAAAAAAAAAAQAABAAAAAABAAAQAAAAAAIAAAQAAAAAAQAAFAAAAAABAAAIAAAAAAEAAAAAAAAAAQAABAAAAAABAAAUAAAAAAEAAAgAAAAAAQAAAAAAAAABAAAEAAAAAAEAABQAAAAAAQAACAAAAAABAAAAAAAAAAEAAAQAAAAAAQAAFAAAAAABAAAIAAAAAAEAAAAAAAAAAQAABAAAAAABAAAUAAAAAAEAAAgAAAAAAQAAAAAAAAABAAAEAAAAAAEAABQAAAAAAQAACAAAAAABAAAAAAAAAAEAAAQAAAAAAQAAFAAAAAABAAAIAAAAAAEAAAAAAAAAAQAABAAAAAABAAAUAAAAAAEAAAgAAAAAAQAAAAAAAAABAAAEAAAAABxzdHNjAAAAAAAAAAEAAAABAAAAZAAAAAEAAAGkc3RzegAAAAAAAAAAAAAAZAAABM0AAAFUAAABXAAAAUQAAAHOAAABZAAAAV8AAAHNAAAA7gAAAbEAAAFrAAABywAAAhcAAADgAAACJgAAAe0AAAB9AAAAgQAAAH4AAABXAAAAUQAAAI8AAADGAAAAxQAAAYYAAACJAAAA8wAAAf0AAACuAAAAmgAAAPEAAAGSAAAAagAAANQAAABTAAAAZgAAAD4AAABAAAAAhAAAAIoAAACyAAAArQAAALgAAADHAAAA4QAAAL8AAADRAAABNgAAAFwAAABJAAABCgAAAGMAAABMAAAAPQAAAHwAAAAyAAAAJgAAAB4AAABoAAAALQAAAG4AAADrAAAAWQAAADIAAAAwAAAA5AAAAEwAAAA7AAAAyQAAAFMAAAA0AAAAMAAAAFYAAAA0AAAAIAAAACcAAACsAAAATAAAAC4AAAA7AAAAxAAAAFAAAAA4AAAAQQAAAHsAAABKAAAAOwAAADYAAAB0AAAANQAAACwAAAAjAAAAVQAAADkAAAAgAAAALwAAAFcAAABHAAAANgAAADYAAAAUc3RjbwAAAAAAAAABAAAAMAAAAGJ1ZHRhAAAAWm1ldGEAAAAAAAAAIWhkbHIAAAAAAAAAAG1kaXJhcHBsAAAAAAAAAAAAAAAALWlsc3QAAAAlqXRvbwAAAB1kYXRhAAAAAQAAAABMYXZmNTkuMjcuMTAw\" type=\"video/mp4\" />\n",
       "             </video>"
      ],
      "text/plain": [
       "<IPython.core.display.HTML object>"
      ]
     },
     "execution_count": 345,
     "metadata": {},
     "output_type": "execute_result"
    }
   ],
   "source": [
    "vid_fname = 'pendulum-notrain.mp4'\n",
    "\n",
    "if os.path.exists(vid_fname):\n",
    "    os.remove(vid_fname)\n",
    "    \n",
    "cmd = 'ffmpeg -r 16 -f image2 -i {}/%03d.png -vcodec libx264 -crf 25  -pix_fmt yuv420p {}'.format(\n",
    "    t_dir, vid_fname\n",
    ")\n",
    "\n",
    "os.system(cmd)\n",
    "print('Saving video to: {}'.format(vid_fname))\n",
    "\n",
    "video = io.open(vid_fname, 'r+b').read()\n",
    "encoded = base64.b64encode(video)\n",
    "HTML(data='''<video alt=\"test\" controls>\n",
    "                <source src=\"data:video/mp4;base64,{0}\" type=\"video/mp4\" />\n",
    "             </video>'''.format(encoded.decode('ascii')))"
   ]
  },
  {
   "cell_type": "code",
   "execution_count": null,
   "metadata": {},
   "outputs": [
    {
     "data": {
      "text/plain": [
       "array([[1., 2.],\n",
       "       [3., 4.],\n",
       "       [5., 6.]])"
      ]
     },
     "execution_count": 346,
     "metadata": {},
     "output_type": "execute_result"
    },
    {
     "ename": "",
     "evalue": "",
     "output_type": "error",
     "traceback": [
      "\u001b[1;31mThe Kernel crashed while executing code in the the current cell or a previous cell. Please review the code in the cell(s) to identify a possible cause of the failure. Click <a href='https://aka.ms/vscodeJupyterKernelCrash'>here</a> for more info. View Jupyter <a href='command:jupyter.viewOutput'>log</a> for further details."
     ]
    }
   ],
   "source": [
    "A = np.array([[1,2],[3,4],[5,6]])\n",
    "A_ = np.linalg.pinv(A)\n",
    "A @ A_ @ A"
   ]
  }
 ],
 "metadata": {
  "kernelspec": {
   "display_name": "base",
   "language": "python",
   "name": "python3"
  },
  "language_info": {
   "codemirror_mode": {
    "name": "ipython",
    "version": 3
   },
   "file_extension": ".py",
   "mimetype": "text/x-python",
   "name": "python",
   "nbconvert_exporter": "python",
   "pygments_lexer": "ipython3",
   "version": "3.10.9"
  },
  "orig_nbformat": 4
 },
 "nbformat": 4,
 "nbformat_minor": 2
}
