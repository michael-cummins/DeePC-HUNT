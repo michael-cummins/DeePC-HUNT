{
 "cells": [
  {
   "cell_type": "code",
   "execution_count": 1,
   "metadata": {},
   "outputs": [],
   "source": [
    "import torch\n",
    "from torch.autograd import Function, Variable\n",
    "from torch.nn.parameter import Parameter\n",
    "import torch.optim as optim\n",
    "\n",
    "import numpy as np\n",
    "import numpy.random as npr\n",
    "\n",
    "from mpc import mpc\n",
    "from mpc.mpc import GradMethods, QuadCost, LinDx\n",
    "\n",
    "import sys\n",
    "from IPython.core import ultratb\n",
    "\n",
    "import time\n",
    "import os\n",
    "import shutil\n",
    "import pickle as pkl\n",
    "import collections\n",
    "from mpc.dynamics import AffineDynamics\n",
    "import argparse\n",
    "import setproctitle"
   ]
  },
  {
   "cell_type": "code",
   "execution_count": 2,
   "metadata": {},
   "outputs": [],
   "source": [
    "n_batch, n_state, n_ctrl, T = 12, 3, 3, 10\n",
    "n_sc = n_state + n_ctrl\n",
    "device = 'cpu'\n",
    "u_lower = torch.tensor([-0.5,-0.5,-0.5], dtype=torch.float32)\n",
    "u_lower = u_lower.repeat(T, n_batch, 1)\n",
    "u_upper = torch.tensor([0.5,0.5,0.5], dtype=torch.float32)\n",
    "u_upper = u_upper.repeat(T, n_batch, 1)"
   ]
  },
  {
   "cell_type": "code",
   "execution_count": 3,
   "metadata": {},
   "outputs": [
    {
     "name": "stdout",
     "output_type": "stream",
     "text": [
      "tensor([10.0000, 10.0000, 10.0000,  0.1000,  0.1000,  0.1000])\n"
     ]
    }
   ],
   "source": [
    "goal_state = torch.Tensor([2,1,-1])\n",
    "goal_weights = torch.ones(n_state)*10\n",
    "px = -(goal_weights)*goal_state\n",
    "p = torch.cat((px, torch.zeros(n_ctrl)))\n",
    "p = p.unsqueeze(0).repeat(T, n_batch, 1)\n",
    "\n",
    "ctr_penalty = 0.1\n",
    "q = torch.cat([goal_weights, torch.ones(n_ctrl)*ctr_penalty]).to(device)\n",
    "print(q)\n",
    "Q = torch.diag(q).unsqueeze(0).unsqueeze(0).repeat(\n",
    "        T, n_batch, 1, 1\n",
    ").to(device)\n",
    "A = torch.tensor([[1.01, 0.01, 0],[0.01, 1.01, 0.01],[0, 0.01, 1.01]]).to(device)\n",
    "B = torch.eye(3).to(device)\n",
    "weight_est, ctrl_est = torch.randn(size=(1,))+1, torch.randn(size=(1,))+1"
   ]
  },
  {
   "cell_type": "code",
   "execution_count": 4,
   "metadata": {},
   "outputs": [
    {
     "name": "stdout",
     "output_type": "stream",
     "text": [
      "tensor([10.0000, 10.0000, 10.0000,  0.1000,  0.1000,  0.1000])\n",
      "tensor([0.9544, 0.9544, 0.9544, 1.3133, 1.3133, 1.3133])\n"
     ]
    }
   ],
   "source": [
    "print(q)\n",
    "print(torch.cat([torch.ones(n_state)*weight_est, torch.ones(n_ctrl)*ctrl_est]))"
   ]
  },
  {
   "cell_type": "code",
   "execution_count": 5,
   "metadata": {},
   "outputs": [],
   "source": [
    "def get_loss(x_init, q_est, r_est):\n",
    "        \n",
    "        with torch.no_grad():\n",
    "\n",
    "            # Expert \n",
    "            x_true, u_true, objs_true = mpc.MPC(\n",
    "                n_state, n_ctrl, T,\n",
    "                u_lower=u_lower, u_upper=u_upper, \n",
    "                lqr_iter=100,\n",
    "                verbose=-1,\n",
    "                exit_unconverged=False,\n",
    "                detach_unconverged=False,\n",
    "                n_batch=n_batch,\n",
    "            )(x_init, QuadCost(Q, p), AffineDynamics(A=A, B=B))\n",
    "\n",
    "            # Learner\n",
    "\n",
    "            # Construct cost matrices from ctrl and state penalty\n",
    "            # Weights and penalties are identical for each state so \n",
    "            # We only need to optimize over two scalar variables \"weight_est\" and \"ctrl_est\"\n",
    "\n",
    "            q = torch.cat([torch.ones(n_state)*q_est, torch.ones(n_ctrl)*r_est])\n",
    "            Q_est = torch.diag(q).unsqueeze(0).unsqueeze(0).repeat(\n",
    "                    T, n_batch, 1, 1\n",
    "            ).to(device)\n",
    "            px = -(torch.ones(n_state)*q_est)*goal_state\n",
    "            p_est = torch.cat((px, torch.zeros(n_ctrl)))\n",
    "            p_est = p_est.unsqueeze(0).repeat(T, n_batch, 1)    \n",
    "\n",
    "            # Roll out MPC with estimated cost function\n",
    "            x_pred, u_pred, objs_pred = mpc.MPC(\n",
    "                n_state, n_ctrl, T,\n",
    "                u_lower=u_lower, u_upper=u_upper, \n",
    "                lqr_iter=100,\n",
    "                verbose=-1,\n",
    "                exit_unconverged=False,\n",
    "                detach_unconverged=False,\n",
    "                n_batch=n_batch,\n",
    "            )(x_init, QuadCost(Q_est, p_est), AffineDynamics(A=A, B=B))\n",
    "\n",
    "            # Get MSE of trajectory\n",
    "            traj_loss = torch.mean((u_true - u_pred)**2) + torch.mean((x_true - x_pred)**2)\n",
    "\n",
    "        return traj_loss"
   ]
  },
  {
   "cell_type": "code",
   "execution_count": 6,
   "metadata": {},
   "outputs": [
    {
     "data": {
      "text/plain": [
       "tensor(0.0066)"
      ]
     },
     "execution_count": 6,
     "metadata": {},
     "output_type": "execute_result"
    }
   ],
   "source": [
    "x_init = torch.randn(n_batch, n_state)\n",
    "get_loss(x_init, weight_est, ctrl_est)"
   ]
  }
 ],
 "metadata": {
  "kernelspec": {
   "display_name": "base",
   "language": "python",
   "name": "python3"
  },
  "language_info": {
   "codemirror_mode": {
    "name": "ipython",
    "version": 3
   },
   "file_extension": ".py",
   "mimetype": "text/x-python",
   "name": "python",
   "nbconvert_exporter": "python",
   "pygments_lexer": "ipython3",
   "version": "3.10.9"
  },
  "orig_nbformat": 4
 },
 "nbformat": 4,
 "nbformat_minor": 2
}
