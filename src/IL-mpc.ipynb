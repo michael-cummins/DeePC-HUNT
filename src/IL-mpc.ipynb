{
 "cells": [
  {
   "cell_type": "code",
   "execution_count": 9,
   "metadata": {},
   "outputs": [],
   "source": [
    "import torch\n",
    "from torch.autograd import Function, Variable\n",
    "from torch.nn.parameter import Parameter\n",
    "import torch.optim as optim\n",
    "\n",
    "import numpy as np\n",
    "import numpy.random as npr\n",
    "\n",
    "from mpc import mpc\n",
    "from mpc.mpc import GradMethods, QuadCost, LinDx\n",
    "\n",
    "import sys\n",
    "from IPython.core import ultratb\n",
    "\n",
    "import time\n",
    "import os\n",
    "import shutil\n",
    "import pickle as pkl\n",
    "import collections\n",
    "from mpc.dynamics import AffineDynamics\n",
    "import argparse\n",
    "import setproctitle\n",
    "from tqdm import tqdm"
   ]
  },
  {
   "cell_type": "code",
   "execution_count": 24,
   "metadata": {},
   "outputs": [],
   "source": [
    "n_batch, n_state, n_ctrl, T = 12, 3, 3, 10\n",
    "n_sc = n_state + n_ctrl\n",
    "device = 'cpu'\n",
    "u_lower = torch.tensor([-0.5,-0.5,-0.5], dtype=torch.float32)\n",
    "u_lower = u_lower.repeat(T, n_batch, 1)\n",
    "u_upper = torch.tensor([0.5,0.5,0.5], dtype=torch.float32)\n",
    "u_upper = u_upper.repeat(T, n_batch, 1)"
   ]
  },
  {
   "cell_type": "code",
   "execution_count": 29,
   "metadata": {},
   "outputs": [
    {
     "name": "stdout",
     "output_type": "stream",
     "text": [
      "tensor([10.0000, 10.0000, 10.0000,  0.1000,  0.1000,  0.1000])\n"
     ]
    }
   ],
   "source": [
    "goal_state = torch.Tensor([2,1,-1])\n",
    "goal_weights = torch.ones(n_state)*10\n",
    "px = -(goal_weights)*goal_state\n",
    "p = torch.cat((px, torch.zeros(n_ctrl)))\n",
    "p = p.unsqueeze(0).repeat(T, n_batch, 1)\n",
    "\n",
    "ctr_penalty = 0.1\n",
    "q = torch.cat([goal_weights, torch.ones(n_ctrl)*ctr_penalty]).to(device)\n",
    "print(q)\n",
    "Q = torch.diag(q).unsqueeze(0).unsqueeze(0).repeat(\n",
    "        T, n_batch, 1, 1\n",
    ").to(device)\n",
    "A = torch.tensor([[1.01, 0.01, 0],[0.01, 1.01, 0.01],[0, 0.01, 1.01]]).to(device)\n",
    "B = torch.eye(3).to(device)\n",
    "weight_est, ctrl_est = Parameter(torch.randn(size=(1,))+1), Parameter(torch.randn(size=(1,))+1)"
   ]
  },
  {
   "cell_type": "code",
   "execution_count": 30,
   "metadata": {},
   "outputs": [
    {
     "name": "stdout",
     "output_type": "stream",
     "text": [
      "tensor([10.0000, 10.0000, 10.0000,  0.1000,  0.1000,  0.1000])\n",
      "tensor([2.8567, 2.8567, 2.8567, 0.3694, 0.3694, 0.3694],\n",
      "       grad_fn=<CatBackward0>)\n"
     ]
    }
   ],
   "source": [
    "print(q)\n",
    "print(torch.cat([torch.ones(n_state)*weight_est, torch.ones(n_ctrl)*ctrl_est]))"
   ]
  },
  {
   "cell_type": "code",
   "execution_count": 31,
   "metadata": {},
   "outputs": [],
   "source": [
    "def get_loss(x_init : torch.Tensor, q_est : torch.Tensor, r_est : torch.Tensor) -> torch.Tensor:\n",
    "\n",
    "        # Expert \n",
    "        x_true, u_true, objs_true = mpc.MPC(\n",
    "            n_state, n_ctrl, T,\n",
    "            u_lower=u_lower, u_upper=u_upper, \n",
    "            lqr_iter=100,\n",
    "            verbose=-1,\n",
    "            exit_unconverged=False,\n",
    "            detach_unconverged=False,\n",
    "            backprop=False,\n",
    "            n_batch=n_batch,\n",
    "        )(x_init, QuadCost(Q, p), AffineDynamics(A=A, B=B))\n",
    "\n",
    "        # Learner\n",
    "\n",
    "        # Construct cost matrices from ctrl and state penalty\n",
    "        # Weights and penalties are identical for each state so \n",
    "        # We only need to optimize over two scalar variables \"weight_est\" and \"ctrl_est\"\n",
    "\n",
    "        q = torch.cat([torch.ones(n_state)*q_est, torch.ones(n_ctrl)*r_est])\n",
    "        Q_est = torch.diag(q).unsqueeze(0).unsqueeze(0).repeat(\n",
    "                T, n_batch, 1, 1\n",
    "        ).to(device)\n",
    "        px = -(torch.ones(n_state)*q_est)*goal_state\n",
    "        p_est = torch.cat((px, torch.zeros(n_ctrl)))\n",
    "        p_est = p_est.unsqueeze(0).repeat(T, n_batch, 1)    \n",
    "\n",
    "        # Roll out MPC with estimated cost function\n",
    "        x_pred, u_pred, objs_pred = mpc.MPC(\n",
    "            n_state, n_ctrl, T,\n",
    "            u_lower=u_lower, u_upper=u_upper, \n",
    "            lqr_iter=100,\n",
    "            verbose=-1,\n",
    "            backprop=False,\n",
    "            exit_unconverged=False,\n",
    "            detach_unconverged=False,\n",
    "            n_batch=n_batch,\n",
    "        )(x_init, QuadCost(Q_est, p_est), AffineDynamics(A=A, B=B))\n",
    "\n",
    "        # Get MSE of trajectory\n",
    "        traj_loss = torch.mean((u_true - u_pred)**2) + torch.mean((x_true - x_pred)**2)\n",
    "\n",
    "        return traj_loss"
   ]
  },
  {
   "cell_type": "code",
   "execution_count": 32,
   "metadata": {},
   "outputs": [
    {
     "name": "stderr",
     "output_type": "stream",
     "text": [
      "100%|██████████| 100/100 [00:21<00:00,  4.57it/s]\n"
     ]
    }
   ],
   "source": [
    "opt = optim.RMSprop((weight_est, ctrl_est), lr=1e-2)\n",
    "model_loss = []\n",
    "traj_loss = []\n",
    "for i in tqdm(range(100)):\n",
    "    x_init = torch.randn(n_batch,n_state)\n",
    "\n",
    "    loss = get_loss(x_init, weight_est, ctrl_est)\n",
    "    traj_loss.append(loss)\n",
    "    opt.zero_grad()\n",
    "    loss.backward()\n",
    "    opt.step()\n",
    "\n",
    "    model_loss.append((10 - weight_est)**2 + (1 - ctrl_est)**2)\n"
   ]
  },
  {
   "cell_type": "code",
   "execution_count": 33,
   "metadata": {},
   "outputs": [
    {
     "data": {
      "text/plain": [
       "[tensor(0.0002, grad_fn=<AddBackward0>),\n",
       " tensor(0.0001, grad_fn=<AddBackward0>),\n",
       " tensor(6.9959e-05, grad_fn=<AddBackward0>),\n",
       " tensor(3.8982e-05, grad_fn=<AddBackward0>),\n",
       " tensor(2.3731e-05, grad_fn=<AddBackward0>),\n",
       " tensor(1.7700e-05, grad_fn=<AddBackward0>),\n",
       " tensor(9.4328e-06, grad_fn=<AddBackward0>),\n",
       " tensor(4.9492e-06, grad_fn=<AddBackward0>),\n",
       " tensor(2.4493e-06, grad_fn=<AddBackward0>),\n",
       " tensor(1.5519e-06, grad_fn=<AddBackward0>),\n",
       " tensor(9.9384e-07, grad_fn=<AddBackward0>),\n",
       " tensor(5.1008e-07, grad_fn=<AddBackward0>),\n",
       " tensor(3.9073e-07, grad_fn=<AddBackward0>),\n",
       " tensor(2.4036e-07, grad_fn=<AddBackward0>),\n",
       " tensor(1.2575e-07, grad_fn=<AddBackward0>),\n",
       " tensor(4.8172e-08, grad_fn=<AddBackward0>),\n",
       " tensor(2.3396e-08, grad_fn=<AddBackward0>),\n",
       " tensor(1.2757e-08, grad_fn=<AddBackward0>),\n",
       " tensor(7.4299e-09, grad_fn=<AddBackward0>),\n",
       " tensor(3.1111e-09, grad_fn=<AddBackward0>),\n",
       " tensor(7.3259e-10, grad_fn=<AddBackward0>),\n",
       " tensor(7.9785e-10, grad_fn=<AddBackward0>),\n",
       " tensor(5.2330e-10, grad_fn=<AddBackward0>),\n",
       " tensor(1.5306e-10, grad_fn=<AddBackward0>),\n",
       " tensor(1.4209e-10, grad_fn=<AddBackward0>),\n",
       " tensor(8.4202e-11, grad_fn=<AddBackward0>),\n",
       " tensor(2.9413e-10, grad_fn=<AddBackward0>),\n",
       " tensor(1.4826e-10, grad_fn=<AddBackward0>),\n",
       " tensor(3.8030e-11, grad_fn=<AddBackward0>),\n",
       " tensor(7.8565e-12, grad_fn=<AddBackward0>),\n",
       " tensor(2.5744e-10, grad_fn=<AddBackward0>),\n",
       " tensor(5.4282e-11, grad_fn=<AddBackward0>),\n",
       " tensor(1.8146e-10, grad_fn=<AddBackward0>),\n",
       " tensor(1.6975e-10, grad_fn=<AddBackward0>),\n",
       " tensor(9.6427e-11, grad_fn=<AddBackward0>),\n",
       " tensor(8.1639e-11, grad_fn=<AddBackward0>),\n",
       " tensor(6.5268e-11, grad_fn=<AddBackward0>),\n",
       " tensor(3.8175e-11, grad_fn=<AddBackward0>),\n",
       " tensor(1.5021e-10, grad_fn=<AddBackward0>),\n",
       " tensor(2.0807e-10, grad_fn=<AddBackward0>),\n",
       " tensor(9.0728e-11, grad_fn=<AddBackward0>),\n",
       " tensor(1.0888e-10, grad_fn=<AddBackward0>),\n",
       " tensor(7.2222e-11, grad_fn=<AddBackward0>),\n",
       " tensor(3.7703e-11, grad_fn=<AddBackward0>),\n",
       " tensor(8.5098e-11, grad_fn=<AddBackward0>),\n",
       " tensor(3.5078e-10, grad_fn=<AddBackward0>),\n",
       " tensor(1.7032e-10, grad_fn=<AddBackward0>),\n",
       " tensor(2.6091e-10, grad_fn=<AddBackward0>),\n",
       " tensor(1.6104e-11, grad_fn=<AddBackward0>),\n",
       " tensor(7.3328e-11, grad_fn=<AddBackward0>),\n",
       " tensor(7.0716e-11, grad_fn=<AddBackward0>),\n",
       " tensor(1.1620e-10, grad_fn=<AddBackward0>),\n",
       " tensor(5.6579e-11, grad_fn=<AddBackward0>),\n",
       " tensor(6.9195e-11, grad_fn=<AddBackward0>),\n",
       " tensor(2.3867e-10, grad_fn=<AddBackward0>),\n",
       " tensor(9.8010e-11, grad_fn=<AddBackward0>),\n",
       " tensor(1.0001e-10, grad_fn=<AddBackward0>),\n",
       " tensor(3.0617e-11, grad_fn=<AddBackward0>),\n",
       " tensor(1.0211e-10, grad_fn=<AddBackward0>),\n",
       " tensor(2.1334e-10, grad_fn=<AddBackward0>),\n",
       " tensor(7.2669e-11, grad_fn=<AddBackward0>),\n",
       " tensor(1.1113e-10, grad_fn=<AddBackward0>),\n",
       " tensor(8.7675e-11, grad_fn=<AddBackward0>),\n",
       " tensor(7.7458e-11, grad_fn=<AddBackward0>),\n",
       " tensor(1.1464e-10, grad_fn=<AddBackward0>),\n",
       " tensor(1.4954e-10, grad_fn=<AddBackward0>),\n",
       " tensor(2.7969e-11, grad_fn=<AddBackward0>),\n",
       " tensor(6.9089e-11, grad_fn=<AddBackward0>),\n",
       " tensor(5.3873e-11, grad_fn=<AddBackward0>),\n",
       " tensor(7.6587e-11, grad_fn=<AddBackward0>),\n",
       " tensor(8.5823e-12, grad_fn=<AddBackward0>),\n",
       " tensor(1.0719e-10, grad_fn=<AddBackward0>),\n",
       " tensor(1.0398e-10, grad_fn=<AddBackward0>),\n",
       " tensor(1.6290e-10, grad_fn=<AddBackward0>),\n",
       " tensor(2.3614e-10, grad_fn=<AddBackward0>),\n",
       " tensor(1.2731e-10, grad_fn=<AddBackward0>),\n",
       " tensor(3.4571e-11, grad_fn=<AddBackward0>),\n",
       " tensor(1.9995e-10, grad_fn=<AddBackward0>),\n",
       " tensor(2.4238e-10, grad_fn=<AddBackward0>),\n",
       " tensor(8.7768e-11, grad_fn=<AddBackward0>),\n",
       " tensor(1.4087e-10, grad_fn=<AddBackward0>),\n",
       " tensor(5.5024e-11, grad_fn=<AddBackward0>),\n",
       " tensor(1.9116e-10, grad_fn=<AddBackward0>),\n",
       " tensor(1.0477e-10, grad_fn=<AddBackward0>),\n",
       " tensor(7.6653e-11, grad_fn=<AddBackward0>),\n",
       " tensor(2.1809e-10, grad_fn=<AddBackward0>),\n",
       " tensor(1.2719e-10, grad_fn=<AddBackward0>),\n",
       " tensor(9.8079e-11, grad_fn=<AddBackward0>),\n",
       " tensor(7.9394e-11, grad_fn=<AddBackward0>),\n",
       " tensor(1.2688e-10, grad_fn=<AddBackward0>),\n",
       " tensor(1.2063e-10, grad_fn=<AddBackward0>),\n",
       " tensor(7.3976e-11, grad_fn=<AddBackward0>),\n",
       " tensor(6.7317e-11, grad_fn=<AddBackward0>),\n",
       " tensor(1.3808e-10, grad_fn=<AddBackward0>),\n",
       " tensor(3.3618e-11, grad_fn=<AddBackward0>),\n",
       " tensor(6.8366e-11, grad_fn=<AddBackward0>),\n",
       " tensor(1.0962e-10, grad_fn=<AddBackward0>),\n",
       " tensor(5.2951e-11, grad_fn=<AddBackward0>),\n",
       " tensor(1.4606e-10, grad_fn=<AddBackward0>),\n",
       " tensor(3.6478e-11, grad_fn=<AddBackward0>)]"
      ]
     },
     "execution_count": 33,
     "metadata": {},
     "output_type": "execute_result"
    }
   ],
   "source": [
    "traj_loss"
   ]
  },
  {
   "cell_type": "code",
   "execution_count": 34,
   "metadata": {},
   "outputs": [
    {
     "data": {
      "text/plain": [
       "Parameter containing:\n",
       "tensor([0.0308], requires_grad=True)"
      ]
     },
     "execution_count": 34,
     "metadata": {},
     "output_type": "execute_result"
    }
   ],
   "source": [
    "ctrl_est"
   ]
  },
  {
   "cell_type": "code",
   "execution_count": 35,
   "metadata": {},
   "outputs": [
    {
     "data": {
      "text/plain": [
       "Parameter containing:\n",
       "tensor([3.0772], requires_grad=True)"
      ]
     },
     "execution_count": 35,
     "metadata": {},
     "output_type": "execute_result"
    }
   ],
   "source": [
    "weight_est"
   ]
  }
 ],
 "metadata": {
  "kernelspec": {
   "display_name": "base",
   "language": "python",
   "name": "python3"
  },
  "language_info": {
   "codemirror_mode": {
    "name": "ipython",
    "version": 3
   },
   "file_extension": ".py",
   "mimetype": "text/x-python",
   "name": "python",
   "nbconvert_exporter": "python",
   "pygments_lexer": "ipython3",
   "version": "3.10.9"
  },
  "orig_nbformat": 4
 },
 "nbformat": 4,
 "nbformat_minor": 2
}
