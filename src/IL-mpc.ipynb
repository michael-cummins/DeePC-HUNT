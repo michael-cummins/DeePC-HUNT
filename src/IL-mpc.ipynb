{
 "cells": [
  {
   "cell_type": "code",
   "execution_count": 23,
   "metadata": {},
   "outputs": [],
   "source": [
    "import torch\n",
    "from torch.nn.parameter import Parameter\n",
    "import torch.optim as optim\n",
    "\n",
    "import numpy as np\n",
    "\n",
    "from mpc import mpc\n",
    "from mpc.mpc import QuadCost\n",
    "\n",
    "from IPython.core import ultratb\n",
    "\n",
    "from mpc.dynamics import AffineDynamics\n",
    "from tqdm import tqdm"
   ]
  },
  {
   "attachments": {},
   "cell_type": "markdown",
   "metadata": {},
   "source": [
    "## Parameter Initialisation"
   ]
  },
  {
   "cell_type": "code",
   "execution_count": 24,
   "metadata": {},
   "outputs": [],
   "source": [
    "n_batch, n_state, n_ctrl, T = 24, 3, 3, 10\n",
    "n_sc = n_state + n_ctrl\n",
    "device = 'cpu'\n",
    "u_lower = torch.tensor([-0.5,-0.5,-0.5], dtype=torch.float32)\n",
    "u_lower = u_lower.repeat(T, n_batch, 1)\n",
    "u_upper = torch.tensor([0.5,0.5,0.5], dtype=torch.float32)\n",
    "u_upper = u_upper.repeat(T, n_batch, 1)"
   ]
  },
  {
   "cell_type": "code",
   "execution_count": 25,
   "metadata": {},
   "outputs": [],
   "source": [
    "goal_state = torch.Tensor([2,1,-1])\n",
    "goal_weights = torch.ones(n_state)*10\n",
    "px = -(goal_weights)*goal_state\n",
    "p = torch.cat((px, torch.zeros(n_ctrl)))\n",
    "p = p.unsqueeze(0).repeat(T, n_batch, 1)\n",
    "\n",
    "ctr_penalty = 0.1\n",
    "q = torch.cat([goal_weights, torch.ones(n_ctrl)*ctr_penalty]).to(device)\n",
    "Q = torch.diag(q).unsqueeze(0).unsqueeze(0).repeat(\n",
    "        T, n_batch, 1, 1\n",
    ").to(device)\n",
    "A = torch.tensor([[1.01, 0.01, 0],[0.01, 1.01, 0.01],[0, 0.01, 1.01]]).to(device)\n",
    "B = torch.eye(3).to(device)\n",
    "\n",
    "# Initialise Parameters\n",
    "weight_est, ctrl_est = Parameter(torch.randn(size=(3,))*0.1+1), Parameter(torch.randn(size=(3,))*0.1+1)"
   ]
  },
  {
   "cell_type": "code",
   "execution_count": 26,
   "metadata": {},
   "outputs": [
    {
     "name": "stdout",
     "output_type": "stream",
     "text": [
      "2.957624912261963\n",
      "Parameter containing:\n",
      "tensor([1.0003, 0.9069, 1.0504], requires_grad=True)\n"
     ]
    }
   ],
   "source": [
    "print(weight_est.sum().item())\n",
    "print(weight_est)"
   ]
  },
  {
   "cell_type": "code",
   "execution_count": 27,
   "metadata": {},
   "outputs": [
    {
     "name": "stdout",
     "output_type": "stream",
     "text": [
      "tensor([10.0000, 10.0000, 10.0000,  0.1000,  0.1000,  0.1000])\n",
      "tensor([1.0003, 0.9069, 1.0504, 0.9362, 1.1182, 0.9998],\n",
      "       grad_fn=<CatBackward0>)\n"
     ]
    }
   ],
   "source": [
    "print(q)\n",
    "print(torch.cat([weight_est, ctrl_est]))"
   ]
  },
  {
   "attachments": {},
   "cell_type": "markdown",
   "metadata": {},
   "source": [
    "## Loss Function Definition"
   ]
  },
  {
   "cell_type": "code",
   "execution_count": 28,
   "metadata": {},
   "outputs": [],
   "source": [
    "def get_loss(x_init : torch.Tensor, q_est : torch.Tensor, r_est : torch.Tensor) -> torch.Tensor:\n",
    "\n",
    "        # Expert \n",
    "        x_true, u_true, objs_true = mpc.MPC(\n",
    "            n_state, n_ctrl, T,\n",
    "            u_lower=u_lower, u_upper=u_upper, \n",
    "            lqr_iter=100,\n",
    "            verbose=-1,\n",
    "            exit_unconverged=False,\n",
    "            detach_unconverged=False,\n",
    "            backprop=False,\n",
    "            n_batch=n_batch,\n",
    "        )(x_init, QuadCost(Q, p), AffineDynamics(A=A, B=B))\n",
    "\n",
    "        # Learner\n",
    "\n",
    "        # Construct cost matrices from ctrl and state penalty\n",
    "        # Weights and penalties are identical for each state so \n",
    "        # We only need to optimize over two scalar variables \"weight_est\" and \"ctrl_est\"\n",
    "\n",
    "        q = torch.cat([q_est, r_est])\n",
    "        Q_est = torch.diag(q).unsqueeze(0).unsqueeze(0).repeat(\n",
    "                T, n_batch, 1, 1\n",
    "        ).to(device)\n",
    "        px = -(q_est)*goal_state\n",
    "        p_est = torch.cat((px, torch.zeros(n_ctrl)))\n",
    "        p_est = p_est.unsqueeze(0).repeat(T, n_batch, 1)    \n",
    "\n",
    "        # Roll out MPC with estimated cost function\n",
    "        x_pred, u_pred, objs_pred = mpc.MPC(\n",
    "            n_state, n_ctrl, T,\n",
    "            u_lower=u_lower, u_upper=u_upper, \n",
    "            lqr_iter=100,\n",
    "            verbose=-1,\n",
    "            backprop=False,\n",
    "            exit_unconverged=False,\n",
    "            detach_unconverged=False,\n",
    "            n_batch=n_batch,\n",
    "        )(x_init, QuadCost(Q_est, p_est), AffineDynamics(A=A, B=B))\n",
    "\n",
    "        # Get MSE of trajectory\n",
    "        criterion = torch.nn.MSELoss()\n",
    "        objs_pred = objs_pred.repeat(1, 1, 1)\n",
    "        traj_loss = criterion(input=u_pred, target=u_true)\n",
    "        \n",
    "        return traj_loss"
   ]
  },
  {
   "attachments": {},
   "cell_type": "markdown",
   "metadata": {},
   "source": [
    "## Training"
   ]
  },
  {
   "cell_type": "code",
   "execution_count": 29,
   "metadata": {},
   "outputs": [
    {
     "name": "stderr",
     "output_type": "stream",
     "text": [
      "Loss = 0.0000000696, Model Loss = 1.45: 100%|█████████████████████████████████████████| 100/100 [00:32<00:00,  3.11it/s]\n"
     ]
    }
   ],
   "source": [
    "opt = optim.RMSprop((weight_est, ctrl_est), lr=1e-2)\n",
    "pbar = tqdm(range(100), ncols=120)\n",
    "\n",
    "for i in pbar:\n",
    "    x_init = torch.randn(n_batch,n_state)\n",
    "\n",
    "    loss = get_loss(x_init, weight_est, ctrl_est)\n",
    "    opt.zero_grad()\n",
    "    loss.backward()\n",
    "    opt.step()\n",
    "\n",
    "    # Used to checj the difference in ratio of ctrl cost and state cost\n",
    "    model_loss = np.abs(100 - weight_est.sum().item() / ctrl_est.sum().item())\n",
    "\n",
    "    pbar.set_description(f'Loss = {loss.item():.10f}, Model Loss = {model_loss:.2f}')\n"
   ]
  },
  {
   "cell_type": "code",
   "execution_count": 30,
   "metadata": {},
   "outputs": [
    {
     "data": {
      "text/plain": [
       "Parameter containing:\n",
       "tensor([0.0155, 0.0156, 0.0165], requires_grad=True)"
      ]
     },
     "execution_count": 30,
     "metadata": {},
     "output_type": "execute_result"
    }
   ],
   "source": [
    "ctrl_est"
   ]
  },
  {
   "cell_type": "code",
   "execution_count": 31,
   "metadata": {},
   "outputs": [
    {
     "data": {
      "text/plain": [
       "Parameter containing:\n",
       "tensor([1.5555, 1.5208, 1.6157], requires_grad=True)"
      ]
     },
     "execution_count": 31,
     "metadata": {},
     "output_type": "execute_result"
    }
   ],
   "source": [
    "weight_est"
   ]
  }
 ],
 "metadata": {
  "kernelspec": {
   "display_name": "base",
   "language": "python",
   "name": "python3"
  },
  "language_info": {
   "codemirror_mode": {
    "name": "ipython",
    "version": 3
   },
   "file_extension": ".py",
   "mimetype": "text/x-python",
   "name": "python",
   "nbconvert_exporter": "python",
   "pygments_lexer": "ipython3",
   "version": "3.10.9"
  },
  "orig_nbformat": 4
 },
 "nbformat": 4,
 "nbformat_minor": 2
}
